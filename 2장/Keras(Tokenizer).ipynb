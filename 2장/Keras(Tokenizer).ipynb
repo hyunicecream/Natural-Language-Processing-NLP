{
  "nbformat": 4,
  "nbformat_minor": 0,
  "metadata": {
    "colab": {
      "name": "7/1 목-(keras_tokenizer).ipynb",
      "provenance": [],
      "collapsed_sections": [],
      "authorship_tag": "ABX9TyMBbw8KSxEHPPgeC+B5eJjj",
      "include_colab_link": true
    },
    "kernelspec": {
      "name": "python3",
      "display_name": "Python 3"
    },
    "language_info": {
      "name": "python"
    }
  },
  "cells": [
    {
      "cell_type": "markdown",
      "metadata": {
        "id": "view-in-github",
        "colab_type": "text"
      },
      "source": [
        "<a href=\"https://colab.research.google.com/github/hyunicecream/Natural-Language-Processing-NLP-/blob/main/7_1_%EB%AA%A9_(keras_tokenizer).ipynb\" target=\"_parent\"><img src=\"https://colab.research.google.com/assets/colab-badge.svg\" alt=\"Open In Colab\"/></a>"
      ]
    },
    {
      "cell_type": "code",
      "metadata": {
        "colab": {
          "base_uri": "https://localhost:8080/"
        },
        "id": "VEmwZ5rCoaAd",
        "outputId": "647f4238-abbd-4c0b-f96c-8cd0f5f4a85c"
      },
      "source": [
        "import numpy as np\n",
        "import nltk\n",
        "from tensorflow.keras.preprocessing.text import Tokenizer\n",
        "nltk.download('punkt')\n",
        "nltk.download('stopwords')  # 불용어 목록\n",
        "\n",
        "nltk.download('gutenberg')\n",
        "text_id = nltk.corpus.gutenberg.fileids()\n",
        "text_id"
      ],
      "execution_count": 1,
      "outputs": [
        {
          "output_type": "stream",
          "text": [
            "[nltk_data] Downloading package punkt to /root/nltk_data...\n",
            "[nltk_data]   Unzipping tokenizers/punkt.zip.\n",
            "[nltk_data] Downloading package stopwords to /root/nltk_data...\n",
            "[nltk_data]   Unzipping corpora/stopwords.zip.\n",
            "[nltk_data] Downloading package gutenberg to /root/nltk_data...\n",
            "[nltk_data]   Unzipping corpora/gutenberg.zip.\n"
          ],
          "name": "stdout"
        },
        {
          "output_type": "execute_result",
          "data": {
            "text/plain": [
              "['austen-emma.txt',\n",
              " 'austen-persuasion.txt',\n",
              " 'austen-sense.txt',\n",
              " 'bible-kjv.txt',\n",
              " 'blake-poems.txt',\n",
              " 'bryant-stories.txt',\n",
              " 'burgess-busterbrown.txt',\n",
              " 'carroll-alice.txt',\n",
              " 'chesterton-ball.txt',\n",
              " 'chesterton-brown.txt',\n",
              " 'chesterton-thursday.txt',\n",
              " 'edgeworth-parents.txt',\n",
              " 'melville-moby_dick.txt',\n",
              " 'milton-paradise.txt',\n",
              " 'shakespeare-caesar.txt',\n",
              " 'shakespeare-hamlet.txt',\n",
              " 'shakespeare-macbeth.txt',\n",
              " 'whitman-leaves.txt']"
            ]
          },
          "metadata": {
            "tags": []
          },
          "execution_count": 1
        }
      ]
    },
    {
      "cell_type": "code",
      "metadata": {
        "colab": {
          "base_uri": "https://localhost:8080/"
        },
        "id": "oQ-B2EK4o9vW",
        "outputId": "65d6ed8d-c888-4f90-8523-83ce619f7647"
      },
      "source": [
        "# 특정 파일의 텍스트 문서를 조회한다. \n",
        "\n",
        "text = nltk.corpus.gutenberg.raw('austen-emma.txt')\n",
        "print(text[:600])\n",
        "print(\"문자 개수 = \", len(text))"
      ],
      "execution_count": 2,
      "outputs": [
        {
          "output_type": "stream",
          "text": [
            "[Emma by Jane Austen 1816]\n",
            "\n",
            "VOLUME I\n",
            "\n",
            "CHAPTER I\n",
            "\n",
            "\n",
            "Emma Woodhouse, handsome, clever, and rich, with a comfortable home\n",
            "and happy disposition, seemed to unite some of the best blessings\n",
            "of existence; and had lived nearly twenty-one years in the world\n",
            "with very little to distress or vex her.\n",
            "\n",
            "She was the youngest of the two daughters of a most affectionate,\n",
            "indulgent father; and had, in consequence of her sister's marriage,\n",
            "been mistress of his house from a very early period.  Her mother\n",
            "had died too long ago for her to have more than an indistinct\n",
            "remembrance of her caresses; and her place had b\n",
            "문자 개수 =  887071\n"
          ],
          "name": "stdout"
        }
      ]
    },
    {
      "cell_type": "code",
      "metadata": {
        "colab": {
          "base_uri": "https://localhost:8080/"
        },
        "id": "mN_fy_9LpZ3_",
        "outputId": "8389253f-f3bf-4eb6-eb26-4ca01f75ac8e"
      },
      "source": [
        "# 5줄만 뽑아낸다.\n",
        "sentences = nltk.sent_tokenize(text)\n",
        "sentences[:5]"
      ],
      "execution_count": 3,
      "outputs": [
        {
          "output_type": "execute_result",
          "data": {
            "text/plain": [
              "['[Emma by Jane Austen 1816]\\n\\nVOLUME I\\n\\nCHAPTER I\\n\\n\\nEmma Woodhouse, handsome, clever, and rich, with a comfortable home\\nand happy disposition, seemed to unite some of the best blessings\\nof existence; and had lived nearly twenty-one years in the world\\nwith very little to distress or vex her.',\n",
              " \"She was the youngest of the two daughters of a most affectionate,\\nindulgent father; and had, in consequence of her sister's marriage,\\nbeen mistress of his house from a very early period.\",\n",
              " 'Her mother\\nhad died too long ago for her to have more than an indistinct\\nremembrance of her caresses; and her place had been supplied\\nby an excellent woman as governess, who had fallen little short\\nof a mother in affection.',\n",
              " \"Sixteen years had Miss Taylor been in Mr. Woodhouse's family,\\nless as a governess than a friend, very fond of both daughters,\\nbut particularly of Emma.\",\n",
              " 'Between _them_ it was more the intimacy\\nof sisters.']"
            ]
          },
          "metadata": {
            "tags": []
          },
          "execution_count": 3
        }
      ]
    },
    {
      "cell_type": "code",
      "metadata": {
        "id": "BQEj_gYBph1E"
      },
      "source": [
        "# 토큰화 시킨다. \n",
        "tokenizer = Tokenizer()\n",
        "tokenizer.fit_on_texts(sentences)"
      ],
      "execution_count": 5,
      "outputs": []
    },
    {
      "cell_type": "code",
      "metadata": {
        "id": "L1ZHy1g4p648"
      },
      "source": [
        "# 케라스로 단어사전 만들기\n",
        "word2idx = tokenizer.word_index\n",
        "idx2word ={v:k for k, v in word2idx.items()}"
      ],
      "execution_count": 6,
      "outputs": []
    },
    {
      "cell_type": "code",
      "metadata": {
        "colab": {
          "base_uri": "https://localhost:8080/"
        },
        "id": "X9JkxXPbqFbo",
        "outputId": "3d1c69e3-db21-4d43-bbb5-8a6fb4b87a2d"
      },
      "source": [
        "# 문장을 단어의 인덱스로 표현\n",
        "sent_idx = tokenizer.texts_to_sequences(sentences)\n",
        "sent_idx[0]"
      ],
      "execution_count": 9,
      "outputs": [
        {
          "output_type": "execute_result",
          "data": {
            "text/plain": [
              "[32,\n",
              " 45,\n",
              " 92,\n",
              " 4410,\n",
              " 4411,\n",
              " 2794,\n",
              " 5,\n",
              " 346,\n",
              " 5,\n",
              " 32,\n",
              " 96,\n",
              " 493,\n",
              " 633,\n",
              " 3,\n",
              " 1024,\n",
              " 23,\n",
              " 6,\n",
              " 532,\n",
              " 163,\n",
              " 3,\n",
              " 171,\n",
              " 697,\n",
              " 156,\n",
              " 1,\n",
              " 2795,\n",
              " 97,\n",
              " 4,\n",
              " 2,\n",
              " 238,\n",
              " 1853,\n",
              " 4,\n",
              " 1551,\n",
              " 3,\n",
              " 17,\n",
              " 675,\n",
              " 1025,\n",
              " 588,\n",
              " 61,\n",
              " 364,\n",
              " 11,\n",
              " 2,\n",
              " 244,\n",
              " 23,\n",
              " 24,\n",
              " 75,\n",
              " 1,\n",
              " 828,\n",
              " 53,\n",
              " 4412,\n",
              " 8]"
            ]
          },
          "metadata": {
            "tags": []
          },
          "execution_count": 9
        }
      ]
    },
    {
      "cell_type": "code",
      "metadata": {
        "colab": {
          "base_uri": "https://localhost:8080/"
        },
        "id": "WPFfvWSzqd50",
        "outputId": "67d38ce5-8b5a-49a4-9fa4-274a996a14be"
      },
      "source": [
        "# 문장을 이진 행렬 형태로 표시한다. 1은 사전에 사용된 단어임을 의미한다. \n",
        "sent_bow = tokenizer.texts_to_matrix(sentences, mode='binary')\n",
        "print(sent_bow[0])"
      ],
      "execution_count": 10,
      "outputs": [
        {
          "output_type": "stream",
          "text": [
            "[0. 1. 1. ... 0. 0. 0.]\n"
          ],
          "name": "stdout"
        }
      ]
    },
    {
      "cell_type": "code",
      "metadata": {
        "colab": {
          "base_uri": "https://localhost:8080/"
        },
        "id": "tzumRV4dqt4H",
        "outputId": "2c7b6325-9021-4a58-90cf-dcc4159ed799"
      },
      "source": [
        "# 확인\n",
        "np.where(sent_bow[0] == 1)\n",
        "set(sent_idx[0])"
      ],
      "execution_count": 11,
      "outputs": [
        {
          "output_type": "execute_result",
          "data": {
            "text/plain": [
              "{1,\n",
              " 2,\n",
              " 3,\n",
              " 4,\n",
              " 5,\n",
              " 6,\n",
              " 8,\n",
              " 11,\n",
              " 17,\n",
              " 23,\n",
              " 24,\n",
              " 32,\n",
              " 45,\n",
              " 53,\n",
              " 61,\n",
              " 75,\n",
              " 92,\n",
              " 96,\n",
              " 97,\n",
              " 156,\n",
              " 163,\n",
              " 171,\n",
              " 238,\n",
              " 244,\n",
              " 346,\n",
              " 364,\n",
              " 493,\n",
              " 532,\n",
              " 588,\n",
              " 633,\n",
              " 675,\n",
              " 697,\n",
              " 828,\n",
              " 1024,\n",
              " 1025,\n",
              " 1551,\n",
              " 1853,\n",
              " 2794,\n",
              " 2795,\n",
              " 4410,\n",
              " 4411,\n",
              " 4412}"
            ]
          },
          "metadata": {
            "tags": []
          },
          "execution_count": 11
        }
      ]
    }
  ]
}
