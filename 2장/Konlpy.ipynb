{
  "nbformat": 4,
  "nbformat_minor": 0,
  "metadata": {
    "colab": {
      "name": "7/2 금(konlpy).ipynb",
      "provenance": [],
      "collapsed_sections": [],
      "authorship_tag": "ABX9TyMsTdtCgzYbgMD84PhW2bnt",
      "include_colab_link": true
    },
    "kernelspec": {
      "name": "python3",
      "display_name": "Python 3"
    },
    "language_info": {
      "name": "python"
    }
  },
  "cells": [
    {
      "cell_type": "markdown",
      "metadata": {
        "id": "view-in-github",
        "colab_type": "text"
      },
      "source": [
        "<a href=\"https://colab.research.google.com/github/hyunicecream/Natural-Language-Processing-NLP-/blob/main/7_2_%EA%B8%88(konlpy).ipynb\" target=\"_parent\"><img src=\"https://colab.research.google.com/assets/colab-badge.svg\" alt=\"Open In Colab\"/></a>"
      ]
    },
    {
      "cell_type": "code",
      "metadata": {
        "id": "jYAFu91y0prh"
      },
      "source": [
        "!pip install konlpy"
      ],
      "execution_count": null,
      "outputs": []
    },
    {
      "cell_type": "code",
      "metadata": {
        "id": "K12ifMj71rnh"
      },
      "source": [
        "import konlpy\n",
        "from konlpy.tag import Okt"
      ],
      "execution_count": 2,
      "outputs": []
    },
    {
      "cell_type": "code",
      "metadata": {
        "colab": {
          "base_uri": "https://localhost:8080/"
        },
        "id": "IDSHMUME23Vw",
        "outputId": "5e959c7f-cdd2-444b-c736-6f821b982abc"
      },
      "source": [
        "text = '머신러닝을 공부하고 있습니다. 너무 재밌습니다.'\n",
        "okt = Okt()\n",
        "\n",
        "# 형태소 분리\n",
        "print(okt.morphs(text))\n",
        "print(okt.morphs(text, stem=True)) # 어간 추출\n",
        "\n",
        "# 명사 추출\n",
        "print(okt.nouns(text))\n",
        "\n",
        "# 어절 추출\n",
        "print(okt.phrases(text))\n",
        "\n",
        "# 품사 태깅\n",
        "print(okt.pos(text))\n",
        "print(okt.pos(text, join=True))\n",
        "# 잘 안쓰는 이유 : okt 속안에 사전이 있다. 하지만 거기에 머신러닝이라는 단어가 없고 머신이라는 단어는 있고, 러닝이라는 단어도 있어서\n",
        "# 머신러닝이라는 단어를 하나의 단어로 인식하지 못한다. \n",
        "# 사용자가 사전에 계속 추가해야한다. 과정이 생각보다 복잡하고 하나씩 다 등록을 해야하기 때문에 어렵다."
      ],
      "execution_count": 10,
      "outputs": [
        {
          "output_type": "stream",
          "text": [
            "['머신', '러닝', '을', '공부', '하고', '있습니다', '.', '너무', '재밌습니다', '.']\n",
            "['머신', '러닝', '을', '공부', '하고', '있다', '.', '너무', '재밌다', '.']\n",
            "['머신', '러닝', '공부']\n",
            "['머신러닝', '공부', '머신', '러닝']\n",
            "[('머신', 'Noun'), ('러닝', 'Noun'), ('을', 'Josa'), ('공부', 'Noun'), ('하고', 'Josa'), ('있습니다', 'Adjective'), ('.', 'Punctuation'), ('너무', 'Adverb'), ('재밌습니다', 'Adjective'), ('.', 'Punctuation')]\n",
            "['머신/Noun', '러닝/Noun', '을/Josa', '공부/Noun', '하고/Josa', '있습니다/Adjective', './Punctuation', '너무/Adverb', '재밌습니다/Adjective', './Punctuation']\n"
          ],
          "name": "stdout"
        }
      ]
    }
  ]
}
