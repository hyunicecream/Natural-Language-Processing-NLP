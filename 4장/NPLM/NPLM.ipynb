{
  "nbformat": 4,
  "nbformat_minor": 0,
  "metadata": {
    "colab": {
      "name": "7/15 목(NPLM).ipynb",
      "provenance": [],
      "collapsed_sections": [],
      "mount_file_id": "11LITsGvWM7bwLP87gWRf2K0X6wzMgeeB",
      "authorship_tag": "ABX9TyOw/Xx/M0Gqi/EsiWWVCM+6",
      "include_colab_link": true
    },
    "kernelspec": {
      "name": "python3",
      "display_name": "Python 3"
    },
    "language_info": {
      "name": "python"
    }
  },
  "cells": [
    {
      "cell_type": "markdown",
      "metadata": {
        "id": "view-in-github",
        "colab_type": "text"
      },
      "source": [
        "<a href=\"https://colab.research.google.com/github/hyunicecream/Natural-Language-Processing-NLP-/blob/main/7_15_%EB%AA%A9(NPLM).ipynb\" target=\"_parent\"><img src=\"https://colab.research.google.com/assets/colab-badge.svg\" alt=\"Open In Colab\"/></a>"
      ]
    },
    {
      "cell_type": "code",
      "metadata": {
        "id": "nYJVzanuDZcS"
      },
      "source": [
        "import numpy as np\n",
        "import pandas as pd\n",
        "import re\n",
        "from collections import defaultdict\n",
        "import matplotlib.pyplot as plt\n",
        "from tensorflow.keras.preprocessing.sequence import pad_sequences\n",
        "from tensorflow.keras.layers import Input, Embedding, Dense,  Flatten, Activation, Add\n",
        "from tensorflow.keras.models import Model\n",
        "from tensorflow.keras.optimizers import Adam\n",
        "\n",
        "\n",
        "texts = ['The cat is walking in the bedroom.',\n",
        "         'A dog was running in a room',\n",
        "         'The cat is running in a room',\n",
        "         'A dog is walking in a bedroom',\n",
        "         'The dog was walking in the room']"
      ],
      "execution_count": 5,
      "outputs": []
    },
    {
      "cell_type": "code",
      "metadata": {
        "id": "3zFWTxKIcUOr"
      },
      "source": [
        "# 특수문자 제거, 대문자를 소문자로 변환\n",
        "clean_texts = [[re.sub('[^a-z]','',tok.lower()) for tok in txt.split()] for txt in texts]"
      ],
      "execution_count": 6,
      "outputs": []
    },
    {
      "cell_type": "code",
      "metadata": {
        "colab": {
          "base_uri": "https://localhost:8080/"
        },
        "id": "mYeACVFIYME3",
        "outputId": "05ee35a6-2446-48b6-b747-386f7804c11e"
      },
      "source": [
        "clean_texts"
      ],
      "execution_count": 7,
      "outputs": [
        {
          "output_type": "execute_result",
          "data": {
            "text/plain": [
              "[['the', 'cat', 'is', 'walking', 'in', 'the', 'bedroom'],\n",
              " ['a', 'dog', 'was', 'running', 'in', 'a', 'room'],\n",
              " ['the', 'cat', 'is', 'running', 'in', 'a', 'room'],\n",
              " ['a', 'dog', 'is', 'walking', 'in', 'a', 'bedroom'],\n",
              " ['the', 'dog', 'was', 'walking', 'in', 'the', 'room']]"
            ]
          },
          "metadata": {
            "tags": []
          },
          "execution_count": 7
        }
      ]
    },
    {
      "cell_type": "code",
      "metadata": {
        "id": "y1FbhlrrYp6S"
      },
      "source": [
        "# 단어사전을 위한 딕셔너리\n",
        "word2idx = defaultdict(int) "
      ],
      "execution_count": 8,
      "outputs": []
    },
    {
      "cell_type": "code",
      "metadata": {
        "colab": {
          "base_uri": "https://localhost:8080/"
        },
        "id": "EhG0KY6BY9tc",
        "outputId": "d5ec5109-8e00-4597-849c-24a66775aa2a"
      },
      "source": [
        "# 카운트를 1부터 증가시켜주면서 단어사전을 생성\n",
        "cnt = 1\n",
        "for text in clean_texts:\n",
        "  for tok in text:\n",
        "    if word2idx[tok] == 0:\n",
        "      word2idx[tok] = cnt\n",
        "      cnt +=1\n",
        "word2idx"
      ],
      "execution_count": 9,
      "outputs": [
        {
          "output_type": "execute_result",
          "data": {
            "text/plain": [
              "defaultdict(int,\n",
              "            {'a': 7,\n",
              "             'bedroom': 6,\n",
              "             'cat': 2,\n",
              "             'dog': 8,\n",
              "             'in': 5,\n",
              "             'is': 3,\n",
              "             'room': 11,\n",
              "             'running': 10,\n",
              "             'the': 1,\n",
              "             'walking': 4,\n",
              "             'was': 9})"
            ]
          },
          "metadata": {
            "tags": []
          },
          "execution_count": 9
        }
      ]
    },
    {
      "cell_type": "code",
      "metadata": {
        "colab": {
          "base_uri": "https://localhost:8080/"
        },
        "id": "gMIOty7yEfLm",
        "outputId": "cf932343-336c-4ef3-fd88-15f6f6230625"
      },
      "source": [
        "# index to word dictionary\n",
        "idx2word = {v:k for k, v in word2idx.items()}\n",
        "idx2word "
      ],
      "execution_count": 24,
      "outputs": [
        {
          "output_type": "execute_result",
          "data": {
            "text/plain": [
              "{1: 'the',\n",
              " 2: 'cat',\n",
              " 3: 'is',\n",
              " 4: 'walking',\n",
              " 5: 'in',\n",
              " 6: 'bedroom',\n",
              " 7: 'a',\n",
              " 8: 'dog',\n",
              " 9: 'was',\n",
              " 10: 'running',\n",
              " 11: 'room'}"
            ]
          },
          "metadata": {
            "tags": []
          },
          "execution_count": 24
        }
      ]
    },
    {
      "cell_type": "code",
      "metadata": {
        "id": "x72_gSS3YIpG",
        "colab": {
          "base_uri": "https://localhost:8080/",
          "height": 316
        },
        "outputId": "0be22299-639f-49a2-ad81-9af0b31337c4"
      },
      "source": [
        "text_lenghts = [len(x) for x in clean_texts]\n",
        "plt.hist(text_lenghts)"
      ],
      "execution_count": 25,
      "outputs": [
        {
          "output_type": "execute_result",
          "data": {
            "text/plain": [
              "(array([0., 0., 0., 0., 0., 5., 0., 0., 0., 0.]),\n",
              " array([6.5, 6.6, 6.7, 6.8, 6.9, 7. , 7.1, 7.2, 7.3, 7.4, 7.5]),\n",
              " <a list of 10 Patch objects>)"
            ]
          },
          "metadata": {
            "tags": []
          },
          "execution_count": 25
        },
        {
          "output_type": "display_data",
          "data": {
            "image/png": "[encoded data removed]",
            "text/plain": [
              "<Figure size 432x288 with 1 Axes>"
            ]
          },
          "metadata": {
            "tags": [],
            "needs_background": "light"
          }
        }
      ]
    },
    {
      "cell_type": "code",
      "metadata": {
        "colab": {
          "base_uri": "https://localhost:8080/"
        },
        "id": "ru5eFZM1HqU5",
        "outputId": "883163ee-d3a7-460c-fd50-2ddad2940fac"
      },
      "source": [
        "# 문장들 중에서 가장 짧은 문장의 길이를 저장. (n_gram 생성시 가장 짧은 문장을 기준으로 생성)\n",
        "min_len = min(text_lenghts)\n",
        "print(min_len)"
      ],
      "execution_count": 26,
      "outputs": [
        {
          "output_type": "stream",
          "text": [
            "7\n"
          ],
          "name": "stdout"
        }
      ]
    },
    {
      "cell_type": "code",
      "metadata": {
        "colab": {
          "base_uri": "https://localhost:8080/"
        },
        "id": "pfPAgsZ9H6YX",
        "outputId": "0b87a46c-06a4-42f9-b5fa-af3fa948c907"
      },
      "source": [
        "# 단어의 배열\n",
        "text_sequences = [[word2idx[tok] for tok in tokens] for tokens in clean_texts]\n",
        "print(text_sequences)"
      ],
      "execution_count": 27,
      "outputs": [
        {
          "output_type": "stream",
          "text": [
            "[[1, 2, 3, 4, 5, 1, 6], [7, 8, 9, 10, 5, 7, 11], [1, 2, 3, 10, 5, 7, 11], [7, 8, 3, 4, 5, 7, 6], [1, 8, 9, 4, 5, 1, 11]]\n"
          ],
          "name": "stdout"
        }
      ]
    },
    {
      "cell_type": "code",
      "metadata": {
        "colab": {
          "base_uri": "https://localhost:8080/"
        },
        "id": "rnuVV7NDJElY",
        "outputId": "5725e9a3-9ff3-46b8-ffe6-2f9f476506e6"
      },
      "source": [
        "train_x = []\n",
        "train_y = []\n",
        "# n_gram\n",
        "for n_gram in range(1, min_len):\n",
        "  start_idx = n_gram\n",
        "  # 문장의 끝까지 순회하면서\n",
        "  for sequence in text_sequences:\n",
        "    for i in range(start_idx, len(sequence)):\n",
        "      train_x.append(sequence[i-n_gram:i])\n",
        "      train_y.append(sequence[i])\n",
        "\n",
        "# 훈련데이터 셋의 개수 출력\n",
        "print(len(train_x), len(train_y))"
      ],
      "execution_count": 28,
      "outputs": [
        {
          "output_type": "stream",
          "text": [
            "105 105\n"
          ],
          "name": "stdout"
        }
      ]
    },
    {
      "cell_type": "code",
      "metadata": {
        "colab": {
          "base_uri": "https://localhost:8080/"
        },
        "id": "O21Vg0GFJqho",
        "outputId": "a9056415-9851-4961-e551-8f31fd28eaa4"
      },
      "source": [
        "print(train_x[0:10])\n",
        "print(train_y[0:10])"
      ],
      "execution_count": 29,
      "outputs": [
        {
          "output_type": "stream",
          "text": [
            "[[1], [2], [3], [4], [5], [1], [7], [8], [9], [10]]\n",
            "[2, 3, 4, 5, 1, 6, 8, 9, 10, 5]\n"
          ],
          "name": "stdout"
        }
      ]
    },
    {
      "cell_type": "code",
      "metadata": {
        "id": "AeU6718sJzJg"
      },
      "source": [
        "# 제로 패딩을 텍스트 앞에 넣어줍니다. \n",
        "x_train = pad_sequences(train_x, maxlen=min_len, padding='pre', truncating='post')\n",
        "y_train = np.array(train_y)"
      ],
      "execution_count": 30,
      "outputs": []
    },
    {
      "cell_type": "code",
      "metadata": {
        "colab": {
          "base_uri": "https://localhost:8080/"
        },
        "id": "NzrDrTiHKIva",
        "outputId": "66fd7110-9819-4125-ca77-835574b62d14"
      },
      "source": [
        "x_train[:10]\n",
        "\n",
        "y_train[:10]"
      ],
      "execution_count": 31,
      "outputs": [
        {
          "output_type": "execute_result",
          "data": {
            "text/plain": [
              "array([ 2,  3,  4,  5,  1,  6,  8,  9, 10,  5])"
            ]
          },
          "metadata": {
            "tags": []
          },
          "execution_count": 31
        }
      ]
    },
    {
      "cell_type": "code",
      "metadata": {
        "colab": {
          "base_uri": "https://localhost:8080/"
        },
        "id": "H9XqYNg4KTHu",
        "outputId": "f038bb4a-63a9-430b-c576-cffc91b8a640"
      },
      "source": [
        "# Embedding & LSTM 모델을 생성한다.\n",
        "vocab_size = len(word2idx)+1\n",
        "EMBEDDING_DIM = 8\n",
        "HIDDEN_DIM = 32\n",
        "\n",
        "x_input = Input(batch_shape=(None, x_train.shape[1])) # (none, 7)\n",
        "e_layer = Embedding(input_dim=vocab_size, output_dim=EMBEDDING_DIM)(x_input) # 11개의 단어를 8차원으로 바꿔주는 임배딩 레이어\n",
        "\n",
        "flatten_layer = Flatten()(e_layer) # 7개의 단어를 1열로 나열\n",
        "\n",
        "hidden_layer = Dense(HIDDEN_DIM, activation='tanh')(flatten_layer) #(d+Hx)\n",
        "U = Dense(vocab_size)(hidden_layer) # Utanh(d+Hx)\n",
        "\n",
        "W = Dense(vocab_size)(flatten_layer) #W(x)\n",
        "# \n",
        "add_layer = Add()([U,W]) # b + W(x)\n",
        "y_output = Dense(vocab_size, activation='softmax')(add_layer)\n",
        "\n",
        "model_vec = Model(x_input, e_layer)\n",
        "model = Model(x_input, y_output)\n",
        "model.compile(loss='sparse_categorical_crossentropy', optimizer=Adam(learning_rate=0.01))\n",
        "model.summary()"
      ],
      "execution_count": 32,
      "outputs": [
        {
          "output_type": "stream",
          "text": [
            "Model: \"model_3\"\n",
            "__________________________________________________________________________________________________\n",
            "Layer (type)                    Output Shape         Param #     Connected to                     \n",
            "==================================================================================================\n",
            "input_2 (InputLayer)            [(None, 7)]          0                                            \n",
            "__________________________________________________________________________________________________\n",
            "embedding_1 (Embedding)         (None, 7, 8)         96          input_2[0][0]                    \n",
            "__________________________________________________________________________________________________\n",
            "flatten_1 (Flatten)             (None, 56)           0           embedding_1[0][0]                \n",
            "__________________________________________________________________________________________________\n",
            "dense_4 (Dense)                 (None, 32)           1824        flatten_1[0][0]                  \n",
            "__________________________________________________________________________________________________\n",
            "dense_5 (Dense)                 (None, 12)           396         dense_4[0][0]                    \n",
            "__________________________________________________________________________________________________\n",
            "dense_6 (Dense)                 (None, 12)           684         flatten_1[0][0]                  \n",
            "__________________________________________________________________________________________________\n",
            "add_1 (Add)                     (None, 12)           0           dense_5[0][0]                    \n",
            "                                                                 dense_6[0][0]                    \n",
            "__________________________________________________________________________________________________\n",
            "dense_7 (Dense)                 (None, 12)           156         add_1[0][0]                      \n",
            "==================================================================================================\n",
            "Total params: 3,156\n",
            "Trainable params: 3,156\n",
            "Non-trainable params: 0\n",
            "__________________________________________________________________________________________________\n"
          ],
          "name": "stdout"
        }
      ]
    },
    {
      "cell_type": "code",
      "metadata": {
        "id": "YPn6Wr71LQKr"
      },
      "source": [
        "import keras\n",
        "earlystop_callback= keras.callbacks.EarlyStopping(\n",
        "    monitor='val_loss', # val_loss를 지정하겠다.\n",
        "    patience=10, # 10번의 튕김을 참겠다.\n",
        "    mode='min' , # monitor 값이 최소가 되어야 한다.\n",
        "    restore_best_weights=True # 멈춘 후, 최적이었떤 값으로 모델의 파마리터 값들을 되돌린다.\n",
        ")"
      ],
      "execution_count": 33,
      "outputs": []
    },
    {
      "cell_type": "code",
      "metadata": {
        "colab": {
          "base_uri": "https://localhost:8080/"
        },
        "id": "ARoE1xZwLXpc",
        "outputId": "59eb8c43-180d-40e9-8966-5e4b04ef0639"
      },
      "source": [
        "hist = model.fit(x_train, y_train, epochs=100, verbose=1,validation_split=0.2, callbacks=earlystop_callback)"
      ],
      "execution_count": 34,
      "outputs": [
        {
          "output_type": "stream",
          "text": [
            "Epoch 1/100\n",
            "3/3 [==============================] - 1s 73ms/step - loss: 2.4597 - val_loss: 2.3310\n",
            "Epoch 2/100\n",
            "3/3 [==============================] - 0s 13ms/step - loss: 2.2800 - val_loss: 2.0770\n",
            "Epoch 3/100\n",
            "3/3 [==============================] - 0s 14ms/step - loss: 2.0585 - val_loss: 1.7301\n",
            "Epoch 4/100\n",
            "3/3 [==============================] - 0s 16ms/step - loss: 1.7770 - val_loss: 1.3590\n",
            "Epoch 5/100\n",
            "3/3 [==============================] - 0s 13ms/step - loss: 1.4957 - val_loss: 1.0611\n",
            "Epoch 6/100\n",
            "3/3 [==============================] - 0s 13ms/step - loss: 1.2111 - val_loss: 0.8137\n",
            "Epoch 7/100\n",
            "3/3 [==============================] - 0s 11ms/step - loss: 0.9872 - val_loss: 0.6860\n",
            "Epoch 8/100\n",
            "3/3 [==============================] - 0s 12ms/step - loss: 0.8264 - val_loss: 0.6457\n",
            "Epoch 9/100\n",
            "3/3 [==============================] - 0s 12ms/step - loss: 0.7353 - val_loss: 0.6391\n",
            "Epoch 10/100\n",
            "3/3 [==============================] - 0s 13ms/step - loss: 0.6645 - val_loss: 0.5599\n",
            "Epoch 11/100\n",
            "3/3 [==============================] - 0s 15ms/step - loss: 0.6237 - val_loss: 0.5278\n",
            "Epoch 12/100\n",
            "3/3 [==============================] - 0s 12ms/step - loss: 0.6025 - val_loss: 0.5146\n",
            "Epoch 13/100\n",
            "3/3 [==============================] - 0s 12ms/step - loss: 0.5698 - val_loss: 0.5007\n",
            "Epoch 14/100\n",
            "3/3 [==============================] - 0s 12ms/step - loss: 0.5541 - val_loss: 0.4900\n",
            "Epoch 15/100\n",
            "3/3 [==============================] - 0s 15ms/step - loss: 0.5250 - val_loss: 0.5667\n",
            "Epoch 16/100\n",
            "3/3 [==============================] - 0s 15ms/step - loss: 0.5207 - val_loss: 0.5593\n",
            "Epoch 17/100\n",
            "3/3 [==============================] - 0s 14ms/step - loss: 0.5099 - val_loss: 0.5005\n",
            "Epoch 18/100\n",
            "3/3 [==============================] - 0s 15ms/step - loss: 0.4997 - val_loss: 0.5151\n",
            "Epoch 19/100\n",
            "3/3 [==============================] - 0s 14ms/step - loss: 0.4882 - val_loss: 0.5390\n",
            "Epoch 20/100\n",
            "3/3 [==============================] - 0s 27ms/step - loss: 0.4864 - val_loss: 0.5385\n",
            "Epoch 21/100\n",
            "3/3 [==============================] - 0s 12ms/step - loss: 0.4837 - val_loss: 0.5728\n",
            "Epoch 22/100\n",
            "3/3 [==============================] - 0s 13ms/step - loss: 0.5093 - val_loss: 0.4893\n",
            "Epoch 23/100\n",
            "3/3 [==============================] - 0s 13ms/step - loss: 0.4755 - val_loss: 0.5602\n",
            "Epoch 24/100\n",
            "3/3 [==============================] - 0s 15ms/step - loss: 0.4871 - val_loss: 0.5692\n",
            "Epoch 25/100\n",
            "3/3 [==============================] - 0s 13ms/step - loss: 0.4811 - val_loss: 0.5199\n",
            "Epoch 26/100\n",
            "3/3 [==============================] - 0s 13ms/step - loss: 0.4898 - val_loss: 0.5043\n",
            "Epoch 27/100\n",
            "3/3 [==============================] - 0s 13ms/step - loss: 0.4901 - val_loss: 0.4659\n",
            "Epoch 28/100\n",
            "3/3 [==============================] - 0s 14ms/step - loss: 0.4796 - val_loss: 0.4499\n",
            "Epoch 29/100\n",
            "3/3 [==============================] - 0s 15ms/step - loss: 0.4656 - val_loss: 0.5528\n",
            "Epoch 30/100\n",
            "3/3 [==============================] - 0s 13ms/step - loss: 0.4786 - val_loss: 0.6118\n",
            "Epoch 31/100\n",
            "3/3 [==============================] - 0s 12ms/step - loss: 0.4775 - val_loss: 0.6018\n",
            "Epoch 32/100\n",
            "3/3 [==============================] - 0s 15ms/step - loss: 0.4786 - val_loss: 0.4829\n",
            "Epoch 33/100\n",
            "3/3 [==============================] - 0s 13ms/step - loss: 0.4696 - val_loss: 0.4614\n",
            "Epoch 34/100\n",
            "3/3 [==============================] - 0s 13ms/step - loss: 0.4751 - val_loss: 0.4753\n",
            "Epoch 35/100\n",
            "3/3 [==============================] - 0s 13ms/step - loss: 0.4684 - val_loss: 0.5174\n",
            "Epoch 36/100\n",
            "3/3 [==============================] - 0s 12ms/step - loss: 0.4549 - val_loss: 0.5840\n",
            "Epoch 37/100\n",
            "3/3 [==============================] - 0s 12ms/step - loss: 0.4636 - val_loss: 0.5206\n",
            "Epoch 38/100\n",
            "3/3 [==============================] - 0s 15ms/step - loss: 0.4662 - val_loss: 0.4453\n",
            "Epoch 39/100\n",
            "3/3 [==============================] - 0s 13ms/step - loss: 0.4687 - val_loss: 0.4510\n",
            "Epoch 40/100\n",
            "3/3 [==============================] - 0s 11ms/step - loss: 0.4622 - val_loss: 0.5253\n",
            "Epoch 41/100\n",
            "3/3 [==============================] - 0s 13ms/step - loss: 0.4593 - val_loss: 0.4767\n",
            "Epoch 42/100\n",
            "3/3 [==============================] - 0s 13ms/step - loss: 0.4500 - val_loss: 0.4234\n",
            "Epoch 43/100\n",
            "3/3 [==============================] - 0s 15ms/step - loss: 0.4461 - val_loss: 0.4487\n",
            "Epoch 44/100\n",
            "3/3 [==============================] - 0s 13ms/step - loss: 0.4567 - val_loss: 0.4965\n",
            "Epoch 45/100\n",
            "3/3 [==============================] - 0s 14ms/step - loss: 0.4582 - val_loss: 0.4842\n",
            "Epoch 46/100\n",
            "3/3 [==============================] - 0s 12ms/step - loss: 0.4474 - val_loss: 0.5584\n",
            "Epoch 47/100\n",
            "3/3 [==============================] - 0s 13ms/step - loss: 0.4494 - val_loss: 0.5009\n",
            "Epoch 48/100\n",
            "3/3 [==============================] - 0s 13ms/step - loss: 0.4499 - val_loss: 0.4389\n",
            "Epoch 49/100\n",
            "3/3 [==============================] - 0s 12ms/step - loss: 0.4600 - val_loss: 0.4018\n",
            "Epoch 50/100\n",
            "3/3 [==============================] - 0s 13ms/step - loss: 0.4526 - val_loss: 0.5660\n",
            "Epoch 51/100\n",
            "3/3 [==============================] - 0s 14ms/step - loss: 0.4560 - val_loss: 0.5799\n",
            "Epoch 52/100\n",
            "3/3 [==============================] - 0s 14ms/step - loss: 0.4510 - val_loss: 0.4888\n",
            "Epoch 53/100\n",
            "3/3 [==============================] - 0s 16ms/step - loss: 0.4442 - val_loss: 0.3339\n",
            "Epoch 54/100\n",
            "3/3 [==============================] - 0s 13ms/step - loss: 0.4534 - val_loss: 0.3613\n",
            "Epoch 55/100\n",
            "3/3 [==============================] - 0s 15ms/step - loss: 0.4542 - val_loss: 0.4563\n",
            "Epoch 56/100\n",
            "3/3 [==============================] - 0s 15ms/step - loss: 0.4521 - val_loss: 0.4556\n",
            "Epoch 57/100\n",
            "3/3 [==============================] - 0s 20ms/step - loss: 0.4527 - val_loss: 0.3720\n",
            "Epoch 58/100\n",
            "3/3 [==============================] - 0s 18ms/step - loss: 0.4407 - val_loss: 0.4736\n",
            "Epoch 59/100\n",
            "3/3 [==============================] - 0s 16ms/step - loss: 0.4571 - val_loss: 0.6477\n",
            "Epoch 60/100\n",
            "3/3 [==============================] - 0s 15ms/step - loss: 0.4535 - val_loss: 0.5770\n",
            "Epoch 61/100\n",
            "3/3 [==============================] - 0s 15ms/step - loss: 0.4596 - val_loss: 0.4716\n",
            "Epoch 62/100\n",
            "3/3 [==============================] - 0s 13ms/step - loss: 0.4502 - val_loss: 0.4886\n",
            "Epoch 63/100\n",
            "3/3 [==============================] - 0s 16ms/step - loss: 0.4520 - val_loss: 0.4978\n"
          ],
          "name": "stdout"
        }
      ]
    },
    {
      "cell_type": "code",
      "metadata": {
        "colab": {
          "base_uri": "https://localhost:8080/",
          "height": 295
        },
        "id": "xUmJzwukLZpw",
        "outputId": "edf18dcc-2f67-43f1-f9fc-db8eddd45947"
      },
      "source": [
        "# Loss history를 그린다\n",
        "plt.plot(hist.history['loss'], label='Train loss')\n",
        "plt.legend()\n",
        "plt.title(\"Loss history\")\n",
        "plt.xlabel(\"epoch\")\n",
        "plt.ylabel(\"loss\")\n",
        "plt.show()"
      ],
      "execution_count": 35,
      "outputs": [
        {
          "output_type": "display_data",
          "data": {
            "image/png": "[encoded data removed]",
            "text/plain": [
              "<Figure size 432x288 with 1 Axes>"
            ]
          },
          "metadata": {
            "tags": [],
            "needs_background": "light"
          }
        }
      ]
    },
    {
      "cell_type": "code",
      "metadata": {
        "colab": {
          "base_uri": "https://localhost:8080/"
        },
        "id": "ua1CAO8wMJYN",
        "outputId": "7617a6b9-9bcb-4ed7-a7d0-0c8aba7091c2"
      },
      "source": [
        "\"\"\"## 문장 다음에 올 단어를 예측해본다.\"\"\"\n",
        "\n",
        "# 테스트 데이터 생성\n",
        "test_text =[ ['the','cat','is'],['a','dog','was'],['dog'],['the','bedroom'],['a','cat','is'],['a','was','walking']]\n",
        "sequence_test_x = [ [word2idx[tok] for tok in tokens] for tokens in test_text]\n",
        "padded_sequence_x = pad_sequences(sequence_test_x,maxlen=min_len, padding='pre', truncating='post')\n",
        "\n",
        "padded_sequence_x\n",
        "\n",
        "predictions = model.predict(padded_sequence_x)\n",
        "\n",
        "pred_y = []\n",
        "for pred in predictions:\n",
        "  # index 를 다시 word로 바꾸어준다.\n",
        "  pred_y.append((idx2word[np.argmax(pred)], np.max(pred)))\n",
        "\n",
        "# 다음에 올 것으로 예측되는 단어\n",
        "print(pred_y) #[['walking', 'running', 'was', 'was', 'running', 'in']\n",
        "\n",
        "\"\"\"## 예측\"\"\"\n",
        "\n",
        "for i in range(len(test_text)):\n",
        "  print('입력단어: ',test_text[i],' 출력단어:',pred_y[i][0] , ' 확률: ', pred_y[i][1])\n",
        "# 입력단어:  ['the', 'cat', 'is']  출력단어: walking  확률:  0.6270845\n",
        "# 입력단어:  ['a', 'dog', 'was']  출력단어: running  확률:  0.6979395\n",
        "# 입력단어:  ['dog']  출력단어: was  확률:  0.8006019\n",
        "# 입력단어:  ['the', 'bedroom']  출력단어: was  확률:  0.36387834\n",
        "# 입력단어:  ['a', 'cat', 'is']  출력단어: running  확률:  0.79459757\n",
        "# 입력단어:  ['a', 'was', 'walking']  출력단어: in  확률:  0.99993753\n",
        "\n",
        "\"\"\"## Dog의 Word Vector \"\"\"\n",
        "\n",
        "test_text =[['dog']]\n",
        "sequence_test_x = [ [word2idx[tok] for tok in tokens] for tokens in test_text]\n",
        "padded_sequence_x = pad_sequences(sequence_test_x,maxlen=min_len, padding='pre', truncating='post')\n",
        "\n",
        "sequence_vector = model_vec.predict(padded_sequence_x)[0]\n",
        "\n",
        "len(sequence_vector)\n",
        "\n",
        "# dog 단어의 vector를 출력한다. dog를 sequence의 제일 뒤에 넣었기 때문에 제일 뒤의 행을 출력해주면 된다.\n",
        "print(sequence_vector[-1]) #[ 0.42155388  0.16909826  0.05765925  0.2591201   0.3168794  -0.3214157 -0.03524286 -0.15649182]"
      ],
      "execution_count": 36,
      "outputs": [
        {
          "output_type": "stream",
          "text": [
            "[('walking', 0.6555379), ('running', 0.6478092), ('was', 0.7219679), ('in', 0.6597722), ('running', 0.76698774), ('in', 0.99999857)]\n",
            "입력단어:  ['the', 'cat', 'is']  출력단어: walking  확률:  0.6555379\n",
            "입력단어:  ['a', 'dog', 'was']  출력단어: running  확률:  0.6478092\n",
            "입력단어:  ['dog']  출력단어: was  확률:  0.7219679\n",
            "입력단어:  ['the', 'bedroom']  출력단어: in  확률:  0.6597722\n",
            "입력단어:  ['a', 'cat', 'is']  출력단어: running  확률:  0.76698774\n",
            "입력단어:  ['a', 'was', 'walking']  출력단어: in  확률:  0.99999857\n",
            "[ 0.47451073 -0.13686393  0.3836244  -0.2665664   0.02442183 -0.34925136\n",
            "  0.0492247   0.40745434]\n"
          ],
          "name": "stdout"
        }
      ]
    }
  ]
}
