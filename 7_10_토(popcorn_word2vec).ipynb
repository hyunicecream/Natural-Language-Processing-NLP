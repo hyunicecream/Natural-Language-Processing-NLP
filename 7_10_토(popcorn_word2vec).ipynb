{
  "nbformat": 4,
  "nbformat_minor": 0,
  "metadata": {
    "colab": {
      "name": "7/10 토(popcorn-word2vec).ipynb",
      "provenance": [],
      "collapsed_sections": [],
      "mount_file_id": "1liSeG2IsuOcYx5S9tV1Eo0_CBhgpPNZQ",
      "authorship_tag": "ABX9TyNqH1z1GlxgYxeXfuHjjqW5",
      "include_colab_link": true
    },
    "kernelspec": {
      "name": "python3",
      "display_name": "Python 3"
    },
    "language_info": {
      "name": "python"
    },
    "accelerator": "GPU"
  },
  "cells": [
    {
      "cell_type": "markdown",
      "metadata": {
        "id": "view-in-github",
        "colab_type": "text"
      },
      "source": [
        "<a href=\"https://colab.research.google.com/github/hyunicecream/Natural-Language-Processing-NLP-/blob/main/7_10_%ED%86%A0(popcorn_word2vec).ipynb\" target=\"_parent\"><img src=\"https://colab.research.google.com/assets/colab-badge.svg\" alt=\"Open In Colab\"/></a>"
      ]
    },
    {
      "cell_type": "code",
      "metadata": {
        "colab": {
          "base_uri": "https://localhost:8080/"
        },
        "id": "H8fM6Lhy8tqW",
        "outputId": "abf1efd5-50e5-4d95-8cc1-6d36c25d31bb"
      },
      "source": [
        "# Word2Vec을 이용한 감성분석\n",
        "import numpy as np\n",
        "import nltk\n",
        "from tensorflow.keras.preprocessing.text import Tokenizer\n",
        "from tensorflow.keras.layers import Input, Dense, Dropout, LSTM\n",
        "from tensorflow.keras.models import Model\n",
        "from tensorflow.keras.optimizers import Adam\n",
        "from nltk.stem import LancasterStemmer\n",
        "from gensim.models import word2vec\n",
        "import matplotlib.pyplot as plt\n",
        "import pickle\n",
        "\n",
        "nltk.download('punkt')\n",
        "\n",
        "# pickle로 파일을 불러온다. \n",
        "with open('/content/drive/MyDrive/머신러닝/popcorn.pkl', 'rb') as f:\n",
        "    xd_train, yd_train, xd_test, yd_test = pickle.load(f)"
      ],
      "execution_count": 32,
      "outputs": [
        {
          "output_type": "stream",
          "text": [
            "[nltk_data] Downloading package punkt to /root/nltk_data...\n",
            "[nltk_data]   Package punkt is already up-to-date!\n"
          ],
          "name": "stdout"
        }
      ]
    },
    {
      "cell_type": "code",
      "metadata": {
        "colab": {
          "base_uri": "https://localhost:8080/"
        },
        "id": "wp57sD-u-NVE",
        "outputId": "066336fa-a1ba-43e5-d618-8211c23447bc"
      },
      "source": [
        "# 문장의 문자열을 token 분리한다. \n",
        "sent_tok = [nltk.word_tokenize(sent) for sent in xd_train + xd_test]\n",
        "sent_tok[0]"
      ],
      "execution_count": 33,
      "outputs": [
        {
          "output_type": "execute_result",
          "data": {
            "text/plain": [
              "['everi',\n",
              " 'time',\n",
              " 'see',\n",
              " 'nicol',\n",
              " 'like',\n",
              " 'love',\n",
              " 'movi',\n",
              " 'like',\n",
              " 'woman',\n",
              " 'give',\n",
              " 'keep',\n",
              " 'break',\n",
              " 'heart',\n",
              " 'first',\n",
              " 'movi',\n",
              " 'rememb',\n",
              " 'see',\n",
              " 'like',\n",
              " 'human',\n",
              " 'bondag',\n",
              " 'kim',\n",
              " 'novak',\n",
              " 'laurenc',\n",
              " 'harvey',\n",
              " 'version',\n",
              " 'the',\n",
              " 'beef',\n",
              " 'correct',\n",
              " 'russian',\n",
              " 'spoken',\n",
              " 'film',\n",
              " 'petti',\n",
              " 'good',\n",
              " 'enough',\n",
              " 'fool',\n",
              " 'anybodi',\n",
              " 'els',\n",
              " 'speak',\n",
              " 'russian',\n",
              " 'sure',\n",
              " 'funni',\n",
              " 'peopl',\n",
              " 'miss',\n",
              " 'point',\n",
              " 'the',\n",
              " 'goodnik',\n",
              " 'russian',\n",
              " 'guy',\n",
              " 'well',\n",
              " 'cast',\n",
              " 'final',\n",
              " 'tip',\n",
              " 'hat',\n",
              " 'ben',\n",
              " 'chaplin',\n",
              " 'somebodi',\n",
              " 'els',\n",
              " 'note',\n",
              " 'play',\n",
              " 'sap',\n",
              " 'great',\n",
              " 'digniti',\n",
              " 'definit',\n",
              " 'heat',\n",
              " 'nicol',\n",
              " 'think',\n",
              " 'guy',\n",
              " 'get',\n",
              " 'paid',\n",
              " 'mind',\n",
              " 'blow']"
            ]
          },
          "metadata": {
            "tags": []
          },
          "execution_count": 33
        }
      ]
    },
    {
      "cell_type": "code",
      "metadata": {
        "id": "fq7RMbHc_hEK"
      },
      "source": [
        "# word2vec 모델 생성\n",
        "# Gensim으로 모델 생성\n",
        "# Size : 32차원의 벡터 생성\n",
        "# min_count : 단어에 대한 최소 빈도수. \n",
        "# Ex) min_count=5 라면 빈도수 5이하 무시\n",
        "# window=1 : trigram 으로 사용, 양 옆의 단어 의미파악\n",
        "# smaple : negative sampling 사용 값을 2로 준다.\n",
        "# sg : 1 이면 Skip-gram 방법 사용, 0이면 CBOW 방법 사용\n",
        "# 만약 iter을 준다면 epoch와 같은 뜻으로 학습 반복 횟수를 지정한다. \n",
        "EMB_SIZE = 32\n",
        "model = word2vec.Word2Vec(sent_tok, size = EMB_SIZE, min_count=1, window=1, sg=1, negative=2)\n",
        "word2idx = model.wv.vocab"
      ],
      "execution_count": 34,
      "outputs": []
    },
    {
      "cell_type": "code",
      "metadata": {
        "colab": {
          "base_uri": "https://localhost:8080/"
        },
        "id": "HL9ujdN5Dg2u",
        "outputId": "2bdd1afb-e275-423e-ed6e-e00e2a24a71a"
      },
      "source": [
        "print(\"사전 크기 = \", len(word2idx))"
      ],
      "execution_count": 35,
      "outputs": [
        {
          "output_type": "stream",
          "text": [
            "사전 크기 =  49381\n"
          ],
          "name": "stdout"
        }
      ]
    },
    {
      "cell_type": "code",
      "metadata": {
        "id": "L8PabqxFDqQ5"
      },
      "source": [
        "# 학습 데이터 문자열을 문장 벡터를 생성한다.\n",
        "def sentence_vectorize(data):\n",
        "  vector = []\n",
        "  for sent in data:\n",
        "    sent_vect = np.zeros((EMB_SIZE))\n",
        "    sent_tok = sent.split(' ')\n",
        "    for word in sent_tok:\n",
        "      sent_vect += model.wv[word]\n",
        "    vector.append(sent_vect / len(sent_tok))\n",
        "  return vector\n",
        "\n",
        "xd_train_vec = sentence_vectorize(xd_train)\n",
        "xd_teset_vec = sentence_vectorize(xd_test)"
      ],
      "execution_count": 36,
      "outputs": []
    },
    {
      "cell_type": "code",
      "metadata": {
        "colab": {
          "base_uri": "https://localhost:8080/"
        },
        "id": "HYPhr0xEFE-a",
        "outputId": "d773e03c-ddcc-44c4-dcbe-ad43beacedfe"
      },
      "source": [
        "np.array(xd_train_vec).shape"
      ],
      "execution_count": 37,
      "outputs": [
        {
          "output_type": "execute_result",
          "data": {
            "text/plain": [
              "(17500, 32)"
            ]
          },
          "metadata": {
            "tags": []
          },
          "execution_count": 37
        }
      ]
    },
    {
      "cell_type": "code",
      "metadata": {
        "colab": {
          "base_uri": "https://localhost:8080/"
        },
        "id": "0NtZ65-bFJei",
        "outputId": "75025783-80c6-4167-fbf1-dbb9248c88a8"
      },
      "source": [
        "np.array(xd_teset_vec).shape"
      ],
      "execution_count": 38,
      "outputs": [
        {
          "output_type": "execute_result",
          "data": {
            "text/plain": [
              "(7500, 32)"
            ]
          },
          "metadata": {
            "tags": []
          },
          "execution_count": 38
        }
      ]
    },
    {
      "cell_type": "code",
      "metadata": {
        "colab": {
          "base_uri": "https://localhost:8080/"
        },
        "id": "TtrksjP3FO2w",
        "outputId": "174d9264-afed-4396-ea97-de7d3b9222c4"
      },
      "source": [
        "x_input = Input(batch_shape = (None, EMB_SIZE))\n",
        "h_layer = Dense(128, activation='relu')(x_input)\n",
        "y_output = Dense(1, activation = 'sigmoid')(h_layer)\n",
        "model = Model(x_input, y_output)\n",
        "model.compile(loss='binary_crossentropy', optimizer=Adam(learning_rate=0.001))\n",
        "model.summary()"
      ],
      "execution_count": 41,
      "outputs": [
        {
          "output_type": "stream",
          "text": [
            "Model: \"model_2\"\n",
            "_________________________________________________________________\n",
            "Layer (type)                 Output Shape              Param #   \n",
            "=================================================================\n",
            "input_6 (InputLayer)         [(None, 32)]              0         \n",
            "_________________________________________________________________\n",
            "dense_7 (Dense)              (None, 128)               4224      \n",
            "_________________________________________________________________\n",
            "dense_8 (Dense)              (None, 1)                 129       \n",
            "=================================================================\n",
            "Total params: 4,353\n",
            "Trainable params: 4,353\n",
            "Non-trainable params: 0\n",
            "_________________________________________________________________\n"
          ],
          "name": "stdout"
        }
      ]
    },
    {
      "cell_type": "code",
      "metadata": {
        "id": "9-fLI1VHGUWO"
      },
      "source": [
        "x_train = np.array(xd_train_vec)\n",
        "x_test = np.array(xd_teset_vec)\n",
        "y_train = np.array(yd_train).reshape(-1,1)\n",
        "y_test = np.array(yd_test).reshape(-1,1)\n",
        "# x_train\n",
        "# x_test"
      ],
      "execution_count": 42,
      "outputs": []
    },
    {
      "cell_type": "code",
      "metadata": {
        "colab": {
          "base_uri": "https://localhost:8080/"
        },
        "id": "9CeVtRSYGqto",
        "outputId": "eaffe68f-4f5d-4cbb-f83b-eb55bc2ce25b"
      },
      "source": [
        "# 학습 \n",
        "hist = model.fit(x_train, y_train, validation_data = (x_test, y_test), batch_size= 1024, epochs = 100)"
      ],
      "execution_count": 43,
      "outputs": [
        {
          "output_type": "stream",
          "text": [
            "Epoch 1/100\n",
            "18/18 [==============================] - 0s 9ms/step - loss: 0.6843 - val_loss: 0.6713\n",
            "Epoch 2/100\n",
            "18/18 [==============================] - 0s 4ms/step - loss: 0.6625 - val_loss: 0.6498\n",
            "Epoch 3/100\n",
            "18/18 [==============================] - 0s 4ms/step - loss: 0.6421 - val_loss: 0.6287\n",
            "Epoch 4/100\n",
            "18/18 [==============================] - 0s 4ms/step - loss: 0.6210 - val_loss: 0.6077\n",
            "Epoch 5/100\n",
            "18/18 [==============================] - 0s 3ms/step - loss: 0.6010 - val_loss: 0.5882\n",
            "Epoch 6/100\n",
            "18/18 [==============================] - 0s 3ms/step - loss: 0.5811 - val_loss: 0.5687\n",
            "Epoch 7/100\n",
            "18/18 [==============================] - 0s 3ms/step - loss: 0.5629 - val_loss: 0.5526\n",
            "Epoch 8/100\n",
            "18/18 [==============================] - 0s 3ms/step - loss: 0.5468 - val_loss: 0.5353\n",
            "Epoch 9/100\n",
            "18/18 [==============================] - 0s 4ms/step - loss: 0.5344 - val_loss: 0.5228\n",
            "Epoch 10/100\n",
            "18/18 [==============================] - 0s 4ms/step - loss: 0.5207 - val_loss: 0.5113\n",
            "Epoch 11/100\n",
            "18/18 [==============================] - 0s 3ms/step - loss: 0.5096 - val_loss: 0.5007\n",
            "Epoch 12/100\n",
            "18/18 [==============================] - 0s 3ms/step - loss: 0.4997 - val_loss: 0.4907\n",
            "Epoch 13/100\n",
            "18/18 [==============================] - 0s 4ms/step - loss: 0.4902 - val_loss: 0.4821\n",
            "Epoch 14/100\n",
            "18/18 [==============================] - 0s 3ms/step - loss: 0.4837 - val_loss: 0.4755\n",
            "Epoch 15/100\n",
            "18/18 [==============================] - 0s 3ms/step - loss: 0.4758 - val_loss: 0.4684\n",
            "Epoch 16/100\n",
            "18/18 [==============================] - 0s 3ms/step - loss: 0.4684 - val_loss: 0.4623\n",
            "Epoch 17/100\n",
            "18/18 [==============================] - 0s 4ms/step - loss: 0.4630 - val_loss: 0.4579\n",
            "Epoch 18/100\n",
            "18/18 [==============================] - 0s 4ms/step - loss: 0.4583 - val_loss: 0.4519\n",
            "Epoch 19/100\n",
            "18/18 [==============================] - 0s 4ms/step - loss: 0.4539 - val_loss: 0.4479\n",
            "Epoch 20/100\n",
            "18/18 [==============================] - 0s 3ms/step - loss: 0.4492 - val_loss: 0.4441\n",
            "Epoch 21/100\n",
            "18/18 [==============================] - 0s 3ms/step - loss: 0.4469 - val_loss: 0.4411\n",
            "Epoch 22/100\n",
            "18/18 [==============================] - 0s 3ms/step - loss: 0.4425 - val_loss: 0.4382\n",
            "Epoch 23/100\n",
            "18/18 [==============================] - 0s 3ms/step - loss: 0.4399 - val_loss: 0.4360\n",
            "Epoch 24/100\n",
            "18/18 [==============================] - 0s 4ms/step - loss: 0.4377 - val_loss: 0.4336\n",
            "Epoch 25/100\n",
            "18/18 [==============================] - 0s 3ms/step - loss: 0.4354 - val_loss: 0.4315\n",
            "Epoch 26/100\n",
            "18/18 [==============================] - 0s 4ms/step - loss: 0.4343 - val_loss: 0.4321\n",
            "Epoch 27/100\n",
            "18/18 [==============================] - 0s 3ms/step - loss: 0.4321 - val_loss: 0.4280\n",
            "Epoch 28/100\n",
            "18/18 [==============================] - 0s 4ms/step - loss: 0.4295 - val_loss: 0.4299\n",
            "Epoch 29/100\n",
            "18/18 [==============================] - 0s 3ms/step - loss: 0.4319 - val_loss: 0.4315\n",
            "Epoch 30/100\n",
            "18/18 [==============================] - 0s 3ms/step - loss: 0.4300 - val_loss: 0.4253\n",
            "Epoch 31/100\n",
            "18/18 [==============================] - 0s 3ms/step - loss: 0.4266 - val_loss: 0.4228\n",
            "Epoch 32/100\n",
            "18/18 [==============================] - 0s 4ms/step - loss: 0.4247 - val_loss: 0.4229\n",
            "Epoch 33/100\n",
            "18/18 [==============================] - 0s 3ms/step - loss: 0.4261 - val_loss: 0.4220\n",
            "Epoch 34/100\n",
            "18/18 [==============================] - 0s 3ms/step - loss: 0.4240 - val_loss: 0.4223\n",
            "Epoch 35/100\n",
            "18/18 [==============================] - 0s 3ms/step - loss: 0.4223 - val_loss: 0.4195\n",
            "Epoch 36/100\n",
            "18/18 [==============================] - 0s 3ms/step - loss: 0.4218 - val_loss: 0.4193\n",
            "Epoch 37/100\n",
            "18/18 [==============================] - 0s 4ms/step - loss: 0.4234 - val_loss: 0.4184\n",
            "Epoch 38/100\n",
            "18/18 [==============================] - 0s 4ms/step - loss: 0.4202 - val_loss: 0.4183\n",
            "Epoch 39/100\n",
            "18/18 [==============================] - 0s 4ms/step - loss: 0.4214 - val_loss: 0.4173\n",
            "Epoch 40/100\n",
            "18/18 [==============================] - 0s 3ms/step - loss: 0.4188 - val_loss: 0.4168\n",
            "Epoch 41/100\n",
            "18/18 [==============================] - 0s 3ms/step - loss: 0.4183 - val_loss: 0.4171\n",
            "Epoch 42/100\n",
            "18/18 [==============================] - 0s 3ms/step - loss: 0.4177 - val_loss: 0.4157\n",
            "Epoch 43/100\n",
            "18/18 [==============================] - 0s 3ms/step - loss: 0.4172 - val_loss: 0.4153\n",
            "Epoch 44/100\n",
            "18/18 [==============================] - 0s 3ms/step - loss: 0.4168 - val_loss: 0.4169\n",
            "Epoch 45/100\n",
            "18/18 [==============================] - 0s 3ms/step - loss: 0.4163 - val_loss: 0.4143\n",
            "Epoch 46/100\n",
            "18/18 [==============================] - 0s 3ms/step - loss: 0.4157 - val_loss: 0.4162\n",
            "Epoch 47/100\n",
            "18/18 [==============================] - 0s 4ms/step - loss: 0.4160 - val_loss: 0.4140\n",
            "Epoch 48/100\n",
            "18/18 [==============================] - 0s 3ms/step - loss: 0.4147 - val_loss: 0.4130\n",
            "Epoch 49/100\n",
            "18/18 [==============================] - 0s 3ms/step - loss: 0.4143 - val_loss: 0.4139\n",
            "Epoch 50/100\n",
            "18/18 [==============================] - 0s 3ms/step - loss: 0.4153 - val_loss: 0.4125\n",
            "Epoch 51/100\n",
            "18/18 [==============================] - 0s 3ms/step - loss: 0.4138 - val_loss: 0.4144\n",
            "Epoch 52/100\n",
            "18/18 [==============================] - 0s 3ms/step - loss: 0.4136 - val_loss: 0.4119\n",
            "Epoch 53/100\n",
            "18/18 [==============================] - 0s 3ms/step - loss: 0.4130 - val_loss: 0.4169\n",
            "Epoch 54/100\n",
            "18/18 [==============================] - 0s 3ms/step - loss: 0.4153 - val_loss: 0.4155\n",
            "Epoch 55/100\n",
            "18/18 [==============================] - 0s 3ms/step - loss: 0.4144 - val_loss: 0.4128\n",
            "Epoch 56/100\n",
            "18/18 [==============================] - 0s 3ms/step - loss: 0.4128 - val_loss: 0.4110\n",
            "Epoch 57/100\n",
            "18/18 [==============================] - 0s 3ms/step - loss: 0.4130 - val_loss: 0.4108\n",
            "Epoch 58/100\n",
            "18/18 [==============================] - 0s 3ms/step - loss: 0.4122 - val_loss: 0.4115\n",
            "Epoch 59/100\n",
            "18/18 [==============================] - 0s 3ms/step - loss: 0.4112 - val_loss: 0.4106\n",
            "Epoch 60/100\n",
            "18/18 [==============================] - 0s 3ms/step - loss: 0.4109 - val_loss: 0.4103\n",
            "Epoch 61/100\n",
            "18/18 [==============================] - 0s 3ms/step - loss: 0.4113 - val_loss: 0.4103\n",
            "Epoch 62/100\n",
            "18/18 [==============================] - 0s 3ms/step - loss: 0.4105 - val_loss: 0.4122\n",
            "Epoch 63/100\n",
            "18/18 [==============================] - 0s 4ms/step - loss: 0.4112 - val_loss: 0.4105\n",
            "Epoch 64/100\n",
            "18/18 [==============================] - 0s 4ms/step - loss: 0.4099 - val_loss: 0.4119\n",
            "Epoch 65/100\n",
            "18/18 [==============================] - 0s 3ms/step - loss: 0.4099 - val_loss: 0.4114\n",
            "Epoch 66/100\n",
            "18/18 [==============================] - 0s 3ms/step - loss: 0.4100 - val_loss: 0.4105\n",
            "Epoch 67/100\n",
            "18/18 [==============================] - 0s 3ms/step - loss: 0.4098 - val_loss: 0.4099\n",
            "Epoch 68/100\n",
            "18/18 [==============================] - 0s 3ms/step - loss: 0.4100 - val_loss: 0.4089\n",
            "Epoch 69/100\n",
            "18/18 [==============================] - 0s 3ms/step - loss: 0.4097 - val_loss: 0.4087\n",
            "Epoch 70/100\n",
            "18/18 [==============================] - 0s 3ms/step - loss: 0.4090 - val_loss: 0.4089\n",
            "Epoch 71/100\n",
            "18/18 [==============================] - 0s 3ms/step - loss: 0.4099 - val_loss: 0.4099\n",
            "Epoch 72/100\n",
            "18/18 [==============================] - 0s 3ms/step - loss: 0.4106 - val_loss: 0.4085\n",
            "Epoch 73/100\n",
            "18/18 [==============================] - 0s 3ms/step - loss: 0.4089 - val_loss: 0.4081\n",
            "Epoch 74/100\n",
            "18/18 [==============================] - 0s 3ms/step - loss: 0.4082 - val_loss: 0.4084\n",
            "Epoch 75/100\n",
            "18/18 [==============================] - 0s 3ms/step - loss: 0.4090 - val_loss: 0.4113\n",
            "Epoch 76/100\n",
            "18/18 [==============================] - 0s 3ms/step - loss: 0.4084 - val_loss: 0.4077\n",
            "Epoch 77/100\n",
            "18/18 [==============================] - 0s 4ms/step - loss: 0.4094 - val_loss: 0.4075\n",
            "Epoch 78/100\n",
            "18/18 [==============================] - 0s 3ms/step - loss: 0.4079 - val_loss: 0.4074\n",
            "Epoch 79/100\n",
            "18/18 [==============================] - 0s 4ms/step - loss: 0.4080 - val_loss: 0.4078\n",
            "Epoch 80/100\n",
            "18/18 [==============================] - 0s 3ms/step - loss: 0.4090 - val_loss: 0.4070\n",
            "Epoch 81/100\n",
            "18/18 [==============================] - 0s 3ms/step - loss: 0.4074 - val_loss: 0.4078\n",
            "Epoch 82/100\n",
            "18/18 [==============================] - 0s 3ms/step - loss: 0.4075 - val_loss: 0.4075\n",
            "Epoch 83/100\n",
            "18/18 [==============================] - 0s 3ms/step - loss: 0.4088 - val_loss: 0.4103\n",
            "Epoch 84/100\n",
            "18/18 [==============================] - 0s 3ms/step - loss: 0.4077 - val_loss: 0.4067\n",
            "Epoch 85/100\n",
            "18/18 [==============================] - 0s 4ms/step - loss: 0.4067 - val_loss: 0.4075\n",
            "Epoch 86/100\n",
            "18/18 [==============================] - 0s 3ms/step - loss: 0.4069 - val_loss: 0.4064\n",
            "Epoch 87/100\n",
            "18/18 [==============================] - 0s 3ms/step - loss: 0.4074 - val_loss: 0.4064\n",
            "Epoch 88/100\n",
            "18/18 [==============================] - 0s 3ms/step - loss: 0.4061 - val_loss: 0.4080\n",
            "Epoch 89/100\n",
            "18/18 [==============================] - 0s 3ms/step - loss: 0.4070 - val_loss: 0.4065\n",
            "Epoch 90/100\n",
            "18/18 [==============================] - 0s 3ms/step - loss: 0.4059 - val_loss: 0.4063\n",
            "Epoch 91/100\n",
            "18/18 [==============================] - 0s 3ms/step - loss: 0.4061 - val_loss: 0.4073\n",
            "Epoch 92/100\n",
            "18/18 [==============================] - 0s 3ms/step - loss: 0.4056 - val_loss: 0.4065\n",
            "Epoch 93/100\n",
            "18/18 [==============================] - 0s 3ms/step - loss: 0.4061 - val_loss: 0.4063\n",
            "Epoch 94/100\n",
            "18/18 [==============================] - 0s 3ms/step - loss: 0.4055 - val_loss: 0.4057\n",
            "Epoch 95/100\n",
            "18/18 [==============================] - 0s 4ms/step - loss: 0.4055 - val_loss: 0.4064\n",
            "Epoch 96/100\n",
            "18/18 [==============================] - 0s 4ms/step - loss: 0.4063 - val_loss: 0.4058\n",
            "Epoch 97/100\n",
            "18/18 [==============================] - 0s 3ms/step - loss: 0.4055 - val_loss: 0.4088\n",
            "Epoch 98/100\n",
            "18/18 [==============================] - 0s 3ms/step - loss: 0.4060 - val_loss: 0.4055\n",
            "Epoch 99/100\n",
            "18/18 [==============================] - 0s 4ms/step - loss: 0.4051 - val_loss: 0.4056\n",
            "Epoch 100/100\n",
            "18/18 [==============================] - 0s 3ms/step - loss: 0.4048 - val_loss: 0.4059\n"
          ],
          "name": "stdout"
        }
      ]
    },
    {
      "cell_type": "code",
      "metadata": {
        "colab": {
          "base_uri": "https://localhost:8080/",
          "height": 295
        },
        "id": "bKiqqokMHLyl",
        "outputId": "3950a993-6a2c-43c5-8f63-1d7d883bc1c6"
      },
      "source": [
        "# Loss history를 그린다.\n",
        "plt.plot(hist.history['loss'], label='Train loss')\n",
        "plt.plot(hist.history['val_loss'], label = 'Test loss')\n",
        "plt.legend()\n",
        "plt.title(\"Loss histrory\")\n",
        "plt.xlabel(\"Epoch\")\n",
        "plt.ylabel(\"Loss\")\n",
        "plt.show()"
      ],
      "execution_count": 44,
      "outputs": [
        {
          "output_type": "display_data",
          "data": {
            "image/png": "[encoded data removed]",
            "text/plain": [
              "<Figure size 432x288 with 1 Axes>"
            ]
          },
          "metadata": {
            "tags": [],
            "needs_background": "light"
          }
        }
      ]
    },
    {
      "cell_type": "code",
      "metadata": {
        "colab": {
          "base_uri": "https://localhost:8080/"
        },
        "id": "VYPinFFcHun9",
        "outputId": "6cc22a55-b68e-46b2-c239-e13e26963369"
      },
      "source": [
        "# 시험 데이터로 학습 성능을 평가한다. \n",
        "pred = model.predict(x_test)\n",
        "y_pred = np.where(pred > 0.5, 1, 0)\n",
        "accuracy = (y_pred == y_test).mean()\n",
        "print(\"\\nAccuracy = %.2f %s\" % (accuracy * 100, '%'))\n",
        "# Accuracy = 81.33 %"
      ],
      "execution_count": 45,
      "outputs": [
        {
          "output_type": "stream",
          "text": [
            "\n",
            "Accuracy = 81.65 %\n"
          ],
          "name": "stdout"
        }
      ]
    }
  ]
}