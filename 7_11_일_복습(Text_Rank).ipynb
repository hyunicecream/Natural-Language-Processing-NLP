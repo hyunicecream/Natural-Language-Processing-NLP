{
  "nbformat": 4,
  "nbformat_minor": 0,
  "metadata": {
    "colab": {
      "name": "7/11 일-복습(Text Rank).ipynb",
      "provenance": [],
      "collapsed_sections": [],
      "authorship_tag": "ABX9TyP/ucpXRzyxUU/Tqn9H5433",
      "include_colab_link": true
    },
    "kernelspec": {
      "name": "python3",
      "display_name": "Python 3"
    },
    "language_info": {
      "name": "python"
    }
  },
  "cells": [
    {
      "cell_type": "markdown",
      "metadata": {
        "id": "view-in-github",
        "colab_type": "text"
      },
      "source": [
        "<a href=\"https://colab.research.google.com/github/hyunicecream/Natural-Language-Processing-NLP-/blob/main/7_11_%EC%9D%BC_%EB%B3%B5%EC%8A%B5(Text_Rank).ipynb\" target=\"_parent\"><img src=\"https://colab.research.google.com/assets/colab-badge.svg\" alt=\"Open In Colab\"/></a>"
      ]
    },
    {
      "cell_type": "code",
      "metadata": {
        "id": "gs7qscDkBujs"
      },
      "source": [
        "import numpy as np\n",
        "\n",
        "mat = np.array([[0,0.2,0,0.3],\n",
        "                [0.2,0,0.4,0],\n",
        "                [0,0.4,0,0],\n",
        "                [0.3,0,0,0]])"
      ],
      "execution_count": 1,
      "outputs": []
    },
    {
      "cell_type": "code",
      "metadata": {
        "colab": {
          "base_uri": "https://localhost:8080/"
        },
        "id": "9dTCou49B4fq",
        "outputId": "93f16a34-7c2b-4721-d9bf-535851bbdbb7"
      },
      "source": [
        "# 인접 노드들을 리스트로 표현\n",
        "\n",
        "output_node = []\n",
        "for row in mat:\n",
        "  tmp = []\n",
        "  for i in range(len(row)):\n",
        "    if row[i] > 0:\n",
        "      tmp.append(i)\n",
        "  output_node.append(tmp)\n",
        "\n",
        "output_node\n",
        "#mat"
      ],
      "execution_count": 6,
      "outputs": [
        {
          "output_type": "execute_result",
          "data": {
            "text/plain": [
              "[[1, 3], [0, 2], [1], [0]]"
            ]
          },
          "metadata": {
            "tags": []
          },
          "execution_count": 6
        }
      ]
    },
    {
      "cell_type": "code",
      "metadata": {
        "colab": {
          "base_uri": "https://localhost:8080/"
        },
        "id": "ojmQv1yTCKzV",
        "outputId": "f4baa150-6b63-4edb-f2ca-abd20666af8a"
      },
      "source": [
        "# Text Rank 초깃값 설정\n",
        "initial_tr = 1/len(mat)\n",
        "initial_tr"
      ],
      "execution_count": 7,
      "outputs": [
        {
          "output_type": "execute_result",
          "data": {
            "text/plain": [
              "0.25"
            ]
          },
          "metadata": {
            "tags": []
          },
          "execution_count": 7
        }
      ]
    },
    {
      "cell_type": "code",
      "metadata": {
        "colab": {
          "base_uri": "https://localhost:8080/"
        },
        "id": "CYcHUkYkDuQV",
        "outputId": "12bbcac1-4bda-4a07-a606-ec518903eb35"
      },
      "source": [
        "TR = [initial_tr]*len(mat)\n",
        "TR"
      ],
      "execution_count": 9,
      "outputs": [
        {
          "output_type": "execute_result",
          "data": {
            "text/plain": [
              "[0.25, 0.25, 0.25, 0.25]"
            ]
          },
          "metadata": {
            "tags": []
          },
          "execution_count": 9
        }
      ]
    },
    {
      "cell_type": "code",
      "metadata": {
        "colab": {
          "base_uri": "https://localhost:8080/"
        },
        "id": "zCx-8FdKDzo0",
        "outputId": "b11c41c7-fe5f-482b-bf7c-7daa2adbff8d"
      },
      "source": [
        "# D값 설정\n",
        "\n",
        "d = 0.85\n",
        "\n",
        "# while문을 탈출하기위한 boolean 변수\n",
        "stop = False\n",
        "# Error 값을 저장하기 위한 변수\n",
        "history = []\n",
        "step = 0\n",
        "while stop==False:\n",
        "  # A,B,C,D 를 업데이트 할 때 원래값과 수정된 값의 차이의 합\n",
        "  total_error = 0\n",
        "  # A,B,C,D를 순회하면서\n",
        "  for node in range(len(mat)):\n",
        "    # 초항 1-d \n",
        "    update_val = (1-d)/4\n",
        "    tmp = 0\n",
        "    # A 노드와 연결된 노드 중에서 (B,D)\n",
        "    for i in output_node[node]:\n",
        "      s = 0\n",
        "      # B에 연결된 노드의 가중치 합을 S에 저장\n",
        "      for j in output_node[i]:\n",
        "        s+= mat[i][j]\n",
        "      # TR['B']*mat[A->B]/sigma(B)\n",
        "      k = TR[i]*(mat[node][i]/s)\n",
        "      tmp += k\n",
        "    # update_val은 기존의 1-d + d*(tmp), d: 0.85\n",
        "    update_val += tmp*d\n",
        "    # error는 기존의 값과 update_val과의 차이\n",
        "    error = abs(TR[node]-update_val)\n",
        "    # totalerror에 error를 더해준다.\n",
        "    total_error+=error\n",
        "    # 만약 error가 e^-20보다 작다면 early stop flag \n",
        "    if error < 1e-10:\n",
        "      stop = True\n",
        "    # A 노드를 업데이트 \n",
        "    TR[node] = update_val\n",
        "  history.append(total_error)\n",
        "  step+=1\n",
        "  print(\"step:\",step, \" error:\",total_error)\n",
        "  if stop ==True:\n",
        "    break\n",
        "\n",
        "TR"
      ],
      "execution_count": 16,
      "outputs": [
        {
          "output_type": "stream",
          "text": [
            "step: 1  error: 0.631049999679371\n",
            "step: 2  error: 0.6457658247683454\n",
            "step: 3  error: 0.4748260641951296\n",
            "step: 4  error: 0.34544904530718146\n",
            "step: 5  error: 0.2502768400591099\n",
            "step: 6  error: 0.18102439943703713\n",
            "step: 7  error: 0.13084775013412073\n",
            "step: 8  error: 0.09455415209721138\n",
            "step: 9  error: 0.06832018749894944\n",
            "step: 10  error: 0.04936272631190944\n",
            "step: 11  error: 0.035664971714247096\n",
            "step: 12  error: 0.0257680582282184\n",
            "step: 13  error: 0.018617455641478736\n",
            "step: 14  error: 0.013451121403158156\n",
            "step: 15  error: 0.009718438017714742\n",
            "step: 16  error: 0.0070215722781352685\n",
            "step: 17  error: 0.005073086205140104\n",
            "step: 18  error: 0.0036653048508938635\n",
            "step: 19  error: 0.0026481827743302933\n",
            "step: 20  error: 0.001913312060106448\n",
            "step: 21  error: 0.0013823679650603882\n",
            "step: 22  error: 0.00099876085522832\n",
            "step: 23  error: 0.0007216047180389207\n",
            "step: 24  error: 0.0005213594088225859\n",
            "step: 25  error: 0.00037668217288588934\n",
            "step: 26  error: 0.0002721528699131115\n",
            "step: 27  error: 0.0001966304485132575\n",
            "step: 28  error: 0.00014206549905099175\n",
            "step: 29  error: 0.00010264232306456123\n",
            "step: 30  error: 7.415907841409886e-05\n",
            "step: 31  error: 5.3579934154251996e-05\n",
            "step: 32  error: 3.8711502426541644e-05\n",
            "step: 33  error: 2.7969060503119092e-05\n",
            "step: 34  error: 2.0207646213327157e-05\n",
            "step: 35  error: 1.4600024389271882e-05\n",
            "step: 36  error: 1.054851762119502e-05\n",
            "step: 37  error: 7.621303981381056e-06\n",
            "step: 38  error: 5.50639212656967e-06\n",
            "step: 39  error: 3.9783683113414625e-06\n",
            "step: 40  error: 2.8743711049106224e-06\n",
            "step: 41  error: 2.0767331234128328e-06\n",
            "step: 42  error: 1.5004396816675758e-06\n",
            "step: 43  error: 1.0840676699930274e-06\n",
            "step: 44  error: 7.83238891438609e-07\n",
            "step: 45  error: 5.658900991412086e-07\n",
            "step: 46  error: 4.0885559651759884e-07\n",
            "step: 47  error: 2.9539816848167533e-07\n",
            "step: 48  error: 2.134251768648454e-07\n",
            "step: 49  error: 1.5419969015550983e-07\n",
            "step: 50  error: 1.114092763321306e-07\n",
            "step: 51  error: 8.049320207592636e-08\n",
            "step: 52  error: 5.815633857819691e-08\n",
            "step: 53  error: 4.201795444913614e-08\n",
            "step: 54  error: 3.0357972219396956e-08\n",
            "step: 55  error: 2.1933634880566544e-08\n",
            "step: 56  error: 1.5847051226813846e-08\n",
            "step: 57  error: 1.1449494380366687e-08\n",
            "step: 58  error: 8.272259932606829e-09\n",
            "step: 59  error: 5.9767077120742584e-09\n",
            "step: 60  error: 4.318171292760908e-09\n",
            "step: 61  error: 3.1198787442399123e-09\n",
            "step: 62  error: 2.254112341226744e-09\n",
            "step: 63  error: 1.6285961745854394e-09\n",
            "step: 64  error: 1.1766609075980483e-09\n",
            "step: 65  error: 8.501373494063102e-10\n",
            "step: 66  error: 6.14224310302447e-10\n",
            "step: 67  error: 4.4377690411323556e-10\n"
          ],
          "name": "stdout"
        },
        {
          "output_type": "execute_result",
          "data": {
            "text/plain": [
              "[0.28187998161882644,\n",
              " 0.3187412099431861,\n",
              " 0.21812001896780547,\n",
              " 0.1812587906256015]"
            ]
          },
          "metadata": {
            "tags": []
          },
          "execution_count": 16
        }
      ]
    },
    {
      "cell_type": "code",
      "metadata": {
        "colab": {
          "base_uri": "https://localhost:8080/",
          "height": 282
        },
        "id": "1aSwt9h7FHkW",
        "outputId": "07203492-f24e-417c-b38f-eee740b44ea8"
      },
      "source": [
        "## error 값을 Graph로 출력\n",
        "import matplotlib.pyplot as plt\n",
        "plt.plot(history)"
      ],
      "execution_count": 17,
      "outputs": [
        {
          "output_type": "execute_result",
          "data": {
            "text/plain": [
              "[<matplotlib.lines.Line2D at 0x7f0f93819b10>]"
            ]
          },
          "metadata": {
            "tags": []
          },
          "execution_count": 17
        },
        {
          "output_type": "display_data",
          "data": {
            "image/png": "[encoded data removed]",
            "text/plain": [
              "<Figure size 432x288 with 1 Axes>"
            ]
          },
          "metadata": {
            "tags": [],
            "needs_background": "light"
          }
        }
      ]
    },
    {
      "cell_type": "code",
      "metadata": {
        "id": "v1UFebWFFwEi"
      },
      "source": [
        ""
      ],
      "execution_count": null,
      "outputs": []
    }
  ]
}