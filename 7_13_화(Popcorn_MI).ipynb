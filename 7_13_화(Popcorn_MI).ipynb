{
  "nbformat": 4,
  "nbformat_minor": 0,
  "metadata": {
    "colab": {
      "name": "7/13 화(Popcorn-MI).ipynb",
      "provenance": [],
      "collapsed_sections": [],
      "mount_file_id": "1SGhECTsL5zylzGpdO-jH8KPM2MzP3UUt",
      "authorship_tag": "ABX9TyM2sYOTaSUPSvi217pns8ak",
      "include_colab_link": true
    },
    "kernelspec": {
      "name": "python3",
      "display_name": "Python 3"
    },
    "language_info": {
      "name": "python"
    }
  },
  "cells": [
    {
      "cell_type": "markdown",
      "metadata": {
        "id": "view-in-github",
        "colab_type": "text"
      },
      "source": [
        "<a href=\"https://colab.research.google.com/github/hyunicecream/Natural-Language-Processing-NLP-/blob/main/7_13_%ED%99%94(Popcorn_MI).ipynb\" target=\"_parent\"><img src=\"https://colab.research.google.com/assets/colab-badge.svg\" alt=\"Open In Colab\"/></a>"
      ]
    },
    {
      "cell_type": "code",
      "metadata": {
        "colab": {
          "base_uri": "https://localhost:8080/"
        },
        "id": "iXR4O3ZxjUyx",
        "outputId": "e848a22c-019b-445d-b974-7f79b5ea1a59"
      },
      "source": [
        "from tensorflow.keras.preprocessing.sequence import pad_sequences\n",
        "from tensorflow.keras.preprocessing.text import Tokenizer\n",
        "from tensorflow.keras.layers import Input, Embedding, LSTM, Dense, Dropout\n",
        "from tensorflow.keras.models import Model\n",
        "from tensorflow.keras.optimizers import Adam\n",
        "from tensorflow.keras import regularizers\n",
        "from sklearn.model_selection import train_test_split\n",
        "import matplotlib.pyplot as plt\n",
        "from scipy import stats\n",
        "import numpy as np\n",
        "import pickle\n",
        "import nltk\n",
        "from nltk.stem import PorterStemmer\n",
        "from gensim.models import word2vec\n",
        "\n",
        "nltk.download('punkt')\n",
        "\n",
        "with open('/content/drive/MyDrive/머신러닝/popcorn.pkl', 'rb') as f:\n",
        "    xd_train, yd_train, xd_test, yd_test = pickle.load(f)"
      ],
      "execution_count": null,
      "outputs": [
        {
          "output_type": "stream",
          "text": [
            "[nltk_data] Downloading package punkt to /root/nltk_data...\n",
            "[nltk_data]   Package punkt is already up-to-date!\n"
          ],
          "name": "stdout"
        }
      ]
    },
    {
      "cell_type": "code",
      "metadata": {
        "id": "EMCCbcqCnKIF"
      },
      "source": [
        "xd_train[0]"
      ],
      "execution_count": null,
      "outputs": []
    },
    {
      "cell_type": "code",
      "metadata": {
        "id": "5ninYdjhnMrp",
        "colab": {
          "base_uri": "https://localhost:8080/"
        },
        "outputId": "4408355b-269d-4d7c-eb87-3bb8abe3585c"
      },
      "source": [
        "# 문장의 문자열을 token으로 분리한다.\n",
        "sent_tok = [nltk.word_tokenize(sent) for sent in xd_train + xd_test]\n",
        "#sent_tok[0]\n",
        "len(sent_tok)"
      ],
      "execution_count": null,
      "outputs": [
        {
          "output_type": "execute_result",
          "data": {
            "text/plain": [
              "25000"
            ]
          },
          "metadata": {
            "tags": []
          },
          "execution_count": 55
        }
      ]
    },
    {
      "cell_type": "code",
      "metadata": {
        "colab": {
          "base_uri": "https://localhost:8080/"
        },
        "id": "6N88awXqVutS",
        "outputId": "e34e8d07-401e-4c7f-ec0a-f566e691fa5f"
      },
      "source": [
        "from collections import defaultdict\n",
        "whole_word_counter = defaultdict(int)\n",
        "for words in sent_tok:\n",
        "  for word in words:\n",
        "    whole_word_counter[word] += 1\n",
        "len(whole_word_counter)"
      ],
      "execution_count": null,
      "outputs": [
        {
          "output_type": "execute_result",
          "data": {
            "text/plain": [
              "19577"
            ]
          },
          "metadata": {
            "tags": []
          },
          "execution_count": 63
        }
      ]
    },
    {
      "cell_type": "code",
      "metadata": {
        "id": "NNd_qa30f3Xt"
      },
      "source": [
        "whole_counter = defaultdict(int)\n",
        "for k, v in whole_word_counter.items():\n",
        "  if v >= 5:\n",
        "    whole_counter[k] = v\n",
        "whole_counter"
      ],
      "execution_count": null,
      "outputs": []
    },
    {
      "cell_type": "code",
      "metadata": {
        "colab": {
          "base_uri": "https://localhost:8080/"
        },
        "id": "JssujjL7ggqC",
        "outputId": "0ce596b2-fad8-4d11-aa9b-6a5f6c51a003"
      },
      "source": [
        "len(whole_counter)"
      ],
      "execution_count": null,
      "outputs": [
        {
          "output_type": "execute_result",
          "data": {
            "text/plain": [
              "19577"
            ]
          },
          "metadata": {
            "tags": []
          },
          "execution_count": 65
        }
      ]
    },
    {
      "cell_type": "code",
      "metadata": {
        "id": "wZKNdGSjnTM9",
        "colab": {
          "base_uri": "https://localhost:8080/"
        },
        "outputId": "bb6d0021-e9bb-46ca-e28f-700d902da87c"
      },
      "source": [
        "for words in sent_tok:\n",
        "  for word in words:\n",
        "    if whole_counter[word] == 0:\n",
        "      words.remove(word)\n",
        "len(whole_counter)"
      ],
      "execution_count": null,
      "outputs": [
        {
          "output_type": "execute_result",
          "data": {
            "text/plain": [
              "19577"
            ]
          },
          "metadata": {
            "tags": []
          },
          "execution_count": 66
        }
      ]
    },
    {
      "cell_type": "code",
      "metadata": {
        "colab": {
          "base_uri": "https://localhost:8080/"
        },
        "id": "SQVga88Psorq",
        "outputId": "3cd4557f-dc74-4b96-9e81-c7e011efb371"
      },
      "source": [
        "sentence_word_count = []\n",
        "for words in sent_tok:\n",
        "  word_counter = defaultdict(int)\n",
        "  for word in words:\n",
        "    if whole_counter[word] == 0:\n",
        "      continue;\n",
        "    word_counter[word] +=1\n",
        "  sentence_word_count.append(word_counter)\n",
        "\n",
        "len(sentence_word_count)\n",
        "\n",
        "len(xd_train)"
      ],
      "execution_count": null,
      "outputs": [
        {
          "output_type": "execute_result",
          "data": {
            "text/plain": [
              "17500"
            ]
          },
          "metadata": {
            "tags": []
          },
          "execution_count": 70
        }
      ]
    },
    {
      "cell_type": "code",
      "metadata": {
        "id": "wZjZWbtvRGk2",
        "colab": {
          "base_uri": "https://localhost:8080/",
          "height": 333
        },
        "outputId": "2c0da4a9-8d63-4013-a7d1-46ae1030f380"
      },
      "source": [
        "plt.hist(yd_train)"
      ],
      "execution_count": null,
      "outputs": [
        {
          "output_type": "execute_result",
          "data": {
            "text/plain": [
              "(array([8716.,    0.,    0.,    0.,    0.,    0.,    0.,    0.,    0.,\n",
              "        8784.]),\n",
              " array([0. , 0.1, 0.2, 0.3, 0.4, 0.5, 0.6, 0.7, 0.8, 0.9, 1. ]),\n",
              " <a list of 10 Patch objects>)"
            ]
          },
          "metadata": {
            "tags": []
          },
          "execution_count": 71
        },
        {
          "output_type": "display_data",
          "data": {
            "image/png": "[encoded data removed]",
            "text/plain": [
              "<Figure size 432x288 with 1 Axes>"
            ]
          },
          "metadata": {
            "tags": [],
            "needs_background": "light"
          }
        }
      ]
    },
    {
      "cell_type": "code",
      "metadata": {
        "colab": {
          "base_uri": "https://localhost:8080/",
          "height": 235
        },
        "id": "X0guq-eYi3OU",
        "outputId": "2052e8b6-e980-47e8-b71a-a78fccee1f21"
      },
      "source": [
        "zero_count = 0\n",
        "one_count = 0\n",
        "for idx, words in enumerate(sent_tok):\n",
        "  if yd_train[idx] == 0:\n",
        "    zero_count += len(words)\n",
        "  if yd_train[idx] == 1:\n",
        "    one_count += len(words)\n",
        "\n",
        "zero_count, one_count"
      ],
      "execution_count": null,
      "outputs": [
        {
          "output_type": "error",
          "ename": "IndexError",
          "evalue": "ignored",
          "traceback": [
            "\u001b[0;31m---------------------------------------------------------------------------\u001b[0m",
            "\u001b[0;31mIndexError\u001b[0m                                Traceback (most recent call last)",
            "\u001b[0;32m<ipython-input-84-33eb3d7e2594>\u001b[0m in \u001b[0;36m<module>\u001b[0;34m()\u001b[0m\n\u001b[1;32m      2\u001b[0m \u001b[0mone_count\u001b[0m \u001b[0;34m=\u001b[0m \u001b[0;36m0\u001b[0m\u001b[0;34m\u001b[0m\u001b[0;34m\u001b[0m\u001b[0m\n\u001b[1;32m      3\u001b[0m \u001b[0;32mfor\u001b[0m \u001b[0midx\u001b[0m\u001b[0;34m,\u001b[0m \u001b[0mwords\u001b[0m \u001b[0;32min\u001b[0m \u001b[0menumerate\u001b[0m\u001b[0;34m(\u001b[0m\u001b[0msent_tok\u001b[0m\u001b[0;34m)\u001b[0m\u001b[0;34m:\u001b[0m\u001b[0;34m\u001b[0m\u001b[0;34m\u001b[0m\u001b[0m\n\u001b[0;32m----> 4\u001b[0;31m   \u001b[0;32mif\u001b[0m \u001b[0myd_train\u001b[0m\u001b[0;34m[\u001b[0m\u001b[0midx\u001b[0m\u001b[0;34m]\u001b[0m \u001b[0;34m==\u001b[0m \u001b[0;36m0\u001b[0m\u001b[0;34m:\u001b[0m\u001b[0;34m\u001b[0m\u001b[0;34m\u001b[0m\u001b[0m\n\u001b[0m\u001b[1;32m      5\u001b[0m     \u001b[0mzero_count\u001b[0m \u001b[0;34m+=\u001b[0m \u001b[0mlen\u001b[0m\u001b[0;34m(\u001b[0m\u001b[0mwords\u001b[0m\u001b[0;34m)\u001b[0m\u001b[0;34m\u001b[0m\u001b[0;34m\u001b[0m\u001b[0m\n\u001b[1;32m      6\u001b[0m   \u001b[0;32mif\u001b[0m \u001b[0myd_train\u001b[0m\u001b[0;34m[\u001b[0m\u001b[0midx\u001b[0m\u001b[0;34m]\u001b[0m \u001b[0;34m==\u001b[0m \u001b[0;36m1\u001b[0m\u001b[0;34m:\u001b[0m\u001b[0;34m\u001b[0m\u001b[0;34m\u001b[0m\u001b[0m\n",
            "\u001b[0;31mIndexError\u001b[0m: list index out of range"
          ]
        }
      ]
    },
    {
      "cell_type": "code",
      "metadata": {
        "colab": {
          "base_uri": "https://localhost:8080/",
          "height": 252
        },
        "id": "orxcFVtok1I1",
        "outputId": "337a3b52-99a1-4bca-c6e5-7e4d7d1c2349"
      },
      "source": [
        "import math\n",
        "from tqdm import tqdm\n",
        "D = []\n",
        "N = zero_count+one_count\n",
        "mutual_informations = defaultdict(float)\n",
        "## 각각의 단어마다\n",
        "for word in tqdm(whole_counter):\n",
        "  # y=0 일 때\n",
        "  sum_word_in_zero = 0\n",
        "  sum_word_in_one = 0\n",
        "  for idx, counter in enumerate(sentence_word_count):\n",
        "    if yd_train == 0:\n",
        "      sum_word_in_zero += counter[word]\n",
        "    if yd_train == 1:\n",
        "      sum_word_in_one += counter[word]\n",
        "  a = sum_word_in_zero+1\n",
        "  b = sum_word_in_one+1\n",
        "  # y=0 먼저\n",
        "  # p(word|y=0)*log(p(word|y=0)/(p(word)*p(y=0)))\n",
        "  mutual_information = (a/zero_count)*math.log((a/zero_count)/((a/N)*(zero_count/N)))\n",
        "  # p(word|y=1)*log(p(word|y=1)/(p(word)*p(y=1)))\n",
        "  mutual_information = (b/one_count)*math.log((b/one_count)/((b/N)*(one_count/N)))\n",
        "  mutual_informations[word] = mutual_information\n",
        "\n",
        "len(mutual_informations)\n",
        "\n",
        "len(whole_counter)\n",
        "\n",
        "#상위 10000개만 사용\n",
        "top_10000 = sorted(mutual_informations.items(), key=lambda item: item[1], reverse=True)[:10000]\n",
        "\n",
        "top_10000[:50]\n"
      ],
      "execution_count": null,
      "outputs": [
        {
          "output_type": "stream",
          "text": [
            "  0%|          | 0/19577 [00:00<?, ?it/s]\n"
          ],
          "name": "stderr"
        },
        {
          "output_type": "error",
          "ename": "ZeroDivisionError",
          "evalue": "ignored",
          "traceback": [
            "\u001b[0;31m---------------------------------------------------------------------------\u001b[0m",
            "\u001b[0;31mZeroDivisionError\u001b[0m                         Traceback (most recent call last)",
            "\u001b[0;32m<ipython-input-82-c054a8816329>\u001b[0m in \u001b[0;36m<module>\u001b[0;34m()\u001b[0m\n\u001b[1;32m     18\u001b[0m   \u001b[0;31m# y=0 먼저\u001b[0m\u001b[0;34m\u001b[0m\u001b[0;34m\u001b[0m\u001b[0;34m\u001b[0m\u001b[0m\n\u001b[1;32m     19\u001b[0m   \u001b[0;31m# p(word|y=0)*log(p(word|y=0)/(p(word)*p(y=0)))\u001b[0m\u001b[0;34m\u001b[0m\u001b[0;34m\u001b[0m\u001b[0;34m\u001b[0m\u001b[0m\n\u001b[0;32m---> 20\u001b[0;31m   \u001b[0mmutual_information\u001b[0m \u001b[0;34m=\u001b[0m \u001b[0;34m(\u001b[0m\u001b[0ma\u001b[0m\u001b[0;34m/\u001b[0m\u001b[0mzero_count\u001b[0m\u001b[0;34m)\u001b[0m\u001b[0;34m*\u001b[0m\u001b[0mmath\u001b[0m\u001b[0;34m.\u001b[0m\u001b[0mlog\u001b[0m\u001b[0;34m(\u001b[0m\u001b[0;34m(\u001b[0m\u001b[0ma\u001b[0m\u001b[0;34m/\u001b[0m\u001b[0mzero_count\u001b[0m\u001b[0;34m)\u001b[0m\u001b[0;34m/\u001b[0m\u001b[0;34m(\u001b[0m\u001b[0;34m(\u001b[0m\u001b[0ma\u001b[0m\u001b[0;34m/\u001b[0m\u001b[0mN\u001b[0m\u001b[0;34m)\u001b[0m\u001b[0;34m*\u001b[0m\u001b[0;34m(\u001b[0m\u001b[0mzero_count\u001b[0m\u001b[0;34m/\u001b[0m\u001b[0mN\u001b[0m\u001b[0;34m)\u001b[0m\u001b[0;34m)\u001b[0m\u001b[0;34m)\u001b[0m\u001b[0;34m\u001b[0m\u001b[0;34m\u001b[0m\u001b[0m\n\u001b[0m\u001b[1;32m     21\u001b[0m   \u001b[0;31m# p(word|y=1)*log(p(word|y=1)/(p(word)*p(y=1)))\u001b[0m\u001b[0;34m\u001b[0m\u001b[0;34m\u001b[0m\u001b[0;34m\u001b[0m\u001b[0m\n\u001b[1;32m     22\u001b[0m   \u001b[0mmutual_information\u001b[0m \u001b[0;34m=\u001b[0m \u001b[0;34m(\u001b[0m\u001b[0mb\u001b[0m\u001b[0;34m/\u001b[0m\u001b[0mone_count\u001b[0m\u001b[0;34m)\u001b[0m\u001b[0;34m*\u001b[0m\u001b[0mmath\u001b[0m\u001b[0;34m.\u001b[0m\u001b[0mlog\u001b[0m\u001b[0;34m(\u001b[0m\u001b[0;34m(\u001b[0m\u001b[0mb\u001b[0m\u001b[0;34m/\u001b[0m\u001b[0mone_count\u001b[0m\u001b[0;34m)\u001b[0m\u001b[0;34m/\u001b[0m\u001b[0;34m(\u001b[0m\u001b[0;34m(\u001b[0m\u001b[0mb\u001b[0m\u001b[0;34m/\u001b[0m\u001b[0mN\u001b[0m\u001b[0;34m)\u001b[0m\u001b[0;34m*\u001b[0m\u001b[0;34m(\u001b[0m\u001b[0mone_count\u001b[0m\u001b[0;34m/\u001b[0m\u001b[0mN\u001b[0m\u001b[0;34m)\u001b[0m\u001b[0;34m)\u001b[0m\u001b[0;34m)\u001b[0m\u001b[0;34m\u001b[0m\u001b[0;34m\u001b[0m\u001b[0m\n",
            "\u001b[0;31mZeroDivisionError\u001b[0m: division by zero"
          ]
        }
      ]
    }
  ]
}