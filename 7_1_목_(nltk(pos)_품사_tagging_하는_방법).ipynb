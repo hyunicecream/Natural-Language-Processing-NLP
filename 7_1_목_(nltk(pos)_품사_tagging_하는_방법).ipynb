{
  "nbformat": 4,
  "nbformat_minor": 0,
  "metadata": {
    "colab": {
      "name": "7/1 목-(nltk(pos)/품사 tagging 하는 방법).ipynb",
      "provenance": [],
      "collapsed_sections": [],
      "authorship_tag": "ABX9TyMu0EhIi5MnRrsV/uUYh/pf",
      "include_colab_link": true
    },
    "kernelspec": {
      "name": "python3",
      "display_name": "Python 3"
    },
    "language_info": {
      "name": "python"
    }
  },
  "cells": [
    {
      "cell_type": "markdown",
      "metadata": {
        "id": "view-in-github",
        "colab_type": "text"
      },
      "source": [
        "<a href=\"https://colab.research.google.com/github/hyunicecream/Natural-Language-Processing-NLP-/blob/main/7_1_%EB%AA%A9_(nltk(pos)_%ED%92%88%EC%82%AC_tagging_%ED%95%98%EB%8A%94_%EB%B0%A9%EB%B2%95).ipynb\" target=\"_parent\"><img src=\"https://colab.research.google.com/assets/colab-badge.svg\" alt=\"Open In Colab\"/></a>"
      ]
    },
    {
      "cell_type": "code",
      "metadata": {
        "colab": {
          "base_uri": "https://localhost:8080/"
        },
        "id": "L6oUX8KceVaF",
        "outputId": "796dc283-125b-4177-b1de-98810382a931"
      },
      "source": [
        "# Part of Speech tagging (POS tag)\n",
        "import nltk\n",
        "nltk.download('punkt')      # '/root/nltk_data/tokenizers'\n",
        "nltk.download('averaged_perceptron_tagger')\n",
        "\n",
        "sentence = \"\"\"\n",
        "Natural language processing (NLP) is a subfield of computer science, information engineering, \n",
        "and artificial intelligence concerned with the interactions between computers and human (natural) languages, \n",
        "in particular how to program computers to process and analyze large amounts of natural language data.\n",
        "\"\"\""
      ],
      "execution_count": 1,
      "outputs": [
        {
          "output_type": "stream",
          "text": [
            "[nltk_data] Downloading package punkt to /root/nltk_data...\n",
            "[nltk_data]   Unzipping tokenizers/punkt.zip.\n",
            "[nltk_data] Downloading package averaged_perceptron_tagger to\n",
            "[nltk_data]     /root/nltk_data...\n",
            "[nltk_data]   Unzipping taggers/averaged_perceptron_tagger.zip.\n"
          ],
          "name": "stdout"
        }
      ]
    },
    {
      "cell_type": "code",
      "metadata": {
        "colab": {
          "base_uri": "https://localhost:8080/"
        },
        "id": "mX0jlof_eu8H",
        "outputId": "c8d9da8f-bafd-432b-8eab-e5284352fe71"
      },
      "source": [
        "word_tok = nltk.word_tokenize(sentence)\n",
        "print(word_tok)"
      ],
      "execution_count": 2,
      "outputs": [
        {
          "output_type": "stream",
          "text": [
            "['Natural', 'language', 'processing', '(', 'NLP', ')', 'is', 'a', 'subfield', 'of', 'computer', 'science', ',', 'information', 'engineering', ',', 'and', 'artificial', 'intelligence', 'concerned', 'with', 'the', 'interactions', 'between', 'computers', 'and', 'human', '(', 'natural', ')', 'languages', ',', 'in', 'particular', 'how', 'to', 'program', 'computers', 'to', 'process', 'and', 'analyze', 'large', 'amounts', 'of', 'natural', 'language', 'data', '.']\n"
          ],
          "name": "stdout"
        }
      ]
    },
    {
      "cell_type": "code",
      "metadata": {
        "colab": {
          "base_uri": "https://localhost:8080/"
        },
        "id": "pgFJuUPve2qC",
        "outputId": "e6e90d04-e725-4a5a-e923-1b25b1fb594e"
      },
      "source": [
        "#중요한 기능#\n",
        "nltk.pos_tag(word_tok) # 단어마다의 품사를 보여준다."
      ],
      "execution_count": 4,
      "outputs": [
        {
          "output_type": "execute_result",
          "data": {
            "text/plain": [
              "[('Natural', 'JJ'),\n",
              " ('language', 'NN'),\n",
              " ('processing', 'NN'),\n",
              " ('(', '('),\n",
              " ('NLP', 'NNP'),\n",
              " (')', ')'),\n",
              " ('is', 'VBZ'),\n",
              " ('a', 'DT'),\n",
              " ('subfield', 'NN'),\n",
              " ('of', 'IN'),\n",
              " ('computer', 'NN'),\n",
              " ('science', 'NN'),\n",
              " (',', ','),\n",
              " ('information', 'NN'),\n",
              " ('engineering', 'NN'),\n",
              " (',', ','),\n",
              " ('and', 'CC'),\n",
              " ('artificial', 'JJ'),\n",
              " ('intelligence', 'NN'),\n",
              " ('concerned', 'VBN'),\n",
              " ('with', 'IN'),\n",
              " ('the', 'DT'),\n",
              " ('interactions', 'NNS'),\n",
              " ('between', 'IN'),\n",
              " ('computers', 'NNS'),\n",
              " ('and', 'CC'),\n",
              " ('human', 'JJ'),\n",
              " ('(', '('),\n",
              " ('natural', 'JJ'),\n",
              " (')', ')'),\n",
              " ('languages', 'NNS'),\n",
              " (',', ','),\n",
              " ('in', 'IN'),\n",
              " ('particular', 'JJ'),\n",
              " ('how', 'WRB'),\n",
              " ('to', 'TO'),\n",
              " ('program', 'NN'),\n",
              " ('computers', 'NNS'),\n",
              " ('to', 'TO'),\n",
              " ('process', 'VB'),\n",
              " ('and', 'CC'),\n",
              " ('analyze', 'VB'),\n",
              " ('large', 'JJ'),\n",
              " ('amounts', 'NNS'),\n",
              " ('of', 'IN'),\n",
              " ('natural', 'JJ'),\n",
              " ('language', 'NN'),\n",
              " ('data', 'NNS'),\n",
              " ('.', '.')]"
            ]
          },
          "metadata": {
            "tags": []
          },
          "execution_count": 4
        }
      ]
    },
    {
      "cell_type": "code",
      "metadata": {
        "colab": {
          "base_uri": "https://localhost:8080/"
        },
        "id": "SfQMsR-ue_wg",
        "outputId": "f0291e09-23e0-43de-9b15-8f4627f5a3b8"
      },
      "source": [
        "# 명사와 형용사만 표시한다\n",
        "sent_nnjj = [word for word, pos in nltk.pos_tag(word_tok) if pos == 'NN' or pos == 'JJ']\n",
        "sent_nnjj"
      ],
      "execution_count": 5,
      "outputs": [
        {
          "output_type": "execute_result",
          "data": {
            "text/plain": [
              "['Natural',\n",
              " 'language',\n",
              " 'processing',\n",
              " 'subfield',\n",
              " 'computer',\n",
              " 'science',\n",
              " 'information',\n",
              " 'engineering',\n",
              " 'artificial',\n",
              " 'intelligence',\n",
              " 'human',\n",
              " 'natural',\n",
              " 'particular',\n",
              " 'program',\n",
              " 'large',\n",
              " 'natural',\n",
              " 'language']"
            ]
          },
          "metadata": {
            "tags": []
          },
          "execution_count": 5
        }
      ]
    },
    {
      "cell_type": "code",
      "metadata": {
        "colab": {
          "base_uri": "https://localhost:8080/"
        },
        "id": "asKFic3NfYpx",
        "outputId": "dbe82de1-3a54-4d59-f636-8ecc55f0d8a1"
      },
      "source": [
        "# bigram\n",
        "# 단어들을 2개의 연속된 쌍으로 보고 싶으면 bigram을 쓴다.\n",
        "# 단어들의 관계를 파악하고자 할때 사용한다.\n",
        "\n",
        "bigram = [(a, b) for a, b in nltk.bigrams(sent_nnjj)]\n",
        "bigram"
      ],
      "execution_count": 6,
      "outputs": [
        {
          "output_type": "execute_result",
          "data": {
            "text/plain": [
              "[('Natural', 'language'),\n",
              " ('language', 'processing'),\n",
              " ('processing', 'subfield'),\n",
              " ('subfield', 'computer'),\n",
              " ('computer', 'science'),\n",
              " ('science', 'information'),\n",
              " ('information', 'engineering'),\n",
              " ('engineering', 'artificial'),\n",
              " ('artificial', 'intelligence'),\n",
              " ('intelligence', 'human'),\n",
              " ('human', 'natural'),\n",
              " ('natural', 'particular'),\n",
              " ('particular', 'program'),\n",
              " ('program', 'large'),\n",
              " ('large', 'natural'),\n",
              " ('natural', 'language')]"
            ]
          },
          "metadata": {
            "tags": []
          },
          "execution_count": 6
        }
      ]
    },
    {
      "cell_type": "code",
      "metadata": {
        "colab": {
          "base_uri": "https://localhost:8080/"
        },
        "id": "PtYJiF2ffu1v",
        "outputId": "eb78f8c1-ee59-49c2-c210-3bd961268e74"
      },
      "source": [
        "# trigram\n",
        "# 세개의 연속된 단어 쌍\n",
        "trigram = [(a, b, c) for a, b, c in nltk.trigrams(sent_nnjj)]\n",
        "trigram"
      ],
      "execution_count": 9,
      "outputs": [
        {
          "output_type": "execute_result",
          "data": {
            "text/plain": [
              "[('Natural', 'language', 'processing'),\n",
              " ('language', 'processing', 'subfield'),\n",
              " ('processing', 'subfield', 'computer'),\n",
              " ('subfield', 'computer', 'science'),\n",
              " ('computer', 'science', 'information'),\n",
              " ('science', 'information', 'engineering'),\n",
              " ('information', 'engineering', 'artificial'),\n",
              " ('engineering', 'artificial', 'intelligence'),\n",
              " ('artificial', 'intelligence', 'human'),\n",
              " ('intelligence', 'human', 'natural'),\n",
              " ('human', 'natural', 'particular'),\n",
              " ('natural', 'particular', 'program'),\n",
              " ('particular', 'program', 'large'),\n",
              " ('program', 'large', 'natural'),\n",
              " ('large', 'natural', 'language')]"
            ]
          },
          "metadata": {
            "tags": []
          },
          "execution_count": 9
        }
      ]
    },
    {
      "cell_type": "code",
      "metadata": {
        "colab": {
          "base_uri": "https://localhost:8080/"
        },
        "id": "qVweR4j9gAYS",
        "outputId": "4c69ffca-781a-4fac-dd66-8bb5118711a6"
      },
      "source": [
        "# n_gram\n",
        "# 중요한 기능\n",
        "# 여러개의 연속된 단어 쌍\n",
        "ngram = [(a, b, c, d) for a, b, c, d in nltk.ngrams(sent_nnjj, 4)]\n",
        "ngram"
      ],
      "execution_count": 10,
      "outputs": [
        {
          "output_type": "execute_result",
          "data": {
            "text/plain": [
              "[('Natural', 'language', 'processing', 'subfield'),\n",
              " ('language', 'processing', 'subfield', 'computer'),\n",
              " ('processing', 'subfield', 'computer', 'science'),\n",
              " ('subfield', 'computer', 'science', 'information'),\n",
              " ('computer', 'science', 'information', 'engineering'),\n",
              " ('science', 'information', 'engineering', 'artificial'),\n",
              " ('information', 'engineering', 'artificial', 'intelligence'),\n",
              " ('engineering', 'artificial', 'intelligence', 'human'),\n",
              " ('artificial', 'intelligence', 'human', 'natural'),\n",
              " ('intelligence', 'human', 'natural', 'particular'),\n",
              " ('human', 'natural', 'particular', 'program'),\n",
              " ('natural', 'particular', 'program', 'large'),\n",
              " ('particular', 'program', 'large', 'natural'),\n",
              " ('program', 'large', 'natural', 'language')]"
            ]
          },
          "metadata": {
            "tags": []
          },
          "execution_count": 10
        }
      ]
    },
    {
      "cell_type": "code",
      "metadata": {
        "colab": {
          "base_uri": "https://localhost:8080/"
        },
        "id": "gZe9sdGUgPYY",
        "outputId": "e4a2bf0e-8e22-45ff-9b7e-bc207c1e1269"
      },
      "source": [
        "# 명사 앞에 오는 품사를 확인한다. \n",
        "bigram_pos = [(a, b) for a, b in nltk.bigrams(nltk.pos_tag(word_tok))] # 마지막에 품사 태깅\n",
        "noun_preceders = [a[1] for a, b in bigram_pos if b[1] == 'NN'] # 명사 앞에 있는 품사만 기억하겠다는 의미\n",
        "noun_preceders\n",
        "bigram_pos"
      ],
      "execution_count": 18,
      "outputs": [
        {
          "output_type": "execute_result",
          "data": {
            "text/plain": [
              "[(('Natural', 'JJ'), ('language', 'NN')),\n",
              " (('language', 'NN'), ('processing', 'NN')),\n",
              " (('processing', 'NN'), ('(', '(')),\n",
              " (('(', '('), ('NLP', 'NNP')),\n",
              " (('NLP', 'NNP'), (')', ')')),\n",
              " ((')', ')'), ('is', 'VBZ')),\n",
              " (('is', 'VBZ'), ('a', 'DT')),\n",
              " (('a', 'DT'), ('subfield', 'NN')),\n",
              " (('subfield', 'NN'), ('of', 'IN')),\n",
              " (('of', 'IN'), ('computer', 'NN')),\n",
              " (('computer', 'NN'), ('science', 'NN')),\n",
              " (('science', 'NN'), (',', ',')),\n",
              " ((',', ','), ('information', 'NN')),\n",
              " (('information', 'NN'), ('engineering', 'NN')),\n",
              " (('engineering', 'NN'), (',', ',')),\n",
              " ((',', ','), ('and', 'CC')),\n",
              " (('and', 'CC'), ('artificial', 'JJ')),\n",
              " (('artificial', 'JJ'), ('intelligence', 'NN')),\n",
              " (('intelligence', 'NN'), ('concerned', 'VBN')),\n",
              " (('concerned', 'VBN'), ('with', 'IN')),\n",
              " (('with', 'IN'), ('the', 'DT')),\n",
              " (('the', 'DT'), ('interactions', 'NNS')),\n",
              " (('interactions', 'NNS'), ('between', 'IN')),\n",
              " (('between', 'IN'), ('computers', 'NNS')),\n",
              " (('computers', 'NNS'), ('and', 'CC')),\n",
              " (('and', 'CC'), ('human', 'JJ')),\n",
              " (('human', 'JJ'), ('(', '(')),\n",
              " (('(', '('), ('natural', 'JJ')),\n",
              " (('natural', 'JJ'), (')', ')')),\n",
              " ((')', ')'), ('languages', 'NNS')),\n",
              " (('languages', 'NNS'), (',', ',')),\n",
              " ((',', ','), ('in', 'IN')),\n",
              " (('in', 'IN'), ('particular', 'JJ')),\n",
              " (('particular', 'JJ'), ('how', 'WRB')),\n",
              " (('how', 'WRB'), ('to', 'TO')),\n",
              " (('to', 'TO'), ('program', 'NN')),\n",
              " (('program', 'NN'), ('computers', 'NNS')),\n",
              " (('computers', 'NNS'), ('to', 'TO')),\n",
              " (('to', 'TO'), ('process', 'VB')),\n",
              " (('process', 'VB'), ('and', 'CC')),\n",
              " (('and', 'CC'), ('analyze', 'VB')),\n",
              " (('analyze', 'VB'), ('large', 'JJ')),\n",
              " (('large', 'JJ'), ('amounts', 'NNS')),\n",
              " (('amounts', 'NNS'), ('of', 'IN')),\n",
              " (('of', 'IN'), ('natural', 'JJ')),\n",
              " (('natural', 'JJ'), ('language', 'NN')),\n",
              " (('language', 'NN'), ('data', 'NNS')),\n",
              " (('data', 'NNS'), ('.', '.'))]"
            ]
          },
          "metadata": {
            "tags": []
          },
          "execution_count": 18
        }
      ]
    },
    {
      "cell_type": "code",
      "metadata": {
        "colab": {
          "base_uri": "https://localhost:8080/"
        },
        "id": "atD7s21djQlU",
        "outputId": "c6b99594-92c3-4d3f-95b8-7c6068a27555"
      },
      "source": [
        "fdist = nltk.FreqDist(noun_preceders)  #FreqDist: 빈도를 측정해준다. count 의미\n",
        "[(tag, cnt) for (tag, cnt) in fdist.most_common()] # most_common: 가장 많이 나온 것들을  sort해준다. \n",
        "fdist"
      ],
      "execution_count": 23,
      "outputs": [
        {
          "output_type": "execute_result",
          "data": {
            "text/plain": [
              "[('JJ', 3), ('NN', 3), ('DT', 1), ('IN', 1), (',', 1), ('TO', 1)]"
            ]
          },
          "metadata": {
            "tags": []
          },
          "execution_count": 23
        }
      ]
    }
  ]
}