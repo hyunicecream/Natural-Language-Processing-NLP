{
  "nbformat": 4,
  "nbformat_minor": 0,
  "metadata": {
    "colab": {
      "name": "7/21 수(FastText 실습&자모단위 분리).ipynb",
      "provenance": [],
      "collapsed_sections": [],
      "mount_file_id": "1tRYiGCPYJ3Hxv_JSNvTCyMz8kLnJcCll",
      "authorship_tag": "ABX9TyPz/9qQX5vrAI+HU/so1kkP",
      "include_colab_link": true
    },
    "kernelspec": {
      "name": "python3",
      "display_name": "Python 3"
    },
    "language_info": {
      "name": "python"
    }
  },
  "cells": [
    {
      "cell_type": "markdown",
      "metadata": {
        "id": "view-in-github",
        "colab_type": "text"
      },
      "source": [
        "<a href=\"https://colab.research.google.com/github/hyunicecream/Natural-Language-Processing-NLP-/blob/main/7_21_%EC%88%98(FastText_%EC%8B%A4%EC%8A%B5%26%EC%9E%90%EB%AA%A8%EB%8B%A8%EC%9C%84_%EB%B6%84%EB%A6%AC).ipynb\" target=\"_parent\"><img src=\"https://colab.research.google.com/assets/colab-badge.svg\" alt=\"Open In Colab\"/></a>"
      ]
    },
    {
      "cell_type": "code",
      "metadata": {
        "colab": {
          "base_uri": "https://localhost:8080/"
        },
        "id": "ajnft9rfrpj7",
        "outputId": "05d68c47-8e8e-4417-b838-efcb80f9a80c"
      },
      "source": [
        "!nvidia-smi"
      ],
      "execution_count": 1,
      "outputs": [
        {
          "output_type": "stream",
          "text": [
            "Wed Jul 21 06:48:52 2021       \n",
            "+-----------------------------------------------------------------------------+\n",
            "| NVIDIA-SMI 470.42.01    Driver Version: 460.32.03    CUDA Version: 11.2     |\n",
            "|-------------------------------+----------------------+----------------------+\n",
            "| GPU  Name        Persistence-M| Bus-Id        Disp.A | Volatile Uncorr. ECC |\n",
            "| Fan  Temp  Perf  Pwr:Usage/Cap|         Memory-Usage | GPU-Util  Compute M. |\n",
            "|                               |                      |               MIG M. |\n",
            "|===============================+======================+======================|\n",
            "|   0  Tesla V100-SXM2...  Off  | 00000000:00:04.0 Off |                    0 |\n",
            "| N/A   32C    P0    24W / 300W |      0MiB / 16160MiB |      0%      Default |\n",
            "|                               |                      |                  N/A |\n",
            "+-------------------------------+----------------------+----------------------+\n",
            "                                                                               \n",
            "+-----------------------------------------------------------------------------+\n",
            "| Processes:                                                                  |\n",
            "|  GPU   GI   CI        PID   Type   Process name                  GPU Memory |\n",
            "|        ID   ID                                                   Usage      |\n",
            "|=============================================================================|\n",
            "|  No running processes found                                                 |\n",
            "+-----------------------------------------------------------------------------+\n"
          ],
          "name": "stdout"
        }
      ]
    },
    {
      "cell_type": "code",
      "metadata": {
        "id": "1oQGAribpq4B"
      },
      "source": [
        "from gensim.models.fasttext import FastText\n",
        "import numpy as np\n",
        "from sklearn.metrics.pairwise import cosine_similarity\n",
        "import pickle\n",
        "from gensim.test.utils import datapath\n",
        "\n",
        "with open('/content/drive/MyDrive/머신러닝/자연어/konovel_preprocessed.pkl', 'rb') as f:\n",
        "    texts = pickle.load(f)\n"
      ],
      "execution_count": 24,
      "outputs": []
    },
    {
      "cell_type": "code",
      "metadata": {
        "id": "mnZMFVMiqEDR"
      },
      "source": [
        "#FastText 모델생성\n",
        "model = FastText(size=100, window=5, min_count=10, sentences=texts,\n",
        "                 max_vocab_size = 10000, sample=1e-5, iter=100, bucket=2000000,\n",
        "                 sg=1, negative=2) # AWS server에서 실행시 : size =vector_size, iter = epochs"
      ],
      "execution_count": 25,
      "outputs": []
    },
    {
      "cell_type": "code",
      "metadata": {
        "colab": {
          "base_uri": "https://localhost:8080/"
        },
        "id": "hKskmGolqV8y",
        "outputId": "0ee5a9ad-53bd-4832-bd94-267da860ec4c"
      },
      "source": [
        "# 워드 벡터 확인\n",
        "model.wv['환자']"
      ],
      "execution_count": 14,
      "outputs": [
        {
          "output_type": "execute_result",
          "data": {
            "text/plain": [
              "array([ 5.60062788e-02, -3.34816039e-01,  5.94290942e-02,  3.19085941e-02,\n",
              "        1.25433907e-01,  3.91396619e-02, -2.57090390e-01,  9.22845379e-02,\n",
              "       -7.27408915e-04,  2.39125043e-01, -2.82891411e-02,  8.55770614e-03,\n",
              "        7.92133436e-02, -2.22232267e-01,  4.08042729e-01,  1.73059404e-01,\n",
              "        1.45881563e-01, -2.75996029e-01,  2.04898357e-01,  7.72694349e-02,\n",
              "       -1.13667853e-01,  8.25333446e-02, -1.67100951e-01, -8.12288523e-02,\n",
              "       -1.00178383e-01,  2.46292710e-01,  9.30687785e-02,  1.02451675e-01,\n",
              "        9.94756669e-02,  2.83035263e-02, -1.03235230e-01, -3.29133719e-01,\n",
              "        2.85318285e-01, -2.70792050e-04, -1.40035540e-01,  3.80081445e-01,\n",
              "        1.78543292e-02,  9.00995806e-02,  5.44803888e-02, -1.11825407e-01,\n",
              "       -1.86540671e-02,  6.79493994e-02, -1.80591494e-02, -1.43368870e-01,\n",
              "        7.72553757e-02,  5.22249788e-02, -3.40290219e-01,  1.09369159e-01,\n",
              "        8.83601755e-02,  4.79683876e-02,  4.90972139e-02,  1.79076344e-01,\n",
              "       -2.06930395e-02, -2.41014183e-01, -3.26570421e-02,  2.56599635e-02,\n",
              "        3.12266588e-01,  6.92226961e-02,  2.73919761e-01, -1.64626554e-01,\n",
              "       -1.11931436e-01,  1.21794060e-01, -1.49854884e-01, -4.49413121e-01,\n",
              "        2.38077134e-01, -6.21358342e-02,  7.86767974e-02,  6.01577200e-03,\n",
              "        5.23783006e-02, -1.63189709e-01, -5.37816156e-03,  9.03738439e-02,\n",
              "        2.67375916e-01,  1.57178968e-01, -1.14955306e-01,  2.55283266e-01,\n",
              "        2.65789688e-01, -1.41944122e-02, -7.60797113e-02, -3.15424055e-01,\n",
              "        6.25795349e-02, -1.41801149e-01, -1.32574171e-01, -5.22053316e-02,\n",
              "        1.43277794e-02,  7.65593797e-02,  3.10090065e-01,  2.06834584e-01,\n",
              "       -1.36654880e-02, -8.28847289e-02, -2.56220877e-01,  1.06119394e-01,\n",
              "       -1.50970042e-01,  4.18819189e-02, -1.61923110e-01, -2.03337483e-02,\n",
              "        7.12625915e-03, -1.16818517e-01, -2.89521869e-02,  2.99633622e-01],\n",
              "      dtype=float32)"
            ]
          },
          "metadata": {
            "tags": []
          },
          "execution_count": 14
        }
      ]
    },
    {
      "cell_type": "code",
      "metadata": {
        "colab": {
          "base_uri": "https://localhost:8080/"
        },
        "id": "253xpnhLrIjp",
        "outputId": "42c80af4-a3c1-4427-803b-edf7a400dd20"
      },
      "source": [
        "# oov라도 다른 벡터를 갖는다\n",
        "model.wv['환자아아아아']\n",
        "model.wv['아아환아아아아']"
      ],
      "execution_count": 15,
      "outputs": [
        {
          "output_type": "execute_result",
          "data": {
            "text/plain": [
              "array([-7.05392100e-04,  2.24707220e-02,  1.76529467e-01, -1.99008316e-01,\n",
              "        1.43350378e-01,  1.52836353e-01, -2.01396629e-01, -6.01888746e-02,\n",
              "       -9.61645916e-02,  8.06536153e-02, -1.18295878e-01,  1.66219875e-01,\n",
              "       -4.19775024e-02, -2.26846665e-01,  3.60008299e-01, -1.75977424e-02,\n",
              "       -3.34592275e-02,  6.94898888e-02,  9.81177241e-02,  2.80541718e-01,\n",
              "        1.62755862e-01, -1.22326836e-01,  1.73201144e-01, -8.35999548e-02,\n",
              "        1.33363038e-01,  1.62536534e-03, -1.86680481e-01,  8.49706531e-02,\n",
              "        1.39293626e-01,  1.74215645e-01,  1.60014465e-01, -2.91250348e-02,\n",
              "        1.08170450e-01, -2.47521289e-02, -9.22309514e-03,  2.39535302e-01,\n",
              "       -1.45361617e-01,  1.24265105e-01, -5.11166379e-02,  2.10975364e-01,\n",
              "        2.38758579e-01,  5.21317869e-02, -1.28805101e-01,  1.13008291e-01,\n",
              "       -1.30400389e-01,  5.29677458e-02, -1.63595062e-02,  1.58612549e-01,\n",
              "       -2.65307605e-01,  6.52815700e-02,  9.08780321e-02,  3.50674331e-01,\n",
              "        1.21585801e-01, -1.18486524e-01,  1.08530492e-01, -2.49249619e-02,\n",
              "        8.12776312e-02,  6.23972621e-04, -2.84883007e-02,  4.39567259e-03,\n",
              "        3.45848105e-03, -2.47293413e-02,  1.55198306e-01,  1.28698573e-01,\n",
              "       -8.89954641e-02,  8.89031217e-02,  6.76737167e-03, -2.51339674e-01,\n",
              "        1.39368232e-04, -2.02621117e-01,  1.02551296e-01, -3.13634276e-02,\n",
              "       -1.27147026e-02, -5.26591614e-02, -4.48135473e-02,  7.43002966e-02,\n",
              "       -1.98956113e-02, -2.32437238e-01,  4.74604070e-02,  7.06210285e-02,\n",
              "        1.94378734e-01,  2.13188753e-02, -1.43083468e-01, -2.65906006e-02,\n",
              "        2.37414278e-02,  2.94187106e-02,  2.54178024e-03, -1.47806797e-02,\n",
              "        1.77578139e-03, -1.58991814e-01, -1.05304793e-01, -4.81709698e-03,\n",
              "        1.68517932e-01, -5.72184436e-02,  3.16959769e-02,  1.29496977e-01,\n",
              "       -8.25556181e-03,  2.58784108e-02,  5.20931408e-02,  2.87508130e-01],\n",
              "      dtype=float32)"
            ]
          },
          "metadata": {
            "tags": []
          },
          "execution_count": 15
        }
      ]
    },
    {
      "cell_type": "code",
      "metadata": {
        "colab": {
          "base_uri": "https://localhost:8080/"
        },
        "id": "Cp7e-aWMrXX6",
        "outputId": "75b03431-8522-4b82-b812-0f370c28c89b"
      },
      "source": [
        "# 유사도 확인\n",
        "model.wv.most_similar('의사', topn=5)\n",
        "model.wv.most_similar('엄마', topn=5)\n",
        "model.wv.most_similar('딸', topn=5)\n",
        "model.wv.most_similar('아버지', topn=5)\n",
        "model.wv.most_similar('바다', topn=10)"
      ],
      "execution_count": 16,
      "outputs": [
        {
          "output_type": "execute_result",
          "data": {
            "text/plain": [
              "[('바다로', 0.851055920124054),\n",
              " ('선착장', 0.8434188961982727),\n",
              " ('하늘', 0.8159232139587402),\n",
              " ('수평선', 0.8024173974990845),\n",
              " ('눈부시다', 0.7905569076538086),\n",
              " ('갈매기', 0.7811887264251709),\n",
              " ('물결', 0.7708677053451538),\n",
              " ('바닷가', 0.7671460509300232),\n",
              " ('반짝이다', 0.7651426792144775),\n",
              " ('벌판', 0.7605469226837158)]"
            ]
          },
          "metadata": {
            "tags": []
          },
          "execution_count": 16
        }
      ]
    },
    {
      "cell_type": "code",
      "metadata": {
        "colab": {
          "base_uri": "https://localhost:8080/"
        },
        "id": "p41FmxMFrhXv",
        "outputId": "24556e59-0829-43aa-c772-8a93a7669baf"
      },
      "source": [
        "# 어휘 사전 확인\n",
        "model.wv.vocab['하늘']"
      ],
      "execution_count": 18,
      "outputs": [
        {
          "output_type": "execute_result",
          "data": {
            "text/plain": [
              "<gensim.models.keyedvectors.Vocab at 0x7f33cae1ec10>"
            ]
          },
          "metadata": {
            "tags": []
          },
          "execution_count": 18
        }
      ]
    },
    {
      "cell_type": "code",
      "metadata": {
        "colab": {
          "base_uri": "https://localhost:8080/"
        },
        "id": "YQNFcSs8ruGt",
        "outputId": "1d0fc1de-f00d-4896-d2ab-ba38a29310fd"
      },
      "source": [
        "# hash table (bucket) 확인. subword들의 워드 벡터가 저장된 공간.\n",
        "model.wv.vectors_ngrams"
      ],
      "execution_count": 19,
      "outputs": [
        {
          "output_type": "execute_result",
          "data": {
            "text/plain": [
              "array([[-0.02745507,  0.01891487, -0.10038022, ...,  0.1599825 ,\n",
              "         0.07976013,  0.01991663],\n",
              "       [-0.20020485, -0.44523224, -0.11662774, ..., -1.3191667 ,\n",
              "         0.03792242,  0.87206334],\n",
              "       [-0.01574848,  0.02621582, -0.09267586, ...,  0.16226277,\n",
              "         0.07289371,  0.01676827],\n",
              "       ...,\n",
              "       [-0.08934738, -0.19028962, -0.00559302, ...,  0.12613657,\n",
              "        -0.17979205,  0.13521682],\n",
              "       [-0.084598  , -0.19136903, -0.01057228, ...,  0.12440763,\n",
              "        -0.19329983,  0.14673616],\n",
              "       [-0.09921796, -0.18071955, -0.00460855, ...,  0.11411124,\n",
              "        -0.18573746,  0.1468723 ]], dtype=float32)"
            ]
          },
          "metadata": {
            "tags": []
          },
          "execution_count": 19
        }
      ]
    },
    {
      "cell_type": "code",
      "metadata": {
        "id": "0v_88L9V-hVY"
      },
      "source": [
        "with open('/content/drive/MyDrive/머신러닝/자연어/konovel_preprocessed.pkl', 'wb') as f:\n",
        "    pickle.dump(sentence_list, f, pickle.DEFAULT_PROTOCOL)"
      ],
      "execution_count": 39,
      "outputs": []
    },
    {
      "cell_type": "code",
      "metadata": {
        "colab": {
          "base_uri": "https://localhost:8080/"
        },
        "id": "VzSN9IER8ojo",
        "outputId": "09b4dbd5-cabf-4dab-e909-27bc11faa3e8"
      },
      "source": [
        "!pip install hangul_utils"
      ],
      "execution_count": 20,
      "outputs": [
        {
          "output_type": "stream",
          "text": [
            "Collecting hangul_utils\n",
            "  Downloading hangul_utils-0.4.5-py3-none-any.whl (20 kB)\n",
            "Collecting map-async>=1.2.3\n",
            "  Downloading map_async-1.2.3-py3-none-any.whl (3.6 kB)\n",
            "Collecting hangul_utils\n",
            "  Downloading hangul_utils-0.4.4-py3-none-any.whl (20 kB)\n",
            "  Downloading hangul_utils-0.4.3-py3-none-any.whl (20 kB)\n",
            "  Downloading hangul_utils-0.4.2-py3-none-any.whl (20 kB)\n",
            "  Downloading hangul_utils-0.4.1-py3-none-any.whl (20 kB)\n",
            "Collecting map-async==1.1\n",
            "  Downloading map_async-1.1-py3-none-any.whl (3.5 kB)\n",
            "Collecting hangul_utils\n",
            "  Downloading hangul_utils-0.4-py3-none-any.whl (20 kB)\n",
            "  Downloading hangul-utils-0.3.0.tar.gz (4.3 kB)\n",
            "Collecting twkorean>=0.1.5\n",
            "  Downloading twkorean-0.1.5.tar.gz (8.2 kB)\n",
            "Collecting hangul_utils\n",
            "  Downloading hangul-utils-0.2.tar.gz (2.6 kB)\n",
            "Building wheels for collected packages: hangul-utils\n",
            "  Building wheel for hangul-utils (setup.py) ... \u001b[?25l\u001b[?25hdone\n",
            "  Created wheel for hangul-utils: filename=hangul_utils-0.2-py3-none-any.whl size=3265 sha256=21389389705be71a2a36db5627d39b47a217748fcf7e87bdfa9ebb082b000d8d\n",
            "  Stored in directory: /root/.cache/pip/wheels/a6/f8/c9/96d021e59afdd738900b2a9efe97b2f216a2165ea4a0c7633f\n",
            "Successfully built hangul-utils\n",
            "Installing collected packages: hangul-utils\n",
            "Successfully installed hangul-utils-0.2\n"
          ],
          "name": "stdout"
        }
      ]
    },
    {
      "cell_type": "code",
      "metadata": {
        "id": "0iNJNWBN8x-w"
      },
      "source": [
        "# FastText 예시 : 한글을 자모 단위로 분리해서 FastText로 임베딩한다.\n",
        "#\n",
        "# 코드 구현 : blog.naver.com/chunjein, 2021.03.23\n",
        "# pip install hangul_utils\n",
        "#--------------------------------------------------------\n",
        "from hangul_utils import split_syllables, join_jamos\n",
        "from gensim.models.fasttext import FastText\n",
        "import numpy as np\n",
        "import pickle"
      ],
      "execution_count": 42,
      "outputs": []
    },
    {
      "cell_type": "code",
      "metadata": {
        "colab": {
          "base_uri": "https://localhost:8080/"
        },
        "id": "o1pl69P189Sl",
        "outputId": "dc350034-0de5-4a41-8575-8252213128a3"
      },
      "source": [
        "# 한글 자모 분리/합침 연습\n",
        "jamo = split_syllables('안녕하세요')\n",
        "word = join_jamos(jamo)\n",
        "print(jamo)"
      ],
      "execution_count": 43,
      "outputs": [
        {
          "output_type": "stream",
          "text": [
            "ㅇㅏㄴㄴㅕㅇㅎㅏㅅㅔㅇㅛ\n"
          ],
          "name": "stdout"
        }
      ]
    },
    {
      "cell_type": "code",
      "metadata": {
        "id": "aohHwDvG9F8U"
      },
      "source": [
        "from gensim.models.fasttext import FastText\n",
        "import numpy as np\n",
        "from sklearn.metrics.pairwise import cosine_similarity\n",
        "import pickle\n",
        "from gensim.test.utils import datapath\n",
        "\n",
        "with open('/content/drive/MyDrive/머신러닝/자연어/konovel_preprocessed.pkl', 'rb') as f:\n",
        "    sent_list = pickle.load(f)\n"
      ],
      "execution_count": 44,
      "outputs": []
    },
    {
      "cell_type": "code",
      "metadata": {
        "id": "hYnUr_y09NSs"
      },
      "source": [
        "#FastText 모델생성\n",
        "model = FastText(size=100, window=5, min_count=10, sentences=sent_list,\n",
        "                 max_vocab_size = 10000, sample=1e-5, iter=100, bucket=2000000, min_n=3, max_n=3,\n",
        "                 sg=1, negative=2) # AWS server에서 실행시 : size =vector_size, iter = epochs"
      ],
      "execution_count": 45,
      "outputs": []
    },
    {
      "cell_type": "code",
      "metadata": {
        "colab": {
          "base_uri": "https://localhost:8080/"
        },
        "id": "bnCbkO9g9_4X",
        "outputId": "e8c68bea-155c-4e47-de85-2ad88e803a6c"
      },
      "source": [
        "sent_list[0]"
      ],
      "execution_count": 46,
      "outputs": [
        {
          "output_type": "execute_result",
          "data": {
            "text/plain": [
              "['학교', '돌아오다', '욕실', '뛰어가다', '물', '뒤지다', '쓰다', '나오다', '비누', '냄새', '나다']"
            ]
          },
          "metadata": {
            "tags": []
          },
          "execution_count": 46
        }
      ]
    },
    {
      "cell_type": "code",
      "metadata": {
        "colab": {
          "base_uri": "https://localhost:8080/"
        },
        "id": "FePa9vfBI0uE",
        "outputId": "1b123d80-0cd9-4ea0-cfba-91b002a2dbf3"
      },
      "source": [
        "# sentence_list를 한글 자모로 분리한다.\n",
        "sentence_jamo = []\n",
        "for sentence in sent_list:\n",
        "    jamo = []\n",
        "    for word in sentence:\n",
        "        jamo.append(split_syllables(word))\n",
        "    sentence_jamo.append(jamo)\n",
        "\n",
        "sentence_jamo[0]"
      ],
      "execution_count": 48,
      "outputs": [
        {
          "output_type": "execute_result",
          "data": {
            "text/plain": [
              "['ㅎㅏㄱㄱㅛ',\n",
              " 'ㄷㅗㄹㅇㅏㅇㅗㄷㅏ',\n",
              " 'ㅇㅛㄱㅅㅣㄹ',\n",
              " 'ㄸㅟㅇㅓㄱㅏㄷㅏ',\n",
              " 'ㅁㅜㄹ',\n",
              " 'ㄷㅟㅈㅣㄷㅏ',\n",
              " 'ㅆㅡㄷㅏ',\n",
              " 'ㄴㅏㅇㅗㄷㅏ',\n",
              " 'ㅂㅣㄴㅜ',\n",
              " 'ㄴㅐㅁㅅㅐ',\n",
              " 'ㄴㅏㄷㅏ']"
            ]
          },
          "metadata": {
            "tags": []
          },
          "execution_count": 48
        }
      ]
    },
    {
      "cell_type": "code",
      "metadata": {
        "colab": {
          "base_uri": "https://localhost:8080/"
        },
        "id": "dXbxBLOMI4Cv",
        "outputId": "cf8f62e0-33eb-422d-8137-ddeca04f5db2"
      },
      "source": [
        "model = FastText(size=100, window=5, min_count=10, sentences=sentence_jamo, \n",
        "                 max_vocab_size=10000, sample=1e-5, iter=100, bucket=2000000, sg=1, negative=2)\n",
        "\n",
        "def get_word_vector(model, word):\n",
        "    jamo = split_syllables(word)\n",
        "    return model.wv[jamo]\n",
        "\n",
        "def get_similar_words(model, word, top_n=10):\n",
        "    jamo = split_syllables(word)\n",
        "    sim = []\n",
        "    for (jamo, score) in model.wv.most_similar(jamo, topn = top_n):\n",
        "        sim.append((join_jamos(jamo), score))\n",
        "    return sim\n",
        "\n",
        "# 어휘 사전 확인\n",
        "model.wv.vocab\n",
        "\n",
        "get_word_vector(model, '학교')\n",
        "\n",
        "get_similar_words(model, '바다')"
      ],
      "execution_count": 49,
      "outputs": [
        {
          "output_type": "execute_result",
          "data": {
            "text/plain": [
              "[('바다로', 0.8555504083633423),\n",
              " ('바닷가', 0.8470731973648071),\n",
              " ('바라다', 0.7918623685836792),\n",
              " ('타다', 0.7626050710678101),\n",
              " ('바닷물', 0.7484769821166992),\n",
              " ('밝다', 0.7325817942619324),\n",
              " ('밟다', 0.7180566787719727),\n",
              " ('바닥', 0.7088634967803955),\n",
              " ('흘러가다', 0.7082409858703613),\n",
              " ('바뀌다', 0.7013784646987915)]"
            ]
          },
          "metadata": {
            "tags": []
          },
          "execution_count": 49
        }
      ]
    },
    {
      "cell_type": "code",
      "metadata": {
        "colab": {
          "base_uri": "https://localhost:8080/"
        },
        "id": "3dIZbNxi9VQv",
        "outputId": "e8bd75ca-d626-463c-9c2f-9b0755feda5a"
      },
      "source": [
        "# 유사도 확인\n",
        "model.wv.most_similar('바다', topn=10)"
      ],
      "execution_count": 47,
      "outputs": [
        {
          "output_type": "execute_result",
          "data": {
            "text/plain": [
              "[('바다로', 0.8551251292228699),\n",
              " ('수평선', 0.7668206691741943),\n",
              " ('소나기', 0.7598968744277954),\n",
              " ('하늘', 0.74162757396698),\n",
              " ('햇빛', 0.7397393584251404),\n",
              " ('물결', 0.7395631074905396),\n",
              " ('구름', 0.7356809377670288),\n",
              " ('갈매기', 0.7206027507781982),\n",
              " ('수풀', 0.7174332141876221),\n",
              " ('둥둥', 0.7126516699790955)]"
            ]
          },
          "metadata": {
            "tags": []
          },
          "execution_count": 47
        }
      ]
    },
    {
      "cell_type": "code",
      "metadata": {
        "id": "aQfUkW6p-kmh"
      },
      "source": [
        "with open('/content/drive/MyDrive/머신러닝/자연어/konovel_preprocessed.pkl', 'wb') as f:\n",
        "    pickle.dump(sentence_list, f, pickle.DEFAULT_PROTOCOL)"
      ],
      "execution_count": 40,
      "outputs": []
    },
    {
      "cell_type": "code",
      "metadata": {
        "id": "TNvu-ZAj_Z_p"
      },
      "source": [
        "<Before> : 한글 자모 단위로 분리x\n",
        "[('바다로', 0.851055920124054),\n",
        " ('선착장', 0.8434188961982727),\n",
        " ('하늘', 0.8159232139587402),\n",
        " ('수평선', 0.8024173974990845),\n",
        " ('눈부시다', 0.7905569076538086),\n",
        " ('갈매기', 0.7811887264251709),\n",
        " ('물결', 0.7708677053451538),\n",
        " ('바닷가', 0.7671460509300232),\n",
        " ('반짝이다', 0.7651426792144775),\n",
        " ('벌판', 0.7605469226837158)]\n",
        " <After> : 한글 자모 단위로 분리o\n",
        " [('수평선', 0.8704897165298462),\n",
        " ('바다로', 0.8318359851837158),\n",
        " ('선착장', 0.8157389163970947),\n",
        " ('물결', 0.7963809967041016),\n",
        " ('둥둥', 0.7877790331840515),\n",
        " ('수풀', 0.7865880727767944),\n",
        " ('하늘', 0.7838190197944641),\n",
        " ('갈매기', 0.7770141363143921),\n",
        " ('뭍', 0.774156928062439),\n",
        " ('눈부시다', 0.7594777345657349)]"
      ],
      "execution_count": null,
      "outputs": []
    }
  ]
}