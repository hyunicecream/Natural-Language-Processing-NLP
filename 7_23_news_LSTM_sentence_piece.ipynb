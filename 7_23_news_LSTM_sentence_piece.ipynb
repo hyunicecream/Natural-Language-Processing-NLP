{
  "nbformat": 4,
  "nbformat_minor": 0,
  "metadata": {
    "colab": {
      "name": "7/23 news-LSTM-sentence_piece.ipynb",
      "provenance": [],
      "collapsed_sections": [],
      "mount_file_id": "10TlamYJHy8DkIzcSdqUi4HKn4VpZXYCZ",
      "authorship_tag": "ABX9TyNz3aRJfhXKwE5tlqtacB2n",
      "include_colab_link": true
    },
    "kernelspec": {
      "name": "python3",
      "display_name": "Python 3"
    },
    "language_info": {
      "name": "python"
    }
  },
  "cells": [
    {
      "cell_type": "markdown",
      "metadata": {
        "id": "view-in-github",
        "colab_type": "text"
      },
      "source": [
        "<a href=\"https://colab.research.google.com/github/hyunicecream/Natural-Language-Processing-NLP-/blob/main/7_23_news_LSTM_sentence_piece.ipynb\" target=\"_parent\"><img src=\"https://colab.research.google.com/assets/colab-badge.svg\" alt=\"Open In Colab\"/></a>"
      ]
    },
    {
      "cell_type": "code",
      "metadata": {
        "colab": {
          "base_uri": "https://localhost:8080/"
        },
        "id": "PkZPFf2dBXSU",
        "outputId": "374a27d3-8537-450d-d495-e3094000c984"
      },
      "source": [
        "%pip install sentencepiece"
      ],
      "execution_count": 18,
      "outputs": [
        {
          "output_type": "stream",
          "text": [
            "Collecting sentencepiece\n",
            "  Downloading sentencepiece-0.1.96-cp37-cp37m-manylinux_2_17_x86_64.manylinux2014_x86_64.whl (1.2 MB)\n",
            "\u001b[K     |████████████████████████████████| 1.2 MB 5.3 MB/s \n",
            "\u001b[?25hInstalling collected packages: sentencepiece\n",
            "Successfully installed sentencepiece-0.1.96\n"
          ],
          "name": "stdout"
        }
      ]
    },
    {
      "cell_type": "code",
      "metadata": {
        "id": "02U5Pwzh2s-z"
      },
      "source": [
        "# Commented out IPython magic to ensure Python compatibility.\n",
        "import numpy as np\n",
        "import re\n",
        "import pickle\n",
        "from sklearn.datasets import fetch_20newsgroups\n",
        "import sentencepiece as spm\n",
        "from tensorflow.keras.layers import Input, Embedding, Dense, LSTM, Dropout\n",
        "from tensorflow.keras.preprocessing.sequence import pad_sequences\n",
        "from tensorflow.keras.models import Model\n",
        "from tensorflow.keras import optimizers\n",
        "from sklearn.model_selection import train_test_split\n",
        "import matplotlib.pyplot as plt\n",
        "import seaborn as sns\n",
        "\n",
        "\n",
        "# %cd '/content/drive/MyDrive/Colab Notebooks'\n",
        "\n",
        "# news data를 읽어온다. subject 분석용.\n",
        "newsData = fetch_20newsgroups(shuffle=True, random_state=1, remove=('footers', 'quotes'))\n",
        "# heard quotes, footer 만 있다 body 부분은 따로 없다."
      ],
      "execution_count": 19,
      "outputs": []
    },
    {
      "cell_type": "code",
      "metadata": {
        "colab": {
          "base_uri": "https://localhost:8080/"
        },
        "id": "GeA6Qf-5Axwb",
        "outputId": "707fb9b8-820a-416b-f0cf-72deafef76bd"
      },
      "source": [
        "# 첫 번째 news를 조회해 본다.\n",
        "news = newsData['data']\n",
        "topic = newsData['target']\n",
        "topic_name = newsData['target_names']\n",
        "n_topic = len(set(topic))\n",
        "\n",
        "print(len(news))\n",
        "print(news[n])\n",
        "print('topic = ', topic[n], topic_name[topic[n]])"
      ],
      "execution_count": 20,
      "outputs": [
        {
          "output_type": "stream",
          "text": [
            "11314\n",
            "From: ab4z@Virginia.EDU (\"Andi Beyer\")\n",
            "Subject: Re: Israeli Terrorism\n",
            "Organization: University of Virginia\n",
            "Lines: 15\n",
            "topic =  17 talk.politics.mideast\n"
          ],
          "name": "stdout"
        }
      ]
    },
    {
      "cell_type": "code",
      "metadata": {
        "id": "is7xMbkP3MpZ"
      },
      "source": [
        "# Subject만 추출한다.\n",
        "subjects = []\n",
        "for text in news:\n",
        "    for sent in text.split('\\n'):\n",
        "        idx = sent.find('Subject:')\n",
        "        if idx >= 0:       # found\n",
        "            subjects.append(sent[(idx + 9):].replace('Re: ', '').lower())\n",
        "           #subjects.append(re.sub(\"[^a-zA-Z]\", \" \", subject))\n",
        "            break"
      ],
      "execution_count": 21,
      "outputs": []
    },
    {
      "cell_type": "code",
      "metadata": {
        "colab": {
          "base_uri": "https://localhost:8080/"
        },
        "id": "hDaLca003xkb",
        "outputId": "8adff57d-9609-42ea-d01f-2404ed7e4bd4"
      },
      "source": [
        "subjects[0:5]"
      ],
      "execution_count": 24,
      "outputs": [
        {
          "output_type": "execute_result",
          "data": {
            "text/plain": [
              "['israeli terrorism',\n",
              " 'amusing atheists and agnostics',\n",
              " 'rejoinder. questions to israelis',\n",
              " 'clipper- business as usual?',\n",
              " 'playoff pool rule revision']"
            ]
          },
          "metadata": {
            "tags": []
          },
          "execution_count": 24
        }
      ]
    },
    {
      "cell_type": "code",
      "metadata": {
        "colab": {
          "base_uri": "https://localhost:8080/"
        },
        "id": "rU5HWBI3ClCV",
        "outputId": "eca91614-b595-43ca-b7ad-c9764cbd80d5"
      },
      "source": [
        "len(subjects)"
      ],
      "execution_count": 39,
      "outputs": [
        {
          "output_type": "execute_result",
          "data": {
            "text/plain": [
              "11314"
            ]
          },
          "metadata": {
            "tags": []
          },
          "execution_count": 39
        }
      ]
    },
    {
      "cell_type": "code",
      "metadata": {
        "id": "LNpe4Ct73QYV"
      },
      "source": [
        "# Sentencepice용 사전을 만들기 위해 corpusQA를 저장해 둔다.\n",
        "data_file = \"/content/drive/MyDrive/머신러닝/ChatBot/news_subject.txt\"\n",
        "with open(data_file, 'w', encoding='utf-8') as f:\n",
        "    for sent in subjects:\n",
        "        f.write(sent + '\\n')"
      ],
      "execution_count": 25,
      "outputs": []
    },
    {
      "cell_type": "code",
      "metadata": {
        "id": "RoW2tHCJBNqD"
      },
      "source": [
        "# Google의 Sentencepiece를 이용해서 vocabulary를 생성한다.\n",
        "# -----------------------------------------------------\n",
        "templates= \"--input={0:} \\\n",
        "            --pad_id=0 --pad_piece=<PAD>\\\n",
        "            --unk_id=1 --unk_piece=<UNK>\\\n",
        "            --bos_id=2 --bos_piece=<START>\\\n",
        "            --eos_id=3 --eos_piece=<END>\\\n",
        "            --model_prefix={1:} \\\n",
        "            --vocab_size={2:} \\\n",
        "            --character_coverage=0.9995 \\\n",
        "            --model_type=unigram\"\n",
        "\n",
        "VOCAB_SIZE = 6578\n",
        "model_prefix = \"/content/drive/MyDrive/머신러닝/ChatBot/news_subject\"\n",
        "params = templates.format(data_file, model_prefix, VOCAB_SIZE)\n",
        "\n",
        "spm.SentencePieceTrainer.Train(params)\n",
        "sp = spm.SentencePieceProcessor()\n",
        "sp.Load(model_prefix + '.model')\n",
        "\n",
        "with open(model_prefix + '.vocab', encoding='utf-8') as f:\n",
        "    vocab = [doc.strip().split('\\t') for doc in f]\n",
        "\n",
        "word2idx = {k:v for v, [k, _] in enumerate(vocab)}\n"
      ],
      "execution_count": 41,
      "outputs": []
    },
    {
      "cell_type": "code",
      "metadata": {
        "id": "JTOMkNKOBRMb"
      },
      "source": [
        "# string으로 조회\n",
        "sentence = subjects[1]\n",
        "enc = sp.encode_as_pieces(sentence)\n",
        "dec = sp.decode_pieces(enc)\n"
      ],
      "execution_count": 42,
      "outputs": []
    },
    {
      "cell_type": "code",
      "metadata": {
        "colab": {
          "base_uri": "https://localhost:8080/"
        },
        "id": "OWclNlHuBkNN",
        "outputId": "1d7b4745-b679-4bd0-e04d-4c102c4ef441"
      },
      "source": [
        "# word index로 조회\n",
        "# idx = sp.encode_as_ids(sentence)\n",
        "# dec = sp.decode_ids(idx)\n",
        "print('\\n    문장:', sentence)\n",
        "print('Subwords:', enc)\n",
        "print('    복원:', dec)"
      ],
      "execution_count": 43,
      "outputs": [
        {
          "output_type": "stream",
          "text": [
            "\n",
            "    문장: amusing atheists and agnostics\n",
            "Subwords: ['▁am', 'using', '▁atheists', '▁and', '▁agnostic', 's']\n",
            "    복원: amusing atheists and agnostics\n"
          ],
          "name": "stdout"
        }
      ]
    },
    {
      "cell_type": "code",
      "metadata": {
        "id": "EQY8qMdkBllz"
      },
      "source": [
        "# word index로 변환한다.\n",
        "subject_idx = [sp.encode_as_ids(s) for s in subjects]"
      ],
      "execution_count": 44,
      "outputs": []
    },
    {
      "cell_type": "code",
      "metadata": {
        "colab": {
          "base_uri": "https://localhost:8080/",
          "height": 437
        },
        "id": "d-m_lKimBpc8",
        "outputId": "36893b16-6484-4e9b-8d6d-227d041ab390"
      },
      "source": [
        "# subject을 길이 분포를 확인한다.\n",
        "n_len = [len(sub) for sub in subject_idx]\n",
        "\n",
        "print('평균 =', np.mean(n_len))\n",
        "print('최소 =', np.min(n_len))\n",
        "print('최대 =', np.max(n_len))\n",
        "print('중앙값 =', np.median(n_len))\n",
        "\n",
        "sns.displot(n_len)\n",
        "plt.show()"
      ],
      "execution_count": 47,
      "outputs": [
        {
          "output_type": "stream",
          "text": [
            "평균 = 7.85973130634612\n",
            "최소 = 1\n",
            "최대 = 61\n",
            "중앙값 = 7.0\n"
          ],
          "name": "stdout"
        },
        {
          "output_type": "display_data",
          "data": {
            "image/png": "[encoded data removed]",
            "text/plain": [
              "<Figure size 360x360 with 1 Axes>"
            ]
          },
          "metadata": {
            "tags": [],
            "needs_background": "light"
          }
        }
      ]
    },
    {
      "cell_type": "code",
      "metadata": {
        "colab": {
          "base_uri": "https://localhost:8080/"
        },
        "id": "8yAZOJ2YBq1N",
        "outputId": "ddff6348-5d28-4a6c-a132-4b599ba32de7"
      },
      "source": [
        "# 문장 길이를 맞추고, 학습 데이터를 생성한다.\n",
        "x_data = pad_sequences(subject_idx, maxlen=15, padding='post', truncating='post')\n",
        "y_data = topic\n",
        "\n",
        "# 학습 데이터와 시험데이터로 분리한다.\n",
        "x_train, x_test, y_train, y_test = train_test_split(x_data, y_data, test_size=0.2)\n",
        "y_train = np.array(y_train).reshape(-1, 1)\n",
        "y_test = np.array(y_test).reshape(-1, 1)\n",
        "\n",
        "x_train.shape, y_train.shape, x_test.shape, y_test.shape"
      ],
      "execution_count": 56,
      "outputs": [
        {
          "output_type": "execute_result",
          "data": {
            "text/plain": [
              "((9051, 15), (9051, 1), (2263, 15), (2263, 1))"
            ]
          },
          "metadata": {
            "tags": []
          },
          "execution_count": 56
        }
      ]
    },
    {
      "cell_type": "code",
      "metadata": {
        "colab": {
          "base_uri": "https://localhost:8080/"
        },
        "id": "kRgQOi7MBt9Q",
        "outputId": "4c119083-6b6a-4ab0-c3b0-767e2a146323"
      },
      "source": [
        "# LSTM 모델을 생성한다.\n",
        "EMB_SIZE = 32\n",
        "VOCAB_SIZE = len(word2idx) + 1\n",
        "x_input = Input(batch_shape = (None, x_train.shape[1]))\n",
        "x_embed = Embedding(input_dim=VOCAB_SIZE, output_dim=EMB_SIZE)(x_input)\n",
        "x_embed = Dropout(0.5)(x_embed)\n",
        "x_lstm = LSTM(64, dropout=0.5)(x_embed)\n",
        "y_output = Dense(n_topic, activation = 'softmax')(x_lstm)\n",
        "\n",
        "model = Model(x_input, y_output)     # 학습, 예측용 모델\n",
        "model.compile(loss='sparse_categorical_crossentropy', optimizer=optimizers.Adam(learning_rate=0.005))\n",
        "model.summary()\n"
      ],
      "execution_count": 57,
      "outputs": [
        {
          "output_type": "stream",
          "text": [
            "Model: \"model_3\"\n",
            "_________________________________________________________________\n",
            "Layer (type)                 Output Shape              Param #   \n",
            "=================================================================\n",
            "input_4 (InputLayer)         [(None, 15)]              0         \n",
            "_________________________________________________________________\n",
            "embedding_3 (Embedding)      (None, 15, 32)            210528    \n",
            "_________________________________________________________________\n",
            "dropout_3 (Dropout)          (None, 15, 32)            0         \n",
            "_________________________________________________________________\n",
            "lstm_3 (LSTM)                (None, 64)                24832     \n",
            "_________________________________________________________________\n",
            "dense_3 (Dense)              (None, 20)                1300      \n",
            "=================================================================\n",
            "Total params: 236,660\n",
            "Trainable params: 236,660\n",
            "Non-trainable params: 0\n",
            "_________________________________________________________________\n"
          ],
          "name": "stdout"
        }
      ]
    },
    {
      "cell_type": "code",
      "metadata": {
        "colab": {
          "base_uri": "https://localhost:8080/"
        },
        "id": "cDNSTMsaBvyq",
        "outputId": "4d238f71-24e3-4815-8a38-d7823f0019a6"
      },
      "source": [
        "# 모델을 학습한다.\n",
        "hist = model.fit(x_train, y_train, validation_data = (x_test, y_test), batch_size = 512, epochs = 50)"
      ],
      "execution_count": 58,
      "outputs": [
        {
          "output_type": "stream",
          "text": [
            "Epoch 1/50\n",
            "18/18 [==============================] - 5s 135ms/step - loss: 2.9467 - val_loss: 2.7291\n",
            "Epoch 2/50\n",
            "18/18 [==============================] - 2s 101ms/step - loss: 2.5692 - val_loss: 2.2788\n",
            "Epoch 3/50\n",
            "18/18 [==============================] - 2s 101ms/step - loss: 2.1510 - val_loss: 1.8447\n",
            "Epoch 4/50\n",
            "18/18 [==============================] - 2s 101ms/step - loss: 1.7765 - val_loss: 1.5646\n",
            "Epoch 5/50\n",
            "18/18 [==============================] - 2s 98ms/step - loss: 1.5494 - val_loss: 1.4124\n",
            "Epoch 6/50\n",
            "18/18 [==============================] - 2s 97ms/step - loss: 1.4097 - val_loss: 1.3095\n",
            "Epoch 7/50\n",
            "18/18 [==============================] - 2s 98ms/step - loss: 1.2884 - val_loss: 1.2162\n",
            "Epoch 8/50\n",
            "18/18 [==============================] - 2s 93ms/step - loss: 1.1819 - val_loss: 1.1841\n",
            "Epoch 9/50\n",
            "18/18 [==============================] - 2s 95ms/step - loss: 1.1150 - val_loss: 1.0791\n",
            "Epoch 10/50\n",
            "18/18 [==============================] - 2s 95ms/step - loss: 1.0441 - val_loss: 1.0515\n",
            "Epoch 11/50\n",
            "18/18 [==============================] - 2s 93ms/step - loss: 0.9966 - val_loss: 1.0324\n",
            "Epoch 12/50\n",
            "18/18 [==============================] - 2s 96ms/step - loss: 0.9604 - val_loss: 0.9821\n",
            "Epoch 13/50\n",
            "18/18 [==============================] - 2s 93ms/step - loss: 0.8673 - val_loss: 0.9232\n",
            "Epoch 14/50\n",
            "18/18 [==============================] - 2s 95ms/step - loss: 0.8044 - val_loss: 0.8859\n",
            "Epoch 15/50\n",
            "18/18 [==============================] - 2s 97ms/step - loss: 0.7727 - val_loss: 0.8721\n",
            "Epoch 16/50\n",
            "18/18 [==============================] - 2s 93ms/step - loss: 0.7278 - val_loss: 0.8700\n",
            "Epoch 17/50\n",
            "18/18 [==============================] - 2s 94ms/step - loss: 0.7053 - val_loss: 0.8297\n",
            "Epoch 18/50\n",
            "18/18 [==============================] - 2s 95ms/step - loss: 0.6544 - val_loss: 0.8148\n",
            "Epoch 19/50\n",
            "18/18 [==============================] - 2s 94ms/step - loss: 0.6181 - val_loss: 0.8147\n",
            "Epoch 20/50\n",
            "18/18 [==============================] - 2s 94ms/step - loss: 0.5943 - val_loss: 0.8140\n",
            "Epoch 21/50\n",
            "18/18 [==============================] - 2s 96ms/step - loss: 0.5803 - val_loss: 0.7917\n",
            "Epoch 22/50\n",
            "18/18 [==============================] - 2s 93ms/step - loss: 0.5523 - val_loss: 0.7780\n",
            "Epoch 23/50\n",
            "18/18 [==============================] - 2s 93ms/step - loss: 0.5475 - val_loss: 0.7878\n",
            "Epoch 24/50\n",
            "18/18 [==============================] - 2s 96ms/step - loss: 0.5274 - val_loss: 0.7850\n",
            "Epoch 25/50\n",
            "18/18 [==============================] - 2s 92ms/step - loss: 0.5191 - val_loss: 0.7924\n",
            "Epoch 26/50\n",
            "18/18 [==============================] - 2s 92ms/step - loss: 0.4919 - val_loss: 0.7998\n",
            "Epoch 27/50\n",
            "18/18 [==============================] - 2s 96ms/step - loss: 0.4812 - val_loss: 0.7913\n",
            "Epoch 28/50\n",
            "18/18 [==============================] - 2s 94ms/step - loss: 0.4450 - val_loss: 0.7707\n",
            "Epoch 29/50\n",
            "18/18 [==============================] - 2s 96ms/step - loss: 0.4505 - val_loss: 0.7786\n",
            "Epoch 30/50\n",
            "18/18 [==============================] - 2s 97ms/step - loss: 0.4296 - val_loss: 0.7986\n",
            "Epoch 31/50\n",
            "18/18 [==============================] - 2s 93ms/step - loss: 0.4253 - val_loss: 0.7579\n",
            "Epoch 32/50\n",
            "18/18 [==============================] - 2s 93ms/step - loss: 0.4019 - val_loss: 0.8105\n",
            "Epoch 33/50\n",
            "18/18 [==============================] - 2s 95ms/step - loss: 0.3978 - val_loss: 0.8171\n",
            "Epoch 34/50\n",
            "18/18 [==============================] - 2s 93ms/step - loss: 0.4113 - val_loss: 0.7864\n",
            "Epoch 35/50\n",
            "18/18 [==============================] - 2s 94ms/step - loss: 0.3958 - val_loss: 0.7902\n",
            "Epoch 36/50\n",
            "18/18 [==============================] - 2s 94ms/step - loss: 0.3882 - val_loss: 0.7901\n",
            "Epoch 37/50\n",
            "18/18 [==============================] - 2s 93ms/step - loss: 0.3687 - val_loss: 0.8133\n",
            "Epoch 38/50\n",
            "18/18 [==============================] - 2s 93ms/step - loss: 0.3516 - val_loss: 0.7991\n",
            "Epoch 39/50\n",
            "18/18 [==============================] - 2s 96ms/step - loss: 0.3427 - val_loss: 0.8198\n",
            "Epoch 40/50\n",
            "18/18 [==============================] - 2s 95ms/step - loss: 0.3475 - val_loss: 0.7975\n",
            "Epoch 41/50\n",
            "18/18 [==============================] - 2s 93ms/step - loss: 0.3366 - val_loss: 0.8346\n",
            "Epoch 42/50\n",
            "18/18 [==============================] - 2s 96ms/step - loss: 0.3247 - val_loss: 0.7944\n",
            "Epoch 43/50\n",
            "18/18 [==============================] - 2s 95ms/step - loss: 0.3352 - val_loss: 0.8123\n",
            "Epoch 44/50\n",
            "18/18 [==============================] - 2s 91ms/step - loss: 0.3363 - val_loss: 0.7884\n",
            "Epoch 45/50\n",
            "18/18 [==============================] - 2s 97ms/step - loss: 0.3116 - val_loss: 0.8068\n",
            "Epoch 46/50\n",
            "18/18 [==============================] - 2s 94ms/step - loss: 0.2954 - val_loss: 0.8110\n",
            "Epoch 47/50\n",
            "18/18 [==============================] - 2s 93ms/step - loss: 0.3030 - val_loss: 0.7967\n",
            "Epoch 48/50\n",
            "18/18 [==============================] - 2s 94ms/step - loss: 0.3040 - val_loss: 0.8190\n",
            "Epoch 49/50\n",
            "18/18 [==============================] - 2s 94ms/step - loss: 0.2967 - val_loss: 0.8148\n",
            "Epoch 50/50\n",
            "18/18 [==============================] - 2s 93ms/step - loss: 0.2968 - val_loss: 0.8301\n"
          ],
          "name": "stdout"
        }
      ]
    },
    {
      "cell_type": "code",
      "metadata": {
        "colab": {
          "base_uri": "https://localhost:8080/",
          "height": 295
        },
        "id": "gnOIQD0GBxtX",
        "outputId": "a1e1538c-b56f-4d44-b7c0-fd7c10bec7f7"
      },
      "source": [
        "# Loss history를 그린다\n",
        "plt.plot(hist.history['loss'], label='Train loss')\n",
        "plt.plot(hist.history['val_loss'], label = 'Test loss')\n",
        "plt.legend()\n",
        "plt.title(\"Loss history\")\n",
        "plt.xlabel(\"epoch\")\n",
        "plt.ylabel(\"loss\")\n",
        "plt.show()"
      ],
      "execution_count": 59,
      "outputs": [
        {
          "output_type": "display_data",
          "data": {
            "image/png": "[encoded data removed]",
            "text/plain": [
              "<Figure size 432x288 with 1 Axes>"
            ]
          },
          "metadata": {
            "tags": [],
            "needs_background": "light"
          }
        }
      ]
    },
    {
      "cell_type": "code",
      "metadata": {
        "colab": {
          "base_uri": "https://localhost:8080/"
        },
        "id": "plPllCBmBzNr",
        "outputId": "9ad8d4e5-605f-4a68-ed5b-e4d590128c62"
      },
      "source": [
        "# 시험 데이터로 학습 성능을 평가한다\n",
        "pred = model.predict(x_test)\n",
        "y_pred = np.argmax(pred, axis=1).reshape(-1, 1)\n",
        "accuracy = (y_pred == y_test).mean()\n",
        "print(\"\\nAccuracy = %.2f %s\" % (accuracy * 100, '%'))"
      ],
      "execution_count": 60,
      "outputs": [
        {
          "output_type": "stream",
          "text": [
            "\n",
            "Accuracy = 82.90 %\n"
          ],
          "name": "stdout"
        }
      ]
    }
  ]
}