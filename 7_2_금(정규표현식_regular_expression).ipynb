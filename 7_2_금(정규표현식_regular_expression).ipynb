{
  "nbformat": 4,
  "nbformat_minor": 0,
  "metadata": {
    "colab": {
      "name": "7/2 금(정규표현식/regular_expression).ipynb",
      "provenance": [],
      "collapsed_sections": [],
      "authorship_tag": "ABX9TyNs4rGhH0RPFEMxu3/9xrzp",
      "include_colab_link": true
    },
    "kernelspec": {
      "name": "python3",
      "display_name": "Python 3"
    },
    "language_info": {
      "name": "python"
    }
  },
  "cells": [
    {
      "cell_type": "markdown",
      "metadata": {
        "id": "view-in-github",
        "colab_type": "text"
      },
      "source": [
        "<a href=\"https://colab.research.google.com/github/hyunicecream/Natural-Language-Processing-NLP-/blob/main/7_2_%EA%B8%88(%EC%A0%95%EA%B7%9C%ED%91%9C%ED%98%84%EC%8B%9D_regular_expression).ipynb\" target=\"_parent\"><img src=\"https://colab.research.google.com/assets/colab-badge.svg\" alt=\"Open In Colab\"/></a>"
      ]
    },
    {
      "cell_type": "code",
      "metadata": {
        "colab": {
          "base_uri": "https://localhost:8080/"
        },
        "id": "gFCUW7WW61dD",
        "outputId": "9e002f26-f221-49f0-c065-7dacb4cfffed"
      },
      "source": [
        "# Regular Expression 연습\n",
        "import nltk\n",
        "import re\n",
        "nltk.download('words')\n",
        "nltk.download('nps_chat')\n",
        "nltk.download('treebank')\n",
        "\n",
        "# 영어 단어 목록\n",
        "wordlist = [w for w in nltk.corpus.words.words('en') if w.islower()]\n",
        "len(wordlist)\n",
        "\n",
        "# ed로 끝나는 단어\n",
        "# $ 끝을 표시\n",
        "# Regular Expression : 정규 표현식\n",
        "# 패턴 매치\n",
        "# search : match or not\n",
        "# sub : 치환\n",
        "# find : 위치를 찾을 때 쓴다. \n",
        "v = [w for w in wordlist if re.search('l{2}y$', w)]\n",
        "print(v[:20])s"
      ],
      "execution_count": null,
      "outputs": [
        {
          "output_type": "stream",
          "text": [
            "['abactinally', 'abdominally', 'abiogenetically', 'abiologically', 'ableptically', 'abnormally', 'aborally', 'aboriginally', 'absolutistically', 'abusefully', 'abysmally', 'academically', 'accentually', 'accidentally', 'accusatorially', 'acetometrically', 'achromatically', 'acidimetrically', 'acoustically', 'acrobatically']\n"
          ],
          "name": "stdout"
        }
      ]
    },
    {
      "cell_type": "code",
      "metadata": {
        "colab": {
          "base_uri": "https://localhost:8080/"
        },
        "id": "KMKDKwok_kai",
        "outputId": "c1938b7d-83af-4ac1-973f-c7680343cb7c"
      },
      "source": [
        "# 아무 2문자가 오고 3번째 문자는 j이어야 하고 ~~~\n",
        "v = [w for w in wordlist if re.search('^..j..t..$', w)]\n",
        "print(v[:20])\n"
      ],
      "execution_count": null,
      "outputs": [
        {
          "output_type": "stream",
          "text": [
            "['abjectly', 'adjuster', 'dejected', 'dejectly', 'injector', 'majestic', 'objectee', 'objector', 'rejecter', 'rejector', 'unjilted', 'unjolted', 'unjustly']\n"
          ],
          "name": "stdout"
        }
      ]
    },
    {
      "cell_type": "code",
      "metadata": {
        "colab": {
          "base_uri": "https://localhost:8080/"
        },
        "id": "qB87UdhUur6F",
        "outputId": "225fae6a-1da3-4ed1-f751-0a62b0740efe"
      },
      "source": [
        "# 전화기 문자판 (textonyms)\n",
        "v = [w for w in wordlist if re.search('^[ghi][mno][jlk][def]$', w)]\n",
        "print(v[:20])"
      ],
      "execution_count": null,
      "outputs": [
        {
          "output_type": "stream",
          "text": [
            "['gold', 'golf', 'hold', 'hole']\n"
          ],
          "name": "stdout"
        }
      ]
    },
    {
      "cell_type": "code",
      "metadata": {
        "colab": {
          "base_uri": "https://localhost:8080/"
        },
        "id": "eFD8M51DutzU",
        "outputId": "8f8c7136-5446-4cf5-8174-c392a182852d"
      },
      "source": [
        "# NPS Chat corpus\n",
        "# + 1 개 이상 반복\n",
        "# * 0개 이상 반복\n",
        "chat_words = sorted(set(w for w in nltk.corpus.nps_chat.words()))\n",
        "v = [w for w in chat_words if re.search('^m+i+n+e+$', w)]\n",
        "print(v[:20])"
      ],
      "execution_count": null,
      "outputs": [
        {
          "output_type": "stream",
          "text": [
            "['miiiiiiiiiiiiinnnnnnnnnnneeeeeeeeee', 'miiiiiinnnnnnnnnneeeeeeee', 'mine', 'mmmmmmmmiiiiiiiiinnnnnnnnneeeeeeee']\n"
          ],
          "name": "stdout"
        }
      ]
    },
    {
      "cell_type": "code",
      "metadata": {
        "colab": {
          "base_uri": "https://localhost:8080/"
        },
        "id": "MCmz5K_4uuq0",
        "outputId": "36e8b4fb-4d2f-430a-d1ba-24932b716a87"
      },
      "source": [
        "v= [w for w in chat_words if re.search('^[ha]+$', w)]\n",
        "print(v[:20])\n"
      ],
      "execution_count": null,
      "outputs": [
        {
          "output_type": "stream",
          "text": [
            "['a', 'aaaaaaaaaaaaaaaaa', 'aaahhhh', 'ah', 'ahah', 'ahahah', 'ahh', 'ahhahahaha', 'ahhh', 'ahhhh', 'ahhhhhh', 'ahhhhhhhhhhhhhh', 'h', 'ha', 'haaa', 'hah', 'haha', 'hahaaa', 'hahah', 'hahaha']\n"
          ],
          "name": "stdout"
        }
      ]
    },
    {
      "cell_type": "code",
      "metadata": {
        "colab": {
          "base_uri": "https://localhost:8080/"
        },
        "id": "9ETVZHyovbgP",
        "outputId": "5e0eceeb-dfde-4a31-9db6-042cfd8c10f2"
      },
      "source": [
        "# Penn Treebank corpus\n",
        "wsj = set(nltk.corpus.treebank.words())\n",
        "v = [w for w in wsj if re.search('^[0-9]+\\.[0-9]+$', w)]\n",
        "print(v[:30])"
      ],
      "execution_count": null,
      "outputs": [
        {
          "output_type": "stream",
          "text": [
            "['3.16', '55.1', '4.898', '62.625', '234.4', '3.375', '12.7', '0.1', '126.1', '16.09', '130.7', '23.72', '13.1', '8.75', '12.82', '2.1', '66.5', '4.10', '273.5', '1.5', '434.4', '1.7', '3648.82', '6.6', '28.5', '28.53', '1.9', '116.3', '14.6', '19.95']\n"
          ],
          "name": "stdout"
        }
      ]
    },
    {
      "cell_type": "code",
      "metadata": {
        "colab": {
          "base_uri": "https://localhost:8080/"
        },
        "id": "qIWJ1izWvvl6",
        "outputId": "e710f5d7-39c6-4e55-f073-e00f7b42ae00"
      },
      "source": [
        "v = [w for w in wsj if re.search('^[A-Z]+\\$$', w)] \n",
        "print(v[:20])"
      ],
      "execution_count": null,
      "outputs": [
        {
          "output_type": "stream",
          "text": [
            "['US$', 'C$']\n"
          ],
          "name": "stdout"
        }
      ]
    },
    {
      "cell_type": "code",
      "metadata": {
        "colab": {
          "base_uri": "https://localhost:8080/"
        },
        "id": "KIhecsQqwCXl",
        "outputId": "dcd03733-f4e5-4657-ee95-b5ee98843adc"
      },
      "source": [
        "v = [w for w in wsj if re.search('^[0-9]{4}$', w)]\n",
        "print(v[:20])"
      ],
      "execution_count": null,
      "outputs": [
        {
          "output_type": "stream",
          "text": [
            "['1961', '1903', '1956', '1967', '1994', '2019', '1985', '2009', '8300', '1971', '2005', '2000', '1953', '1989', '1614', '1986', '2029', '1976', '3057', '1973']\n"
          ],
          "name": "stdout"
        }
      ]
    },
    {
      "cell_type": "code",
      "metadata": {
        "colab": {
          "base_uri": "https://localhost:8080/"
        },
        "id": "eUJLIcQ3wR-t",
        "outputId": "1aea3e36-f110-437a-aba0-45560ba5a21e"
      },
      "source": [
        "v = [w for w in wsj if re.search('^[0-9]+-[a-z]{3,5}$', w)]\n",
        "print(v[:20])"
      ],
      "execution_count": null,
      "outputs": [
        {
          "output_type": "stream",
          "text": [
            "['12-point', '84-month', '14-hour', '190-point', '15-day', '30-point', '12-year', '30-year', '36-store', '300-day', '10-day', '42-year', '10-lap', '90-day', '100-share', '21-month', '27-year', '20-point', '52-week', '240-page']\n"
          ],
          "name": "stdout"
        }
      ]
    },
    {
      "cell_type": "code",
      "metadata": {
        "colab": {
          "base_uri": "https://localhost:8080/"
        },
        "id": "-mVUwLlhwffi",
        "outputId": "4808c0d3-3b34-480c-8633-a27aa803e912"
      },
      "source": [
        "v = [w for w in wsj if re.search('^[a-z]{5,}-[a-z]{2,3}-[a-z]{,6}$', w)]\n",
        "print(v[:20])"
      ],
      "execution_count": null,
      "outputs": [
        {
          "output_type": "stream",
          "text": [
            "['bread-and-butter', 'father-in-law', 'savings-and-loan', 'machine-gun-toting', 'black-and-white']\n"
          ],
          "name": "stdout"
        }
      ]
    },
    {
      "cell_type": "code",
      "metadata": {
        "colab": {
          "base_uri": "https://localhost:8080/"
        },
        "id": "M8Amk8jYwlyF",
        "outputId": "5ac68bf9-dc8e-4eda-ad4e-114fd5442c86"
      },
      "source": [
        "def accept(w):\n",
        "    state = 0\n",
        "    for c in w:\n",
        "        if state == 0:\n",
        "            if c == 'e':\n",
        "                state = 1\n",
        "        elif state == 1:\n",
        "            if c == 'd':\n",
        "                state = 2\n",
        "        elif state == 2:\n",
        "            state = 0\n",
        "    return state == 2\n",
        "\n",
        "v = [w for w in wordlist if accept(w)]\n",
        "print(v[:20])"
      ],
      "execution_count": null,
      "outputs": [
        {
          "output_type": "stream",
          "text": [
            "['abaissed', 'abandoned', 'abased', 'abashed', 'abatised', 'abed', 'aborted', 'aboveboard', 'aboveground', 'abridged', 'abscessed', 'absconded', 'absorbed', 'abstracted', 'abstricted', 'acalephoid', 'accelerated', 'accend', 'accepted', 'accidented']\n"
          ],
          "name": "stdout"
        }
      ]
    }
  ]
}