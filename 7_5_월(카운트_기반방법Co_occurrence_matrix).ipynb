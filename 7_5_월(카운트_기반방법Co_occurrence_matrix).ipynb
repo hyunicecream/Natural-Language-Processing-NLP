{
  "nbformat": 4,
  "nbformat_minor": 0,
  "metadata": {
    "colab": {
      "name": "7/5 월(카운트 기반방법Co-occurrence matrix).ipynb",
      "provenance": [],
      "collapsed_sections": [],
      "mount_file_id": "1yqeKQhSsETGJnMjwHCJgR6ly7uddqfec",
      "authorship_tag": "ABX9TyMfoNhYBoNP20xZxntilXiq",
      "include_colab_link": true
    },
    "kernelspec": {
      "name": "python3",
      "display_name": "Python 3"
    },
    "language_info": {
      "name": "python"
    }
  },
  "cells": [
    {
      "cell_type": "markdown",
      "metadata": {
        "id": "view-in-github",
        "colab_type": "text"
      },
      "source": [
        "<a href=\"https://colab.research.google.com/github/hyunicecream/Natural-Language-Processing-NLP-/blob/main/7_5_%EC%9B%94(%EC%B9%B4%EC%9A%B4%ED%8A%B8_%EA%B8%B0%EB%B0%98%EB%B0%A9%EB%B2%95Co_occurrence_matrix).ipynb\" target=\"_parent\"><img src=\"https://colab.research.google.com/assets/colab-badge.svg\" alt=\"Open In Colab\"/></a>"
      ]
    },
    {
      "cell_type": "code",
      "metadata": {
        "id": "_hyz9EEMEdbv"
      },
      "source": [
        "from sklearn.feature_extraction.text import CountVectorizer\n",
        "import numpy as np\n",
        "\n",
        "docs = ['성진과 창욱은 야구장에 갔다',\n",
        "        '성진과 태균은 도서관에 갔다',\n",
        "        '성진과 창욱은 공부를 좋아한다']\n",
        "\n",
        "\n",
        "count_model = CountVectorizer(ngram_range=(1,1))\n",
        "x = count_model.fit_transform(docs)"
      ],
      "execution_count": 18,
      "outputs": []
    },
    {
      "cell_type": "code",
      "metadata": {
        "colab": {
          "base_uri": "https://localhost:8080/"
        },
        "id": "qgHgcOn1FBEM",
        "outputId": "e8ec0f60-591b-460e-c650-eaa3f7e09260"
      },
      "source": [
        "print(count_model.vocabulary_)"
      ],
      "execution_count": 19,
      "outputs": [
        {
          "output_type": "stream",
          "text": [
            "{'성진과': 3, '창욱은': 6, '야구장에': 4, '갔다': 0, '태균은': 7, '도서관에': 2, '공부를': 1, '좋아한다': 5}\n"
          ],
          "name": "stdout"
        }
      ]
    },
    {
      "cell_type": "code",
      "metadata": {
        "colab": {
          "base_uri": "https://localhost:8080/"
        },
        "id": "YrywN556Fuuq",
        "outputId": "db9997e8-0fd1-4057-f322-704717bd1a01"
      },
      "source": [
        "print(x)"
      ],
      "execution_count": 20,
      "outputs": [
        {
          "output_type": "stream",
          "text": [
            "  (0, 3)\t1\n",
            "  (0, 6)\t1\n",
            "  (0, 4)\t1\n",
            "  (0, 0)\t1\n",
            "  (1, 3)\t1\n",
            "  (1, 0)\t1\n",
            "  (1, 7)\t1\n",
            "  (1, 2)\t1\n",
            "  (2, 3)\t1\n",
            "  (2, 6)\t1\n",
            "  (2, 1)\t1\n",
            "  (2, 5)\t1\n"
          ],
          "name": "stdout"
        }
      ]
    },
    {
      "cell_type": "code",
      "metadata": {
        "colab": {
          "base_uri": "https://localhost:8080/"
        },
        "id": "4D3xIJB9FxTJ",
        "outputId": "4df58313-49fb-413e-eafc-b5797ace1b1f"
      },
      "source": [
        "print(x.toarray())\n",
        "print()\n",
        "print(x.T.toarray())"
      ],
      "execution_count": 21,
      "outputs": [
        {
          "output_type": "stream",
          "text": [
            "[[1 0 0 1 1 0 1 0]\n",
            " [1 0 1 1 0 0 0 1]\n",
            " [0 1 0 1 0 1 1 0]]\n",
            "\n",
            "[[1 1 0]\n",
            " [0 0 1]\n",
            " [0 1 0]\n",
            " [1 1 1]\n",
            " [1 0 0]\n",
            " [0 0 1]\n",
            " [1 0 1]\n",
            " [0 1 0]]\n"
          ],
          "name": "stdout"
        }
      ]
    },
    {
      "cell_type": "code",
      "metadata": {
        "colab": {
          "base_uri": "https://localhost:8080/"
        },
        "id": "96CuwJ3IHggY",
        "outputId": "38fdc2f0-71ac-4ff2-cc5e-923cb70b81ad"
      },
      "source": [
        "xc = x.T * x\n",
        "xc.setdiag(0)\n",
        "print(xc.toarray())"
      ],
      "execution_count": 23,
      "outputs": [
        {
          "output_type": "stream",
          "text": [
            "[[0 0 1 2 1 0 1 1]\n",
            " [0 0 0 1 0 1 1 0]\n",
            " [1 0 0 1 0 0 0 1]\n",
            " [2 1 1 0 1 1 2 1]\n",
            " [1 0 0 1 0 0 1 0]\n",
            " [0 1 0 1 0 0 1 0]\n",
            " [1 1 0 2 1 1 0 0]\n",
            " [1 0 1 1 0 0 0 0]]\n"
          ],
          "name": "stdout"
        }
      ]
    },
    {
      "cell_type": "code",
      "metadata": {
        "colab": {
          "base_uri": "https://localhost:8080/"
        },
        "id": "AM6ROaKIHo2b",
        "outputId": "62a127f4-c392-4729-9f93-5b0397ff0aa1"
      },
      "source": [
        "count_model = CountVectorizer(ngram_range=(1,2))\n",
        "x = count_model.fit_transform(docs)\n",
        "print(count_model.vocabulary_)s"
      ],
      "execution_count": 25,
      "outputs": [
        {
          "output_type": "stream",
          "text": [
            "{'성진과': 5, '창욱은': 11, '야구장에': 8, '갔다': 0, '성진과 창욱은': 6, '창욱은 야구장에': 13, '야구장에 갔다': 9, '태균은': 14, '도서관에': 3, '성진과 태균은': 7, '태균은 도서관에': 15, '도서관에 갔다': 4, '공부를': 1, '좋아한다': 10, '창욱은 공부를': 12, '공부를 좋아한다': 2}\n"
          ],
          "name": "stdout"
        }
      ]
    },
    {
      "cell_type": "code",
      "metadata": {
        "colab": {
          "base_uri": "https://localhost:8080/"
        },
        "id": "-EOXC2NFIG-s",
        "outputId": "78da3d6b-3cae-4373-c286-b89f02d2190c"
      },
      "source": [
        "xc = x.T * x \n",
        "xc.setdiag(0) \n",
        "print(xc.toarray())"
      ],
      "execution_count": 27,
      "outputs": [
        {
          "output_type": "stream",
          "text": [
            "[[0 0 0 1 1 2 1 1 1 1 0 1 0 1 1 1]\n",
            " [0 0 1 0 0 1 1 0 0 0 1 1 1 0 0 0]\n",
            " [0 1 0 0 0 1 1 0 0 0 1 1 1 0 0 0]\n",
            " [1 0 0 0 1 1 0 1 0 0 0 0 0 0 1 1]\n",
            " [1 0 0 1 0 1 0 1 0 0 0 0 0 0 1 1]\n",
            " [2 1 1 1 1 0 2 1 1 1 1 2 1 1 1 1]\n",
            " [1 1 1 0 0 2 0 0 1 1 1 2 1 1 0 0]\n",
            " [1 0 0 1 1 1 0 0 0 0 0 0 0 0 1 1]\n",
            " [1 0 0 0 0 1 1 0 0 1 0 1 0 1 0 0]\n",
            " [1 0 0 0 0 1 1 0 1 0 0 1 0 1 0 0]\n",
            " [0 1 1 0 0 1 1 0 0 0 0 1 1 0 0 0]\n",
            " [1 1 1 0 0 2 2 0 1 1 1 0 1 1 0 0]\n",
            " [0 1 1 0 0 1 1 0 0 0 1 1 0 0 0 0]\n",
            " [1 0 0 0 0 1 1 0 1 1 0 1 0 0 0 0]\n",
            " [1 0 0 1 1 1 0 1 0 0 0 0 0 0 0 1]\n",
            " [1 0 0 1 1 1 0 1 0 0 0 0 0 0 1 0]]\n"
          ],
          "name": "stdout"
        }
      ]
    }
  ]
}