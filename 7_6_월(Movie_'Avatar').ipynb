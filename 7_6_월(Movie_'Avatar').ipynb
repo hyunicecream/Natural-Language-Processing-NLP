{
  "nbformat": 4,
  "nbformat_minor": 0,
  "metadata": {
    "colab": {
      "name": "7/6 월(Movie 'Avatar').ipynb",
      "provenance": [],
      "collapsed_sections": [],
      "mount_file_id": "1Yq2KVHJ7Zuep4dJg7Hl81YLbusEkTEJe",
      "authorship_tag": "ABX9TyPPpkOPH5c5B/6f+DQMODYE",
      "include_colab_link": true
    },
    "kernelspec": {
      "name": "python3",
      "display_name": "Python 3"
    },
    "language_info": {
      "name": "python"
    }
  },
  "cells": [
    {
      "cell_type": "markdown",
      "metadata": {
        "id": "view-in-github",
        "colab_type": "text"
      },
      "source": [
        "<a href=\"https://colab.research.google.com/github/hyunicecream/Natural-Language-Processing-NLP-/blob/main/7_6_%EC%9B%94(Movie_'Avatar').ipynb\" target=\"_parent\"><img src=\"https://colab.research.google.com/assets/colab-badge.svg\" alt=\"Open In Colab\"/></a>"
      ]
    },
    {
      "cell_type": "code",
      "metadata": {
        "colab": {
          "base_uri": "https://localhost:8080/"
        },
        "id": "JLRyvmgWgIh2",
        "outputId": "64ebc4b4-ec71-4b44-f82a-4618bfbbbec4"
      },
      "source": [
        "from sklearn.feature_extraction.text import TfidfVectorizer\n",
        "import pandas as pd\n",
        "from sklearn.metrics.pairwise import cosine_similarity\n",
        "\n",
        "data = pd.read_csv('/content/drive/MyDrive/머신러닝/tmdb_5000_movies.csv')\n",
        "\n",
        "print(data['title'])\n",
        "print(data['overview'])"
      ],
      "execution_count": null,
      "outputs": [
        {
          "output_type": "stream",
          "text": [
            "0                                         Avatar\n",
            "1       Pirates of the Caribbean: At World's End\n",
            "2                                        Spectre\n",
            "3                          The Dark Knight Rises\n",
            "4                                    John Carter\n",
            "                          ...                   \n",
            "4798                                 El Mariachi\n",
            "4799                                   Newlyweds\n",
            "4800                   Signed, Sealed, Delivered\n",
            "4801                            Shanghai Calling\n",
            "4802                           My Date with Drew\n",
            "Name: title, Length: 4803, dtype: object\n",
            "0       In the 22nd century, a paraplegic Marine is di...\n",
            "1       Captain Barbossa, long believed to be dead, ha...\n",
            "2       A cryptic message from Bond’s past sends him o...\n",
            "3       Following the death of District Attorney Harve...\n",
            "4       John Carter is a war-weary, former military ca...\n",
            "                              ...                        \n",
            "4798    El Mariachi just wants to play his guitar and ...\n",
            "4799    A newlywed couple's honeymoon is upended by th...\n",
            "4800    \"Signed, Sealed, Delivered\" introduces a dedic...\n",
            "4801    When ambitious New York attorney Sam is sent t...\n",
            "4802    Ever since the second grade when he first saw ...\n",
            "Name: overview, Length: 4803, dtype: object\n"
          ],
          "name": "stdout"
        }
      ]
    },
    {
      "cell_type": "code",
      "metadata": {
        "colab": {
          "base_uri": "https://localhost:8080/"
        },
        "id": "cU2Np5fhh8dR",
        "outputId": "372ac555-7ab4-45ac-be7b-024aefaba9c2"
      },
      "source": [
        "# null 값 확인 overview = 3 개, title = 0개\n",
        "data['overview'].isnull().sum()\n",
        "data['title'].isnull().sum()"
      ],
      "execution_count": null,
      "outputs": [
        {
          "output_type": "execute_result",
          "data": {
            "text/plain": [
              "0"
            ]
          },
          "metadata": {
            "tags": []
          },
          "execution_count": 85
        }
      ]
    },
    {
      "cell_type": "code",
      "metadata": {
        "colab": {
          "base_uri": "https://localhost:8080/"
        },
        "id": "h-uGgZzgiIUL",
        "outputId": "4fd95290-1198-47a5-a1ce-e4f465e167f8"
      },
      "source": [
        "# overview의 null 값을 빈 공백으로 채워준다. \n",
        "data['overview'] = data['overview'].fillna('')\n",
        "data['overview'].isnull().sum()"
      ],
      "execution_count": null,
      "outputs": [
        {
          "output_type": "execute_result",
          "data": {
            "text/plain": [
              "0"
            ]
          },
          "metadata": {
            "tags": []
          },
          "execution_count": 86
        }
      ]
    },
    {
      "cell_type": "code",
      "metadata": {
        "colab": {
          "base_uri": "https://localhost:8080/"
        },
        "id": "aZ5vLNpWiGN5",
        "outputId": "baa1bb7d-536d-45a1-c0e0-1b5effdd844c"
      },
      "source": [
        "# overview에 대해서 tf-idf 수행\n",
        "# 벡터라이저가 단어들을 학습시킨다\n",
        "tfidf = TfidfVectorizer(stop_words='english') \n",
        "# stop_words='english' 문서에 단어장을 생성할 때 무시할 수 있는 단어를 말한다. \n",
        "tfidf_matrix = tfidf.fit_transform(data['overview'])\n",
        "tfidf.vocabulary_ # 벡터라이저가 학습된 단어를 출력한다. \n",
        "sorted(tfidf.vocabulary_.items()) # 단어사전을 정렬한다. \n",
        "print(tfidf_matrix.shape)\n",
        "# 4803개의 영화를 표현하기 위해 총 21262개의 단어가 사용되어 있음"
      ],
      "execution_count": null,
      "outputs": [
        {
          "output_type": "stream",
          "text": [
            "(4803, 20978)\n"
          ],
          "name": "stdout"
        }
      ]
    },
    {
      "cell_type": "code",
      "metadata": {
        "colab": {
          "base_uri": "https://localhost:8080/"
        },
        "id": "8yQcsGRKix9U",
        "outputId": "dd916101-fc2c-4ac4-d8c6-71046daf701f"
      },
      "source": [
        "# sklearn.metrics.pairwise의 cosine_similarity 을 통해서 기존에 만들어 놓은 tfidf_matrix를 넣으면 코사인 유사도가 계산된다. \n",
        "cosine_sim = cosine_similarity(tfidf_matrix, tfidf_matrix)\n",
        "title_list = pd.Series(data.index, index=data['title'])\n",
        "print(title_list.head())"
      ],
      "execution_count": null,
      "outputs": [
        {
          "output_type": "stream",
          "text": [
            "title\n",
            "Avatar                                      0\n",
            "Pirates of the Caribbean: At World's End    1\n",
            "Spectre                                     2\n",
            "The Dark Knight Rises                       3\n",
            "John Carter                                 4\n",
            "dtype: int64\n"
          ],
          "name": "stdout"
        }
      ]
    },
    {
      "cell_type": "code",
      "metadata": {
        "id": "dp3gtVbwjMV6"
      },
      "source": [
        "def get_recommendations(title, cosine_sim=cosine_sim):\n",
        "    # 선택한 영화의 타이틀로부터 해당되는 인덱스를 받아옵니다. 이제 선택한 영화를 가지고 연산할 수 있다.\n",
        "    idx = title_list[title]\n",
        "\n",
        "    # 모든 영화에 대해서 해당 영화와의 유사도를 구한다.\n",
        "    sim_scores = list(enumerate(cosine_sim[idx]))\n",
        "\n",
        "    # 유사도에 따라 영화들을 정렬힌디. \n",
        "    sim_scores = sorted(sim_scores, key=lambda x: x[1], reverse=True)\n",
        "\n",
        "    # 가장 유사한 10개의 영화를 받아온다.\n",
        "    sim_scores = sim_scores[1:11]\n",
        "\n",
        "    # 가장 유사한 10개의 영화의 인덱스를 받아온다.\n",
        "    movie_indices = [i[0] for i in sim_scores]\n",
        "\n",
        "    # 가장 유사한 10개의 영화의 제목을 리턴한다.\n",
        "    return data['title'].iloc[movie_indices]\n",
        "    "
      ],
      "execution_count": null,
      "outputs": []
    },
    {
      "cell_type": "code",
      "metadata": {
        "colab": {
          "base_uri": "https://localhost:8080/"
        },
        "id": "5HNlsrzMjOtB",
        "outputId": "af98fd63-ea8f-431c-a6dd-3027826910f7"
      },
      "source": [
        "get_recommendations('Avatar')"
      ],
      "execution_count": null,
      "outputs": [
        {
          "output_type": "execute_result",
          "data": {
            "text/plain": [
              "3604                       Apollo 18\n",
              "2130                    The American\n",
              "634                       The Matrix\n",
              "1341            The Inhabited Island\n",
              "529                 Tears of the Sun\n",
              "1610                           Hanna\n",
              "311     The Adventures of Pluto Nash\n",
              "847                         Semi-Pro\n",
              "775                        Supernova\n",
              "2628             Blood and Chocolate\n",
              "Name: title, dtype: object"
            ]
          },
          "metadata": {
            "tags": []
          },
          "execution_count": 91
        }
      ]
    }
  ]
}