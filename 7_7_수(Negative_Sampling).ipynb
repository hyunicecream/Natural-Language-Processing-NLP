{
  "nbformat": 4,
  "nbformat_minor": 0,
  "metadata": {
    "colab": {
      "name": "7/7 수(Negative Sampling).ipynb",
      "provenance": [],
      "collapsed_sections": [],
      "machine_shape": "hm",
      "authorship_tag": "ABX9TyPrPzRC6z9689eZaeVTdVsW",
      "include_colab_link": true
    },
    "kernelspec": {
      "name": "python3",
      "display_name": "Python 3"
    },
    "language_info": {
      "name": "python"
    },
    "accelerator": "GPU"
  },
  "cells": [
    {
      "cell_type": "markdown",
      "metadata": {
        "id": "view-in-github",
        "colab_type": "text"
      },
      "source": [
        "<a href=\"https://colab.research.google.com/github/hyunicecream/Natural-Language-Processing-NLP-/blob/main/7_7_%EC%88%98(Negative_Sampling).ipynb\" target=\"_parent\"><img src=\"https://colab.research.google.com/assets/colab-badge.svg\" alt=\"Open In Colab\"/></a>"
      ]
    },
    {
      "cell_type": "code",
      "metadata": {
        "colab": {
          "base_uri": "https://localhost:8080/"
        },
        "id": "Dt19mZbVI4ih",
        "outputId": "5f4d7d49-f33f-4e5e-9ea7-bab832b098c5"
      },
      "source": [
        "import numpy as np\n",
        "import nltk\n",
        "from tensorflow.keras.preprocessing.text import Tokenizer\n",
        "from nltk.stem import LancasterStemmer\n",
        "from tensorflow.keras.layers import Input, Embedding, Dense, Dot, Activation, Flatten\n",
        "from tensorflow.keras.models import Model\n",
        "from sklearn.metrics.pairwise import cosine_similarity\n",
        "from tensorflow.keras.optimizers import Adam\n",
        "import tensorflow.keras.backend as K\n",
        "\n",
        "nltk.download('punkt')\n",
        "nltk.download('gutenberg')\n",
        "\n",
        "# 영문 소설 10개 불러오기\n",
        "n = 10\n",
        "stemmer = LancasterStemmer()\n",
        "sent_stem = []\n",
        "for i, text_id in enumerate(nltk.corpus.gutenberg.fileids()[:n]):\n",
        "    text = nltk.corpus.gutenberg.raw(text_id)\n",
        "    sentences = nltk.sent_tokenize(text)\n",
        "\n",
        "    # 각 단어에 Lancaster stemmer를 적용한다.\n",
        "    for sentence in sentences:\n",
        "        word_tok = nltk.word_tokenize(sentence)\n",
        "        stem = [stemmer.stem(word) for word in word_tok]\n",
        "        sent_stem.append(stem)\n",
        "    print('{}: {} ----- processed.'.format(i+1, text_id))\n",
        "\n",
        "print(\"총 문장 개수 =\", len(sent_stem))\n",
        "print(sent_stem[0])\n"
      ],
      "execution_count": null,
      "outputs": [
        {
          "output_type": "stream",
          "text": [
            "[nltk_data] Downloading package punkt to /root/nltk_data...\n",
            "[nltk_data]   Unzipping tokenizers/punkt.zip.\n",
            "[nltk_data] Downloading package gutenberg to /root/nltk_data...\n",
            "[nltk_data]   Unzipping corpora/gutenberg.zip.\n",
            "1: austen-emma.txt ----- processed.\n",
            "2: austen-persuasion.txt ----- processed.\n",
            "3: austen-sense.txt ----- processed.\n",
            "4: bible-kjv.txt ----- processed.\n",
            "5: blake-poems.txt ----- processed.\n",
            "6: bryant-stories.txt ----- processed.\n",
            "7: burgess-busterbrown.txt ----- processed.\n",
            "8: carroll-alice.txt ----- processed.\n",
            "9: chesterton-ball.txt ----- processed.\n",
            "10: chesterton-brown.txt ----- processed.\n",
            "총 문장 개수 = 59824\n",
            "['[', 'emm', 'by', 'jan', 'aust', '1816', ']', 'volum', 'i', 'chapt', 'i', 'emm', 'woodh', ',', 'handsom', ',', 'clev', ',', 'and', 'rich', ',', 'with', 'a', 'comfort', 'hom', 'and', 'happy', 'disposit', ',', 'seem', 'to', 'unit', 'som', 'of', 'the', 'best', 'bless', 'of', 'ex', ';', 'and', 'had', 'liv', 'near', 'twenty-one', 'year', 'in', 'the', 'world', 'with', 'very', 'littl', 'to', 'distress', 'or', 'vex', 'her', '.']\n"
          ],
          "name": "stdout"
        }
      ]
    },
    {
      "cell_type": "code",
      "metadata": {
        "id": "rdHMTt3hJ0v9"
      },
      "source": [
        "# 토크나이저 하기\n",
        "tokenizer = Tokenizer()\n",
        "tokenizer.fit_on_texts(sent_stem)"
      ],
      "execution_count": null,
      "outputs": []
    },
    {
      "cell_type": "code",
      "metadata": {
        "colab": {
          "base_uri": "https://localhost:8080/"
        },
        "id": "qxziANpnKODS",
        "outputId": "2fc12543-f0bb-4d3c-afcb-a92879dc8a3f"
      },
      "source": [
        "# 단어 사전 만들기\n",
        "word2idx = tokenizer.word_index\n",
        "idx2word = {v:k for k, v in word2idx.items()}\n",
        "print(\"사전 크기 =\", len(word2idx))"
      ],
      "execution_count": null,
      "outputs": [
        {
          "output_type": "stream",
          "text": [
            "사전 크기 = 21181\n"
          ],
          "name": "stdout"
        }
      ]
    },
    {
      "cell_type": "code",
      "metadata": {
        "id": "cvxNXtmnKhNN"
      },
      "source": [
        "# 문장을 단어의 인덱스로 표현\n",
        "sent_idx = tokenizer.texts_to_sequences(sent_stem)"
      ],
      "execution_count": null,
      "outputs": []
    },
    {
      "cell_type": "code",
      "metadata": {
        "colab": {
          "base_uri": "https://localhost:8080/"
        },
        "id": "jh2msmynLD_B",
        "outputId": "5ba78a44-56c6-4959-8fd0-cb1f0e9231b5"
      },
      "source": [
        "np.array(sent_idx[1])"
      ],
      "execution_count": null,
      "outputs": [
        {
          "output_type": "execute_result",
          "data": {
            "text/plain": [
              "array([  38,   17,    2, 2540,    4,    2,  134,  251,    4,    8,  233,\n",
              "        570,    1, 1861,   98,   12,    3,   37,    1,    7, 1170,    4,\n",
              "         26,  305,   54,  374,    1,   96, 2173,    4,   15,   86,   44,\n",
              "          8,   75,  133, 2047,    5])"
            ]
          },
          "metadata": {
            "tags": []
          },
          "execution_count": 84
        }
      ]
    },
    {
      "cell_type": "code",
      "metadata": {
        "colab": {
          "base_uri": "https://localhost:8080/"
        },
        "id": "jQHoJqU9oq4H",
        "outputId": "12433bf8-c3d4-4afc-ffa7-e25f936421af"
      },
      "source": [
        "max(idx2word)\n",
        "idx2word"
      ],
      "execution_count": null,
      "outputs": [
        {
          "output_type": "execute_result",
          "data": {
            "text/plain": [
              "21181"
            ]
          },
          "metadata": {
            "tags": []
          },
          "execution_count": 25
        }
      ]
    },
    {
      "cell_type": "code",
      "metadata": {
        "id": "dXcfg32vLIi2"
      },
      "source": [
        "# trigram 만들기\n",
        "import random\n",
        "x_1 = []\n",
        "x_2 = []\n",
        "y = []\n",
        "for sent in sent_idx:\n",
        "    if len(sent) < 3:\n",
        "        continue\n",
        "\n",
        "    for a, b, c in nltk.trigrams(sent):\n",
        "        for i in range(6):\n",
        "          x_1.append(b)           \n",
        "        for k in range(4):\n",
        "          x_2.append(random.randint(1, len(idx2word)))\n",
        "          y.append(0)\n",
        "        x_2.append(a)\n",
        "        x_2.append(c)\n",
        "        y.append(1)\n",
        "        y.append(1)"
      ],
      "execution_count": null,
      "outputs": []
    },
    {
      "cell_type": "code",
      "metadata": {
        "colab": {
          "base_uri": "https://localhost:8080/"
        },
        "id": "4vwjKUDWomz_",
        "outputId": "f099794b-9e50-4be7-9dce-d17c49e1bba6"
      },
      "source": [
        "print(x_1[:100])\n",
        "print(x_2[:100])\n",
        "print(y[:100])"
      ],
      "execution_count": null,
      "outputs": [
        {
          "output_type": "stream",
          "text": [
            "[230, 230, 230, 230, 230, 230, 50, 50, 50, 50, 50, 50, 544, 544, 544, 544, 544, 544, 4373, 4373, 4373, 4373, 4373, 4373, 12823, 12823, 12823, 12823, 12823, 12823, 2448, 2448, 2448, 2448, 2448, 2448, 3913, 3913, 3913, 3913, 3913, 3913, 11, 11, 11, 11, 11, 11, 962, 962, 962, 962, 962, 962, 11, 11, 11, 11, 11, 11, 230, 230, 230, 230, 230, 230, 529, 529, 529, 529, 529, 529, 1, 1, 1, 1, 1, 1, 1155, 1155, 1155, 1155, 1155, 1155, 1, 1, 1, 1, 1, 1, 1700, 1700, 1700, 1700, 1700, 1700, 1, 1, 1, 1]\n",
            "[7653, 12907, 7549, 3913, 2447, 50, 16353, 15535, 19296, 7233, 230, 544, 2440, 13609, 6648, 4561, 50, 4373, 7379, 3582, 9825, 18720, 544, 12823, 8409, 12198, 18437, 13586, 4373, 2448, 19415, 5577, 20173, 9080, 12823, 3913, 9181, 20701, 14806, 5890, 2448, 11, 11553, 484, 8030, 17540, 3913, 962, 4489, 19396, 9495, 18285, 11, 11, 15184, 11100, 10080, 9072, 962, 230, 13741, 15422, 17335, 18049, 11, 529, 1111, 2929, 11331, 2070, 230, 1, 3128, 7133, 411, 7057, 529, 1155, 3599, 19464, 6292, 20683, 1, 1, 13997, 16515, 11610, 9948, 1155, 1700, 11195, 8806, 5527, 8223, 1, 1, 6868, 6929, 9955, 20355]\n",
            "[0, 0, 0, 0, 1, 1, 0, 0, 0, 0, 1, 1, 0, 0, 0, 0, 1, 1, 0, 0, 0, 0, 1, 1, 0, 0, 0, 0, 1, 1, 0, 0, 0, 0, 1, 1, 0, 0, 0, 0, 1, 1, 0, 0, 0, 0, 1, 1, 0, 0, 0, 0, 1, 1, 0, 0, 0, 0, 1, 1, 0, 0, 0, 0, 1, 1, 0, 0, 0, 0, 1, 1, 0, 0, 0, 0, 1, 1, 0, 0, 0, 0, 1, 1, 0, 0, 0, 0, 1, 1, 0, 0, 0, 0, 1, 1, 0, 0, 0, 0]\n"
          ],
          "name": "stdout"
        }
      ]
    },
    {
      "cell_type": "code",
      "metadata": {
        "id": "rUA1oAd0Lsv2"
      },
      "source": [
        "# shape 1차원 행렬로 만들어주기\n",
        "x_1 = np.array(x_1).reshape(-1, 1)\n",
        "x_2 = np.array(x_2).reshape(-1, 1)\n",
        "y = np.array(y).reshape(-1, 1)\n",
        "#x_1\n",
        "#x_2\n",
        "#y"
      ],
      "execution_count": null,
      "outputs": []
    },
    {
      "cell_type": "code",
      "metadata": {
        "colab": {
          "base_uri": "https://localhost:8080/"
        },
        "id": "kBCqYwaZMT5h",
        "outputId": "41588912-b711-45cd-cfea-432e64ccff1e"
      },
      "source": [
        "def my_activation(x):\n",
        "  return K.sigmoid(x)\n",
        "VOC_SIZE = len(word2idx) + 1\n",
        "EMB_SIZE = 32\n",
        "# 중심 단어를 위한 임베딩 \n",
        "x_input_1 = Input(batch_shape=(None, 1))\n",
        "x_emb_1 = Embedding(VOC_SIZE, EMB_SIZE)(x_input_1)\n",
        "x_emb_1 = Flatten()(x_emb_1)\n",
        "x_input_2 = Input(batch_shape=(None, 1))\n",
        "x_emb_2 = Embedding(VOC_SIZE, EMB_SIZE)(x_input_2)\n",
        "x_emb_2 = Flatten()(x_emb_2)\n",
        "y_output = Dot(axes=1)([x_emb_1, x_emb_2]) \n",
        "y_output = Activation(my_activation)(y_output) \n",
        "#y_output = Dense(VOC_SIZE, activation='sigmoid')(y_output)\n",
        "\n",
        "model = Model([x_input_1, x_input_2], y_output)\n",
        "model.compile(loss = 'binary_crossentropy', optimizer='adam')\n",
        "model.summary()"
      ],
      "execution_count": null,
      "outputs": [
        {
          "output_type": "stream",
          "text": [
            "Model: \"model_1\"\n",
            "__________________________________________________________________________________________________\n",
            "Layer (type)                    Output Shape         Param #     Connected to                     \n",
            "==================================================================================================\n",
            "input_3 (InputLayer)            [(None, 1)]          0                                            \n",
            "__________________________________________________________________________________________________\n",
            "input_4 (InputLayer)            [(None, 1)]          0                                            \n",
            "__________________________________________________________________________________________________\n",
            "embedding_2 (Embedding)         (None, 1, 32)        677824      input_3[0][0]                    \n",
            "__________________________________________________________________________________________________\n",
            "embedding_3 (Embedding)         (None, 1, 32)        677824      input_4[0][0]                    \n",
            "__________________________________________________________________________________________________\n",
            "flatten_2 (Flatten)             (None, 32)           0           embedding_2[0][0]                \n",
            "__________________________________________________________________________________________________\n",
            "flatten_3 (Flatten)             (None, 32)           0           embedding_3[0][0]                \n",
            "__________________________________________________________________________________________________\n",
            "dot_1 (Dot)                     (None, 1)            0           flatten_2[0][0]                  \n",
            "                                                                 flatten_3[0][0]                  \n",
            "__________________________________________________________________________________________________\n",
            "activation_1 (Activation)       (None, 1)            0           dot_1[0][0]                      \n",
            "==================================================================================================\n",
            "Total params: 1,355,648\n",
            "Trainable params: 1,355,648\n",
            "Non-trainable params: 0\n",
            "__________________________________________________________________________________________________\n"
          ],
          "name": "stdout"
        }
      ]
    },
    {
      "cell_type": "code",
      "metadata": {
        "colab": {
          "base_uri": "https://localhost:8080/"
        },
        "id": "WPpeCoOETGGx",
        "outputId": "5e6c2272-f98b-4272-cbf1-5a740380a2b2"
      },
      "source": [
        "model_vec = Model(x_input_1, x_emb_1)\n",
        "model_vec = Model(x_input_2, x_emb_2)\n",
        "hist = model.fit([x_1, x_2], y, batch_size=10240, epochs=10)"
      ],
      "execution_count": null,
      "outputs": [
        {
          "output_type": "stream",
          "text": [
            "Epoch 1/10\n",
            "912/912 [==============================] - 9s 10ms/step - loss: 0.1362\n",
            "Epoch 2/10\n",
            "912/912 [==============================] - 9s 10ms/step - loss: 0.1339\n",
            "Epoch 3/10\n",
            "912/912 [==============================] - 9s 10ms/step - loss: 0.1318\n",
            "Epoch 4/10\n",
            "912/912 [==============================] - 9s 10ms/step - loss: 0.1300\n",
            "Epoch 5/10\n",
            "912/912 [==============================] - 9s 10ms/step - loss: 0.1284\n",
            "Epoch 6/10\n",
            "912/912 [==============================] - 9s 10ms/step - loss: 0.1270\n",
            "Epoch 7/10\n",
            "912/912 [==============================] - 9s 10ms/step - loss: 0.1256\n",
            "Epoch 8/10\n",
            "912/912 [==============================] - 9s 10ms/step - loss: 0.1244\n",
            "Epoch 9/10\n",
            "912/912 [==============================] - 9s 10ms/step - loss: 0.1233\n",
            "Epoch 10/10\n",
            "912/912 [==============================] - 9s 10ms/step - loss: 0.1223\n"
          ],
          "name": "stdout"
        }
      ]
    },
    {
      "cell_type": "code",
      "metadata": {
        "colab": {
          "base_uri": "https://localhost:8080/"
        },
        "id": "UmEh3W9TdAny",
        "outputId": "ccef3e88-ecab-440c-fcc6-6a7104793454"
      },
      "source": [
        "from sklearn.metrics.pairwise import cosine_similarity\n",
        "\n",
        "def get_word2vec(word):\n",
        "    stem_word = stemmer.stem(word)\n",
        "    if stem_word not in word2idx:\n",
        "        print('{}가 없습니다.'.format(word))\n",
        "        return\n",
        "    \n",
        "    word2vec = model_vec.predict(np.array(word2idx[stem_word]).reshape(1,1))\n",
        "    return word2vec\n",
        "\n",
        "father = get_word2vec('father')\n",
        "mother = get_word2vec('mother')\n",
        "doctor = get_word2vec('doctor')\n",
        "\n",
        "cosine_similarity(father, mother) # array([[0.64571965]], dtype=float32)\n",
        "\n",
        "cosine_similarity(father, doctor) # array([[0.16309245]], dtype=float32)\n",
        "\n",
        "cosine_similarity(mother, doctor) # array([[0.4438712]], dtype=float32)"
      ],
      "execution_count": null,
      "outputs": [
        {
          "output_type": "execute_result",
          "data": {
            "text/plain": [
              "array([[0.4438712]], dtype=float32)"
            ]
          },
          "metadata": {
            "tags": []
          },
          "execution_count": 21
        }
      ]
    }
  ]
}