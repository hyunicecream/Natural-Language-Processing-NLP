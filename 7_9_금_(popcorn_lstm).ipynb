{
  "nbformat": 4,
  "nbformat_minor": 0,
  "metadata": {
    "colab": {
      "name": "7/9 금-(popcorn lstm).ipynb",
      "provenance": [],
      "collapsed_sections": [],
      "machine_shape": "hm",
      "mount_file_id": "11l-iAJZHtTnYcrrLiXaEWBZDbxiN0hoF",
      "authorship_tag": "ABX9TyNJZXjziBVqfY5aCwkITJ8P",
      "include_colab_link": true
    },
    "kernelspec": {
      "name": "python3",
      "display_name": "Python 3"
    },
    "language_info": {
      "name": "python"
    },
    "accelerator": "GPU"
  },
  "cells": [
    {
      "cell_type": "markdown",
      "metadata": {
        "id": "view-in-github",
        "colab_type": "text"
      },
      "source": [
        "<a href=\"https://colab.research.google.com/github/hyunicecream/Natural-Language-Processing-NLP-/blob/main/7_9_%EA%B8%88_(popcorn_lstm).ipynb\" target=\"_parent\"><img src=\"https://colab.research.google.com/assets/colab-badge.svg\" alt=\"Open In Colab\"/></a>"
      ]
    },
    {
      "cell_type": "code",
      "metadata": {
        "id": "rNt7UXAaOCdx",
        "colab": {
          "base_uri": "https://localhost:8080/",
          "height": 1000
        },
        "outputId": "10898aed-74ac-4aed-df4d-21f77b77388f"
      },
      "source": [
        "\n",
        "# Word Embedding & LSTM을 이용한 감성분석\n",
        "from tensorflow.keras.preprocessing.sequence import pad_sequences\n",
        "from tensorflow.keras.preprocessing.text import Tokenizer\n",
        "from tensorflow.keras.layers import Input, Embedding, LSTM, Dense, Dropout\n",
        "from tensorflow.keras.models import Model\n",
        "from tensorflow.keras.optimizers import Adam\n",
        "from tensorflow.keras import regularizers\n",
        "from sklearn.model_selection import train_test_split\n",
        "import matplotlib.pyplot as plt\n",
        "from scipy import stats\n",
        "import numpy as np\n",
        "import pickle\n",
        "\n",
        "# Commented out IPython magic to ensure Python compatibility.\n",
        "# %cd '/content/drive/My Drive/Colab Notebooks'\n",
        "\n",
        "# 학습, 시험 데이터를 읽어온다.\n",
        "with open('/content/drive/MyDrive/머신러닝/popcorn.pkl', 'rb') as f:\n",
        "    xd_train, yd_train, xd_test, yd_test = pickle.load(f)\n",
        "\n",
        "xd_train[0]\n",
        "\n",
        "# 학습, 시험 데이터를 합쳐서 사전 (vocabulary)을 구축한다.\n",
        "x_data = xd_train + xd_test\n",
        "y_target = np.array(yd_train + yd_test).reshape(-1,1)\n",
        "\n",
        "# 사전을 구축하고 학습 데이터를 워드 인덱스로 표현한다.\n",
        "tokenizer = Tokenizer()\n",
        "tokenizer.fit_on_texts(x_data)\n",
        "x_idx = tokenizer.texts_to_sequences(x_data)\n",
        "\n",
        "# vocabulary\n",
        "word2idx = tokenizer.word_index\n",
        "word2idx['<PAD>'] = 0\n",
        "\n",
        "# 각 리뷰의 길이를 측정하고, 평균 길이를 구한다.\n",
        "x_len = [len(x) for x in x_idx]\n",
        "\n",
        "print('평균 =', np.mean(x_len))\n",
        "print('최소 =', np.min(x_len))\n",
        "print('최대 =', np.max(x_len))\n",
        "print('중앙값 =', np.median(x_len))\n",
        "\n",
        "# 길이 분포를 확인한다.\n",
        "plt.hist(x_len, bins=50)\n",
        "plt.show()\n",
        "\n",
        "# 각 리뷰의 길이를 max_seq_len로 맞춘다. 길면 자르고, 짧으면 padding을 추가한다.\n",
        "MAX_SEQ_LEN = 200\n",
        "x_review = pad_sequences(x_idx, maxlen=MAX_SEQ_LEN, padding='post', truncating='post')\n",
        "x_review[5000]\n",
        "\n",
        "# 학습 데이터와 시험 데이터로 분리한다.\n",
        "x_train, x_test, y_train, y_test = train_test_split(x_review, y_target, test_size=0.2)\n",
        "\n",
        "# Embedding & LSTM 모델을 생성한다.\n",
        "vocab_size = len(word2idx)\n",
        "EMBEDDING_DIM = 32\n",
        "HIDDEN_DIM = 64\n",
        "\n",
        "x_input = Input(batch_shape=(None, x_train.shape[1]))\n",
        "e_layer = Embedding(input_dim=vocab_size, output_dim=EMBEDDING_DIM)(x_input)\n",
        "e_layer = Dropout(rate=0.5)(e_layer)\n",
        "r_layer = LSTM(HIDDEN_DIM, dropout=0.5)(e_layer)\n",
        "y_output = Dense(1, activation='sigmoid')(r_layer)\n",
        "\n",
        "model = Model(x_input, y_output)\n",
        "model.compile(loss='binary_crossentropy', optimizer=Adam(learning_rate=0.0005))\n",
        "model.summary()\n",
        "\n",
        "# 학습\n",
        "hist = model.fit(x_train, y_train, validation_data = (x_test, y_test), batch_size = 1024, epochs = 30)\n",
        "\n",
        "# Loss history를 그린다\n",
        "plt.plot(hist.history['loss'], label='Train loss')\n",
        "plt.plot(hist.history['val_loss'], label = 'Test loss')\n",
        "plt.legend()\n",
        "plt.title(\"Loss history\")\n",
        "plt.xlabel(\"epoch\")\n",
        "plt.ylabel(\"loss\")\n",
        "plt.show()\n",
        "\n",
        "# 시험 데이터로 학습 성능을 평가한다\n",
        "pred = model.predict(x_test)\n",
        "y_pred = np.where(pred > 0.5, 1, 0)\n",
        "accuracy = (y_pred == y_test).mean()\n",
        "print(\"\\nAccuracy = %.2f %s\" % (accuracy * 100, '%'))\n"
      ],
      "execution_count": 10,
      "outputs": [
        {
          "output_type": "stream",
          "text": [
            "평균 = 123.57604\n",
            "최소 = 5\n",
            "최대 = 1436\n",
            "중앙값 = 92.0\n"
          ],
          "name": "stdout"
        },
        {
          "output_type": "display_data",
          "data": {
            "image/png": "[encoded data removed]",
            "text/plain": [
              "<Figure size 432x288 with 1 Axes>"
            ]
          },
          "metadata": {
            "tags": [],
            "needs_background": "light"
          }
        },
        {
          "output_type": "stream",
          "text": [
            "Model: \"model\"\n",
            "_________________________________________________________________\n",
            "Layer (type)                 Output Shape              Param #   \n",
            "=================================================================\n",
            "input_1 (InputLayer)         [(None, 200)]             0         \n",
            "_________________________________________________________________\n",
            "embedding (Embedding)        (None, 200, 32)           1284512   \n",
            "_________________________________________________________________\n",
            "dropout (Dropout)            (None, 200, 32)           0         \n",
            "_________________________________________________________________\n",
            "lstm (LSTM)                  (None, 64)                24832     \n",
            "_________________________________________________________________\n",
            "dense (Dense)                (None, 1)                 65        \n",
            "=================================================================\n",
            "Total params: 1,309,409\n",
            "Trainable params: 1,309,409\n",
            "Non-trainable params: 0\n",
            "_________________________________________________________________\n",
            "Epoch 1/30\n",
            "20/20 [==============================] - 6s 64ms/step - loss: 0.6931 - val_loss: 0.6932\n",
            "Epoch 2/30\n",
            "20/20 [==============================] - 1s 56ms/step - loss: 0.6929 - val_loss: 0.6929\n",
            "Epoch 3/30\n",
            "20/20 [==============================] - 1s 47ms/step - loss: 0.6926 - val_loss: 0.6928\n",
            "Epoch 4/30\n",
            "20/20 [==============================] - 1s 46ms/step - loss: 0.6918 - val_loss: 0.6921\n",
            "Epoch 5/30\n",
            "20/20 [==============================] - 1s 46ms/step - loss: 0.6907 - val_loss: 0.6913\n",
            "Epoch 6/30\n",
            "20/20 [==============================] - 1s 47ms/step - loss: 0.6890 - val_loss: 0.6902\n",
            "Epoch 7/30\n",
            "20/20 [==============================] - 1s 46ms/step - loss: 0.6813 - val_loss: 0.6781\n",
            "Epoch 8/30\n",
            "20/20 [==============================] - 1s 46ms/step - loss: 0.6576 - val_loss: 0.6364\n",
            "Epoch 9/30\n",
            "20/20 [==============================] - 1s 46ms/step - loss: 0.5585 - val_loss: 0.5351\n",
            "Epoch 10/30\n",
            "20/20 [==============================] - 1s 46ms/step - loss: 0.5176 - val_loss: 0.4864\n",
            "Epoch 11/30\n",
            "20/20 [==============================] - 1s 46ms/step - loss: 0.4424 - val_loss: 0.4201\n",
            "Epoch 12/30\n",
            "20/20 [==============================] - 1s 46ms/step - loss: 0.3855 - val_loss: 0.3591\n",
            "Epoch 13/30\n",
            "20/20 [==============================] - 1s 46ms/step - loss: 0.3337 - val_loss: 0.3361\n",
            "Epoch 14/30\n",
            "20/20 [==============================] - 1s 46ms/step - loss: 0.3071 - val_loss: 0.3446\n",
            "Epoch 15/30\n",
            "20/20 [==============================] - 1s 46ms/step - loss: 0.2725 - val_loss: 0.3112\n",
            "Epoch 16/30\n",
            "20/20 [==============================] - 1s 47ms/step - loss: 0.2511 - val_loss: 0.3198\n",
            "Epoch 17/30\n",
            "20/20 [==============================] - 1s 47ms/step - loss: 0.2363 - val_loss: 0.3088\n",
            "Epoch 18/30\n",
            "20/20 [==============================] - 1s 46ms/step - loss: 0.2207 - val_loss: 0.3003\n",
            "Epoch 19/30\n",
            "20/20 [==============================] - 1s 47ms/step - loss: 0.2029 - val_loss: 0.2989\n",
            "Epoch 20/30\n",
            "20/20 [==============================] - 1s 47ms/step - loss: 0.1997 - val_loss: 0.3100\n",
            "Epoch 21/30\n",
            "20/20 [==============================] - 1s 47ms/step - loss: 0.1852 - val_loss: 0.2897\n",
            "Epoch 22/30\n",
            "20/20 [==============================] - 1s 47ms/step - loss: 0.1787 - val_loss: 0.3225\n",
            "Epoch 23/30\n",
            "20/20 [==============================] - 1s 47ms/step - loss: 0.1636 - val_loss: 0.3067\n",
            "Epoch 24/30\n",
            "20/20 [==============================] - 1s 46ms/step - loss: 0.1560 - val_loss: 0.3296\n",
            "Epoch 25/30\n",
            "20/20 [==============================] - 1s 47ms/step - loss: 0.1477 - val_loss: 0.2997\n",
            "Epoch 26/30\n",
            "20/20 [==============================] - 1s 47ms/step - loss: 0.1451 - val_loss: 0.3615\n",
            "Epoch 27/30\n",
            "20/20 [==============================] - 1s 47ms/step - loss: 0.1420 - val_loss: 0.3039\n",
            "Epoch 28/30\n",
            "20/20 [==============================] - 1s 46ms/step - loss: 0.1310 - val_loss: 0.3281\n",
            "Epoch 29/30\n",
            "20/20 [==============================] - 1s 47ms/step - loss: 0.1288 - val_loss: 0.3340\n",
            "Epoch 30/30\n",
            "20/20 [==============================] - 1s 47ms/step - loss: 0.1147 - val_loss: 0.3773\n"
          ],
          "name": "stdout"
        },
        {
          "output_type": "display_data",
          "data": {
            "image/png": "[encoded data removed]",
            "text/plain": [
              "<Figure size 432x288 with 1 Axes>"
            ]
          },
          "metadata": {
            "tags": [],
            "needs_background": "light"
          }
        },
        {
          "output_type": "stream",
          "text": [
            "\n",
            "Accuracy = 88.26 %\n"
          ],
          "name": "stdout"
        }
      ]
    }
  ]
}