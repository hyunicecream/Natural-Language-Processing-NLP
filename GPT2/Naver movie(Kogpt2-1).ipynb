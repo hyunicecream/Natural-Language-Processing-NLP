{
  "nbformat": 4,
  "nbformat_minor": 0,
  "metadata": {
    "colab": {
      "name": "8-13.naver_movie(kogpt2).ipynb",
      "provenance": [],
      "collapsed_sections": [],
      "machine_shape": "hm",
      "mount_file_id": "1f7KosDZiBP3fjB87YXGhQ5ZWH6nsRoHZ",
      "authorship_tag": "ABX9TyM+Io5sMOOl5++obOq9qqTd",
      "include_colab_link": true
    },
    "kernelspec": {
      "name": "python3",
      "display_name": "Python 3"
    },
    "language_info": {
      "name": "python"
    },
    "accelerator": "GPU"
  },
  "cells": [
    {
      "cell_type": "markdown",
      "metadata": {
        "id": "view-in-github",
        "colab_type": "text"
      },
      "source": [
        "<a href=\"https://colab.research.google.com/github/hyunicecream/Natural-Language-Processing-NLP-/blob/main/8_13_naver_movie(kogpt2).ipynb\" target=\"_parent\"><img src=\"https://colab.research.google.com/assets/colab-badge.svg\" alt=\"Open In Colab\"/></a>"
      ]
    },
    {
      "cell_type": "code",
      "metadata": {
        "colab": {
          "base_uri": "https://localhost:8080/"
        },
        "id": "GhqdZIzng3oh",
        "outputId": "7a982eec-68c9-4725-a390-f96a5bffda3b"
      },
      "source": [
        "!nvidia-smi"
      ],
      "execution_count": null,
      "outputs": [
        {
          "output_type": "stream",
          "text": [
            "Wed Aug 11 04:43:18 2021       \n",
            "+-----------------------------------------------------------------------------+\n",
            "| NVIDIA-SMI 470.42.01    Driver Version: 460.32.03    CUDA Version: 11.2     |\n",
            "|-------------------------------+----------------------+----------------------+\n",
            "| GPU  Name        Persistence-M| Bus-Id        Disp.A | Volatile Uncorr. ECC |\n",
            "| Fan  Temp  Perf  Pwr:Usage/Cap|         Memory-Usage | GPU-Util  Compute M. |\n",
            "|                               |                      |               MIG M. |\n",
            "|===============================+======================+======================|\n",
            "|   0  Tesla P100-PCIE...  Off  | 00000000:00:04.0 Off |                    0 |\n",
            "| N/A   41C    P0    27W / 250W |      0MiB / 16280MiB |      0%      Default |\n",
            "|                               |                      |                  N/A |\n",
            "+-------------------------------+----------------------+----------------------+\n",
            "                                                                               \n",
            "+-----------------------------------------------------------------------------+\n",
            "| Processes:                                                                  |\n",
            "|  GPU   GI   CI        PID   Type   Process name                  GPU Memory |\n",
            "|        ID   ID                                                   Usage      |\n",
            "|=============================================================================|\n",
            "|  No running processes found                                                 |\n",
            "+-----------------------------------------------------------------------------+\n"
          ],
          "name": "stdout"
        }
      ]
    },
    {
      "cell_type": "code",
      "metadata": {
        "colab": {
          "base_uri": "https://localhost:8080/"
        },
        "id": "rddMwCZ5g45r",
        "outputId": "2a8dcbfa-c28e-4c6f-a8a1-3cc102167421"
      },
      "source": [
        "!pip install --upgrade mxnet>=1.6.0\n",
        "!pip install gluonnlp\n",
        "!pip install transformers\n",
        "!pip install sentencepiece"
      ],
      "execution_count": null,
      "outputs": [
        {
          "output_type": "stream",
          "text": [
            "Collecting gluonnlp\n",
            "  Downloading gluonnlp-0.10.0.tar.gz (344 kB)\n",
            "\u001b[?25l\r\u001b[K     |█                               | 10 kB 28.2 MB/s eta 0:00:01\r\u001b[K     |██                              | 20 kB 23.7 MB/s eta 0:00:01\r\u001b[K     |██▉                             | 30 kB 15.5 MB/s eta 0:00:01\r\u001b[K     |███▉                            | 40 kB 14.2 MB/s eta 0:00:01\r\u001b[K     |████▊                           | 51 kB 5.3 MB/s eta 0:00:01\r\u001b[K     |█████▊                          | 61 kB 5.7 MB/s eta 0:00:01\r\u001b[K     |██████▋                         | 71 kB 5.3 MB/s eta 0:00:01\r\u001b[K     |███████▋                        | 81 kB 5.9 MB/s eta 0:00:01\r\u001b[K     |████████▋                       | 92 kB 5.8 MB/s eta 0:00:01\r\u001b[K     |█████████▌                      | 102 kB 5.1 MB/s eta 0:00:01\r\u001b[K     |██████████▌                     | 112 kB 5.1 MB/s eta 0:00:01\r\u001b[K     |███████████▍                    | 122 kB 5.1 MB/s eta 0:00:01\r\u001b[K     |████████████▍                   | 133 kB 5.1 MB/s eta 0:00:01\r\u001b[K     |█████████████▎                  | 143 kB 5.1 MB/s eta 0:00:01\r\u001b[K     |██████████████▎                 | 153 kB 5.1 MB/s eta 0:00:01\r\u001b[K     |███████████████▏                | 163 kB 5.1 MB/s eta 0:00:01\r\u001b[K     |████████████████▏               | 174 kB 5.1 MB/s eta 0:00:01\r\u001b[K     |█████████████████▏              | 184 kB 5.1 MB/s eta 0:00:01\r\u001b[K     |██████████████████              | 194 kB 5.1 MB/s eta 0:00:01\r\u001b[K     |███████████████████             | 204 kB 5.1 MB/s eta 0:00:01\r\u001b[K     |████████████████████            | 215 kB 5.1 MB/s eta 0:00:01\r\u001b[K     |█████████████████████           | 225 kB 5.1 MB/s eta 0:00:01\r\u001b[K     |█████████████████████▉          | 235 kB 5.1 MB/s eta 0:00:01\r\u001b[K     |██████████████████████▉         | 245 kB 5.1 MB/s eta 0:00:01\r\u001b[K     |███████████████████████▉        | 256 kB 5.1 MB/s eta 0:00:01\r\u001b[K     |████████████████████████▊       | 266 kB 5.1 MB/s eta 0:00:01\r\u001b[K     |█████████████████████████▊      | 276 kB 5.1 MB/s eta 0:00:01\r\u001b[K     |██████████████████████████▋     | 286 kB 5.1 MB/s eta 0:00:01\r\u001b[K     |███████████████████████████▋    | 296 kB 5.1 MB/s eta 0:00:01\r\u001b[K     |████████████████████████████▌   | 307 kB 5.1 MB/s eta 0:00:01\r\u001b[K     |█████████████████████████████▌  | 317 kB 5.1 MB/s eta 0:00:01\r\u001b[K     |██████████████████████████████▍ | 327 kB 5.1 MB/s eta 0:00:01\r\u001b[K     |███████████████████████████████▍| 337 kB 5.1 MB/s eta 0:00:01\r\u001b[K     |████████████████████████████████| 344 kB 5.1 MB/s \n",
            "\u001b[?25hRequirement already satisfied: numpy>=1.16.0 in /usr/local/lib/python3.7/dist-packages (from gluonnlp) (1.19.5)\n",
            "Requirement already satisfied: cython in /usr/local/lib/python3.7/dist-packages (from gluonnlp) (0.29.23)\n",
            "Requirement already satisfied: packaging in /usr/local/lib/python3.7/dist-packages (from gluonnlp) (21.0)\n",
            "Requirement already satisfied: pyparsing>=2.0.2 in /usr/local/lib/python3.7/dist-packages (from packaging->gluonnlp) (2.4.7)\n",
            "Building wheels for collected packages: gluonnlp\n",
            "  Building wheel for gluonnlp (setup.py) ... \u001b[?25l\u001b[?25hdone\n",
            "  Created wheel for gluonnlp: filename=gluonnlp-0.10.0-cp37-cp37m-linux_x86_64.whl size=595739 sha256=e1f0967136ab6b9f2de451f8ca798fa59df38540726cff1ff738db92fb605d02\n",
            "  Stored in directory: /root/.cache/pip/wheels/be/b4/06/7f3fdfaf707e6b5e98b79c041e023acffbe395d78a527eae00\n",
            "Successfully built gluonnlp\n",
            "Installing collected packages: gluonnlp\n",
            "Successfully installed gluonnlp-0.10.0\n",
            "Collecting transformers\n",
            "  Downloading transformers-4.9.2-py3-none-any.whl (2.6 MB)\n",
            "\u001b[K     |████████████████████████████████| 2.6 MB 5.1 MB/s \n",
            "\u001b[?25hRequirement already satisfied: regex!=2019.12.17 in /usr/local/lib/python3.7/dist-packages (from transformers) (2019.12.20)\n",
            "Requirement already satisfied: importlib-metadata in /usr/local/lib/python3.7/dist-packages (from transformers) (4.6.1)\n",
            "Collecting tokenizers<0.11,>=0.10.1\n",
            "  Downloading tokenizers-0.10.3-cp37-cp37m-manylinux_2_5_x86_64.manylinux1_x86_64.manylinux_2_12_x86_64.manylinux2010_x86_64.whl (3.3 MB)\n",
            "\u001b[K     |████████████████████████████████| 3.3 MB 59.5 MB/s \n",
            "\u001b[?25hCollecting sacremoses\n",
            "  Downloading sacremoses-0.0.45-py3-none-any.whl (895 kB)\n",
            "\u001b[K     |████████████████████████████████| 895 kB 39.8 MB/s \n",
            "\u001b[?25hCollecting pyyaml>=5.1\n",
            "  Downloading PyYAML-5.4.1-cp37-cp37m-manylinux1_x86_64.whl (636 kB)\n",
            "\u001b[K     |████████████████████████████████| 636 kB 61.5 MB/s \n",
            "\u001b[?25hRequirement already satisfied: filelock in /usr/local/lib/python3.7/dist-packages (from transformers) (3.0.12)\n",
            "Requirement already satisfied: tqdm>=4.27 in /usr/local/lib/python3.7/dist-packages (from transformers) (4.41.1)\n",
            "Requirement already satisfied: packaging in /usr/local/lib/python3.7/dist-packages (from transformers) (21.0)\n",
            "Requirement already satisfied: numpy>=1.17 in /usr/local/lib/python3.7/dist-packages (from transformers) (1.19.5)\n",
            "Requirement already satisfied: requests in /usr/local/lib/python3.7/dist-packages (from transformers) (2.23.0)\n",
            "Collecting huggingface-hub==0.0.12\n",
            "  Downloading huggingface_hub-0.0.12-py3-none-any.whl (37 kB)\n",
            "Requirement already satisfied: typing-extensions in /usr/local/lib/python3.7/dist-packages (from huggingface-hub==0.0.12->transformers) (3.7.4.3)\n",
            "Requirement already satisfied: pyparsing>=2.0.2 in /usr/local/lib/python3.7/dist-packages (from packaging->transformers) (2.4.7)\n",
            "Requirement already satisfied: zipp>=0.5 in /usr/local/lib/python3.7/dist-packages (from importlib-metadata->transformers) (3.5.0)\n",
            "Requirement already satisfied: chardet<4,>=3.0.2 in /usr/local/lib/python3.7/dist-packages (from requests->transformers) (3.0.4)\n",
            "Requirement already satisfied: certifi>=2017.4.17 in /usr/local/lib/python3.7/dist-packages (from requests->transformers) (2021.5.30)\n",
            "Requirement already satisfied: idna<3,>=2.5 in /usr/local/lib/python3.7/dist-packages (from requests->transformers) (2.10)\n",
            "Requirement already satisfied: urllib3!=1.25.0,!=1.25.1,<1.26,>=1.21.1 in /usr/local/lib/python3.7/dist-packages (from requests->transformers) (1.24.3)\n",
            "Requirement already satisfied: joblib in /usr/local/lib/python3.7/dist-packages (from sacremoses->transformers) (1.0.1)\n",
            "Requirement already satisfied: six in /usr/local/lib/python3.7/dist-packages (from sacremoses->transformers) (1.15.0)\n",
            "Requirement already satisfied: click in /usr/local/lib/python3.7/dist-packages (from sacremoses->transformers) (7.1.2)\n",
            "Installing collected packages: tokenizers, sacremoses, pyyaml, huggingface-hub, transformers\n",
            "  Attempting uninstall: pyyaml\n",
            "    Found existing installation: PyYAML 3.13\n",
            "    Uninstalling PyYAML-3.13:\n",
            "      Successfully uninstalled PyYAML-3.13\n",
            "Successfully installed huggingface-hub-0.0.12 pyyaml-5.4.1 sacremoses-0.0.45 tokenizers-0.10.3 transformers-4.9.2\n",
            "Collecting sentencepiece\n",
            "  Downloading sentencepiece-0.1.96-cp37-cp37m-manylinux_2_17_x86_64.manylinux2014_x86_64.whl (1.2 MB)\n",
            "\u001b[K     |████████████████████████████████| 1.2 MB 5.0 MB/s \n",
            "\u001b[?25hInstalling collected packages: sentencepiece\n",
            "Successfully installed sentencepiece-0.1.96\n"
          ],
          "name": "stdout"
        }
      ]
    },
    {
      "cell_type": "code",
      "metadata": {
        "id": "XF_OLb5yexcV"
      },
      "source": [
        "# -*- coding: utf-8 -*-\n",
        "\"\"\"8-13.naver_movie(kogpt2).ipynb\n",
        "\n",
        "Automatically generated by Colaboratory.\n",
        "\n",
        "Original file is located at\n",
        "    https://colab.research.google.com/drive/1N396gN4Jh6cidXhylM0s-Pp1epRGREl-\n",
        "\"\"\"\n",
        "\n",
        "# KoGPT2를 이용한 네이버 영화 감성분석\n",
        "# !pip install --upgrade mxnet>=1.6.0\n",
        "# !pip install gluonnlp\n",
        "# !pip install transformers\n",
        "# !pip install sentencepiece\n",
        "\n",
        "import gluonnlp as nlp\n",
        "from gluonnlp.data import SentencepieceTokenizer, SentencepieceDetokenizer\n",
        "from transformers import TFGPT2LMHeadModel\n",
        "import tensorflow as tf\n",
        "import pandas as pd\n",
        "import numpy as np\n",
        "from tensorflow.keras.layers import Dense, Input\n",
        "from tensorflow.keras.models import Model\n",
        "from tensorflow.keras.optimizers import Adam\n",
        "from sklearn.model_selection import train_test_split\n",
        "from tensorflow.keras.preprocessing.sequence import pad_sequences\n",
        "import re\n",
        "from tqdm import tqdm\n",
        "import matplotlib.pyplot as plt\n"
      ],
      "execution_count": null,
      "outputs": []
    },
    {
      "cell_type": "code",
      "metadata": {
        "colab": {
          "base_uri": "https://localhost:8080/",
          "height": 204
        },
        "id": "sEGHshtmhENP",
        "outputId": "7ebc8371-4275-4f04-e9b0-e72533ec0a24"
      },
      "source": [
        "# Commented out IPython magic to ensure Python compatibility.\n",
        "# %cd '/content/drive/MyDrive/Colab Notebooks'\n",
        "df = pd.read_csv('/content/drive/MyDrive/머신러닝/GPT/naver_ratings.txt', header=0, delimiter='\\t', quoting=3)\n",
        "df = df.dropna()\n",
        "df.head()"
      ],
      "execution_count": null,
      "outputs": [
        {
          "output_type": "execute_result",
          "data": {
            "text/html": [
              "<div>\n",
              "<style scoped>\n",
              "    .dataframe tbody tr th:only-of-type {\n",
              "        vertical-align: middle;\n",
              "    }\n",
              "\n",
              "    .dataframe tbody tr th {\n",
              "        vertical-align: top;\n",
              "    }\n",
              "\n",
              "    .dataframe thead th {\n",
              "        text-align: right;\n",
              "    }\n",
              "</style>\n",
              "<table border=\"1\" class=\"dataframe\">\n",
              "  <thead>\n",
              "    <tr style=\"text-align: right;\">\n",
              "      <th></th>\n",
              "      <th>id</th>\n",
              "      <th>document</th>\n",
              "      <th>label</th>\n",
              "    </tr>\n",
              "  </thead>\n",
              "  <tbody>\n",
              "    <tr>\n",
              "      <th>0</th>\n",
              "      <td>8112052</td>\n",
              "      <td>어릴때보고 지금다시봐도 재밌어요ㅋㅋ</td>\n",
              "      <td>1</td>\n",
              "    </tr>\n",
              "    <tr>\n",
              "      <th>1</th>\n",
              "      <td>8132799</td>\n",
              "      <td>디자인을 배우는 학생으로, 외국디자이너와 그들이 일군 전통을 통해 발전해가는 문화산...</td>\n",
              "      <td>1</td>\n",
              "    </tr>\n",
              "    <tr>\n",
              "      <th>2</th>\n",
              "      <td>4655635</td>\n",
              "      <td>폴리스스토리 시리즈는 1부터 뉴까지 버릴께 하나도 없음.. 최고.</td>\n",
              "      <td>1</td>\n",
              "    </tr>\n",
              "    <tr>\n",
              "      <th>3</th>\n",
              "      <td>9251303</td>\n",
              "      <td>와.. 연기가 진짜 개쩔구나.. 지루할거라고 생각했는데 몰입해서 봤다.. 그래 이런...</td>\n",
              "      <td>1</td>\n",
              "    </tr>\n",
              "    <tr>\n",
              "      <th>4</th>\n",
              "      <td>10067386</td>\n",
              "      <td>안개 자욱한 밤하늘에 떠 있는 초승달 같은 영화.</td>\n",
              "      <td>1</td>\n",
              "    </tr>\n",
              "  </tbody>\n",
              "</table>\n",
              "</div>"
            ],
            "text/plain": [
              "         id                                           document  label\n",
              "0   8112052                                어릴때보고 지금다시봐도 재밌어요ㅋㅋ      1\n",
              "1   8132799  디자인을 배우는 학생으로, 외국디자이너와 그들이 일군 전통을 통해 발전해가는 문화산...      1\n",
              "2   4655635               폴리스스토리 시리즈는 1부터 뉴까지 버릴께 하나도 없음.. 최고.      1\n",
              "3   9251303  와.. 연기가 진짜 개쩔구나.. 지루할거라고 생각했는데 몰입해서 봤다.. 그래 이런...      1\n",
              "4  10067386                        안개 자욱한 밤하늘에 떠 있는 초승달 같은 영화.      1"
            ]
          },
          "metadata": {
            "tags": []
          },
          "execution_count": 4
        }
      ]
    },
    {
      "cell_type": "code",
      "metadata": {
        "id": "Cp8_SQSnhFYH"
      },
      "source": [
        "# \"\\d+\"는 숫자 1개 이상을 의미함. 모든 숫자를 공백으로 치환\n",
        "df['document'] = df['document'].apply(lambda x: re.sub(r\"\\d+\", \" \", x))\n",
        "df.drop('id', axis = 1, inplace = True)"
      ],
      "execution_count": null,
      "outputs": []
    },
    {
      "cell_type": "code",
      "metadata": {
        "id": "4qanfusZhGYd"
      },
      "source": [
        "document = list(df['document'])\n",
        "label = list(df['label'])\n",
        "dx_train, dx_test, dy_train, dy_test = train_test_split(document, label, test_size=0.2)"
      ],
      "execution_count": null,
      "outputs": []
    },
    {
      "cell_type": "code",
      "metadata": {
        "id": "6ACys35NhH0j"
      },
      "source": [
        "MY_PATH = '/content/drive/MyDrive/머신러닝/GPT/gpt_ckpt/'\n",
        "MODEL_PATH = MY_PATH \n",
        "TOKENIZER_PATH = MY_PATH + 'gpt2_kor_tokenizer.spiece'\n",
        "\n",
        "tokenizer = SentencepieceTokenizer(TOKENIZER_PATH, num_best=0, alpha=0)\n",
        "detokenizer = SentencepieceDetokenizer(TOKENIZER_PATH)\n",
        "vocab = nlp.vocab.BERTVocab.from_sentencepiece(TOKENIZER_PATH,\n",
        "                                               mask_token = None,\n",
        "                                               sep_token = None,\n",
        "                                               cls_token = None,\n",
        "                                               unknown_token = '<unk>',\n",
        "                                               padding_token = '<pad>',\n",
        "                                               bos_token = '<s>',\n",
        "                                               eos_token = '</s>')\n",
        "# vocab --> Vocab(size=50000, unk=\"<unk>\", reserved=\"['<pad>', '<s>', '</s>']\")"
      ],
      "execution_count": null,
      "outputs": []
    },
    {
      "cell_type": "code",
      "metadata": {
        "id": "7lYvyH71hI5I"
      },
      "source": [
        "MAX_LEN = 60\n",
        "\n",
        "def build_data(x_data, y_label):\n",
        "    data_sents = []\n",
        "    data_labels = []\n",
        "\n",
        "    for sent, label in zip(x_data, y_label):\n",
        "        tokenized_text = vocab[tokenizer(sent)]\n",
        "\n",
        "        tokens = [vocab[vocab.bos_token]]  \n",
        "        tokens += pad_sequences([tokenized_text], \n",
        "                                MAX_LEN, \n",
        "                                value=vocab[vocab.padding_token], \n",
        "                                padding='post').tolist()[0] \n",
        "        tokens += [vocab[vocab.eos_token]]\n",
        "\n",
        "        data_sents.append(tokens)\n",
        "        data_labels.append(label)\n",
        "\n",
        "    return np.array(data_sents, dtype=np.int64), np.array(data_labels, dtype=np.int64).reshape(-1, 1)"
      ],
      "execution_count": null,
      "outputs": []
    },
    {
      "cell_type": "code",
      "metadata": {
        "colab": {
          "base_uri": "https://localhost:8080/"
        },
        "id": "924SqHl8hX2z",
        "outputId": "9b30bd18-c9a1-409e-93c0-5a9654d1d49a"
      },
      "source": [
        "# 시험용으로 100개씩만 사용한다.\n",
        "# x_train, y_train = build_data(dx_train[:100], dy_train[:100])\n",
        "# x_test, y_test = build_data(dx_test[:100], dy_test[:100])\n",
        "x_train, y_train = build_data(dx_train, dy_train)\n",
        "x_test, y_test = build_data(dx_test, dy_test)\n",
        "\n",
        "x_train.shape, y_train.shape, x_test.shape, y_test.shape"
      ],
      "execution_count": null,
      "outputs": [
        {
          "output_type": "execute_result",
          "data": {
            "text/plain": [
              "((159993, 62), (159993, 1), (39999, 62), (39999, 1))"
            ]
          },
          "metadata": {
            "tags": []
          },
          "execution_count": 12
        }
      ]
    },
    {
      "cell_type": "code",
      "metadata": {
        "colab": {
          "base_uri": "https://localhost:8080/"
        },
        "id": "2sptxAl9hXl7",
        "outputId": "af02a6c5-807f-4790-ade2-e8ed50da3a9d"
      },
      "source": [
        "x_test[0]"
      ],
      "execution_count": null,
      "outputs": [
        {
          "output_type": "execute_result",
          "data": {
            "text/plain": [
              "array([    0,  3888,  2019,  1499,   296,  3346, 47635,  1073, 11657,\n",
              "       13315,  6828, 47522, 48283,   602,   269,     3,     3,     3,\n",
              "           3,     3,     3,     3,     3,     3,     3,     3,     3,\n",
              "           3,     3,     3,     3,     3,     3,     3,     3,     3,\n",
              "           3,     3,     3,     3,     3,     3,     3,     3,     3,\n",
              "           3,     3,     3,     3,     3,     3,     3,     3,     3,\n",
              "           3,     3,     3,     3,     3,     3,     3,     1])"
            ]
          },
          "metadata": {
            "tags": []
          },
          "execution_count": 13
        }
      ]
    },
    {
      "cell_type": "code",
      "metadata": {
        "colab": {
          "base_uri": "https://localhost:8080/"
        },
        "id": "ljzoN0iEhXVZ",
        "outputId": "fe278a86-3f3c-4dbb-d59a-68be5795db06"
      },
      "source": [
        "len(x_test[0])"
      ],
      "execution_count": null,
      "outputs": [
        {
          "output_type": "execute_result",
          "data": {
            "text/plain": [
              "62"
            ]
          },
          "metadata": {
            "tags": []
          },
          "execution_count": 14
        }
      ]
    },
    {
      "cell_type": "code",
      "metadata": {
        "colab": {
          "base_uri": "https://localhost:8080/"
        },
        "id": "mXTTtBz8hW8c",
        "outputId": "a64c9cd0-442f-4be4-8263-ef9728bcbe3a"
      },
      "source": [
        "print(len(vocab))\n",
        "print(vocab.padding_token, ':', vocab[vocab.padding_token])\n",
        "print(vocab.bos_token, ': ', vocab[vocab.bos_token])\n",
        "print(vocab.eos_token, ': ', vocab[vocab.eos_token])\n",
        "print(vocab.unknown_token, ': ', vocab[vocab.unknown_token])"
      ],
      "execution_count": null,
      "outputs": [
        {
          "output_type": "stream",
          "text": [
            "50000\n",
            "<pad> : 3\n",
            "<s> :  0\n",
            "</s> :  1\n",
            "<unk> :  5\n"
          ],
          "name": "stdout"
        }
      ]
    },
    {
      "cell_type": "code",
      "metadata": {
        "colab": {
          "base_uri": "https://localhost:8080/",
          "height": 35
        },
        "id": "h6aKWwhmhVXN",
        "outputId": "e47ce324-8e91-4622-be9f-71228b4115a7"
      },
      "source": [
        "word2idx = {k:v for k, v in vocab.token_to_idx.items()}\n",
        "idx2word = {v:k for k, v in word2idx.items()}\n",
        "idx2word[5000]"
      ],
      "execution_count": null,
      "outputs": [
        {
          "output_type": "execute_result",
          "data": {
            "application/vnd.google.colaboratory.intrinsic+json": {
              "type": "string"
            },
            "text/plain": [
              "'▁전세'"
            ]
          },
          "metadata": {
            "tags": []
          },
          "execution_count": 17
        }
      ]
    },
    {
      "cell_type": "code",
      "metadata": {
        "colab": {
          "base_uri": "https://localhost:8080/"
        },
        "id": "7WUEIe5phUqL",
        "outputId": "14561cba-dacb-4d52-bafb-45fab7eaf382"
      },
      "source": [
        "# 참고 : https://nlp.gluon.ai/api/modules/data.html\n",
        "tokenizer('나는 자연어처리를 공부하고 있다')\n",
        "\n",
        "print([idx2word[i] for i in x_test[0]])"
      ],
      "execution_count": null,
      "outputs": [
        {
          "output_type": "stream",
          "text": [
            "['<s>', '▁스토', '리와', '▁배우', '들의', '▁연기', '력', '▁그리고', '▁감독의', '▁메시지', '....', '그', '냥', '▁최고', '였다', '<pad>', '<pad>', '<pad>', '<pad>', '<pad>', '<pad>', '<pad>', '<pad>', '<pad>', '<pad>', '<pad>', '<pad>', '<pad>', '<pad>', '<pad>', '<pad>', '<pad>', '<pad>', '<pad>', '<pad>', '<pad>', '<pad>', '<pad>', '<pad>', '<pad>', '<pad>', '<pad>', '<pad>', '<pad>', '<pad>', '<pad>', '<pad>', '<pad>', '<pad>', '<pad>', '<pad>', '<pad>', '<pad>', '<pad>', '<pad>', '<pad>', '<pad>', '<pad>', '<pad>', '<pad>', '<pad>', '</s>']\n"
          ],
          "name": "stdout"
        }
      ]
    },
    {
      "cell_type": "code",
      "metadata": {
        "colab": {
          "base_uri": "https://localhost:8080/"
        },
        "id": "yA8ZB5cRhTgq",
        "outputId": "1c75c737-4ce3-42cc-e36e-a7341bb28cdf"
      },
      "source": [
        "gpt_model = TFGPT2LMHeadModel.from_pretrained(MODEL_PATH)\n",
        "gpt_model.summary()"
      ],
      "execution_count": null,
      "outputs": [
        {
          "output_type": "stream",
          "text": [
            "All model checkpoint layers were used when initializing TFGPT2LMHeadModel.\n",
            "\n",
            "All the layers of TFGPT2LMHeadModel were initialized from the model checkpoint at /content/drive/MyDrive/머신러닝/GPT/gpt_ckpt/.\n",
            "If your task is similar to the task the model of the checkpoint was trained on, you can already use TFGPT2LMHeadModel for predictions without further training.\n"
          ],
          "name": "stderr"
        },
        {
          "output_type": "stream",
          "text": [
            "Model: \"tfgp_t2lm_head_model\"\n",
            "_________________________________________________________________\n",
            "Layer (type)                 Output Shape              Param #   \n",
            "=================================================================\n",
            "transformer (TFGPT2MainLayer multiple                  124242432 \n",
            "=================================================================\n",
            "Total params: 124,242,432\n",
            "Trainable params: 124,242,432\n",
            "Non-trainable params: 0\n",
            "_________________________________________________________________\n"
          ],
          "name": "stdout"
        }
      ]
    },
    {
      "cell_type": "code",
      "metadata": {
        "colab": {
          "base_uri": "https://localhost:8080/"
        },
        "id": "StewqRZehTNW",
        "outputId": "384576aa-e3bc-4f14-b4ef-6c08a75348a2"
      },
      "source": [
        "# TFGPT2MainLayer는 fine-tuning을 하지 않는다.\n",
        "gpt_model.trainable = False\n",
        "gpt_model.summary() # gtp_model을 다시 확인한다. trainable params = 0"
      ],
      "execution_count": null,
      "outputs": [
        {
          "output_type": "stream",
          "text": [
            "Model: \"tfgp_t2lm_head_model\"\n",
            "_________________________________________________________________\n",
            "Layer (type)                 Output Shape              Param #   \n",
            "=================================================================\n",
            "transformer (TFGPT2MainLayer multiple                  124242432 \n",
            "=================================================================\n",
            "Total params: 124,242,432\n",
            "Trainable params: 0\n",
            "Non-trainable params: 124,242,432\n",
            "_________________________________________________________________\n"
          ],
          "name": "stdout"
        }
      ]
    },
    {
      "cell_type": "code",
      "metadata": {
        "colab": {
          "base_uri": "https://localhost:8080/"
        },
        "id": "qRPwJ4ilhMBK",
        "outputId": "86bd5657-f25d-4e6a-d591-b3dfea49f84f"
      },
      "source": [
        "# GPT2 입력\n",
        "# ---------\n",
        "x_input = Input(batch_shape = (None, MAX_LEN + 2), dtype = tf.int32)\n",
        "\n",
        "# GPT2 출력\n",
        "# ---------\n",
        "# output_gpt[0]        --> <KerasTensor: shape=(None, 60, 50000) dtype=float32\n",
        "# output_gpt[0][:, -1] --> <KerasTensor: shape=(None, 50000) dtype=float32\n",
        "output_gpt = gpt_model(x_input)[0][:, -1] \n",
        "\n",
        "# Downstream task : 네이버 영화 감성분석\n",
        "# -------------------------------------\n",
        "y_output = Dense(1, activation = 'sigmoid')(output_gpt)\n",
        "model = Model(x_input, y_output)\n",
        "model.compile(loss = 'binary_crossentropy', optimizer = Adam(learning_rate = 0.001))\n",
        "model.summary()"
      ],
      "execution_count": null,
      "outputs": [
        {
          "output_type": "stream",
          "text": [
            "WARNING:tensorflow:The parameters `output_attentions`, `output_hidden_states` and `use_cache` cannot be updated when calling a model.They have to be set to True/False in the config object (i.e.: `config=XConfig.from_pretrained('name', output_attentions=True)`).\n",
            "WARNING:tensorflow:AutoGraph could not transform <bound method Socket.send of <zmq.sugar.socket.Socket object at 0x7f4268513d70>> and will run it as-is.\n",
            "Please report this to the TensorFlow team. When filing the bug, set the verbosity to 10 (on Linux, `export AUTOGRAPH_VERBOSITY=10`) and attach the full output.\n",
            "Cause: module, class, method, function, traceback, frame, or code object was expected, got cython_function_or_method\n",
            "To silence this warning, decorate the function with @tf.autograph.experimental.do_not_convert\n",
            "WARNING: AutoGraph could not transform <bound method Socket.send of <zmq.sugar.socket.Socket object at 0x7f4268513d70>> and will run it as-is.\n",
            "Please report this to the TensorFlow team. When filing the bug, set the verbosity to 10 (on Linux, `export AUTOGRAPH_VERBOSITY=10`) and attach the full output.\n",
            "Cause: module, class, method, function, traceback, frame, or code object was expected, got cython_function_or_method\n",
            "To silence this warning, decorate the function with @tf.autograph.experimental.do_not_convert\n",
            "WARNING:tensorflow:AutoGraph could not transform <function wrap at 0x7f42936c7170> and will run it as-is.\n",
            "Cause: while/else statement not yet supported\n",
            "To silence this warning, decorate the function with @tf.autograph.experimental.do_not_convert\n",
            "WARNING: AutoGraph could not transform <function wrap at 0x7f42936c7170> and will run it as-is.\n",
            "Cause: while/else statement not yet supported\n",
            "To silence this warning, decorate the function with @tf.autograph.experimental.do_not_convert\n",
            "WARNING:tensorflow:The parameter `return_dict` cannot be set in graph mode and will always be set to `True`.\n",
            "WARNING:tensorflow:From /usr/local/lib/python3.7/dist-packages/tensorflow/python/ops/array_ops.py:5049: calling gather (from tensorflow.python.ops.array_ops) with validate_indices is deprecated and will be removed in a future version.\n",
            "Instructions for updating:\n",
            "The `validate_indices` argument has no effect. Indices are always validated on CPU and never validated on GPU.\n",
            "Model: \"model\"\n",
            "_________________________________________________________________\n",
            "Layer (type)                 Output Shape              Param #   \n",
            "=================================================================\n",
            "input_1 (InputLayer)         [(None, 62)]              0         \n",
            "_________________________________________________________________\n",
            "tfgp_t2lm_head_model (TFGPT2 TFCausalLMOutputWithPast( 124242432 \n",
            "_________________________________________________________________\n",
            "tf.__operators__.getitem (Sl (None, 50000)             0         \n",
            "_________________________________________________________________\n",
            "dense (Dense)                (None, 1)                 50001     \n",
            "=================================================================\n",
            "Total params: 124,292,433\n",
            "Trainable params: 50,001\n",
            "Non-trainable params: 124,242,432\n",
            "_________________________________________________________________\n"
          ],
          "name": "stdout"
        }
      ]
    },
    {
      "cell_type": "code",
      "metadata": {
        "colab": {
          "base_uri": "https://localhost:8080/"
        },
        "id": "8uysXs_ihKXs",
        "outputId": "f423696c-6f9c-416c-afc0-bd1b6522d467"
      },
      "source": [
        "hist = model.fit(x_train, y_train, validation_data = (x_test, y_test), epochs=3, batch_size=1024)\n",
        "# 1/1 [==============================] - 14s 14s/step - loss: 0.7251 - val_loss: 70.8553\n",
        "# Epoch 2/3\n",
        "# 1/1 [==============================] - 1s 1s/step - loss: 69.2513 - val_loss: 26.5999\n",
        "# Epoch 3/3\n",
        "# 1/1 [==============================] - 1s 1s/step - loss: 25.5047 - val_loss: 21.4767"
      ],
      "execution_count": null,
      "outputs": [
        {
          "output_type": "stream",
          "text": [
            "Epoch 1/3\n",
            "WARNING:tensorflow:The parameters `output_attentions`, `output_hidden_states` and `use_cache` cannot be updated when calling a model.They have to be set to True/False in the config object (i.e.: `config=XConfig.from_pretrained('name', output_attentions=True)`).\n",
            "WARNING:tensorflow:The parameter `return_dict` cannot be set in graph mode and will always be set to `True`.\n",
            "WARNING:tensorflow:The parameters `output_attentions`, `output_hidden_states` and `use_cache` cannot be updated when calling a model.They have to be set to True/False in the config object (i.e.: `config=XConfig.from_pretrained('name', output_attentions=True)`).\n",
            "WARNING:tensorflow:The parameter `return_dict` cannot be set in graph mode and will always be set to `True`.\n",
            "157/157 [==============================] - ETA: 0s - loss: 8.7078WARNING:tensorflow:The parameters `output_attentions`, `output_hidden_states` and `use_cache` cannot be updated when calling a model.They have to be set to True/False in the config object (i.e.: `config=XConfig.from_pretrained('name', output_attentions=True)`).\n",
            "WARNING:tensorflow:The parameter `return_dict` cannot be set in graph mode and will always be set to `True`.\n",
            "157/157 [==============================] - 545s 3s/step - loss: 8.7078 - val_loss: 4.4779\n",
            "Epoch 2/3\n",
            "157/157 [==============================] - 527s 3s/step - loss: 3.3405 - val_loss: 12.2919\n",
            "Epoch 3/3\n",
            "157/157 [==============================] - 527s 3s/step - loss: 2.7341 - val_loss: 4.4248\n"
          ],
          "name": "stdout"
        }
      ]
    },
    {
      "cell_type": "code",
      "metadata": {
        "colab": {
          "base_uri": "https://localhost:8080/",
          "height": 295
        },
        "id": "ELau41FuhJ-Y",
        "outputId": "ebe467f7-82dd-4da0-ab0d-e24bc0b5580c"
      },
      "source": [
        "# Loss history를 그린다\n",
        "plt.plot(hist.history['loss'], label='Train loss')\n",
        "plt.plot(hist.history['val_loss'], label = 'Test loss')\n",
        "plt.legend()\n",
        "plt.title(\"Loss history\")\n",
        "plt.xlabel(\"epoch\")\n",
        "plt.ylabel(\"loss\")\n",
        "plt.show()"
      ],
      "execution_count": null,
      "outputs": [
        {
          "output_type": "display_data",
          "data": {
            "image/png": "[encoded data removed]",
            "text/plain": [
              "<Figure size 432x288 with 1 Axes>"
            ]
          },
          "metadata": {
            "tags": [],
            "needs_background": "light"
          }
        }
      ]
    },
    {
      "cell_type": "code",
      "metadata": {
        "colab": {
          "base_uri": "https://localhost:8080/"
        },
        "id": "DYAZh2o1hJrx",
        "outputId": "4204d20a-b9cd-4735-8af4-53665bbb0b30"
      },
      "source": [
        "# 시험 데이터로 학습 성능을 평가한다\n",
        "pred = model.predict(x_test)\n",
        "y_pred = np.where(pred > 0.5, 1, 0)\n",
        "accuracy = (y_pred == y_test).mean()\n",
        "print(\"\\nAccuracy = %.2f %s\" % (accuracy * 100, '%'))"
      ],
      "execution_count": null,
      "outputs": [
        {
          "output_type": "stream",
          "text": [
            "WARNING:tensorflow:The parameters `output_attentions`, `output_hidden_states` and `use_cache` cannot be updated when calling a model.They have to be set to True/False in the config object (i.e.: `config=XConfig.from_pretrained('name', output_attentions=True)`).\n",
            "WARNING:tensorflow:The parameter `return_dict` cannot be set in graph mode and will always be set to `True`.\n",
            "\n",
            "Accuracy = 50.13 %\n"
          ],
          "name": "stdout"
        }
      ]
    },
    {
      "cell_type": "code",
      "metadata": {
        "id": "cRXTnm-liTCE"
      },
      "source": [
        "# gpt_model.trainable = True로 바꾸고, learning-rate를 작게 적용해서\n",
        "# 전체를 다시 학습한다. (미세 조정)"
      ],
      "execution_count": null,
      "outputs": []
    }
  ]
}
