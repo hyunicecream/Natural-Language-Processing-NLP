{
  "nbformat": 4,
  "nbformat_minor": 0,
  "metadata": {
    "colab": {
      "name": "7/9 금-Group(popcorn).ipynb",
      "provenance": [],
      "collapsed_sections": [],
      "machine_shape": "hm",
      "mount_file_id": "1SKJiFrc2gOfJ_yaJWN5eTQCRIxZgqsoh",
      "authorship_tag": "ABX9TyNxfDZJmpWZZG0+AqCvtFJN",
      "include_colab_link": true
    },
    "kernelspec": {
      "name": "python3",
      "display_name": "Python 3"
    },
    "language_info": {
      "name": "python"
    },
    "accelerator": "GPU"
  },
  "cells": [
    {
      "cell_type": "markdown",
      "metadata": {
        "id": "view-in-github",
        "colab_type": "text"
      },
      "source": [
        "<a href=\"https://colab.research.google.com/github/hyunicecream/Natural-Language-Processing-NLP-/blob/main/7_9_%EA%B8%88_Group(popcorn).ipynb\" target=\"_parent\"><img src=\"https://colab.research.google.com/assets/colab-badge.svg\" alt=\"Open In Colab\"/></a>"
      ]
    },
    {
      "cell_type": "code",
      "metadata": {
        "colab": {
          "base_uri": "https://localhost:8080/",
          "height": 162
        },
        "id": "SGB3u-TIecOQ",
        "outputId": "5af017cb-3f0f-4ac4-a518-0e0e1592a1b2"
      },
      "source": [
        "# Word Embedding & LSTM을 이용한 감성분석\n",
        "from tensorflow.keras.preprocessing.sequence import pad_sequences\n",
        "from tensorflow.keras.preprocessing.text import Tokenizer\n",
        "from tensorflow.keras.layers import Input, Embedding, LSTM, Dense, Dropout\n",
        "from tensorflow.keras.models import Model\n",
        "from tensorflow.keras.optimizers import Adam\n",
        "from tensorflow.keras import regularizers\n",
        "from sklearn.model_selection import train_test_split\n",
        "import matplotlib.pyplot as plt\n",
        "from scipy import stats\n",
        "import numpy as np\n",
        "import pickle\n",
        "\n",
        "# pickle로 파일을 불러온다. \n",
        "with open('/content/drive/MyDrive/머신러닝/popcorn.pkl', 'rb') as f:\n",
        "    xd_train, yd_train, xd_test, yd_test = pickle.load(f)\n",
        "\n",
        "xd_train[1]"
      ],
      "execution_count": 10,
      "outputs": [
        {
          "output_type": "execute_result",
          "data": {
            "application/vnd.google.colaboratory.intrinsic+json": {
              "type": "string"
            },
            "text/plain": [
              "'first time saw movi eighti review thriller still actual some newer movi focu similar topic match french mileston presid obvious kennedi get shot open car public appear the result huge investig find lee harvey oswald figur movi guilti one member juri insist inquiri reveal surpris evid unlik oliv stone jfk movi plot one play emot concentr excit descript conspiraci everyth fit togeth draw new pictur assassin even real psycholog experi use explan crime scene compar jfk movi reason intellig thrill part plot found lot newer movi kind deja sometim sit cinema comm icar must see it uniqu brilliant music ennio morricon wonder thi movi deserv good rank hollywood product would famou sure'"
            ]
          },
          "metadata": {
            "tags": []
          },
          "execution_count": 10
        }
      ]
    },
    {
      "cell_type": "code",
      "metadata": {
        "id": "T4Ic9h0ClJ0q"
      },
      "source": [
        "# 학습, 시험 데이터를 합쳐서 (vocabulary)을 구축한다.\n",
        "x_data = xd_train + xd_test\n",
        "y_traget = np.array(yd_train + yd_test).reshape(-1,1)"
      ],
      "execution_count": 5,
      "outputs": []
    },
    {
      "cell_type": "code",
      "metadata": {
        "id": "10L6083Vkuep"
      },
      "source": [
        "# 사전을 구축하고 학습 데이터를 워드 인덱스로 표현한다.\n",
        "tokenizer = Tokenizer()\n",
        "tokenizer.fit_on_texts(x_data)\n",
        "x_idx = tokenizer.texts_to_sequences(x_data)\n",
        "#x_idx"
      ],
      "execution_count": null,
      "outputs": []
    },
    {
      "cell_type": "code",
      "metadata": {
        "colab": {
          "base_uri": "https://localhost:8080/"
        },
        "id": "HVqGNn9qiOg7",
        "outputId": "f28cee82-3be0-4d8c-881d-6f88e688cad7"
      },
      "source": [
        "# vocabulary\n",
        "word2idx = tokenizer.word_index\n",
        "word2idx['<PAD>'] = 0\n",
        "word2idx['<PAD>']"
      ],
      "execution_count": 15,
      "outputs": [
        {
          "output_type": "execute_result",
          "data": {
            "text/plain": [
              "0"
            ]
          },
          "metadata": {
            "tags": []
          },
          "execution_count": 15
        }
      ]
    },
    {
      "cell_type": "code",
      "metadata": {
        "id": "qgSw1uBEmVKF"
      },
      "source": [
        "# 각 리뷰의 길이를 측정하고, 평균 길이를 구한다.\n",
        "x_len = [len(x) for x in x_idx]"
      ],
      "execution_count": null,
      "outputs": []
    },
    {
      "cell_type": "code",
      "metadata": {
        "colab": {
          "base_uri": "https://localhost:8080/"
        },
        "id": "SB1JczhR0Uxe",
        "outputId": "2bcadc39-caac-4272-ca43-8aba8ec05d00"
      },
      "source": [
        "print('평균 =', np.mean(x_len))\n",
        "print('최소 =', np.min(x_len))\n",
        "print('최대 =', np.max(x_len))\n",
        "print('중앙값 =', np.median(x_len))"
      ],
      "execution_count": 16,
      "outputs": [
        {
          "output_type": "stream",
          "text": [
            "평균 = 123.57604\n",
            "최소 = 5\n",
            "최대 = 1436\n",
            "중앙값 = 92.0\n"
          ],
          "name": "stdout"
        }
      ]
    },
    {
      "cell_type": "code",
      "metadata": {
        "colab": {
          "base_uri": "https://localhost:8080/",
          "height": 265
        },
        "id": "TMLCsUvezEtT",
        "outputId": "eeafa5a9-ec1b-42ec-a787-be7049d9cc0e"
      },
      "source": [
        "# 길이 분포를 확인한다.\n",
        "plt.hist(x_len, bins=50)\n",
        "plt.show()"
      ],
      "execution_count": 17,
      "outputs": [
        {
          "output_type": "display_data",
          "data": {
            "image/png": "[encoded data removed]",
            "text/plain": [
              "<Figure size 432x288 with 1 Axes>"
            ]
          },
          "metadata": {
            "tags": [],
            "needs_background": "light"
          }
        }
      ]
    },
    {
      "cell_type": "code",
      "metadata": {
        "colab": {
          "base_uri": "https://localhost:8080/"
        },
        "id": "chZVfmC_zLmi",
        "outputId": "6e78a77a-3b0d-4508-948f-151952eef523"
      },
      "source": [
        "# 각 리뷰의 길이를 max_seq_len로 맞춘다. 길면 자르고, 짧으면 padding을 추가한다.\n",
        "# padding='post':\n",
        "# Numpy로 패딩을 진행하였을 때와는 패딩 결과가 다른데 그 이유는 pad_sequences는 기본적으로 문서의 \n",
        "# 뒤에 0을 채우는 것이 아니라 앞에 0으로 채우기때문입니다. 뒤에 0을 채우고 싶다면 인자로 padding = 'post'를 준다.\n",
        "MAX_SEQ_LEN = 200\n",
        "x_review = pad_sequences(x_idx, maxlen=MAX_SEQ_LEN, padding='post', truncating='post')\n",
        "x_review[5000]"
      ],
      "execution_count": 19,
      "outputs": [
        {
          "output_type": "execute_result",
          "data": {
            "text/plain": [
              "array([  377,   125,  2498,   125,    40,    86,    48,   245,   285,\n",
              "         108,     1,   325,   511,    17,    13,  1568,  5574,   137,\n",
              "        2990,    86,  2028,   220,    78,    21,  1757,    16,    10,\n",
              "          21,    16,  1840,   161,   141,    90,    33,   108,  1253,\n",
              "           4,   220,   319,   558,   226, 34468,   394,     1,   903,\n",
              "         564,   563,   132,   108,    45,   168,  2028,   220,    78,\n",
              "         127,    29,   493,    58,    10,     8,     1,    27,  1330,\n",
              "         489,  8359,   121,  4599,    45,    47,     0,     0,     0,\n",
              "           0,     0,     0,     0,     0,     0,     0,     0,     0,\n",
              "           0,     0,     0,     0,     0,     0,     0,     0,     0,\n",
              "           0,     0,     0,     0,     0,     0,     0,     0,     0,\n",
              "           0,     0,     0,     0,     0,     0,     0,     0,     0,\n",
              "           0,     0,     0,     0,     0,     0,     0,     0,     0,\n",
              "           0,     0,     0,     0,     0,     0,     0,     0,     0,\n",
              "           0,     0,     0,     0,     0,     0,     0,     0,     0,\n",
              "           0,     0,     0,     0,     0,     0,     0,     0,     0,\n",
              "           0,     0,     0,     0,     0,     0,     0,     0,     0,\n",
              "           0,     0,     0,     0,     0,     0,     0,     0,     0,\n",
              "           0,     0,     0,     0,     0,     0,     0,     0,     0,\n",
              "           0,     0,     0,     0,     0,     0,     0,     0,     0,\n",
              "           0,     0,     0,     0,     0,     0,     0,     0,     0,\n",
              "           0,     0,     0,     0,     0,     0,     0,     0,     0,\n",
              "           0,     0], dtype=int32)"
            ]
          },
          "metadata": {
            "tags": []
          },
          "execution_count": 19
        }
      ]
    },
    {
      "cell_type": "code",
      "metadata": {
        "id": "Gc3qrq4Z3-iA"
      },
      "source": [
        "# 학습 데이터와 시험 데이터로 분리한다. \n",
        "x_train, x_test, y_train, y_test = train_test_split(x_review, y_traget, test_size=0.2)"
      ],
      "execution_count": 20,
      "outputs": []
    },
    {
      "cell_type": "code",
      "metadata": {
        "colab": {
          "base_uri": "https://localhost:8080/"
        },
        "id": "lbn6iO4h4Upj",
        "outputId": "ce1350a0-3c4f-42d0-eeb4-0a2718b2e3da"
      },
      "source": [
        "# Embedding & LSTM 모델을 생성한다. \n",
        "vocab_size = len(word2idx)\n",
        "EMBEDDING_DIM = 32\n",
        "HIDDEN_DIM = 64\n",
        "\n",
        "x_input = Input = Input(batch_shape=(None, x_train.shape[1]))\n",
        "e_layer = Embedding(input_dim=vocab_size, output_dim=EMBEDDING_DIM)(x_input)\n",
        "e_layer = Dropout(rate=0.5)(e_layer)\n",
        "r_layer = LSTM(HIDDEN_DIM, dropout=0.5)(e_layer)\n",
        "y_output = Dense(1, activation='sigmoid')(r_layer)\n",
        "\n",
        "model = Model(x_input, y_output)\n",
        "model.compile(loss='binary_crossentropy', optimizer=Adam(learning_rate=0.0005))\n",
        "model.summary()"
      ],
      "execution_count": 21,
      "outputs": [
        {
          "output_type": "stream",
          "text": [
            "Model: \"model\"\n",
            "_________________________________________________________________\n",
            "Layer (type)                 Output Shape              Param #   \n",
            "=================================================================\n",
            "input_1 (InputLayer)         [(None, 200)]             0         \n",
            "_________________________________________________________________\n",
            "embedding (Embedding)        (None, 200, 32)           1580224   \n",
            "_________________________________________________________________\n",
            "dropout (Dropout)            (None, 200, 32)           0         \n",
            "_________________________________________________________________\n",
            "lstm (LSTM)                  (None, 64)                24832     \n",
            "_________________________________________________________________\n",
            "dense (Dense)                (None, 1)                 65        \n",
            "=================================================================\n",
            "Total params: 1,605,121\n",
            "Trainable params: 1,605,121\n",
            "Non-trainable params: 0\n",
            "_________________________________________________________________\n"
          ],
          "name": "stdout"
        }
      ]
    },
    {
      "cell_type": "code",
      "metadata": {
        "colab": {
          "base_uri": "https://localhost:8080/"
        },
        "id": "rBmgJU-f5z26",
        "outputId": "b14e8cde-9673-4202-e5c9-172519c79ece"
      },
      "source": [
        "# 학습 \n",
        "hist = model.fit(x_train, y_train, validation_data= (x_test, y_test), batch_size= 1024, epochs=30)"
      ],
      "execution_count": 22,
      "outputs": [
        {
          "output_type": "stream",
          "text": [
            "Epoch 1/30\n",
            "20/20 [==============================] - 7s 60ms/step - loss: 0.6931 - val_loss: 0.6931\n",
            "Epoch 2/30\n",
            "20/20 [==============================] - 1s 41ms/step - loss: 0.6929 - val_loss: 0.6929\n",
            "Epoch 3/30\n",
            "20/20 [==============================] - 1s 43ms/step - loss: 0.6925 - val_loss: 0.6925\n",
            "Epoch 4/30\n",
            "20/20 [==============================] - 1s 41ms/step - loss: 0.6917 - val_loss: 0.6903\n",
            "Epoch 5/30\n",
            "20/20 [==============================] - 1s 41ms/step - loss: 0.6877 - val_loss: 0.6896\n",
            "Epoch 6/30\n",
            "20/20 [==============================] - 1s 41ms/step - loss: 0.6864 - val_loss: 0.6856\n",
            "Epoch 7/30\n",
            "20/20 [==============================] - 1s 42ms/step - loss: 0.6243 - val_loss: 0.5481\n",
            "Epoch 8/30\n",
            "20/20 [==============================] - 1s 42ms/step - loss: 0.4953 - val_loss: 0.4366\n",
            "Epoch 9/30\n",
            "20/20 [==============================] - 1s 42ms/step - loss: 0.4019 - val_loss: 0.3708\n",
            "Epoch 10/30\n",
            "20/20 [==============================] - 1s 42ms/step - loss: 0.3203 - val_loss: 0.3232\n",
            "Epoch 11/30\n",
            "20/20 [==============================] - 1s 42ms/step - loss: 0.2791 - val_loss: 0.2939\n",
            "Epoch 12/30\n",
            "20/20 [==============================] - 1s 41ms/step - loss: 0.2504 - val_loss: 0.3065\n",
            "Epoch 13/30\n",
            "20/20 [==============================] - 1s 41ms/step - loss: 0.2244 - val_loss: 0.2823\n",
            "Epoch 14/30\n",
            "20/20 [==============================] - 1s 41ms/step - loss: 0.2062 - val_loss: 0.2788\n",
            "Epoch 15/30\n",
            "20/20 [==============================] - 1s 42ms/step - loss: 0.1905 - val_loss: 0.2937\n",
            "Epoch 16/30\n",
            "20/20 [==============================] - 1s 42ms/step - loss: 0.1773 - val_loss: 0.2931\n",
            "Epoch 17/30\n",
            "20/20 [==============================] - 1s 42ms/step - loss: 0.1626 - val_loss: 0.2734\n",
            "Epoch 18/30\n",
            "20/20 [==============================] - 1s 42ms/step - loss: 0.1524 - val_loss: 0.2705\n",
            "Epoch 19/30\n",
            "20/20 [==============================] - 1s 42ms/step - loss: 0.1389 - val_loss: 0.2835\n",
            "Epoch 20/30\n",
            "20/20 [==============================] - 1s 42ms/step - loss: 0.1343 - val_loss: 0.3526\n",
            "Epoch 21/30\n",
            "20/20 [==============================] - 1s 41ms/step - loss: 0.1310 - val_loss: 0.3008\n",
            "Epoch 22/30\n",
            "20/20 [==============================] - 1s 42ms/step - loss: 0.1218 - val_loss: 0.3376\n",
            "Epoch 23/30\n",
            "20/20 [==============================] - 1s 42ms/step - loss: 0.1172 - val_loss: 0.2874\n",
            "Epoch 24/30\n",
            "20/20 [==============================] - 1s 42ms/step - loss: 0.1080 - val_loss: 0.3409\n",
            "Epoch 25/30\n",
            "20/20 [==============================] - 1s 42ms/step - loss: 0.1031 - val_loss: 0.3462\n",
            "Epoch 26/30\n",
            "20/20 [==============================] - 1s 41ms/step - loss: 0.0908 - val_loss: 0.3216\n",
            "Epoch 27/30\n",
            "20/20 [==============================] - 1s 41ms/step - loss: 0.0930 - val_loss: 0.3404\n",
            "Epoch 28/30\n",
            "20/20 [==============================] - 1s 42ms/step - loss: 0.0903 - val_loss: 0.3603\n",
            "Epoch 29/30\n",
            "20/20 [==============================] - 1s 42ms/step - loss: 0.0837 - val_loss: 0.3283\n",
            "Epoch 30/30\n",
            "20/20 [==============================] - 1s 42ms/step - loss: 0.0818 - val_loss: 0.3294\n"
          ],
          "name": "stdout"
        }
      ]
    },
    {
      "cell_type": "code",
      "metadata": {
        "colab": {
          "base_uri": "https://localhost:8080/",
          "height": 295
        },
        "id": "w5hl3sC16HN2",
        "outputId": "47b4c0f1-4695-4a50-c5bc-3b343091b18a"
      },
      "source": [
        "# Loss histroy를 그린다.\n",
        "plt.plot(hist.history['loss'], label='Train loss')\n",
        "plt.plot(hist.history['val_loss'], label = 'Test loss')\n",
        "plt.legend()\n",
        "plt.title(\"Loss history\")\n",
        "plt.xlabel(\"epoch\")\n",
        "plt.ylabel(\"loss\")\n",
        "plt.show()"
      ],
      "execution_count": 24,
      "outputs": [
        {
          "output_type": "display_data",
          "data": {
            "image/png": "[encoded data removed]",
            "text/plain": [
              "<Figure size 432x288 with 1 Axes>"
            ]
          },
          "metadata": {
            "tags": [],
            "needs_background": "light"
          }
        }
      ]
    },
    {
      "cell_type": "code",
      "metadata": {
        "colab": {
          "base_uri": "https://localhost:8080/"
        },
        "id": "qnxtHJa56ZB4",
        "outputId": "52ab928a-c9ed-455b-ee53-e41c06678f1b"
      },
      "source": [
        "# 시험 데이터로 학습 성능을 평가한다.\n",
        "pred = model.predict(x_test)\n",
        "y_pred = np.where(pred > 0.5, 1, 0)\n",
        "accuracy = (y_pred == y_test).mean()\n",
        "print(\"\\nAccuracy = %.2f %s\" % (accuracy * 100, '%'))"
      ],
      "execution_count": 25,
      "outputs": [
        {
          "output_type": "stream",
          "text": [
            "\n",
            "Accuracy = 88.46 %\n"
          ],
          "name": "stdout"
        }
      ]
    }
  ]
}
