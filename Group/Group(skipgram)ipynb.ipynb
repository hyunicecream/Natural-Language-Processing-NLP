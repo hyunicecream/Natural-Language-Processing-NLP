{
  "nbformat": 4,
  "nbformat_minor": 0,
  "metadata": {
    "colab": {
      "name": "7/8 목Group(skipgram)ipynb",
      "provenance": [],
      "collapsed_sections": [],
      "mount_file_id": "19GkbuuJiqQ32JdnObDEmDNplOuotNMHR",
      "authorship_tag": "ABX9TyNycRwbPc8o2nJOfoqOeDGX",
      "include_colab_link": true
    },
    "kernelspec": {
      "name": "python3",
      "display_name": "Python 3"
    },
    "language_info": {
      "name": "python"
    },
    "accelerator": "GPU"
  },
  "cells": [
    {
      "cell_type": "markdown",
      "metadata": {
        "id": "view-in-github",
        "colab_type": "text"
      },
      "source": [
        "<a href=\"https://colab.research.google.com/github/hyunicecream/Natural-Language-Processing-NLP-/blob/main/7_8_%EB%AA%A9Group(skipgram)ipynb.ipynb\" target=\"_parent\"><img src=\"https://colab.research.google.com/assets/colab-badge.svg\" alt=\"Open In Colab\"/></a>"
      ]
    },
    {
      "cell_type": "code",
      "metadata": {
        "colab": {
          "base_uri": "https://localhost:8080/"
        },
        "id": "f_MaCZgONOfP",
        "outputId": "8e040ce4-73bf-4e60-feba-e39ac69e2641"
      },
      "source": [
        "import numpy as np\n",
        "import nltk\n",
        "from tensorflow.keras.preprocessing.text import Tokenizer\n",
        "from nltk.stem import LancasterStemmer\n",
        "from tensorflow.keras.layers import Input, Embedding, Dense\n",
        "from tensorflow.keras.models import Model\n",
        "from sklearn.metrics.pairwise import cosine_similarity\n",
        "nltk.download('punkt')\n",
        "nltk.download('gutenberg')\n",
        "\n",
        "text_id = nltk.corpus.gutenberg.fileids()\n",
        "text_id\n"
      ],
      "execution_count": 43,
      "outputs": [
        {
          "output_type": "stream",
          "text": [
            "[nltk_data] Downloading package punkt to /root/nltk_data...\n",
            "[nltk_data]   Package punkt is already up-to-date!\n",
            "[nltk_data] Downloading package gutenberg to /root/nltk_data...\n",
            "[nltk_data]   Package gutenberg is already up-to-date!\n"
          ],
          "name": "stdout"
        },
        {
          "output_type": "execute_result",
          "data": {
            "text/plain": [
              "['austen-emma.txt',\n",
              " 'austen-persuasion.txt',\n",
              " 'austen-sense.txt',\n",
              " 'bible-kjv.txt',\n",
              " 'blake-poems.txt',\n",
              " 'bryant-stories.txt',\n",
              " 'burgess-busterbrown.txt',\n",
              " 'carroll-alice.txt',\n",
              " 'chesterton-ball.txt',\n",
              " 'chesterton-brown.txt',\n",
              " 'chesterton-thursday.txt',\n",
              " 'edgeworth-parents.txt',\n",
              " 'melville-moby_dick.txt',\n",
              " 'milton-paradise.txt',\n",
              " 'shakespeare-caesar.txt',\n",
              " 'shakespeare-hamlet.txt',\n",
              " 'shakespeare-macbeth.txt',\n",
              " 'whitman-leaves.txt']"
            ]
          },
          "metadata": {
            "tags": []
          },
          "execution_count": 43
        }
      ]
    },
    {
      "cell_type": "code",
      "metadata": {
        "colab": {
          "base_uri": "https://localhost:8080/"
        },
        "id": "RCHHwjpUSvl_",
        "outputId": "8b1abdeb-856e-46a9-a87f-0fb0116849e8"
      },
      "source": [
        "# 영문 소설 10개만 사용한다.\n",
        "n = 10\n",
        "stemmer = LancasterStemmer()\n",
        "sent_stem = []\n",
        "for i, text_id in enumerate(nltk.corpus.gutenberg.fileids()[:n]):\n",
        "    text = nltk.corpus.gutenberg.raw(text_id)\n",
        "    sentences = nltk.sent_tokenize(text)\n",
        "\n",
        "    # 각 단어에 Lancaster stemmer를 적용한다.\n",
        "    for sentence in sentences:\n",
        "        word_tok = nltk.word_tokenize(sentence)\n",
        "        stem = [stemmer.stem(word) for word in word_tok]\n",
        "        sent_stem.append(stem)\n",
        "    print('{}: {} ----- processed.'.format(i+1, text_id))\n",
        "\n",
        "print(\"총 문장 개수 =\", len(sent_stem))\n",
        "#print(sent_stem[0])"
      ],
      "execution_count": 46,
      "outputs": [
        {
          "output_type": "stream",
          "text": [
            "1: austen-emma.txt ----- processed.\n",
            "2: austen-persuasion.txt ----- processed.\n",
            "3: austen-sense.txt ----- processed.\n",
            "4: bible-kjv.txt ----- processed.\n",
            "5: blake-poems.txt ----- processed.\n",
            "6: bryant-stories.txt ----- processed.\n",
            "7: burgess-busterbrown.txt ----- processed.\n",
            "8: carroll-alice.txt ----- processed.\n",
            "9: chesterton-ball.txt ----- processed.\n",
            "10: chesterton-brown.txt ----- processed.\n",
            "총 문장 개수 = 59824\n"
          ],
          "name": "stdout"
        }
      ]
    },
    {
      "cell_type": "code",
      "metadata": {
        "id": "M_V4-b0dTPvA"
      },
      "source": [
        "# 토크나이저 하기\n",
        "tokenizer = Tokenizer()\n",
        "tokenizer.fit_on_texts(sent_stem)"
      ],
      "execution_count": 47,
      "outputs": []
    },
    {
      "cell_type": "code",
      "metadata": {
        "id": "D-TcdE7dftyy",
        "colab": {
          "base_uri": "https://localhost:8080/"
        },
        "outputId": "56fc134c-4520-49b3-cea5-a0f832313bdf"
      },
      "source": [
        "# 사전 만들기\n",
        "word2idx = tokenizer.word_index\n",
        "idx2word = {v:k for k, v in word2idx.items()}\n",
        "#print(word2idx)\n",
        "#print(idx2word)\n",
        "print(\"사전크기 = \", len(word2idx))"
      ],
      "execution_count": 48,
      "outputs": [
        {
          "output_type": "stream",
          "text": [
            "사전크기 =  21181\n"
          ],
          "name": "stdout"
        }
      ]
    },
    {
      "cell_type": "code",
      "metadata": {
        "colab": {
          "base_uri": "https://localhost:8080/"
        },
        "id": "PPJ61fuPWBgq",
        "outputId": "0ee7169a-b3ca-45c3-a824-e43ae36bec68"
      },
      "source": [
        "# 문장을 단어의 인덱스로 표현\n",
        "sent_idx = tokenizer.texts_to_sequences(sent_stem)\n",
        "# sent_idx[0]\n",
        "\n",
        "np.array(sent_idx[1])"
      ],
      "execution_count": null,
      "outputs": [
        {
          "output_type": "execute_result",
          "data": {
            "text/plain": [
              "array([  38,   17,    2, 2540,    4,    2,  134,  251,    4,    8,  233,\n",
              "        570,    1, 1861,   98,   12,    3,   37,    1,    7, 1170,    4,\n",
              "         26,  305,   54,  374,    1,   96, 2173,    4,   15,   86,   44,\n",
              "          8,   75,  133, 2047,    5])"
            ]
          },
          "metadata": {
            "tags": []
          },
          "execution_count": 30
        }
      ]
    },
    {
      "cell_type": "code",
      "metadata": {
        "id": "NmCbtAjKkqZp"
      },
      "source": [
        "# trigram\n",
        "x_train = []\n",
        "y_train = []\n",
        "for sent in sent_idx:\n",
        "    if len(sent) < 3:\n",
        "        continue\n",
        "\n",
        "    for a, b, c in nltk.trigrams(sent):\n",
        "        x_train.append(b)\n",
        "        x_train.append(b)\n",
        "        y_train.append(a)\n",
        "        y_train.append(c)\n",
        "\n",
        "#x_train\n",
        "#y_train"
      ],
      "execution_count": 49,
      "outputs": []
    },
    {
      "cell_type": "code",
      "metadata": {
        "id": "ZusLl-Yqk6wH"
      },
      "source": [
        "# 배열 맞춰주기\n",
        "x_train = np.array(x_train).reshape(-1, 1)\n",
        "y_train = np.array(y_train).reshape(-1, 1)"
      ],
      "execution_count": 50,
      "outputs": []
    },
    {
      "cell_type": "code",
      "metadata": {
        "id": "914XVlXX3Jw0",
        "colab": {
          "base_uri": "https://localhost:8080/"
        },
        "outputId": "27be3ecf-ad45-4d62-cb50-2c25fe2043d9"
      },
      "source": [
        "# 사전이 0부터 시작되기 때문에 +1을 해준다. \n",
        "VOC_SIZE = len(word2idx) + 1\n",
        "EMB_SIZE = 32\n",
        "\n",
        "x_input = Input(batch_shape=(None, 1))\n",
        "x_emb = Embedding(VOC_SIZE, EMB_SIZE)(x_input)\n",
        "y_output = Dense(VOC_SIZE, activation='softmax')(x_emb)\n",
        "# flatten을 써도되고 안써도 되는데 flatten은 차원을 줄여주는 역할을 한다.\n",
        "# 그래서 3차원 배열을 2차원으로 줄여준다. 2차원은 1차원으로 줄여준다. \n",
        "\n",
        "model = Model(x_input, y_output)\n",
        "model.compile(loss = 'sparse_categorical_crossentropy', optimizer='adam')\n",
        "model.summary()\n",
        "\n",
        "# word --> word2vec을 확인하기 위한 모델\n",
        "model_vec = Model(x_input, x_emb)"
      ],
      "execution_count": null,
      "outputs": [
        {
          "output_type": "stream",
          "text": [
            "Model: \"model_2\"\n",
            "_________________________________________________________________\n",
            "Layer (type)                 Output Shape              Param #   \n",
            "=================================================================\n",
            "input_2 (InputLayer)         [(None, 1)]               0         \n",
            "_________________________________________________________________\n",
            "embedding_1 (Embedding)      (None, 1, 32)             677824    \n",
            "_________________________________________________________________\n",
            "dense_1 (Dense)              (None, 1, 21182)          699006    \n",
            "=================================================================\n",
            "Total params: 1,376,830\n",
            "Trainable params: 1,376,830\n",
            "Non-trainable params: 0\n",
            "_________________________________________________________________\n"
          ],
          "name": "stdout"
        }
      ]
    },
    {
      "cell_type": "code",
      "metadata": {
        "colab": {
          "base_uri": "https://localhost:8080/"
        },
        "id": "QSC5RS00XiXq",
        "outputId": "88bb3106-5ace-4ee1-ef05-4f8cf9e009d4"
      },
      "source": [
        "hist = model.fit(x_train, y_train, batch_size=10240, epochs=10)"
      ],
      "execution_count": null,
      "outputs": [
        {
          "output_type": "stream",
          "text": [
            "Epoch 1/10\n",
            "304/304 [==============================] - 15s 47ms/step - loss: 8.1881\n",
            "Epoch 2/10\n",
            "304/304 [==============================] - 14s 46ms/step - loss: 6.0953\n",
            "Epoch 3/10\n",
            "304/304 [==============================] - 14s 46ms/step - loss: 5.8715\n",
            "Epoch 4/10\n",
            "304/304 [==============================] - 14s 46ms/step - loss: 5.6991\n",
            "Epoch 5/10\n",
            "304/304 [==============================] - 14s 46ms/step - loss: 5.5961\n",
            "Epoch 6/10\n",
            "304/304 [==============================] - 14s 46ms/step - loss: 5.5160\n",
            "Epoch 7/10\n",
            "304/304 [==============================] - 14s 46ms/step - loss: 5.4505\n",
            "Epoch 8/10\n",
            "304/304 [==============================] - 14s 46ms/step - loss: 5.3994\n",
            "Epoch 9/10\n",
            "304/304 [==============================] - 14s 46ms/step - loss: 5.3602\n",
            "Epoch 10/10\n",
            "304/304 [==============================] - 14s 46ms/step - loss: 5.3297\n"
          ],
          "name": "stdout"
        }
      ]
    },
    {
      "cell_type": "code",
      "metadata": {
        "id": "1V7bGm1CasDL",
        "colab": {
          "base_uri": "https://localhost:8080/"
        },
        "outputId": "aaaba1ab-4f3a-419c-dc1f-08712e5701cd"
      },
      "source": [
        "# 코사인 유사도 father, mother, doctor의 유사도 구해보기\n",
        "def get_word2vec(word):\n",
        "    stem_word = stemmer.stem(word)\n",
        "    if stem_word not in word2idx:\n",
        "        print('{}가 없습니다.'.format(word))\n",
        "        return\n",
        "    \n",
        "    word2vec = model_vec.predict(np.array(word2idx[stem_word]).reshape(1,1))[0]\n",
        "    return word2vec\n",
        "\n",
        "father = get_word2vec('father')\n",
        "mother = get_word2vec('mother')\n",
        "doctor = get_word2vec('doctor')\n",
        "\n",
        "cosine_similarity(father, mother) # array([[0.8552003]], dtype=float32)\n",
        "\n",
        "cosine_similarity(father, doctor) # array([[0.6684933]], dtype=float32)\n",
        "\n",
        "cosine_similarity(mother, doctor) # array([[0.7017375]], dtype=float32)"
      ],
      "execution_count": null,
      "outputs": [
        {
          "output_type": "execute_result",
          "data": {
            "text/plain": [
              "array([[0.8552003]], dtype=float32)"
            ]
          },
          "metadata": {
            "tags": []
          },
          "execution_count": 41
        }
      ]
    },
    {
      "cell_type": "code",
      "metadata": {
        "colab": {
          "base_uri": "https://localhost:8080/",
          "height": 265
        },
        "id": "s589uhEJZCPC",
        "outputId": "eaa8f58a-a222-4a4d-fe80-6077f470aea0"
      },
      "source": [
        "import matplotlib.pyplot as plt\n",
        "\n",
        "plt.plot(hist.history['loss'], label='train')\n",
        "plt.legend()\n",
        "plt.show()"
      ],
      "execution_count": null,
      "outputs": [
        {
          "output_type": "display_data",
          "data": {
            "image/png": "[encoded data removed]",
            "text/plain": [
              "<Figure size 432x288 with 1 Axes>"
            ]
          },
          "metadata": {
            "tags": [],
            "needs_background": "light"
          }
        }
      ]
    }
  ]
}
