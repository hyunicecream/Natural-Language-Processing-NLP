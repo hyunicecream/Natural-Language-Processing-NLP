{
  "nbformat": 4,
  "nbformat_minor": 0,
  "metadata": {
    "colab": {
      "name": "7/14 수(MI_CNN).ipynb",
      "provenance": [],
      "collapsed_sections": [],
      "mount_file_id": "154SbUZgJ3BDk26YlXJ5dYSzD93Hw1zmE",
      "authorship_tag": "ABX9TyNw1GL4xkM7YsTREXucNoOk",
      "include_colab_link": true
    },
    "kernelspec": {
      "name": "python3",
      "display_name": "Python 3"
    },
    "language_info": {
      "name": "python"
    }
  },
  "cells": [
    {
      "cell_type": "markdown",
      "metadata": {
        "id": "view-in-github",
        "colab_type": "text"
      },
      "source": [
        "<a href=\"https://colab.research.google.com/github/hyunicecream/Natural-Language-Processing-NLP-/blob/main/7_14_%EC%88%98(MI_CNN).ipynb\" target=\"_parent\"><img src=\"https://colab.research.google.com/assets/colab-badge.svg\" alt=\"Open In Colab\"/></a>"
      ]
    },
    {
      "cell_type": "code",
      "metadata": {
        "colab": {
          "base_uri": "https://localhost:8080/"
        },
        "id": "EOGbPuGmd604",
        "outputId": "e7e51e8f-3e72-4b57-b58f-587b923f6b1e"
      },
      "source": [
        "# Word Embedding & CNN을 이용한 감성분석\n",
        "from tensorflow.keras.preprocessing.sequence import pad_sequences\n",
        "from tensorflow.keras.preprocessing.text import Tokenizer\n",
        "from tensorflow.keras.layers import Input, Embedding, Dense, Dropout\n",
        "from tensorflow.keras.layers import Conv1D, GlobalMaxPool1D, Concatenate\n",
        "from tensorflow.keras.models import Model\n",
        "from tensorflow.keras.optimizers import Adam\n",
        "from tensorflow.keras import regularizers\n",
        "from sklearn.metrics import roc_auc_score\n",
        "import matplotlib.pyplot as plt\n",
        "from scipy import stats\n",
        "import numpy as np\n",
        "import pickle\n",
        "\n",
        "# 학습, 시험 데이터를 읽어온다.\n",
        "with open('/content/drive/MyDrive/머신러닝/popcorn.pkl', 'rb') as f:\n",
        "    x_train, y_train, x_test, y_test, word2idx = pickle.load(f)\n",
        "\n",
        "y_train = np.array(y_train).reshape(-1,1)\n",
        "y_test = np.array(y_test).reshape(-1,1)\n",
        "\n",
        "# 각 리뷰의 길이를 측정하고, 평균 길이를 구한다.\n",
        "x_len = [len(x) for x in x_test]\n",
        "\n",
        "print('평균 =', np.mean(x_len))\n",
        "print('최소 =', np.min(x_len))\n",
        "print('최대 =', np.max(x_len))\n",
        "print('중앙값 =', np.median(x_len))\n"
      ],
      "execution_count": null,
      "outputs": [
        {
          "output_type": "stream",
          "text": [
            "평균 = 79.0452\n",
            "최소 = 5\n",
            "최대 = 625\n",
            "중앙값 = 60.0\n"
          ],
          "name": "stdout"
        }
      ]
    },
    {
      "cell_type": "code",
      "metadata": {
        "colab": {
          "base_uri": "https://localhost:8080/",
          "height": 265
        },
        "id": "skjKs16pg3hO",
        "outputId": "35f78415-de9a-444a-8da7-0185cddcb4f9"
      },
      "source": [
        "# 길이 분포를 확인한다.\n",
        "plt.hist(x_len, bins=50)\n",
        "plt.show()\n"
      ],
      "execution_count": null,
      "outputs": [
        {
          "output_type": "display_data",
          "data": {
            "image/png": "[encoded data removed]",
            "text/plain": [
              "<Figure size 432x288 with 1 Axes>"
            ]
          },
          "metadata": {
            "tags": [],
            "needs_background": "light"
          }
        }
      ]
    },
    {
      "cell_type": "code",
      "metadata": {
        "colab": {
          "base_uri": "https://localhost:8080/"
        },
        "id": "DMJmgGoghHoY",
        "outputId": "85e657d5-0e3d-48d3-d6ca-3e103c7be6d7"
      },
      "source": [
        "# 각 리뷰의 길이를 max_seq_len로 맞춘다. 길면 자르고, 짧으면 padding을 추가한다.\n",
        "MAX_SEQ_LEN = 120\n",
        "x_train = pad_sequences(x_train, maxlen=MAX_SEQ_LEN, padding='post', truncating='post')\n",
        "x_test = pad_sequences(x_test, maxlen=MAX_SEQ_LEN, padding='post', truncating='post')\n",
        "\n",
        "# CNN 모델을 빌드한다.\n",
        "VOCAB_SIZE = len(word2idx)\n",
        "EMB_SIZE = 32\n",
        "NUM_FILTER = 32\n",
        "\n",
        "# Convolution & Pooling\n",
        "def conv1d_maxpool(x, k):\n",
        "    conv = Conv1D(filters=NUM_FILTER, kernel_size=k, activation='relu',\n",
        "               kernel_regularizer=regularizers.l2(0.005))(x)\n",
        "    return GlobalMaxPool1D()(conv)\n",
        "\n",
        "x_input = Input(batch_shape=(None, x_train.shape[1]))\n",
        "emb = Embedding(input_dim=VOCAB_SIZE, output_dim=EMB_SIZE)(x_input)\n",
        "emb = Dropout(rate=0.5)(emb)\n",
        "\n",
        "pool1 = conv1d_maxpool(emb, k=3)  # 3-gram\n",
        "pool2 = conv1d_maxpool(emb, k=4)  # 4-gram\n",
        "pool3 = conv1d_maxpool(emb, k=5)  # 5-gram\n",
        "concat = Concatenate()([pool1, pool2, pool3])\n",
        "y_output = Dense(1, activation='sigmoid')(concat)\n",
        "\n",
        "model = Model(x_input, y_output)\n",
        "model.compile(loss='binary_crossentropy', optimizer=Adam(learning_rate=0.0005))\n",
        "model.summary()"
      ],
      "execution_count": null,
      "outputs": [
        {
          "output_type": "stream",
          "text": [
            "Model: \"model_2\"\n",
            "__________________________________________________________________________________________________\n",
            "Layer (type)                    Output Shape         Param #     Connected to                     \n",
            "==================================================================================================\n",
            "input_18 (InputLayer)           [(None, 120)]        0                                            \n",
            "__________________________________________________________________________________________________\n",
            "embedding_17 (Embedding)        (None, 120, 32)      192064      input_18[0][0]                   \n",
            "__________________________________________________________________________________________________\n",
            "dropout_19 (Dropout)            (None, 120, 32)      0           embedding_17[0][0]               \n",
            "__________________________________________________________________________________________________\n",
            "conv1d_4 (Conv1D)               (None, 118, 32)      3104        dropout_19[0][0]                 \n",
            "__________________________________________________________________________________________________\n",
            "conv1d_5 (Conv1D)               (None, 117, 32)      4128        dropout_19[0][0]                 \n",
            "__________________________________________________________________________________________________\n",
            "conv1d_6 (Conv1D)               (None, 116, 32)      5152        dropout_19[0][0]                 \n",
            "__________________________________________________________________________________________________\n",
            "global_max_pooling1d (GlobalMax (None, 32)           0           conv1d_4[0][0]                   \n",
            "__________________________________________________________________________________________________\n",
            "global_max_pooling1d_1 (GlobalM (None, 32)           0           conv1d_5[0][0]                   \n",
            "__________________________________________________________________________________________________\n",
            "global_max_pooling1d_2 (GlobalM (None, 32)           0           conv1d_6[0][0]                   \n",
            "__________________________________________________________________________________________________\n",
            "concatenate (Concatenate)       (None, 96)           0           global_max_pooling1d[0][0]       \n",
            "                                                                 global_max_pooling1d_1[0][0]     \n",
            "                                                                 global_max_pooling1d_2[0][0]     \n",
            "__________________________________________________________________________________________________\n",
            "dense_5 (Dense)                 (None, 1)            97          concatenate[0][0]                \n",
            "==================================================================================================\n",
            "Total params: 204,545\n",
            "Trainable params: 204,545\n",
            "Non-trainable params: 0\n",
            "__________________________________________________________________________________________________\n"
          ],
          "name": "stdout"
        }
      ]
    },
    {
      "cell_type": "code",
      "metadata": {
        "colab": {
          "base_uri": "https://localhost:8080/"
        },
        "id": "at5rfjSmm-ZN",
        "outputId": "06d2c7b4-74ee-4843-b082-3c7ec5c1773d"
      },
      "source": [
        "# 학습\n",
        "hist = model.fit(x_train, y_train, validation_data = (x_test, y_test), batch_size = 512, epochs = 30)"
      ],
      "execution_count": null,
      "outputs": [
        {
          "output_type": "stream",
          "text": [
            "Epoch 1/30\n",
            "40/40 [==============================] - 11s 246ms/step - loss: 1.0900 - val_loss: 1.0094\n",
            "Epoch 2/30\n",
            "40/40 [==============================] - 10s 244ms/step - loss: 0.9530 - val_loss: 0.8965\n",
            "Epoch 3/30\n",
            "40/40 [==============================] - 10s 243ms/step - loss: 0.8566 - val_loss: 0.8141\n",
            "Epoch 4/30\n",
            "40/40 [==============================] - 10s 244ms/step - loss: 0.7799 - val_loss: 0.7388\n",
            "Epoch 5/30\n",
            "40/40 [==============================] - 10s 245ms/step - loss: 0.6995 - val_loss: 0.6561\n",
            "Epoch 6/30\n",
            "40/40 [==============================] - 10s 244ms/step - loss: 0.6208 - val_loss: 0.5888\n",
            "Epoch 7/30\n",
            "40/40 [==============================] - 10s 242ms/step - loss: 0.5624 - val_loss: 0.5440\n",
            "Epoch 8/30\n",
            "40/40 [==============================] - 10s 245ms/step - loss: 0.5197 - val_loss: 0.5122\n",
            "Epoch 9/30\n",
            "40/40 [==============================] - 10s 244ms/step - loss: 0.4907 - val_loss: 0.4882\n",
            "Epoch 10/30\n",
            "40/40 [==============================] - 10s 245ms/step - loss: 0.4669 - val_loss: 0.4697\n",
            "Epoch 11/30\n",
            "40/40 [==============================] - 10s 244ms/step - loss: 0.4472 - val_loss: 0.4557\n",
            "Epoch 12/30\n",
            "40/40 [==============================] - 10s 244ms/step - loss: 0.4301 - val_loss: 0.4441\n",
            "Epoch 13/30\n",
            "40/40 [==============================] - 10s 244ms/step - loss: 0.4147 - val_loss: 0.4342\n",
            "Epoch 14/30\n",
            "40/40 [==============================] - 10s 244ms/step - loss: 0.3997 - val_loss: 0.4260\n",
            "Epoch 15/30\n",
            "40/40 [==============================] - 10s 244ms/step - loss: 0.3871 - val_loss: 0.4190\n",
            "Epoch 16/30\n",
            "40/40 [==============================] - 10s 243ms/step - loss: 0.3741 - val_loss: 0.4127\n",
            "Epoch 17/30\n",
            "40/40 [==============================] - 10s 245ms/step - loss: 0.3612 - val_loss: 0.4089\n",
            "Epoch 18/30\n",
            "40/40 [==============================] - 10s 245ms/step - loss: 0.3536 - val_loss: 0.4032\n",
            "Epoch 19/30\n",
            "40/40 [==============================] - 10s 243ms/step - loss: 0.3398 - val_loss: 0.3994\n",
            "Epoch 20/30\n",
            "40/40 [==============================] - 10s 243ms/step - loss: 0.3340 - val_loss: 0.3965\n",
            "Epoch 21/30\n",
            "40/40 [==============================] - 10s 245ms/step - loss: 0.3239 - val_loss: 0.3929\n",
            "Epoch 22/30\n",
            "40/40 [==============================] - 10s 249ms/step - loss: 0.3169 - val_loss: 0.3911\n",
            "Epoch 23/30\n",
            "40/40 [==============================] - 10s 247ms/step - loss: 0.3081 - val_loss: 0.3880\n",
            "Epoch 24/30\n",
            "40/40 [==============================] - 10s 248ms/step - loss: 0.3018 - val_loss: 0.3859\n",
            "Epoch 25/30\n",
            "40/40 [==============================] - 10s 247ms/step - loss: 0.2965 - val_loss: 0.3837\n",
            "Epoch 26/30\n",
            "40/40 [==============================] - 10s 244ms/step - loss: 0.2886 - val_loss: 0.3834\n",
            "Epoch 27/30\n",
            "40/40 [==============================] - 10s 244ms/step - loss: 0.2841 - val_loss: 0.3815\n",
            "Epoch 28/30\n",
            "40/40 [==============================] - 10s 245ms/step - loss: 0.2795 - val_loss: 0.3802\n",
            "Epoch 29/30\n",
            "40/40 [==============================] - 10s 247ms/step - loss: 0.2731 - val_loss: 0.3809\n",
            "Epoch 30/30\n",
            "40/40 [==============================] - 10s 248ms/step - loss: 0.2685 - val_loss: 0.3799\n"
          ],
          "name": "stdout"
        }
      ]
    },
    {
      "cell_type": "code",
      "metadata": {
        "colab": {
          "base_uri": "https://localhost:8080/",
          "height": 346
        },
        "id": "C1nMJVyDn2N7",
        "outputId": "307083e9-6c9c-431a-de5a-4c1fea4eaeba"
      },
      "source": [
        "# Loss history를 그린다\n",
        "plt.plot(hist.history['loss'], label='Train loss')\n",
        "plt.plot(hist.history['val_loss'], label = 'Test loss')\n",
        "plt.legend()\n",
        "plt.title(\"Loss history\")\n",
        "plt.xlabel(\"epoch\")\n",
        "plt.ylabel(\"loss\")\n",
        "plt.show()\n",
        "\n",
        "# 시험 데이터로 학습 성능을 평가한다\n",
        "pred = model.predict(x_test)\n",
        "y_pred = np.where(pred > 0.5, 1, 0)\n",
        "accuracy = (y_pred == y_test).mean()\n",
        "print(\"\\nAccuracy = %.2f %s\" % (accuracy * 100, '%'))\n",
        "print(\"ROC AUC score = %.2f\" % (roc_auc_score(y_test, pred)))"
      ],
      "execution_count": null,
      "outputs": [
        {
          "output_type": "display_data",
          "data": {
            "image/png": "[encoded data removed]",
            "text/plain": [
              "<Figure size 432x288 with 1 Axes>"
            ]
          },
          "metadata": {
            "tags": [],
            "needs_background": "light"
          }
        },
        {
          "output_type": "stream",
          "text": [
            "\n",
            "Accuracy = 86.14 %\n",
            "ROC AUC score = 0.93\n"
          ],
          "name": "stdout"
        }
      ]
    }
  ]
}
