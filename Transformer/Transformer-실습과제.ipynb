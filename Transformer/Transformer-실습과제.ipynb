{
  "nbformat": 4,
  "nbformat_minor": 0,
  "metadata": {
    "colab": {
      "name": "Transformer 실습과제1.ipynb",
      "provenance": [],
      "collapsed_sections": [],
      "machine_shape": "hm",
      "mount_file_id": "1ccXl2dcVtbSmmKOrKJMWiTMmDG6P-1T5",
      "authorship_tag": "ABX9TyMoBOXvo7XLLcV8hHDVhMEf",
      "include_colab_link": true
    },
    "kernelspec": {
      "name": "python3",
      "display_name": "Python 3"
    },
    "language_info": {
      "name": "python"
    },
    "accelerator": "GPU"
  },
  "cells": [
    {
      "cell_type": "markdown",
      "metadata": {
        "id": "view-in-github",
        "colab_type": "text"
      },
      "source": [
        "<a href=\"https://colab.research.google.com/github/hyunicecream/Natural-Language-Processing-NLP-/blob/main/Transformer_%EC%8B%A4%EC%8A%B5%EA%B3%BC%EC%A0%9C1.ipynb\" target=\"_parent\"><img src=\"https://colab.research.google.com/assets/colab-badge.svg\" alt=\"Open In Colab\"/></a>"
      ]
    },
    {
      "cell_type": "code",
      "metadata": {
        "colab": {
          "base_uri": "https://localhost:8080/"
        },
        "id": "Wu5vyoKffntM",
        "outputId": "3c1ca94a-5594-4aa4-c63e-e864683f71da"
      },
      "source": [
        "!pip install transformers"
      ],
      "execution_count": 56,
      "outputs": [
        {
          "output_type": "stream",
          "text": [
            "Requirement already satisfied: transformers in /usr/local/lib/python3.7/dist-packages (4.9.1)\n",
            "Requirement already satisfied: filelock in /usr/local/lib/python3.7/dist-packages (from transformers) (3.0.12)\n",
            "Requirement already satisfied: numpy>=1.17 in /usr/local/lib/python3.7/dist-packages (from transformers) (1.19.5)\n",
            "Requirement already satisfied: pyyaml>=5.1 in /usr/local/lib/python3.7/dist-packages (from transformers) (5.4.1)\n",
            "Requirement already satisfied: importlib-metadata in /usr/local/lib/python3.7/dist-packages (from transformers) (4.6.1)\n",
            "Requirement already satisfied: tokenizers<0.11,>=0.10.1 in /usr/local/lib/python3.7/dist-packages (from transformers) (0.10.3)\n",
            "Requirement already satisfied: regex!=2019.12.17 in /usr/local/lib/python3.7/dist-packages (from transformers) (2019.12.20)\n",
            "Requirement already satisfied: tqdm>=4.27 in /usr/local/lib/python3.7/dist-packages (from transformers) (4.41.1)\n",
            "Requirement already satisfied: packaging in /usr/local/lib/python3.7/dist-packages (from transformers) (21.0)\n",
            "Requirement already satisfied: huggingface-hub==0.0.12 in /usr/local/lib/python3.7/dist-packages (from transformers) (0.0.12)\n",
            "Requirement already satisfied: sacremoses in /usr/local/lib/python3.7/dist-packages (from transformers) (0.0.45)\n",
            "Requirement already satisfied: requests in /usr/local/lib/python3.7/dist-packages (from transformers) (2.23.0)\n",
            "Requirement already satisfied: typing-extensions in /usr/local/lib/python3.7/dist-packages (from huggingface-hub==0.0.12->transformers) (3.7.4.3)\n",
            "Requirement already satisfied: pyparsing>=2.0.2 in /usr/local/lib/python3.7/dist-packages (from packaging->transformers) (2.4.7)\n",
            "Requirement already satisfied: zipp>=0.5 in /usr/local/lib/python3.7/dist-packages (from importlib-metadata->transformers) (3.5.0)\n",
            "Requirement already satisfied: certifi>=2017.4.17 in /usr/local/lib/python3.7/dist-packages (from requests->transformers) (2021.5.30)\n",
            "Requirement already satisfied: idna<3,>=2.5 in /usr/local/lib/python3.7/dist-packages (from requests->transformers) (2.10)\n",
            "Requirement already satisfied: urllib3!=1.25.0,!=1.25.1,<1.26,>=1.21.1 in /usr/local/lib/python3.7/dist-packages (from requests->transformers) (1.24.3)\n",
            "Requirement already satisfied: chardet<4,>=3.0.2 in /usr/local/lib/python3.7/dist-packages (from requests->transformers) (3.0.4)\n",
            "Requirement already satisfied: six in /usr/local/lib/python3.7/dist-packages (from sacremoses->transformers) (1.15.0)\n",
            "Requirement already satisfied: click in /usr/local/lib/python3.7/dist-packages (from sacremoses->transformers) (7.1.2)\n",
            "Requirement already satisfied: joblib in /usr/local/lib/python3.7/dist-packages (from sacremoses->transformers) (1.0.1)\n"
          ],
          "name": "stdout"
        }
      ]
    },
    {
      "cell_type": "code",
      "metadata": {
        "colab": {
          "base_uri": "https://localhost:8080/"
        },
        "id": "TuN4K9DxgEsf",
        "outputId": "40f464d2-3904-4a38-e088-8dbbbda194a1"
      },
      "source": [
        "!pip install sentencepiece"
      ],
      "execution_count": 57,
      "outputs": [
        {
          "output_type": "stream",
          "text": [
            "Requirement already satisfied: sentencepiece in /usr/local/lib/python3.7/dist-packages (0.1.96)\n"
          ],
          "name": "stdout"
        }
      ]
    },
    {
      "cell_type": "code",
      "metadata": {
        "colab": {
          "base_uri": "https://localhost:8080/"
        },
        "id": "NmbBKwTegG3A",
        "outputId": "cb935c98-8733-48dc-b6e6-53cddc8bd792"
      },
      "source": [
        "# -*- coding: utf-8 -*-\n",
        "\"\"\"7-13.transformer(chat).ipynb\n",
        "\n",
        "Automatically generated by Colaboratory.\n",
        "\n",
        "Original file is located at\n",
        "    https://colab.research.google.com/drive/1pnSh26gOExNccGZRzN7MkS1i0DPrElt3\n",
        "\"\"\"\n",
        "\n",
        "# Commented out IPython magic to ensure Python compatibility.\n",
        "# Transformer ChatBot : 채팅 모듈\n",
        "# 참고 : https://github.com/suyash/transformer\n",
        "#\n",
        "# 2020.06.07 : 조성현 (blog.naver.com/chunjein)\n",
        "# ---------------------------------------------\n",
        "import tensorflow.keras.backend as K\n",
        "import pickle\n",
        "import numpy as np\n",
        "import re\n",
        "import pickle\n",
        "from sklearn.datasets import fetch_20newsgroups\n",
        "import sentencepiece as spm\n",
        "from tensorflow.keras.layers import Input, Embedding, Dense, LSTM, Dropout\n",
        "from tensorflow.keras.preprocessing.sequence import pad_sequences\n",
        "from tensorflow.keras.models import Model\n",
        "from tensorflow.keras import optimizers\n",
        "from sklearn.model_selection import train_test_split\n",
        "import matplotlib.pyplot as plt\n",
        "import seaborn as sns\n",
        "%cd '/content/drive/MyDrive/머신러닝/Transformer'\n",
        "from transformer import Transformer"
      ],
      "execution_count": 107,
      "outputs": [
        {
          "output_type": "stream",
          "text": [
            "/content/drive/MyDrive/머신러닝/Transformer\n"
          ],
          "name": "stdout"
        }
      ]
    },
    {
      "cell_type": "code",
      "metadata": {
        "id": "AIB2oKVrthgF"
      },
      "source": [
        "# news data를 읽어온다. subject 분석용.\n",
        "newsData = fetch_20newsgroups(shuffle=True, random_state=1, remove=('footers', 'quotes'))\n",
        "# heard quotes, footer 만 있다 body 부분은 따로 없다."
      ],
      "execution_count": 108,
      "outputs": []
    },
    {
      "cell_type": "code",
      "metadata": {
        "colab": {
          "base_uri": "https://localhost:8080/"
        },
        "id": "OFXLpMuatkwG",
        "outputId": "3bf7744c-5ed0-4574-eddc-fdfdd05a989a"
      },
      "source": [
        "# 첫 번째 news를 조회해 본다.\n",
        "news = newsData['data']\n",
        "topic = newsData['target']\n",
        "topic_name = newsData['target_names']\n",
        "n_topic = len(set(topic))\n",
        "n=0\n",
        "print(len(news))\n",
        "print(news[n])\n",
        "print('topic = ', topic[n], topic_name[topic[n]])"
      ],
      "execution_count": 109,
      "outputs": [
        {
          "output_type": "stream",
          "text": [
            "11314\n",
            "From: ab4z@Virginia.EDU (\"Andi Beyer\")\n",
            "Subject: Re: Israeli Terrorism\n",
            "Organization: University of Virginia\n",
            "Lines: 15\n",
            "topic =  17 talk.politics.mideast\n"
          ],
          "name": "stdout"
        }
      ]
    },
    {
      "cell_type": "code",
      "metadata": {
        "colab": {
          "base_uri": "https://localhost:8080/"
        },
        "id": "FUjnd9u883Ch",
        "outputId": "ca699431-9a2c-467f-ab18-fc8c79e9024c"
      },
      "source": [
        "n_topic"
      ],
      "execution_count": 110,
      "outputs": [
        {
          "output_type": "execute_result",
          "data": {
            "text/plain": [
              "20"
            ]
          },
          "metadata": {
            "tags": []
          },
          "execution_count": 110
        }
      ]
    },
    {
      "cell_type": "code",
      "metadata": {
        "id": "z10l4N-Nxggq"
      },
      "source": [
        "# Subject만 추출한다.\n",
        "subjects = []\n",
        "for text in news:\n",
        "    for sent in text.split('\\n'):\n",
        "        idx = sent.find('Subject:')\n",
        "        if idx >= 0:       # found\n",
        "            subjects.append(sent[(idx + 9):].replace('Re: ', '').lower())\n",
        "           #subjects.append(re.sub(\"[^a-zA-Z]\", \" \", subject))\n",
        "            break"
      ],
      "execution_count": 62,
      "outputs": []
    },
    {
      "cell_type": "code",
      "metadata": {
        "colab": {
          "base_uri": "https://localhost:8080/"
        },
        "id": "kKc_ftZnxvV7",
        "outputId": "d5384b78-7ef2-4f1b-d133-ea14fac4cb6a"
      },
      "source": [
        "subjects[0:5]"
      ],
      "execution_count": 63,
      "outputs": [
        {
          "output_type": "execute_result",
          "data": {
            "text/plain": [
              "['israeli terrorism',\n",
              " 'amusing atheists and agnostics',\n",
              " 'rejoinder. questions to israelis',\n",
              " 'clipper- business as usual?',\n",
              " 'playoff pool rule revision']"
            ]
          },
          "metadata": {
            "tags": []
          },
          "execution_count": 63
        }
      ]
    },
    {
      "cell_type": "code",
      "metadata": {
        "colab": {
          "base_uri": "https://localhost:8080/"
        },
        "id": "nMMzqy9Txwo5",
        "outputId": "450b0ca1-c1e7-4890-c417-f732e60f9b23"
      },
      "source": [
        "len(subjects)"
      ],
      "execution_count": 64,
      "outputs": [
        {
          "output_type": "execute_result",
          "data": {
            "text/plain": [
              "11314"
            ]
          },
          "metadata": {
            "tags": []
          },
          "execution_count": 64
        }
      ]
    },
    {
      "cell_type": "code",
      "metadata": {
        "id": "wlYDawDY3qdF"
      },
      "source": [
        "# Sentencepice용 사전을 만들기 위해 corpusQA를 저장해 둔다.\n",
        "data_file = \"/content/drive/MyDrive/머신러닝/Transformer/news_subject.txt\"\n",
        "with open(data_file, 'w', encoding='utf-8') as f:\n",
        "    for sent in subjects:\n",
        "        f.write(sent + '\\n')"
      ],
      "execution_count": 65,
      "outputs": []
    },
    {
      "cell_type": "code",
      "metadata": {
        "id": "oz2Ls3v93qfY"
      },
      "source": [
        "# Google의 Sentencepiece를 이용해서 vocabulary를 생성한다.\n",
        "# -----------------------------------------------------\n",
        "templates= \"--input={0:} \\\n",
        "            --pad_id=0 --pad_piece=<PAD>\\\n",
        "            --unk_id=1 --unk_piece=<UNK>\\\n",
        "            --bos_id=2 --bos_piece=<START>\\\n",
        "            --eos_id=3 --eos_piece=<END>\\\n",
        "            --model_prefix={1:} \\\n",
        "            --vocab_size={2:} \\\n",
        "            --character_coverage=0.9995 \\\n",
        "            --model_type=unigram\"\n",
        "\n",
        "VOCAB_SIZE = 5460\n",
        "model_prefix = \"/content/drive/MyDrive/머신러닝/Transformer/news_subject\"\n",
        "params = templates.format(data_file, model_prefix, VOCAB_SIZE)\n",
        "\n",
        "spm.SentencePieceTrainer.Train(params)\n",
        "sp = spm.SentencePieceProcessor()\n",
        "sp.Load(model_prefix + '.model')\n",
        "\n",
        "with open(model_prefix + '.vocab', encoding='utf-8') as f:\n",
        "    vocab = [doc.strip().split('\\t') for doc in f]\n",
        "\n",
        "word2idx = {k:v for v, [k, _] in enumerate(vocab)}\n",
        "idx2word = {v:k for v, [k, _] in enumerate(vocab)}"
      ],
      "execution_count": 128,
      "outputs": []
    },
    {
      "cell_type": "code",
      "metadata": {
        "id": "HUFlgtIC4SwA"
      },
      "source": [
        "# string으로 조회\n",
        "sentence = subjects[1]\n",
        "enc = sp.encode_as_pieces(sentence)\n",
        "dec = sp.decode_pieces(enc)"
      ],
      "execution_count": 129,
      "outputs": []
    },
    {
      "cell_type": "code",
      "metadata": {
        "colab": {
          "base_uri": "https://localhost:8080/"
        },
        "id": "P05FSEEx4S4X",
        "outputId": "a8c1ff26-3da8-4177-f291-1963201f21dd"
      },
      "source": [
        "# word index로 조회\n",
        "# idx = sp.encode_as_ids(sentence)\n",
        "# dec = sp.decode_ids(idx)\n",
        "print('\\n    문장:', sentence)\n",
        "print('Subwords:', enc)\n",
        "print('    복원:', dec)"
      ],
      "execution_count": 130,
      "outputs": [
        {
          "output_type": "stream",
          "text": [
            "\n",
            "    문장: amusing atheists and agnostics\n",
            "Subwords: ['▁am', 'using', '▁atheists', '▁and', '▁agnostic', 's']\n",
            "    복원: amusing atheists and agnostics\n"
          ],
          "name": "stdout"
        }
      ]
    },
    {
      "cell_type": "code",
      "metadata": {
        "id": "0_10GERn3qiL"
      },
      "source": [
        "# word index로 변환한다.\n",
        "subject_idx = [sp.encode_as_ids(s) for s in subjects]"
      ],
      "execution_count": 131,
      "outputs": []
    },
    {
      "cell_type": "code",
      "metadata": {
        "colab": {
          "base_uri": "https://localhost:8080/",
          "height": 437
        },
        "id": "TnO7gS4F3qk9",
        "outputId": "b5017905-a4e1-4253-99f6-2dbea6dcdd39"
      },
      "source": [
        "# subject을 길이 분포를 확인한다.\n",
        "n_len = [len(sub) for sub in subject_idx]\n",
        "\n",
        "print('평균 =', np.mean(n_len))\n",
        "print('최소 =', np.min(n_len))\n",
        "print('최대 =', np.max(n_len))\n",
        "print('중앙값 =', np.median(n_len))\n",
        "\n",
        "sns.displot(n_len)\n",
        "plt.show()"
      ],
      "execution_count": 132,
      "outputs": [
        {
          "output_type": "stream",
          "text": [
            "평균 = 7.932384656178186\n",
            "최소 = 1\n",
            "최대 = 62\n",
            "중앙값 = 7.0\n"
          ],
          "name": "stdout"
        },
        {
          "output_type": "display_data",
          "data": {
            "image/png": "[encoded data removed]",
            "text/plain": [
              "<Figure size 360x360 with 1 Axes>"
            ]
          },
          "metadata": {
            "tags": [],
            "needs_background": "light"
          }
        }
      ]
    },
    {
      "cell_type": "code",
      "metadata": {
        "colab": {
          "base_uri": "https://localhost:8080/"
        },
        "id": "mrL2Sghs3qnb",
        "outputId": "1dab79ed-103d-4750-9174-526b5ceba3f7"
      },
      "source": [
        "# 문장 길이를 맞추고, 학습 데이터를 생성한다.\n",
        "x_data = pad_sequences(subject_idx, maxlen=15, padding='post', truncating='post')\n",
        "y_data = topic\n",
        "\n",
        "# 학습 데이터와 시험데이터로 분리한다.\n",
        "x_train, x_test, y_train, y_test = train_test_split(x_data, y_data, test_size=0.2)\n",
        "y_train = np.array(y_train).reshape(-1, 1)\n",
        "y_test = np.array(y_test).reshape(-1, 1)\n",
        "\n",
        "x_train.shape, y_train.shape, x_test.shape, y_test.shape"
      ],
      "execution_count": 133,
      "outputs": [
        {
          "output_type": "execute_result",
          "data": {
            "text/plain": [
              "((9051, 15), (9051, 1), (2263, 15), (2263, 1))"
            ]
          },
          "metadata": {
            "tags": []
          },
          "execution_count": 133
        }
      ]
    },
    {
      "cell_type": "code",
      "metadata": {
        "colab": {
          "base_uri": "https://localhost:8080/"
        },
        "id": "tGAA1WhSXkhf",
        "outputId": "5b8ac727-7e5f-4210-9443-40afd9f3ea7c"
      },
      "source": [
        "# LSTM 모델을 생성한다.\n",
        "EMB_SIZE = 32\n",
        "VOCAB_SIZE = len(word2idx) + 1\n",
        "x_input = Input(batch_shape = (None, x_train.shape[1]))\n",
        "x_embed = Embedding(input_dim=VOCAB_SIZE, output_dim=EMB_SIZE)(x_input)\n",
        "x_embed = Dropout(0.5)(x_embed)\n",
        "x_lstm = LSTM(64, dropout=0.5)(x_embed)\n",
        "y_output = Dense(n_topic, activation = 'softmax')(x_lstm)\n",
        "\n",
        "model = Model(x_input, y_output)     # 학습, 예측용 모델\n",
        "model.compile(loss='sparse_categorical_crossentropy', optimizer=optimizers.Adam(learning_rate=0.005))\n",
        "model.summary()"
      ],
      "execution_count": 134,
      "outputs": [
        {
          "output_type": "stream",
          "text": [
            "Model: \"model_15\"\n",
            "_________________________________________________________________\n",
            "Layer (type)                 Output Shape              Param #   \n",
            "=================================================================\n",
            "input_16 (InputLayer)        [(None, 15)]              0         \n",
            "_________________________________________________________________\n",
            "embedding_28 (Embedding)     (None, 15, 32)            174752    \n",
            "_________________________________________________________________\n",
            "dropout_54 (Dropout)         (None, 15, 32)            0         \n",
            "_________________________________________________________________\n",
            "lstm_2 (LSTM)                (None, 64)                24832     \n",
            "_________________________________________________________________\n",
            "dense_54 (Dense)             (None, 20)                1300      \n",
            "=================================================================\n",
            "Total params: 200,884\n",
            "Trainable params: 200,884\n",
            "Non-trainable params: 0\n",
            "_________________________________________________________________\n"
          ],
          "name": "stdout"
        }
      ]
    },
    {
      "cell_type": "code",
      "metadata": {
        "colab": {
          "base_uri": "https://localhost:8080/"
        },
        "id": "0yQw-_xmXpX2",
        "outputId": "7fee1faf-d92f-475b-a084-1171762ab6ea"
      },
      "source": [
        "# 모델을 학습한다.\n",
        "hist = model.fit(x_train, y_train, validation_data = (x_test, y_test), batch_size = 512, epochs = 50)"
      ],
      "execution_count": 135,
      "outputs": [
        {
          "output_type": "stream",
          "text": [
            "Epoch 1/50\n",
            "18/18 [==============================] - 2s 26ms/step - loss: 2.9629 - val_loss: 2.8193\n",
            "Epoch 2/50\n",
            "18/18 [==============================] - 0s 7ms/step - loss: 2.6689 - val_loss: 2.4800\n",
            "Epoch 3/50\n",
            "18/18 [==============================] - 0s 7ms/step - loss: 2.3052 - val_loss: 2.0752\n",
            "Epoch 4/50\n",
            "18/18 [==============================] - 0s 6ms/step - loss: 1.9117 - val_loss: 1.6656\n",
            "Epoch 5/50\n",
            "18/18 [==============================] - 0s 6ms/step - loss: 1.6034 - val_loss: 1.4279\n",
            "Epoch 6/50\n",
            "18/18 [==============================] - 0s 7ms/step - loss: 1.3647 - val_loss: 1.1865\n",
            "Epoch 7/50\n",
            "18/18 [==============================] - 0s 6ms/step - loss: 1.1870 - val_loss: 1.0600\n",
            "Epoch 8/50\n",
            "18/18 [==============================] - 0s 7ms/step - loss: 1.0517 - val_loss: 0.9766\n",
            "Epoch 9/50\n",
            "18/18 [==============================] - 0s 7ms/step - loss: 0.9566 - val_loss: 0.9138\n",
            "Epoch 10/50\n",
            "18/18 [==============================] - 0s 6ms/step - loss: 0.9037 - val_loss: 0.8902\n",
            "Epoch 11/50\n",
            "18/18 [==============================] - 0s 6ms/step - loss: 0.8382 - val_loss: 0.8210\n",
            "Epoch 12/50\n",
            "18/18 [==============================] - 0s 7ms/step - loss: 0.7671 - val_loss: 0.7925\n",
            "Epoch 13/50\n",
            "18/18 [==============================] - 0s 7ms/step - loss: 0.7278 - val_loss: 0.7991\n",
            "Epoch 14/50\n",
            "18/18 [==============================] - 0s 7ms/step - loss: 0.6677 - val_loss: 0.7629\n",
            "Epoch 15/50\n",
            "18/18 [==============================] - 0s 7ms/step - loss: 0.6438 - val_loss: 0.7452\n",
            "Epoch 16/50\n",
            "18/18 [==============================] - 0s 7ms/step - loss: 0.6164 - val_loss: 0.7639\n",
            "Epoch 17/50\n",
            "18/18 [==============================] - 0s 7ms/step - loss: 0.5873 - val_loss: 0.7578\n",
            "Epoch 18/50\n",
            "18/18 [==============================] - 0s 7ms/step - loss: 0.5676 - val_loss: 0.7541\n",
            "Epoch 19/50\n",
            "18/18 [==============================] - 0s 7ms/step - loss: 0.5542 - val_loss: 0.7608\n",
            "Epoch 20/50\n",
            "18/18 [==============================] - 0s 7ms/step - loss: 0.5177 - val_loss: 0.7832\n",
            "Epoch 21/50\n",
            "18/18 [==============================] - 0s 7ms/step - loss: 0.5125 - val_loss: 0.7418\n",
            "Epoch 22/50\n",
            "18/18 [==============================] - 0s 7ms/step - loss: 0.4922 - val_loss: 0.7480\n",
            "Epoch 23/50\n",
            "18/18 [==============================] - 0s 7ms/step - loss: 0.4800 - val_loss: 0.7745\n",
            "Epoch 24/50\n",
            "18/18 [==============================] - 0s 7ms/step - loss: 0.4725 - val_loss: 0.7277\n",
            "Epoch 25/50\n",
            "18/18 [==============================] - 0s 6ms/step - loss: 0.4497 - val_loss: 0.7385\n",
            "Epoch 26/50\n",
            "18/18 [==============================] - 0s 6ms/step - loss: 0.4430 - val_loss: 0.7742\n",
            "Epoch 27/50\n",
            "18/18 [==============================] - 0s 6ms/step - loss: 0.4215 - val_loss: 0.7318\n",
            "Epoch 28/50\n",
            "18/18 [==============================] - 0s 7ms/step - loss: 0.4262 - val_loss: 0.7283\n",
            "Epoch 29/50\n",
            "18/18 [==============================] - 0s 7ms/step - loss: 0.4173 - val_loss: 0.7312\n",
            "Epoch 30/50\n",
            "18/18 [==============================] - 0s 7ms/step - loss: 0.4111 - val_loss: 0.7365\n",
            "Epoch 31/50\n",
            "18/18 [==============================] - 0s 6ms/step - loss: 0.3999 - val_loss: 0.7517\n",
            "Epoch 32/50\n",
            "18/18 [==============================] - 0s 7ms/step - loss: 0.3740 - val_loss: 0.8201\n",
            "Epoch 33/50\n",
            "18/18 [==============================] - 0s 7ms/step - loss: 0.3876 - val_loss: 0.7476\n",
            "Epoch 34/50\n",
            "18/18 [==============================] - 0s 7ms/step - loss: 0.3762 - val_loss: 0.7439\n",
            "Epoch 35/50\n",
            "18/18 [==============================] - 0s 6ms/step - loss: 0.3561 - val_loss: 0.7652\n",
            "Epoch 36/50\n",
            "18/18 [==============================] - 0s 6ms/step - loss: 0.3609 - val_loss: 0.7384\n",
            "Epoch 37/50\n",
            "18/18 [==============================] - 0s 7ms/step - loss: 0.3427 - val_loss: 0.7546\n",
            "Epoch 38/50\n",
            "18/18 [==============================] - 0s 6ms/step - loss: 0.3453 - val_loss: 0.7427\n",
            "Epoch 39/50\n",
            "18/18 [==============================] - 0s 6ms/step - loss: 0.3203 - val_loss: 0.7904\n",
            "Epoch 40/50\n",
            "18/18 [==============================] - 0s 7ms/step - loss: 0.3093 - val_loss: 0.7725\n",
            "Epoch 41/50\n",
            "18/18 [==============================] - 0s 7ms/step - loss: 0.3241 - val_loss: 0.7750\n",
            "Epoch 42/50\n",
            "18/18 [==============================] - 0s 7ms/step - loss: 0.3261 - val_loss: 0.7757\n",
            "Epoch 43/50\n",
            "18/18 [==============================] - 0s 7ms/step - loss: 0.2953 - val_loss: 0.7580\n",
            "Epoch 44/50\n",
            "18/18 [==============================] - 0s 7ms/step - loss: 0.3058 - val_loss: 0.7639\n",
            "Epoch 45/50\n",
            "18/18 [==============================] - 0s 7ms/step - loss: 0.3083 - val_loss: 0.7849\n",
            "Epoch 46/50\n",
            "18/18 [==============================] - 0s 6ms/step - loss: 0.2987 - val_loss: 0.7746\n",
            "Epoch 47/50\n",
            "18/18 [==============================] - 0s 7ms/step - loss: 0.3162 - val_loss: 0.7732\n",
            "Epoch 48/50\n",
            "18/18 [==============================] - 0s 7ms/step - loss: 0.2848 - val_loss: 0.7726\n",
            "Epoch 49/50\n",
            "18/18 [==============================] - 0s 7ms/step - loss: 0.2956 - val_loss: 0.7671\n",
            "Epoch 50/50\n",
            "18/18 [==============================] - 0s 7ms/step - loss: 0.2877 - val_loss: 0.7576\n"
          ],
          "name": "stdout"
        }
      ]
    },
    {
      "cell_type": "code",
      "metadata": {
        "colab": {
          "base_uri": "https://localhost:8080/",
          "height": 295
        },
        "id": "wU9NhhgPXpa9",
        "outputId": "9aba8f70-cbd7-4f5f-d6a3-c3102280f2c2"
      },
      "source": [
        "# Loss history를 그린다\n",
        "plt.plot(hist.history['loss'], label='Train loss')\n",
        "plt.plot(hist.history['val_loss'], label = 'Test loss')\n",
        "plt.legend()\n",
        "plt.title(\"Loss history\")\n",
        "plt.xlabel(\"epoch\")\n",
        "plt.ylabel(\"loss\")\n",
        "plt.show()"
      ],
      "execution_count": 136,
      "outputs": [
        {
          "output_type": "display_data",
          "data": {
            "image/png": "[encoded data removed]",
            "text/plain": [
              "<Figure size 432x288 with 1 Axes>"
            ]
          },
          "metadata": {
            "tags": [],
            "needs_background": "light"
          }
        }
      ]
    },
    {
      "cell_type": "code",
      "metadata": {
        "colab": {
          "base_uri": "https://localhost:8080/"
        },
        "id": "yOZVeAIlXt5l",
        "outputId": "cda055f1-719b-4886-d568-af99aad4ed6b"
      },
      "source": [
        "# 시험 데이터로 학습 성능을 평가한다\n",
        "pred = model.predict(x_test)\n",
        "y_pred = np.argmax(pred, axis=1).reshape(-1, 1)\n",
        "accuracy = (y_pred == y_test).mean()\n",
        "print(\"\\nAccuracy = %.2f %s\" % (accuracy * 100, '%'))"
      ],
      "execution_count": 137,
      "outputs": [
        {
          "output_type": "stream",
          "text": [
            "\n",
            "Accuracy = 83.92 %\n"
          ],
          "name": "stdout"
        }
      ]
    },
    {
      "cell_type": "code",
      "metadata": {
        "colab": {
          "base_uri": "https://localhost:8080/"
        },
        "id": "W1aXp1jvZSHh",
        "outputId": "4badb34e-4d0c-4d7f-cf37-14a72cc6c5a4"
      },
      "source": [
        "!pip install import_ipynb"
      ],
      "execution_count": 138,
      "outputs": [
        {
          "output_type": "stream",
          "text": [
            "Requirement already satisfied: import_ipynb in /usr/local/lib/python3.7/dist-packages (0.1.3)\n"
          ],
          "name": "stdout"
        }
      ]
    },
    {
      "cell_type": "code",
      "metadata": {
        "id": "7cSfE09AyAre"
      },
      "source": [
        "import import_ipynb\n",
        "import tensorflow as tf\n",
        "from tensorflow import keras\n",
        "from tensorflow.keras import layers"
      ],
      "execution_count": 139,
      "outputs": []
    },
    {
      "cell_type": "code",
      "metadata": {
        "id": "f8TJandSyD65"
      },
      "source": [
        "class TransformerBlock(layers.Layer):\n",
        "    def __init__(self, embed_dim, num_heads, ff_dim, rate=0.1):\n",
        "        super(TransformerBlock, self).__init__()\n",
        "        self.att = layers.MultiHeadAttention(num_heads=num_heads, key_dim=embed_dim)\n",
        "        self.ffn = keras.Sequential(\n",
        "            [layers.Dense(ff_dim, activation=\"relu\"), layers.Dense(embed_dim),]\n",
        "        )\n",
        "        self.layernorm1 = layers.LayerNormalization(epsilon=1e-6)\n",
        "        self.layernorm2 = layers.LayerNormalization(epsilon=1e-6)\n",
        "        self.dropout1 = layers.Dropout(rate)\n",
        "        self.dropout2 = layers.Dropout(rate)\n",
        "\n",
        "    def call(self, inputs, training):\n",
        "        attn_output = self.att(inputs, inputs)\n",
        "        attn_output = self.dropout1(attn_output, training=training)\n",
        "        out1 = self.layernorm1(inputs + attn_output)\n",
        "        ffn_output = self.ffn(out1)\n",
        "        ffn_output = self.dropout2(ffn_output, training=training)\n",
        "        return self.layernorm2(out1 + ffn_output)"
      ],
      "execution_count": 140,
      "outputs": []
    },
    {
      "cell_type": "code",
      "metadata": {
        "id": "-8Hu7D19yGxA"
      },
      "source": [
        "class TokenAndPositionEmbedding(layers.Layer):\n",
        "    def __init__(self, maxlen, vocab_size, embed_dim):\n",
        "        super(TokenAndPositionEmbedding, self).__init__()\n",
        "        self.token_emb = layers.Embedding(input_dim=vocab_size, output_dim=embed_dim)\n",
        "        self.pos_emb = layers.Embedding(input_dim=maxlen, output_dim=embed_dim)\n",
        "\n",
        "    def call(self, x):\n",
        "        maxlen = tf.shape(x)[-1]\n",
        "        positions = tf.range(start=0, limit=maxlen, delta=1)\n",
        "        positions = self.pos_emb(positions)\n",
        "        x = self.token_emb(x)\n",
        "        return x + positions"
      ],
      "execution_count": 141,
      "outputs": []
    },
    {
      "cell_type": "code",
      "metadata": {
        "id": "wTNmMmtYySay"
      },
      "source": [
        "vocab_size = len(word2idx) +1  # Only consider the top 20k words\n",
        "embed_dim = 32  # Embedding size for each token\n",
        "num_heads = 2  # Number of attention heads\n",
        "ff_dim = 32  # Hidden layer size in feed forward network inside transformer\n",
        "maxlen = 15\n",
        "\n",
        "inputs = layers.Input(shape=(maxlen,))\n",
        "embedding_layer = TokenAndPositionEmbedding(maxlen, vocab_size, embed_dim)\n",
        "x = embedding_layer(inputs)\n",
        "transformer_block = TransformerBlock(embed_dim, num_heads, ff_dim)\n",
        "x = transformer_block(x)\n",
        "x = layers.GlobalAveragePooling1D()(x)\n",
        "x = layers.Dropout(0.1)(x)\n",
        "x = layers.Dense(20, activation=\"relu\")(x)\n",
        "x = layers.Dropout(0.1)(x)\n",
        "outputs = layers.Dense(20, activation=\"softmax\")(x)\n",
        "model = keras.Model(inputs=inputs, outputs=outputs)\n",
        "model.compile(optimizers.Adam(learning_rate=0.005), \"sparse_categorical_crossentropy\", metrics=[\"accuracy\"])"
      ],
      "execution_count": 142,
      "outputs": []
    },
    {
      "cell_type": "code",
      "metadata": {
        "colab": {
          "base_uri": "https://localhost:8080/"
        },
        "id": "51wbmxNMyZRf",
        "outputId": "599c2167-915d-4cd4-c10c-f777f55d55b9"
      },
      "source": [
        "hist = model.fit(\n",
        "    x_train, y_train, batch_size=32, epochs=10, validation_data=(x_test, y_test)\n",
        ")"
      ],
      "execution_count": 145,
      "outputs": [
        {
          "output_type": "stream",
          "text": [
            "Epoch 1/10\n",
            "283/283 [==============================] - 2s 6ms/step - loss: 0.5836 - accuracy: 0.8343 - val_loss: 0.9571 - val_accuracy: 0.7817\n",
            "Epoch 2/10\n",
            "283/283 [==============================] - 2s 6ms/step - loss: 0.3776 - accuracy: 0.8925 - val_loss: 0.9074 - val_accuracy: 0.8065\n",
            "Epoch 3/10\n",
            "283/283 [==============================] - 2s 6ms/step - loss: 0.2776 - accuracy: 0.9209 - val_loss: 1.1143 - val_accuracy: 0.8188\n",
            "Epoch 4/10\n",
            "283/283 [==============================] - 2s 6ms/step - loss: 0.2028 - accuracy: 0.9429 - val_loss: 1.1908 - val_accuracy: 0.8153\n",
            "Epoch 5/10\n",
            "283/283 [==============================] - 2s 6ms/step - loss: 0.1889 - accuracy: 0.9425 - val_loss: 1.3635 - val_accuracy: 0.8135\n",
            "Epoch 6/10\n",
            "283/283 [==============================] - 2s 6ms/step - loss: 0.1563 - accuracy: 0.9545 - val_loss: 1.5354 - val_accuracy: 0.8135\n",
            "Epoch 7/10\n",
            "283/283 [==============================] - 2s 6ms/step - loss: 0.1376 - accuracy: 0.9580 - val_loss: 1.6501 - val_accuracy: 0.8148\n",
            "Epoch 8/10\n",
            "283/283 [==============================] - 2s 6ms/step - loss: 0.1443 - accuracy: 0.9561 - val_loss: 1.5833 - val_accuracy: 0.8069\n",
            "Epoch 9/10\n",
            "283/283 [==============================] - 2s 6ms/step - loss: 0.1230 - accuracy: 0.9643 - val_loss: 1.6193 - val_accuracy: 0.8126\n",
            "Epoch 10/10\n",
            "283/283 [==============================] - 2s 6ms/step - loss: 0.1063 - accuracy: 0.9657 - val_loss: 1.8707 - val_accuracy: 0.8126\n"
          ],
          "name": "stdout"
        }
      ]
    },
    {
      "cell_type": "code",
      "metadata": {
        "colab": {
          "base_uri": "https://localhost:8080/",
          "height": 295
        },
        "id": "KqGhrKeFyc_g",
        "outputId": "13ff8ff6-fbd3-4ba5-b417-265245615ca4"
      },
      "source": [
        "# Loss history를 그린다\n",
        "plt.plot(hist.history['loss'], label='Train loss')\n",
        "plt.legend()\n",
        "plt.title(\"Loss history\")\n",
        "plt.xlabel(\"epoch\")\n",
        "plt.ylabel(\"loss\")\n",
        "plt.show()"
      ],
      "execution_count": 146,
      "outputs": [
        {
          "output_type": "display_data",
          "data": {
            "image/png": "[encoded data removed]",
            "text/plain": [
              "<Figure size 432x288 with 1 Axes>"
            ]
          },
          "metadata": {
            "tags": [],
            "needs_background": "light"
          }
        }
      ]
    },
    {
      "cell_type": "code",
      "metadata": {
        "colab": {
          "base_uri": "https://localhost:8080/"
        },
        "id": "Zn2u3c2aZR_i",
        "outputId": "5261f1db-5341-4aec-db62-8bf5b3a09b62"
      },
      "source": [
        "# 시험 데이터로 학습 성능을 평가한다\n",
        "pred = model.predict(x_test)\n",
        "y_pred = np.argmax(pred, axis=1).reshape(-1, 1)\n",
        "accuracy = (y_pred == y_test).mean()\n",
        "print(\"\\nAccuracy = %.2f %s\" % (accuracy * 100, '%'))"
      ],
      "execution_count": 148,
      "outputs": [
        {
          "output_type": "stream",
          "text": [
            "\n",
            "Accuracy = 81.26 %\n"
          ],
          "name": "stdout"
        }
      ]
    }
  ]
}
