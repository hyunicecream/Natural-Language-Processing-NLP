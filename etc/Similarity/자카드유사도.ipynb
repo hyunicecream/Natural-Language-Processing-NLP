{
  "nbformat": 4,
  "nbformat_minor": 0,
  "metadata": {
    "colab": {
      "name": "자카드유사도.ipynb",
      "provenance": [],
      "collapsed_sections": [],
      "authorship_tag": "ABX9TyNTxlmdcobfsFwgWRbMCAqq",
      "include_colab_link": true
    },
    "kernelspec": {
      "name": "python3",
      "display_name": "Python 3"
    },
    "language_info": {
      "name": "python"
    }
  },
  "cells": [
    {
      "cell_type": "markdown",
      "metadata": {
        "id": "view-in-github",
        "colab_type": "text"
      },
      "source": [
        "<a href=\"https://colab.research.google.com/github/hyunicecream/Natural-Language-Processing-NLP-/blob/main/%EC%9E%90%EC%B9%B4%EB%93%9C%EC%9C%A0%EC%82%AC%EB%8F%84.ipynb\" target=\"_parent\"><img src=\"https://colab.research.google.com/assets/colab-badge.svg\" alt=\"Open In Colab\"/></a>"
      ]
    },
    {
      "cell_type": "code",
      "metadata": {
        "colab": {
          "base_uri": "https://localhost:8080/"
        },
        "id": "0qO8QfkUJYmG",
        "outputId": "e765ddf0-c7c1-4ed1-8c94-e34d590d8903"
      },
      "source": [
        "# 다음과 같은 두 개의 문서가 있습니다.\n",
        "# 두 문서 모두에서 등장한 단어는 apple과 banana 2개.\n",
        "doc1 = \"apple banana everyone like likey watch card holder\"\n",
        "doc2 = \"apple banana coupon passport love you\"\n",
        "\n",
        "# 토큰화를 수행합니다.\n",
        "tokenized_doc1 = doc1.split()\n",
        "tokenized_doc2 = doc2.split()\n",
        "\n",
        "# 토큰화 결과 출력\n",
        "print(tokenized_doc1)\n",
        "print(tokenized_doc2)"
      ],
      "execution_count": 35,
      "outputs": [
        {
          "output_type": "stream",
          "text": [
            "['apple', 'banana', 'everyone', 'like', 'likey', 'watch', 'card', 'holder']\n",
            "['apple', 'banana', 'coupon', 'passport', 'love', 'you']\n"
          ],
          "name": "stdout"
        }
      ]
    },
    {
      "cell_type": "code",
      "metadata": {
        "colab": {
          "base_uri": "https://localhost:8080/"
        },
        "id": "XUGXIqMjJpxq",
        "outputId": "dc540991-6356-43aa-a64d-52f600010153"
      },
      "source": [
        "union = set(tokenized_doc1).union(set(tokenized_doc2))\n",
        "print(union)\n",
        "합집합 = (set(tokenized_doc1) | set(tokenized_doc2))\n",
        "print(합집합)"
      ],
      "execution_count": 40,
      "outputs": [
        {
          "output_type": "stream",
          "text": [
            "{'love', 'passport', 'like', 'everyone', 'apple', 'likey', 'holder', 'coupon', 'card', 'banana', 'watch', 'you'}\n",
            "{'love', 'passport', 'like', 'everyone', 'apple', 'likey', 'holder', 'coupon', 'card', 'banana', 'watch', 'you'}\n"
          ],
          "name": "stdout"
        }
      ]
    },
    {
      "cell_type": "code",
      "metadata": {
        "colab": {
          "base_uri": "https://localhost:8080/"
        },
        "id": "8fzJDJVnLV_c",
        "outputId": "cdd451f7-7ef9-419d-9b48-c9c1a2c85082"
      },
      "source": [
        "intersection = set(tokenized_doc1).intersection(set(tokenized_doc2))\n",
        "print(intersection)\n",
        "교집합 = (set(tokenized_doc1) & set(tokenized_doc2))\n",
        "print(교집합)"
      ],
      "execution_count": 41,
      "outputs": [
        {
          "output_type": "stream",
          "text": [
            "{'banana', 'apple'}\n",
            "{'banana', 'apple'}\n"
          ],
          "name": "stdout"
        }
      ]
    },
    {
      "cell_type": "code",
      "metadata": {
        "colab": {
          "base_uri": "https://localhost:8080/"
        },
        "id": "_k9agBKTML9N",
        "outputId": "abc2f326-521a-4909-ed58-2714994b7281"
      },
      "source": [
        "print('{:.2f}'.format(len(intersection)/len(union)))\n",
        "print('{:.2f}'.format(len(교집합)/len(합집합)))"
      ],
      "execution_count": 39,
      "outputs": [
        {
          "output_type": "stream",
          "text": [
            "0.17\n",
            "0.17\n"
          ],
          "name": "stdout"
        }
      ]
    }
  ]
}
