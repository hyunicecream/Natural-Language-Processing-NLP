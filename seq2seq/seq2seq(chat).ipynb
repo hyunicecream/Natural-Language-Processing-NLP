{
  "nbformat": 4,
  "nbformat_minor": 0,
  "metadata": {
    "colab": {
      "name": "7/29 seq2seq(chat).ipynb",
      "provenance": [],
      "collapsed_sections": [],
      "machine_shape": "hm",
      "mount_file_id": "1xzCE8O7gCil_4XNdcamvkHnBmlrowG3O",
      "authorship_tag": "ABX9TyMAop5SS1MdfPwsBPyBg9cv",
      "include_colab_link": true
    },
    "kernelspec": {
      "name": "python3",
      "display_name": "Python 3"
    },
    "language_info": {
      "name": "python"
    },
    "accelerator": "GPU"
  },
  "cells": [
    {
      "cell_type": "markdown",
      "metadata": {
        "id": "view-in-github",
        "colab_type": "text"
      },
      "source": [
        "<a href=\"https://colab.research.google.com/github/hyunicecream/Natural-Language-Processing-NLP-/blob/main/7_29_seq2seq(chat).ipynb\" target=\"_parent\"><img src=\"https://colab.research.google.com/assets/colab-badge.svg\" alt=\"Open In Colab\"/></a>"
      ]
    },
    {
      "cell_type": "code",
      "metadata": {
        "colab": {
          "base_uri": "https://localhost:8080/"
        },
        "id": "e33PLkMw3Lix",
        "outputId": "aa25806b-3bd9-4481-8cc2-72250a8b68aa"
      },
      "source": [
        "!pip install sentencepiece"
      ],
      "execution_count": null,
      "outputs": [
        {
          "output_type": "stream",
          "text": [
            "Collecting sentencepiece\n",
            "  Downloading sentencepiece-0.1.96-cp37-cp37m-manylinux_2_17_x86_64.manylinux2014_x86_64.whl (1.2 MB)\n",
            "\u001b[?25l\r\u001b[K     |▎                               | 10 kB 24.9 MB/s eta 0:00:01\r\u001b[K     |▌                               | 20 kB 20.9 MB/s eta 0:00:01\r\u001b[K     |▉                               | 30 kB 11.2 MB/s eta 0:00:01\r\u001b[K     |█                               | 40 kB 9.1 MB/s eta 0:00:01\r\u001b[K     |█▍                              | 51 kB 4.9 MB/s eta 0:00:01\r\u001b[K     |█▋                              | 61 kB 5.3 MB/s eta 0:00:01\r\u001b[K     |██                              | 71 kB 5.7 MB/s eta 0:00:01\r\u001b[K     |██▏                             | 81 kB 6.4 MB/s eta 0:00:01\r\u001b[K     |██▍                             | 92 kB 6.6 MB/s eta 0:00:01\r\u001b[K     |██▊                             | 102 kB 5.1 MB/s eta 0:00:01\r\u001b[K     |███                             | 112 kB 5.1 MB/s eta 0:00:01\r\u001b[K     |███▎                            | 122 kB 5.1 MB/s eta 0:00:01\r\u001b[K     |███▌                            | 133 kB 5.1 MB/s eta 0:00:01\r\u001b[K     |███▉                            | 143 kB 5.1 MB/s eta 0:00:01\r\u001b[K     |████                            | 153 kB 5.1 MB/s eta 0:00:01\r\u001b[K     |████▎                           | 163 kB 5.1 MB/s eta 0:00:01\r\u001b[K     |████▋                           | 174 kB 5.1 MB/s eta 0:00:01\r\u001b[K     |████▉                           | 184 kB 5.1 MB/s eta 0:00:01\r\u001b[K     |█████▏                          | 194 kB 5.1 MB/s eta 0:00:01\r\u001b[K     |█████▍                          | 204 kB 5.1 MB/s eta 0:00:01\r\u001b[K     |█████▊                          | 215 kB 5.1 MB/s eta 0:00:01\r\u001b[K     |██████                          | 225 kB 5.1 MB/s eta 0:00:01\r\u001b[K     |██████▏                         | 235 kB 5.1 MB/s eta 0:00:01\r\u001b[K     |██████▌                         | 245 kB 5.1 MB/s eta 0:00:01\r\u001b[K     |██████▊                         | 256 kB 5.1 MB/s eta 0:00:01\r\u001b[K     |███████                         | 266 kB 5.1 MB/s eta 0:00:01\r\u001b[K     |███████▎                        | 276 kB 5.1 MB/s eta 0:00:01\r\u001b[K     |███████▋                        | 286 kB 5.1 MB/s eta 0:00:01\r\u001b[K     |███████▉                        | 296 kB 5.1 MB/s eta 0:00:01\r\u001b[K     |████████                        | 307 kB 5.1 MB/s eta 0:00:01\r\u001b[K     |████████▍                       | 317 kB 5.1 MB/s eta 0:00:01\r\u001b[K     |████████▋                       | 327 kB 5.1 MB/s eta 0:00:01\r\u001b[K     |█████████                       | 337 kB 5.1 MB/s eta 0:00:01\r\u001b[K     |█████████▏                      | 348 kB 5.1 MB/s eta 0:00:01\r\u001b[K     |█████████▌                      | 358 kB 5.1 MB/s eta 0:00:01\r\u001b[K     |█████████▊                      | 368 kB 5.1 MB/s eta 0:00:01\r\u001b[K     |██████████                      | 378 kB 5.1 MB/s eta 0:00:01\r\u001b[K     |██████████▎                     | 389 kB 5.1 MB/s eta 0:00:01\r\u001b[K     |██████████▌                     | 399 kB 5.1 MB/s eta 0:00:01\r\u001b[K     |██████████▉                     | 409 kB 5.1 MB/s eta 0:00:01\r\u001b[K     |███████████                     | 419 kB 5.1 MB/s eta 0:00:01\r\u001b[K     |███████████▍                    | 430 kB 5.1 MB/s eta 0:00:01\r\u001b[K     |███████████▋                    | 440 kB 5.1 MB/s eta 0:00:01\r\u001b[K     |███████████▉                    | 450 kB 5.1 MB/s eta 0:00:01\r\u001b[K     |████████████▏                   | 460 kB 5.1 MB/s eta 0:00:01\r\u001b[K     |████████████▍                   | 471 kB 5.1 MB/s eta 0:00:01\r\u001b[K     |████████████▊                   | 481 kB 5.1 MB/s eta 0:00:01\r\u001b[K     |█████████████                   | 491 kB 5.1 MB/s eta 0:00:01\r\u001b[K     |█████████████▎                  | 501 kB 5.1 MB/s eta 0:00:01\r\u001b[K     |█████████████▌                  | 512 kB 5.1 MB/s eta 0:00:01\r\u001b[K     |█████████████▊                  | 522 kB 5.1 MB/s eta 0:00:01\r\u001b[K     |██████████████                  | 532 kB 5.1 MB/s eta 0:00:01\r\u001b[K     |██████████████▎                 | 542 kB 5.1 MB/s eta 0:00:01\r\u001b[K     |██████████████▋                 | 552 kB 5.1 MB/s eta 0:00:01\r\u001b[K     |██████████████▉                 | 563 kB 5.1 MB/s eta 0:00:01\r\u001b[K     |███████████████▏                | 573 kB 5.1 MB/s eta 0:00:01\r\u001b[K     |███████████████▍                | 583 kB 5.1 MB/s eta 0:00:01\r\u001b[K     |███████████████▋                | 593 kB 5.1 MB/s eta 0:00:01\r\u001b[K     |████████████████                | 604 kB 5.1 MB/s eta 0:00:01\r\u001b[K     |████████████████▏               | 614 kB 5.1 MB/s eta 0:00:01\r\u001b[K     |████████████████▌               | 624 kB 5.1 MB/s eta 0:00:01\r\u001b[K     |████████████████▊               | 634 kB 5.1 MB/s eta 0:00:01\r\u001b[K     |█████████████████               | 645 kB 5.1 MB/s eta 0:00:01\r\u001b[K     |█████████████████▎              | 655 kB 5.1 MB/s eta 0:00:01\r\u001b[K     |█████████████████▌              | 665 kB 5.1 MB/s eta 0:00:01\r\u001b[K     |█████████████████▉              | 675 kB 5.1 MB/s eta 0:00:01\r\u001b[K     |██████████████████              | 686 kB 5.1 MB/s eta 0:00:01\r\u001b[K     |██████████████████▍             | 696 kB 5.1 MB/s eta 0:00:01\r\u001b[K     |██████████████████▋             | 706 kB 5.1 MB/s eta 0:00:01\r\u001b[K     |███████████████████             | 716 kB 5.1 MB/s eta 0:00:01\r\u001b[K     |███████████████████▏            | 727 kB 5.1 MB/s eta 0:00:01\r\u001b[K     |███████████████████▍            | 737 kB 5.1 MB/s eta 0:00:01\r\u001b[K     |███████████████████▊            | 747 kB 5.1 MB/s eta 0:00:01\r\u001b[K     |████████████████████            | 757 kB 5.1 MB/s eta 0:00:01\r\u001b[K     |████████████████████▎           | 768 kB 5.1 MB/s eta 0:00:01\r\u001b[K     |████████████████████▌           | 778 kB 5.1 MB/s eta 0:00:01\r\u001b[K     |████████████████████▉           | 788 kB 5.1 MB/s eta 0:00:01\r\u001b[K     |█████████████████████           | 798 kB 5.1 MB/s eta 0:00:01\r\u001b[K     |█████████████████████▎          | 808 kB 5.1 MB/s eta 0:00:01\r\u001b[K     |█████████████████████▋          | 819 kB 5.1 MB/s eta 0:00:01\r\u001b[K     |█████████████████████▉          | 829 kB 5.1 MB/s eta 0:00:01\r\u001b[K     |██████████████████████▏         | 839 kB 5.1 MB/s eta 0:00:01\r\u001b[K     |██████████████████████▍         | 849 kB 5.1 MB/s eta 0:00:01\r\u001b[K     |██████████████████████▊         | 860 kB 5.1 MB/s eta 0:00:01\r\u001b[K     |███████████████████████         | 870 kB 5.1 MB/s eta 0:00:01\r\u001b[K     |███████████████████████▏        | 880 kB 5.1 MB/s eta 0:00:01\r\u001b[K     |███████████████████████▌        | 890 kB 5.1 MB/s eta 0:00:01\r\u001b[K     |███████████████████████▊        | 901 kB 5.1 MB/s eta 0:00:01\r\u001b[K     |████████████████████████        | 911 kB 5.1 MB/s eta 0:00:01\r\u001b[K     |████████████████████████▎       | 921 kB 5.1 MB/s eta 0:00:01\r\u001b[K     |████████████████████████▋       | 931 kB 5.1 MB/s eta 0:00:01\r\u001b[K     |████████████████████████▉       | 942 kB 5.1 MB/s eta 0:00:01\r\u001b[K     |█████████████████████████       | 952 kB 5.1 MB/s eta 0:00:01\r\u001b[K     |█████████████████████████▍      | 962 kB 5.1 MB/s eta 0:00:01\r\u001b[K     |█████████████████████████▋      | 972 kB 5.1 MB/s eta 0:00:01\r\u001b[K     |██████████████████████████      | 983 kB 5.1 MB/s eta 0:00:01\r\u001b[K     |██████████████████████████▏     | 993 kB 5.1 MB/s eta 0:00:01\r\u001b[K     |██████████████████████████▌     | 1.0 MB 5.1 MB/s eta 0:00:01\r\u001b[K     |██████████████████████████▊     | 1.0 MB 5.1 MB/s eta 0:00:01\r\u001b[K     |███████████████████████████     | 1.0 MB 5.1 MB/s eta 0:00:01\r\u001b[K     |███████████████████████████▎    | 1.0 MB 5.1 MB/s eta 0:00:01\r\u001b[K     |███████████████████████████▌    | 1.0 MB 5.1 MB/s eta 0:00:01\r\u001b[K     |███████████████████████████▉    | 1.1 MB 5.1 MB/s eta 0:00:01\r\u001b[K     |████████████████████████████    | 1.1 MB 5.1 MB/s eta 0:00:01\r\u001b[K     |████████████████████████████▍   | 1.1 MB 5.1 MB/s eta 0:00:01\r\u001b[K     |████████████████████████████▋   | 1.1 MB 5.1 MB/s eta 0:00:01\r\u001b[K     |████████████████████████████▉   | 1.1 MB 5.1 MB/s eta 0:00:01\r\u001b[K     |█████████████████████████████▏  | 1.1 MB 5.1 MB/s eta 0:00:01\r\u001b[K     |█████████████████████████████▍  | 1.1 MB 5.1 MB/s eta 0:00:01\r\u001b[K     |█████████████████████████████▊  | 1.1 MB 5.1 MB/s eta 0:00:01\r\u001b[K     |██████████████████████████████  | 1.1 MB 5.1 MB/s eta 0:00:01\r\u001b[K     |██████████████████████████████▎ | 1.1 MB 5.1 MB/s eta 0:00:01\r\u001b[K     |██████████████████████████████▌ | 1.2 MB 5.1 MB/s eta 0:00:01\r\u001b[K     |██████████████████████████████▊ | 1.2 MB 5.1 MB/s eta 0:00:01\r\u001b[K     |███████████████████████████████ | 1.2 MB 5.1 MB/s eta 0:00:01\r\u001b[K     |███████████████████████████████▎| 1.2 MB 5.1 MB/s eta 0:00:01\r\u001b[K     |███████████████████████████████▋| 1.2 MB 5.1 MB/s eta 0:00:01\r\u001b[K     |███████████████████████████████▉| 1.2 MB 5.1 MB/s eta 0:00:01\r\u001b[K     |████████████████████████████████| 1.2 MB 5.1 MB/s \n",
            "\u001b[?25hInstalling collected packages: sentencepiece\n",
            "Successfully installed sentencepiece-0.1.96\n"
          ],
          "name": "stdout"
        }
      ]
    },
    {
      "cell_type": "code",
      "metadata": {
        "id": "-foU8Z6q28rl"
      },
      "source": [
        "# -*- coding: utf-8 -*-\n",
        "\"\"\"7-3.seq2seq(chat).ipynb\n",
        "\n",
        "Automatically generated by Colaboratory.\n",
        "\n",
        "Original file is located at\n",
        "    https://colab.research.google.com/drive/1qMp24Tvn01XRtIx_ES_gVEqom99hm3SL\n",
        "\"\"\"\n",
        "\n",
        "# Commented out IPython magic to ensure Python compatibility.\n",
        "# 작업 디렉토리를 변경한다.\n",
        "# %cd '/content/drive/My Drive/Colab Notebooks'\n",
        "\n",
        "# Seq2Seq 모델를 이용한 ChatBot : 채팅 모듈\n",
        "#\n",
        "# 관련 논문 : Kyunghyun Cho, et. al., 2014,\n",
        "#            Learning Phrase Representations using RNN Encoder–Decoder \n",
        "#            for Statistical Machine Translation\n",
        "#\n",
        "# 저작자: 2021.05.26, 조성현 (blog.naver.com/chunjein)\n",
        "# copyright: SNS 등에 공개할 때는 출처에 저작자를 명시해 주시기 바랍니다.\n",
        "# ----------------------------------------------------------------------\n",
        "from tensorflow.keras.layers import Input, LSTM, Dense\n",
        "from tensorflow.keras.layers import Embedding, TimeDistributed\n",
        "from tensorflow.keras.models import Model\n",
        "import tensorflow.keras.backend as K\n",
        "import sentencepiece as spm\n",
        "import numpy as np\n",
        "import pickle"
      ],
      "execution_count": null,
      "outputs": []
    },
    {
      "cell_type": "code",
      "metadata": {
        "colab": {
          "base_uri": "https://localhost:8080/"
        },
        "id": "GBO4Ak_D3BDD",
        "outputId": "a770e0ae-97ef-4d6a-a514-6fcb3bce3a7d"
      },
      "source": [
        "# Sub-word 사전 읽어온다.\n",
        "with open('/content/drive/MyDrive/머신러닝/seq2seq/chatbot_voc.pkl', 'rb') as f:\n",
        "    word2idx,  idx2word = pickle.load(f)\n",
        "\n",
        "VOCAB_SIZE = len(idx2word)\n",
        "EMB_SIZE = 128\n",
        "LSTM_HIDDEN = 128\n",
        "MAX_LEN = 15            # 단어 시퀀스 길이\n",
        "MODEL_PATH = '/content/drive/MyDrive/머신러닝/seq2seq/chatbot_trained.h5'\n",
        "\n",
        "# 데이터 전처리 과정에서 생성한 SentencePiece model을 불러온다.\n",
        "SPM_MODEL = \"/content/drive/MyDrive/머신러닝/seq2seq/chatbot_model.model\"\n",
        "sp = spm.SentencePieceProcessor()\n",
        "sp.Load(SPM_MODEL)\n",
        "\n",
        "# 워드 임베딩 레이어. Encoder와 decoder에서 공동으로 사용한다.\n",
        "K.clear_session()\n",
        "wordEmbedding = Embedding(input_dim=VOCAB_SIZE, output_dim=EMB_SIZE)\n",
        "\n",
        "# Encoder\n",
        "# -------\n",
        "encoderX = Input(batch_shape=(None, MAX_LEN))\n",
        "encEMB = wordEmbedding(encoderX)\n",
        "encLSTM1 = LSTM(LSTM_HIDDEN, return_sequences=True, return_state = True)\n",
        "encLSTM2 = LSTM(LSTM_HIDDEN, return_state = True)\n",
        "ey1, eh1, ec1 = encLSTM1(encEMB)    # LSTM 1층 \n",
        "_, eh2, ec2 = encLSTM2(ey1)         # LSTM 2층\n",
        "\n",
        "# Decoder\n",
        "# -------\n",
        "# Decoder는 1개 단어씩을 입력으로 받는다.\n",
        "decoderX = Input(batch_shape=(None, 1)) # 1 : time_step\n",
        "decEMB = wordEmbedding(decoderX)\n",
        "decLSTM1 = LSTM(LSTM_HIDDEN, return_sequences=True, return_state=True)\n",
        "decLSTM2 = LSTM(LSTM_HIDDEN, return_sequences=True, return_state=True)\n",
        "dy1, _, _ = decLSTM1(decEMB, initial_state = [eh1, ec1])\n",
        "dy2, _, _ = decLSTM2(dy1, initial_state = [eh2, ec2])\n",
        "decOutput = TimeDistributed(Dense(VOCAB_SIZE, activation='softmax'))\n",
        "outputY = decOutput(dy2)\n",
        "\n",
        "# Model\n",
        "# -----\n",
        "model = Model([encoderX, decoderX], outputY)\n",
        "model.load_weights(MODEL_PATH)\n",
        "model.summary()"
      ],
      "execution_count": null,
      "outputs": [
        {
          "output_type": "stream",
          "text": [
            "Model: \"model\"\n",
            "__________________________________________________________________________________________________\n",
            "Layer (type)                    Output Shape         Param #     Connected to                     \n",
            "==================================================================================================\n",
            "input_2 (InputLayer)            [(None, 1)]          0                                            \n",
            "__________________________________________________________________________________________________\n",
            "input_1 (InputLayer)            [(None, 15)]         0                                            \n",
            "__________________________________________________________________________________________________\n",
            "embedding (Embedding)           multiple             1152000     input_1[0][0]                    \n",
            "                                                                 input_2[0][0]                    \n",
            "__________________________________________________________________________________________________\n",
            "lstm (LSTM)                     [(None, 15, 128), (N 131584      embedding[0][0]                  \n",
            "__________________________________________________________________________________________________\n",
            "lstm_2 (LSTM)                   [(None, 1, 128), (No 131584      embedding[1][0]                  \n",
            "                                                                 lstm[0][1]                       \n",
            "                                                                 lstm[0][2]                       \n",
            "__________________________________________________________________________________________________\n",
            "lstm_1 (LSTM)                   [(None, 128), (None, 131584      lstm[0][0]                       \n",
            "__________________________________________________________________________________________________\n",
            "lstm_3 (LSTM)                   [(None, 1, 128), (No 131584      lstm_2[0][0]                     \n",
            "                                                                 lstm_1[0][1]                     \n",
            "                                                                 lstm_1[0][2]                     \n",
            "__________________________________________________________________________________________________\n",
            "time_distributed (TimeDistribut (None, 1, 9000)      1161000     lstm_3[0][0]                     \n",
            "==================================================================================================\n",
            "Total params: 2,839,336\n",
            "Trainable params: 2,839,336\n",
            "Non-trainable params: 0\n",
            "__________________________________________________________________________________________________\n"
          ],
          "name": "stdout"
        }
      ]
    },
    {
      "cell_type": "code",
      "metadata": {
        "id": "rP2CgGyj3Ed0"
      },
      "source": [
        "# Chatting용 model\n",
        "model_enc = Model(encoderX, [eh1, ec1, eh2, ec2]) # encoder 출력\n",
        "\n",
        "# 채팅용 Decoder를 만든다\n",
        "ih1 = Input(batch_shape = (None, LSTM_HIDDEN))\n",
        "ic1 = Input(batch_shape = (None, LSTM_HIDDEN))\n",
        "ih2 = Input(batch_shape = (None, LSTM_HIDDEN))\n",
        "ic2 = Input(batch_shape = (None, LSTM_HIDDEN))\n",
        "\n",
        "dec_output1, dh1, dc1 = decLSTM1(decEMB, initial_state = [ih1, ic1])\n",
        "dec_output2, dh2, dc2 = decLSTM2(dec_output1, initial_state = [ih2, ic2])\n",
        "\n",
        "dec_output = decOutput(dec_output2)\n",
        "model_dec = Model([decoderX, ih1, ic1, ih2, ic2], [dec_output, dh1, dc1, dh2, dc2])"
      ],
      "execution_count": null,
      "outputs": []
    },
    {
      "cell_type": "code",
      "metadata": {
        "id": "y2IzwTVG3fdx"
      },
      "source": [
        "import pdb\n",
        "# Question을 입력받아 Answer를 생성한다.\n",
        "def genAnswer(question): # 인코더 입력부분(1차원),  reshape\n",
        "    question = question[np.newaxis, :] # 2차원 구조로 바꾸는 식 [np.newaxis, :] = question = qenstion.reshape(1, -1) -< (1x15) 행렬\n",
        "    init_h1, init_c1, init_h2, init_c2 = model_enc.predict(question)\n",
        "\n",
        "    # 시작 단어는 <BOS>로 한다.\n",
        "    word = np.array(sp.bos_id()).reshape(1, 1)\n",
        "\n",
        "    answer = []\n",
        "    for i in range(MAX_LEN):\n",
        "        dY, next_h1, next_c1, next_h2, next_c2 = model_dec.predict([word, init_h1, init_c1, init_h2, init_c2])\n",
        "        # dY : 답변할 문장의 첫번째 subword\n",
        "        # 디코더의 출력은 vocabulary에 대응되는 one-hot이다.\n",
        "        # argmax로 해당 단어를 채택한다.\n",
        "        nextWord = np.argmax(dY[0, 0])\n",
        "        # np.random.mulitnomial(dY[0,0], 1) \n",
        "        # 융통성을 조절 할 수 있는 함수(장치) softmax\n",
        "\n",
        "        # 예상 단어가 <EOS>이거나 <PAD>이면 더 이상 예상할 게 없다.       \n",
        "        if nextWord == sp.eos_id() or nextWord == sp.pad_id():\n",
        "            break\n",
        "        \n",
        "        # 다음 예상 단어인 디코더의 출력을 answer에 추가한다.\n",
        "        answer.append(idx2word[nextWord])\n",
        "        \n",
        "        # 디코더의 다음 recurrent를 위해 입력 데이터와 hidden 값을\n",
        "        # 준비한다. 입력은 word이고, hidden은 h와 c이다.\n",
        "        word = np.array(nextWord).reshape(1,1)\n",
        "    \n",
        "        init_h1 = next_h1\n",
        "        init_c1 = next_c1\n",
        "        init_h2 = next_h2\n",
        "        init_c2 = next_c2\n",
        "        \n",
        "    return sp.decode_pieces(answer) # 답변이 idx로 되어있어서 decode해야 한다. \n",
        "#pdb.set_trace()"
      ],
      "execution_count": null,
      "outputs": []
    },
    {
      "cell_type": "code",
      "metadata": {
        "colab": {
          "base_uri": "https://localhost:8080/"
        },
        "id": "vs54JOb13euX",
        "outputId": "e75d3847-9209-4d88-d2ca-447dab5dc44e"
      },
      "source": [
        "# Chatting\n",
        "# dummy : 최초 1회는 모델을 로드하는데 약간의 시간이 걸리므로 이것을 가리기 위함.\n",
        "def chatting(n=100):\n",
        "    for i in range(n):\n",
        "        question = input('Q : ')\n",
        "        \n",
        "        if  question == 'quit':\n",
        "            break\n",
        "        \n",
        "        q_idx = []\n",
        "        for x in sp.encode_as_pieces(question): # subword로 분해 \n",
        "            if x in word2idx:\n",
        "                q_idx.append(word2idx[x]) # word2idx로 id 부여\n",
        "            else:\n",
        "                q_idx.append(sp.unk_id())   # 사전에 없는 단어는 out-of-vocabulary (OOV) 처리\n",
        "        \n",
        "        # <PAD>를 삽입한다.\n",
        "        if len(q_idx) < MAX_LEN:\n",
        "            q_idx.extend([sp.pad_id()] * (MAX_LEN - len(q_idx)))\n",
        "        else:\n",
        "            q_idx = q_idx[0:MAX_LEN]\n",
        "        \n",
        "        answer = genAnswer(np.array(q_idx))\n",
        "        print('A :', answer)\n",
        "\n",
        "####### Chatting 시작 #######\n",
        "print(\"\\nSeq2Seq ChatBot (ver. 1.0)\")\n",
        "print(\"Chatting 모듈을 로드하고 있습니다 ...\")\n",
        "\n",
        "# 처음 1회는 시간이 걸리기 때문에 dummy question을 입력한다.\n",
        "answer = genAnswer(np.zeros(MAX_LEN))\n",
        "print(\"ChatBot이 준비 됐습니다.\")\n"
      ],
      "execution_count": null,
      "outputs": [
        {
          "output_type": "stream",
          "text": [
            "\n",
            "Seq2Seq ChatBot (ver. 1.0)\n",
            "Chatting 모듈을 로드하고 있습니다 ...\n",
            "ChatBot이 준비 됐습니다.\n"
          ],
          "name": "stdout"
        }
      ]
    },
    {
      "cell_type": "code",
      "metadata": {
        "colab": {
          "base_uri": "https://localhost:8080/"
        },
        "id": "DRa8o3zH3blg",
        "outputId": "349f34bf-fa4b-4cfb-dadd-cacb6392cc65"
      },
      "source": [
        "# 채팅을 시작한다.\n",
        "chatting(100)"
      ],
      "execution_count": null,
      "outputs": [
        {
          "output_type": "stream",
          "text": [
            "Q : 김택현은 잘생겼니? 아니면 못생겼니?\n",
            "A : 신경쓰이요\n",
            "Q : 유현승은 얼짱이다\n",
            "A : 그래도 늦지 않았어요\n",
            "Q : 현승이는 잘생겼다\n",
            "A : 네 말씀해주세요\n",
            "Q : 쉣~\n",
            "A : 좋은 사람 만나세요\n",
            "Q : 가형님은 어떤사람?\n",
            "A : 많이 더 더 더 힘들죠\n",
            "Q : 지수님음 어떤사람?\n",
            "A : 사랑은 항상 제일 생각하면서 알아차리지 알아차려도 싫어해주세요\n",
            "Q : 지수님은 어떤사람?\n",
            "A : 사랑은 항상 제일 알아보세요\n",
            "Q : 이지수 + 진가형\n",
            "A : 그게 더 나도 좋을 거예요\n",
            "Q : 이지수 + 유현승 + 진가형\n",
            "A : 그 사람의 변화를 따라게 좋아요\n",
            "Q : 우리는 팀\n",
            "A : 그게 더 좋은게요\n",
            "Q : 가형님은 생각중\n",
            "A : 좋은 생각을 항상 하세요\n",
            "Q : 나는 좋은사람\n",
            "A : 좋은 생각이에요\n",
            "Q : 가형님은 고민중\n",
            "A : 좋은 사람은 잘 될 거예요\n",
            "Q : 현승이는 웃는중\n",
            "A : 잘 잘 될 거예요\n",
            "Q : 왓더뻑\n",
            "A : 저도 좋죠\n",
            "Q : quit\n"
          ],
          "name": "stdout"
        }
      ]
    },
    {
      "cell_type": "code",
      "metadata": {
        "id": "93RwSF5J3cC0"
      },
      "source": [
        "# 대화 내용 예시\n",
        "# 가끔 궁금해 : 그 사람도 그럴 거예요.,0\n",
        "# 가끔 뭐하는지 궁금해 : 그 사람도 그럴 거예요.,0\n",
        "# 가끔은 혼자인게 좋다 : 혼자를 즐기세요.,0\n",
        "# 가난한 자의 설움 : 돈은 다시 들어올 거예요.,0\n",
        "# 가만 있어도 땀난다 : 땀을 식혀주세요.,0\n",
        "# 가상화폐 쫄딱 망함 : 어서 잊고 새출발 하세요.,0\n",
        "# 가스불 켜고 나갔어 : 빨리 집에 돌아가서 끄고 나오세요.,0\n",
        "# 가스불 켜놓고 나온거 같아 : 빨리 집에 돌아가서 끄고 나오세요.,0\n",
        "# 가스비 너무 많이 나왔다. : 다음 달에는 더 절약해봐요.,0\n",
        "# 가스비 비싼데 감기 걸리겠어 : 따뜻하게 사세요!,0\n",
        "# 남자친구 교회 데려가고 싶어 : 마음을 열 때까지 설득해보세요.,0\n",
        "# 남자친구 또 운동 갔어 : 운동을 함께 해보세요.,0\n",
        "# 남자친구 생일인데 뭘 줄까 : 평소에 필요한 것 생각해보세요.,0\n",
        "# 남자친구 승진 선물로 뭐가 좋을까? : 평소에 필요했던 게 좋을 것 같아요.,0\n",
        "# 남자친구 오늘 따라 훈훈해 보인다 : 전생에 나라를 구하셨나요.,0\n",
        "# 남자친구 오늘 좀 질린다. : 결단은 빠를수록 좋아요.,0\n",
        "# 남자친구가 나 안 믿어줘 : 거짓말 적당히 하세요.,0\n",
        "# 남자친구가 너무 바빠 : 너무 집착하지 마세요.,0\n",
        "# 남자친구가 너무 운동만 해 : 운동을 함께 해보세요.,0\n",
        "# 남자친구가 너무 잘생겼어 : 전생에 나라를 구하셨나요.,0"
      ],
      "execution_count": null,
      "outputs": []
    },
    {
      "cell_type": "code",
      "metadata": {
        "colab": {
          "base_uri": "https://localhost:8080/"
        },
        "id": "19k3JijlH3DN",
        "outputId": "881e5d26-ac91-4d08-f4c1-8d8c93be22ed"
      },
      "source": [
        "# 융통성을 조절 할 수 있는 함수(장치) softmax\n",
        "a = np.array([0.1, 0.5, 0.3, 0.4])\n",
        "beta = 1.0\n",
        "\n",
        "e = np.exp(a / beta)\n",
        "e / np.sum(e)\n",
        "# -> 배열이 확률 p로 변환 , 합은 = 1\n",
        "# Mulitnomial : 1 과 3의 횟수 유사\n",
        "# 융통성이 많다.\n",
        "# beta가 클 수록 새로운 답변을 많이 하는 챗봇이 된다."
      ],
      "execution_count": null,
      "outputs": [
        {
          "output_type": "execute_result",
          "data": {
            "text/plain": [
              "array([0.19750799, 0.2946473 , 0.24123681, 0.2666079 ])"
            ]
          },
          "metadata": {
            "tags": []
          },
          "execution_count": 20
        }
      ]
    },
    {
      "cell_type": "code",
      "metadata": {
        "colab": {
          "base_uri": "https://localhost:8080/"
        },
        "id": "TuIb_pc6IS4O",
        "outputId": "b3cff8ce-b26d-4cf6-ce8f-9f0c3b596cb9"
      },
      "source": [
        "# 융통성을 조절 할 수 있는 함수(장치) softmax\n",
        "a = np.array([0.1, 0.5, 0.3, 0.4])\n",
        "beta = 0.1\n",
        "\n",
        "e = np.exp(a / beta)\n",
        "e / np.sum(e)\n",
        "# -> 배열이 확률 p로 변환 , 합은 = 1\n",
        "# 0.5와 0.4의 차이가 크다는 것을 확인 할 수 있다.\n",
        "# Mulitnomial: 1 이 많이, 3이 작게\n",
        "# 융통성이 작다. \n",
        "# beta가 작을 수록 답변이 딱딱해진다. "
      ],
      "execution_count": null,
      "outputs": [
        {
          "output_type": "execute_result",
          "data": {
            "text/plain": [
              "array([0.01203764, 0.65723302, 0.08894682, 0.24178252])"
            ]
          },
          "metadata": {
            "tags": []
          },
          "execution_count": 21
        }
      ]
    }
  ]
}
