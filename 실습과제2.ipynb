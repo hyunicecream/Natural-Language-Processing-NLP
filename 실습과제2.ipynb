{
  "nbformat": 4,
  "nbformat_minor": 0,
  "metadata": {
    "colab": {
      "name": "실습과제2.ipynb",
      "provenance": [],
      "collapsed_sections": [],
      "machine_shape": "hm",
      "mount_file_id": "1fB3LRNmQUsEfE63mWeEqbVTe3W1VI65G",
      "authorship_tag": "ABX9TyPqfQA9GzqWu0jweuBHzR2+",
      "include_colab_link": true
    },
    "kernelspec": {
      "name": "python3",
      "display_name": "Python 3"
    },
    "language_info": {
      "name": "python"
    },
    "accelerator": "GPU"
  },
  "cells": [
    {
      "cell_type": "markdown",
      "metadata": {
        "id": "view-in-github",
        "colab_type": "text"
      },
      "source": [
        "<a href=\"https://colab.research.google.com/github/hyunicecream/Natural-Language-Processing-NLP-/blob/main/%EC%8B%A4%EC%8A%B5%EA%B3%BC%EC%A0%9C2.ipynb\" target=\"_parent\"><img src=\"https://colab.research.google.com/assets/colab-badge.svg\" alt=\"Open In Colab\"/></a>"
      ]
    },
    {
      "cell_type": "code",
      "metadata": {
        "colab": {
          "base_uri": "https://localhost:8080/"
        },
        "id": "LHxNs5vK-tx9",
        "outputId": "21e6cdaf-1ce3-46ea-b176-e2f25e9b7ff9"
      },
      "source": [
        "%pip install sentencepiece"
      ],
      "execution_count": null,
      "outputs": [
        {
          "output_type": "stream",
          "text": [
            "Collecting sentencepiece\n",
            "  Downloading sentencepiece-0.1.96-cp37-cp37m-manylinux_2_17_x86_64.manylinux2014_x86_64.whl (1.2 MB)\n",
            "\u001b[?25l\r\u001b[K     |▎                               | 10 kB 22.7 MB/s eta 0:00:01\r\u001b[K     |▌                               | 20 kB 26.5 MB/s eta 0:00:01\r\u001b[K     |▉                               | 30 kB 24.4 MB/s eta 0:00:01\r\u001b[K     |█                               | 40 kB 18.7 MB/s eta 0:00:01\r\u001b[K     |█▍                              | 51 kB 15.3 MB/s eta 0:00:01\r\u001b[K     |█▋                              | 61 kB 11.2 MB/s eta 0:00:01\r\u001b[K     |██                              | 71 kB 12.4 MB/s eta 0:00:01\r\u001b[K     |██▏                             | 81 kB 13.5 MB/s eta 0:00:01\r\u001b[K     |██▍                             | 92 kB 12.3 MB/s eta 0:00:01\r\u001b[K     |██▊                             | 102 kB 13.4 MB/s eta 0:00:01\r\u001b[K     |███                             | 112 kB 13.4 MB/s eta 0:00:01\r\u001b[K     |███▎                            | 122 kB 13.4 MB/s eta 0:00:01\r\u001b[K     |███▌                            | 133 kB 13.4 MB/s eta 0:00:01\r\u001b[K     |███▉                            | 143 kB 13.4 MB/s eta 0:00:01\r\u001b[K     |████                            | 153 kB 13.4 MB/s eta 0:00:01\r\u001b[K     |████▎                           | 163 kB 13.4 MB/s eta 0:00:01\r\u001b[K     |████▋                           | 174 kB 13.4 MB/s eta 0:00:01\r\u001b[K     |████▉                           | 184 kB 13.4 MB/s eta 0:00:01\r\u001b[K     |█████▏                          | 194 kB 13.4 MB/s eta 0:00:01\r\u001b[K     |█████▍                          | 204 kB 13.4 MB/s eta 0:00:01\r\u001b[K     |█████▊                          | 215 kB 13.4 MB/s eta 0:00:01\r\u001b[K     |██████                          | 225 kB 13.4 MB/s eta 0:00:01\r\u001b[K     |██████▏                         | 235 kB 13.4 MB/s eta 0:00:01\r\u001b[K     |██████▌                         | 245 kB 13.4 MB/s eta 0:00:01\r\u001b[K     |██████▊                         | 256 kB 13.4 MB/s eta 0:00:01\r\u001b[K     |███████                         | 266 kB 13.4 MB/s eta 0:00:01\r\u001b[K     |███████▎                        | 276 kB 13.4 MB/s eta 0:00:01\r\u001b[K     |███████▋                        | 286 kB 13.4 MB/s eta 0:00:01\r\u001b[K     |███████▉                        | 296 kB 13.4 MB/s eta 0:00:01\r\u001b[K     |████████                        | 307 kB 13.4 MB/s eta 0:00:01\r\u001b[K     |████████▍                       | 317 kB 13.4 MB/s eta 0:00:01\r\u001b[K     |████████▋                       | 327 kB 13.4 MB/s eta 0:00:01\r\u001b[K     |█████████                       | 337 kB 13.4 MB/s eta 0:00:01\r\u001b[K     |█████████▏                      | 348 kB 13.4 MB/s eta 0:00:01\r\u001b[K     |█████████▌                      | 358 kB 13.4 MB/s eta 0:00:01\r\u001b[K     |█████████▊                      | 368 kB 13.4 MB/s eta 0:00:01\r\u001b[K     |██████████                      | 378 kB 13.4 MB/s eta 0:00:01\r\u001b[K     |██████████▎                     | 389 kB 13.4 MB/s eta 0:00:01\r\u001b[K     |██████████▌                     | 399 kB 13.4 MB/s eta 0:00:01\r\u001b[K     |██████████▉                     | 409 kB 13.4 MB/s eta 0:00:01\r\u001b[K     |███████████                     | 419 kB 13.4 MB/s eta 0:00:01\r\u001b[K     |███████████▍                    | 430 kB 13.4 MB/s eta 0:00:01\r\u001b[K     |███████████▋                    | 440 kB 13.4 MB/s eta 0:00:01\r\u001b[K     |███████████▉                    | 450 kB 13.4 MB/s eta 0:00:01\r\u001b[K     |████████████▏                   | 460 kB 13.4 MB/s eta 0:00:01\r\u001b[K     |████████████▍                   | 471 kB 13.4 MB/s eta 0:00:01\r\u001b[K     |████████████▊                   | 481 kB 13.4 MB/s eta 0:00:01\r\u001b[K     |█████████████                   | 491 kB 13.4 MB/s eta 0:00:01\r\u001b[K     |█████████████▎                  | 501 kB 13.4 MB/s eta 0:00:01\r\u001b[K     |█████████████▌                  | 512 kB 13.4 MB/s eta 0:00:01\r\u001b[K     |█████████████▊                  | 522 kB 13.4 MB/s eta 0:00:01\r\u001b[K     |██████████████                  | 532 kB 13.4 MB/s eta 0:00:01\r\u001b[K     |██████████████▎                 | 542 kB 13.4 MB/s eta 0:00:01\r\u001b[K     |██████████████▋                 | 552 kB 13.4 MB/s eta 0:00:01\r\u001b[K     |██████████████▉                 | 563 kB 13.4 MB/s eta 0:00:01\r\u001b[K     |███████████████▏                | 573 kB 13.4 MB/s eta 0:00:01\r\u001b[K     |███████████████▍                | 583 kB 13.4 MB/s eta 0:00:01\r\u001b[K     |███████████████▋                | 593 kB 13.4 MB/s eta 0:00:01\r\u001b[K     |████████████████                | 604 kB 13.4 MB/s eta 0:00:01\r\u001b[K     |████████████████▏               | 614 kB 13.4 MB/s eta 0:00:01\r\u001b[K     |████████████████▌               | 624 kB 13.4 MB/s eta 0:00:01\r\u001b[K     |████████████████▊               | 634 kB 13.4 MB/s eta 0:00:01\r\u001b[K     |█████████████████               | 645 kB 13.4 MB/s eta 0:00:01\r\u001b[K     |█████████████████▎              | 655 kB 13.4 MB/s eta 0:00:01\r\u001b[K     |█████████████████▌              | 665 kB 13.4 MB/s eta 0:00:01\r\u001b[K     |█████████████████▉              | 675 kB 13.4 MB/s eta 0:00:01\r\u001b[K     |██████████████████              | 686 kB 13.4 MB/s eta 0:00:01\r\u001b[K     |██████████████████▍             | 696 kB 13.4 MB/s eta 0:00:01\r\u001b[K     |██████████████████▋             | 706 kB 13.4 MB/s eta 0:00:01\r\u001b[K     |███████████████████             | 716 kB 13.4 MB/s eta 0:00:01\r\u001b[K     |███████████████████▏            | 727 kB 13.4 MB/s eta 0:00:01\r\u001b[K     |███████████████████▍            | 737 kB 13.4 MB/s eta 0:00:01\r\u001b[K     |███████████████████▊            | 747 kB 13.4 MB/s eta 0:00:01\r\u001b[K     |████████████████████            | 757 kB 13.4 MB/s eta 0:00:01\r\u001b[K     |████████████████████▎           | 768 kB 13.4 MB/s eta 0:00:01\r\u001b[K     |████████████████████▌           | 778 kB 13.4 MB/s eta 0:00:01\r\u001b[K     |████████████████████▉           | 788 kB 13.4 MB/s eta 0:00:01\r\u001b[K     |█████████████████████           | 798 kB 13.4 MB/s eta 0:00:01\r\u001b[K     |█████████████████████▎          | 808 kB 13.4 MB/s eta 0:00:01\r\u001b[K     |█████████████████████▋          | 819 kB 13.4 MB/s eta 0:00:01\r\u001b[K     |█████████████████████▉          | 829 kB 13.4 MB/s eta 0:00:01\r\u001b[K     |██████████████████████▏         | 839 kB 13.4 MB/s eta 0:00:01\r\u001b[K     |██████████████████████▍         | 849 kB 13.4 MB/s eta 0:00:01\r\u001b[K     |██████████████████████▊         | 860 kB 13.4 MB/s eta 0:00:01\r\u001b[K     |███████████████████████         | 870 kB 13.4 MB/s eta 0:00:01\r\u001b[K     |███████████████████████▏        | 880 kB 13.4 MB/s eta 0:00:01\r\u001b[K     |███████████████████████▌        | 890 kB 13.4 MB/s eta 0:00:01\r\u001b[K     |███████████████████████▊        | 901 kB 13.4 MB/s eta 0:00:01\r\u001b[K     |████████████████████████        | 911 kB 13.4 MB/s eta 0:00:01\r\u001b[K     |████████████████████████▎       | 921 kB 13.4 MB/s eta 0:00:01\r\u001b[K     |████████████████████████▋       | 931 kB 13.4 MB/s eta 0:00:01\r\u001b[K     |████████████████████████▉       | 942 kB 13.4 MB/s eta 0:00:01\r\u001b[K     |█████████████████████████       | 952 kB 13.4 MB/s eta 0:00:01\r\u001b[K     |█████████████████████████▍      | 962 kB 13.4 MB/s eta 0:00:01\r\u001b[K     |█████████████████████████▋      | 972 kB 13.4 MB/s eta 0:00:01\r\u001b[K     |██████████████████████████      | 983 kB 13.4 MB/s eta 0:00:01\r\u001b[K     |██████████████████████████▏     | 993 kB 13.4 MB/s eta 0:00:01\r\u001b[K     |██████████████████████████▌     | 1.0 MB 13.4 MB/s eta 0:00:01\r\u001b[K     |██████████████████████████▊     | 1.0 MB 13.4 MB/s eta 0:00:01\r\u001b[K     |███████████████████████████     | 1.0 MB 13.4 MB/s eta 0:00:01\r\u001b[K     |███████████████████████████▎    | 1.0 MB 13.4 MB/s eta 0:00:01\r\u001b[K     |███████████████████████████▌    | 1.0 MB 13.4 MB/s eta 0:00:01\r\u001b[K     |███████████████████████████▉    | 1.1 MB 13.4 MB/s eta 0:00:01\r\u001b[K     |████████████████████████████    | 1.1 MB 13.4 MB/s eta 0:00:01\r\u001b[K     |████████████████████████████▍   | 1.1 MB 13.4 MB/s eta 0:00:01\r\u001b[K     |████████████████████████████▋   | 1.1 MB 13.4 MB/s eta 0:00:01\r\u001b[K     |████████████████████████████▉   | 1.1 MB 13.4 MB/s eta 0:00:01\r\u001b[K     |█████████████████████████████▏  | 1.1 MB 13.4 MB/s eta 0:00:01\r\u001b[K     |█████████████████████████████▍  | 1.1 MB 13.4 MB/s eta 0:00:01\r\u001b[K     |█████████████████████████████▊  | 1.1 MB 13.4 MB/s eta 0:00:01\r\u001b[K     |██████████████████████████████  | 1.1 MB 13.4 MB/s eta 0:00:01\r\u001b[K     |██████████████████████████████▎ | 1.1 MB 13.4 MB/s eta 0:00:01\r\u001b[K     |██████████████████████████████▌ | 1.2 MB 13.4 MB/s eta 0:00:01\r\u001b[K     |██████████████████████████████▊ | 1.2 MB 13.4 MB/s eta 0:00:01\r\u001b[K     |███████████████████████████████ | 1.2 MB 13.4 MB/s eta 0:00:01\r\u001b[K     |███████████████████████████████▎| 1.2 MB 13.4 MB/s eta 0:00:01\r\u001b[K     |███████████████████████████████▋| 1.2 MB 13.4 MB/s eta 0:00:01\r\u001b[K     |███████████████████████████████▉| 1.2 MB 13.4 MB/s eta 0:00:01\r\u001b[K     |████████████████████████████████| 1.2 MB 13.4 MB/s \n",
            "\u001b[?25hInstalling collected packages: sentencepiece\n",
            "Successfully installed sentencepiece-0.1.96\n"
          ],
          "name": "stdout"
        }
      ]
    },
    {
      "cell_type": "code",
      "metadata": {
        "id": "bJ7L_Qvb-8nj",
        "colab": {
          "base_uri": "https://localhost:8080/"
        },
        "outputId": "edc9b531-60d0-4184-9b4c-9e5b2909c99c"
      },
      "source": [
        "# Commented out IPython magic to ensure Python compatibility.\n",
        "import numpy as np\n",
        "import re\n",
        "import pickle\n",
        "from sklearn.datasets import fetch_20newsgroups\n",
        "import sentencepiece as spm\n",
        "from tensorflow.keras.layers import Input, Embedding, Dense, LSTM, Dropout\n",
        "from tensorflow.keras.preprocessing.sequence import pad_sequences\n",
        "from tensorflow.keras.models import Model\n",
        "from tensorflow.keras import optimizers\n",
        "from sklearn.model_selection import train_test_split\n",
        "import matplotlib.pyplot as plt\n",
        "import seaborn as sns\n",
        "\n",
        "\n",
        "# %cd '/content/drive/MyDrive/Colab Notebooks'\n",
        "\n",
        "# news data를 읽어온다. subject 분석용.\n",
        "newsData = fetch_20newsgroups(shuffle=True, random_state=1, remove=('footers', 'quotes'))\n",
        "# heard quotes, footer 만 있다 body 부분은 따로 없다."
      ],
      "execution_count": null,
      "outputs": [
        {
          "output_type": "stream",
          "text": [
            "Downloading 20news dataset. This may take a few minutes.\n",
            "Downloading dataset from https://ndownloader.figshare.com/files/5975967 (14 MB)\n"
          ],
          "name": "stderr"
        }
      ]
    },
    {
      "cell_type": "code",
      "metadata": {
        "colab": {
          "base_uri": "https://localhost:8080/"
        },
        "id": "Zqviv6Tf--vo",
        "outputId": "5037f789-2965-46bc-adf3-6e0b3c9ef3e6"
      },
      "source": [
        "# 첫 번째 news를 조회해 본다.\n",
        "news = newsData['data']\n",
        "topic = newsData['target']\n",
        "topic_name = newsData['target_names']\n",
        "n_topic = len(set(topic))\n",
        "\n",
        "print(len(news))\n",
        "print(news[0])\n",
        "print('topic = ', topic[0], topic_name[topic[0]])\n"
      ],
      "execution_count": null,
      "outputs": [
        {
          "output_type": "stream",
          "text": [
            "11314\n",
            "From: ab4z@Virginia.EDU (\"Andi Beyer\")\n",
            "Subject: Re: Israeli Terrorism\n",
            "Organization: University of Virginia\n",
            "Lines: 15\n",
            "topic =  17 talk.politics.mideast\n"
          ],
          "name": "stdout"
        }
      ]
    },
    {
      "cell_type": "code",
      "metadata": {
        "id": "EeoelYLc_DDo"
      },
      "source": [
        "# Subject만 추출한다.\n",
        "subjects = []\n",
        "for text in news:\n",
        "    for sent in text.split('\\n'):\n",
        "        idx = sent.find('Subject:')\n",
        "        if idx >= 0:       # found\n",
        "            subjects.append(sent[(idx + 9):].replace('Re: ', '').lower())\n",
        "           #subjects.append(re.sub(\"[^a-zA-Z]\", \" \", subject))\n",
        "            break"
      ],
      "execution_count": null,
      "outputs": []
    },
    {
      "cell_type": "code",
      "metadata": {
        "colab": {
          "base_uri": "https://localhost:8080/"
        },
        "id": "Pe4DDf-9BH5U",
        "outputId": "4244fcd9-629e-4e05-dbb5-8515cced89a3"
      },
      "source": [
        "subjects[0:5]"
      ],
      "execution_count": null,
      "outputs": [
        {
          "output_type": "execute_result",
          "data": {
            "text/plain": [
              "['israeli terrorism',\n",
              " 'amusing atheists and agnostics',\n",
              " 'rejoinder. questions to israelis',\n",
              " 'clipper- business as usual?',\n",
              " 'playoff pool rule revision']"
            ]
          },
          "metadata": {
            "tags": []
          },
          "execution_count": 5
        }
      ]
    },
    {
      "cell_type": "code",
      "metadata": {
        "colab": {
          "base_uri": "https://localhost:8080/"
        },
        "id": "F-8Ue-nZBKAl",
        "outputId": "cb035d6a-eac9-43fb-fe5e-8701ff6b4f20"
      },
      "source": [
        "len(subjects)"
      ],
      "execution_count": null,
      "outputs": [
        {
          "output_type": "execute_result",
          "data": {
            "text/plain": [
              "11314"
            ]
          },
          "metadata": {
            "tags": []
          },
          "execution_count": 6
        }
      ]
    },
    {
      "cell_type": "code",
      "metadata": {
        "id": "9sY4Mc3klINV"
      },
      "source": [
        "# Sentencepice용 사전을 만들기 위해 corpusQA를 저장해 둔다.\n",
        "data_file = \"/content/drive/MyDrive/머신러닝/ChatBot/news_subject.txt\"\n",
        "with open(data_file, 'w', encoding='utf-8') as f:\n",
        "    for sent in subjects:\n",
        "        f.write(sent + '\\n')"
      ],
      "execution_count": null,
      "outputs": []
    },
    {
      "cell_type": "code",
      "metadata": {
        "id": "Pyox8UZhkenC"
      },
      "source": [
        "# Google의 Sentencepiece를 이용해서 vocabulary를 생성한다.\n",
        "# -----------------------------------------------------\n",
        "templates= \"--input={0:} \\\n",
        "            --pad_id=0 --pad_piece=<PAD>\\\n",
        "            --unk_id=1 --unk_piece=<UNK>\\\n",
        "            --bos_id=2 --bos_piece=<START>\\\n",
        "            --eos_id=3 --eos_piece=<END>\\\n",
        "            --model_prefix={1:} \\\n",
        "            --vocab_size={2:} \\\n",
        "            --character_coverage=0.9995 \\\n",
        "            --model_type=unigram\"\n",
        "\n",
        "VOCAB_SIZE = 6500\n",
        "model_prefix = \"/content/drive/MyDrive/머신러닝/ChatBot/news_subject\"\n",
        "params = templates.format(data_file, model_prefix, VOCAB_SIZE)\n",
        "\n",
        "spm.SentencePieceTrainer.Train(params)\n",
        "sp = spm.SentencePieceProcessor()\n",
        "sp.Load(model_prefix + '.model')\n",
        "\n",
        "with open(model_prefix + '.vocab', encoding='utf-8') as f:\n",
        "    vocab = [doc.strip().split('\\t') for doc in f]\n",
        "\n",
        "word2idx = {k:v for v, [k, _] in enumerate(vocab)}\n"
      ],
      "execution_count": null,
      "outputs": []
    },
    {
      "cell_type": "code",
      "metadata": {
        "colab": {
          "base_uri": "https://localhost:8080/"
        },
        "id": "1xTVXJ3PNQxj",
        "outputId": "ea632a1a-7149-41d6-c838-2df7be9c483d"
      },
      "source": [
        "from tensorflow.keras.preprocessing.text import Tokenizer\n",
        "import nltk\n",
        "nltk.download('punkt')\n",
        "subject_tok = [nltk.word_tokenize(subject) for subject in subjects]"
      ],
      "execution_count": null,
      "outputs": [
        {
          "output_type": "stream",
          "text": [
            "[nltk_data] Downloading package punkt to /root/nltk_data...\n",
            "[nltk_data]   Unzipping tokenizers/punkt.zip.\n"
          ],
          "name": "stdout"
        }
      ]
    },
    {
      "cell_type": "code",
      "metadata": {
        "colab": {
          "base_uri": "https://localhost:8080/"
        },
        "id": "ffLDk7IKNSqa",
        "outputId": "77e5bee1-6b66-4350-bc26-8f5d60c23184"
      },
      "source": [
        "subject_tok[0:5]"
      ],
      "execution_count": null,
      "outputs": [
        {
          "output_type": "execute_result",
          "data": {
            "text/plain": [
              "[['israeli', 'terrorism'],\n",
              " ['amusing', 'atheists', 'and', 'agnostics'],\n",
              " ['rejoinder', '.', 'questions', 'to', 'israelis'],\n",
              " ['clipper-', 'business', 'as', 'usual', '?'],\n",
              " ['playoff', 'pool', 'rule', 'revision']]"
            ]
          },
          "metadata": {
            "tags": []
          },
          "execution_count": 10
        }
      ]
    },
    {
      "cell_type": "code",
      "metadata": {
        "id": "A3iEay0oNTEB"
      },
      "source": [
        "tokenizer = Tokenizer()\n",
        "tokenizer.fit_on_texts(subject_tok)\n",
        "subjects_idx = tokenizer.texts_to_sequences(subject_tok)"
      ],
      "execution_count": null,
      "outputs": []
    },
    {
      "cell_type": "code",
      "metadata": {
        "colab": {
          "base_uri": "https://localhost:8080/"
        },
        "id": "acKhgK_JNTGz",
        "outputId": "24e71283-2c5b-451f-8a57-f55b024739c9"
      },
      "source": [
        "word2idx = tokenizer.word_index\n",
        "idx2word = {v:k for k, v in word2idx.items()}\n",
        "print(\"사전크기 =\", len(word2idx))"
      ],
      "execution_count": null,
      "outputs": [
        {
          "output_type": "stream",
          "text": [
            "사전크기 = 7918\n"
          ],
          "name": "stdout"
        }
      ]
    },
    {
      "cell_type": "code",
      "metadata": {
        "colab": {
          "base_uri": "https://localhost:8080/"
        },
        "id": "nrXQtdlkNXlx",
        "outputId": "f7293c2d-ebba-4403-b47b-1b598ffefd66"
      },
      "source": [
        "subjects_idx[0:5]"
      ],
      "execution_count": null,
      "outputs": [
        {
          "output_type": "execute_result",
          "data": {
            "text/plain": [
              "[[110, 285],\n",
              " [821, 68, 9, 900],\n",
              " [1078, 10, 61, 14, 690],\n",
              " [4665, 3321, 84, 1513, 1],\n",
              " [184, 509, 691, 3322]]"
            ]
          },
          "metadata": {
            "tags": []
          },
          "execution_count": 13
        }
      ]
    },
    {
      "cell_type": "code",
      "metadata": {
        "id": "lYbjcwndNZZt"
      },
      "source": [
        "paragraph_id = []\n",
        "for i in range(len(subjects_idx)):\n",
        "  paragraph_id.append(i)\n",
        "\n",
        "#paragraph_id"
      ],
      "execution_count": null,
      "outputs": []
    },
    {
      "cell_type": "code",
      "metadata": {
        "id": "C_0knU-8rN-p"
      },
      "source": [
        "# string으로 조회\n",
        "sentence = subjects[1]\n",
        "enc = sp.encode_as_pieces(sentence)\n",
        "dec = sp.decode_pieces(enc)"
      ],
      "execution_count": null,
      "outputs": []
    },
    {
      "cell_type": "code",
      "metadata": {
        "colab": {
          "base_uri": "https://localhost:8080/"
        },
        "id": "SH2q81berf4u",
        "outputId": "51c365c3-3b1a-4a1d-e089-87b310ec62f3"
      },
      "source": [
        "# word index로 조회\n",
        "# idx = sp.encode_as_ids(sentence)\n",
        "# dec = sp.decode_ids(idx)\n",
        "print('\\n    문장:', sentence)\n",
        "print('Subwords:', enc)\n",
        "print('    복원:', dec)"
      ],
      "execution_count": null,
      "outputs": [
        {
          "output_type": "stream",
          "text": [
            "\n",
            "    문장: amusing atheists and agnostics\n",
            "Subwords: ['▁am', 'using', '▁atheists', '▁and', '▁agnostic', 's']\n",
            "    복원: amusing atheists and agnostics\n"
          ],
          "name": "stdout"
        }
      ]
    },
    {
      "cell_type": "code",
      "metadata": {
        "colab": {
          "base_uri": "https://localhost:8080/"
        },
        "id": "1W0pw-4JJzX_",
        "outputId": "7b2f051a-5631-4c3e-d902-8dc75daec711"
      },
      "source": [
        "from tensorflow.keras.preprocessing.text import Tokenizer\n",
        "import nltk\n",
        "nltk.download('punkt')\n",
        "subject_tok = [nltk.word_tokenize(subject) for subject in subjects]"
      ],
      "execution_count": null,
      "outputs": [
        {
          "output_type": "stream",
          "text": [
            "[nltk_data] Downloading package punkt to /root/nltk_data...\n",
            "[nltk_data]   Package punkt is already up-to-date!\n"
          ],
          "name": "stdout"
        }
      ]
    },
    {
      "cell_type": "code",
      "metadata": {
        "colab": {
          "base_uri": "https://localhost:8080/"
        },
        "id": "xWKqywAQMj9I",
        "outputId": "707493ed-0464-489e-c7f7-b296c8df4937"
      },
      "source": [
        "subject_tok[0:5]"
      ],
      "execution_count": null,
      "outputs": [
        {
          "output_type": "execute_result",
          "data": {
            "text/plain": [
              "[['israeli', 'terrorism'],\n",
              " ['amusing', 'atheists', 'and', 'agnostics'],\n",
              " ['rejoinder', '.', 'questions', 'to', 'israelis'],\n",
              " ['clipper-', 'business', 'as', 'usual', '?'],\n",
              " ['playoff', 'pool', 'rule', 'revision']]"
            ]
          },
          "metadata": {
            "tags": []
          },
          "execution_count": 22
        }
      ]
    },
    {
      "cell_type": "code",
      "metadata": {
        "id": "91VW6mDJNMLk"
      },
      "source": [
        "tokenizer = Tokenizer()\n",
        "tokenizer.fit_on_texts(subject_tok)\n",
        "subjects_idx = tokenizer.texts_to_sequences(subject_tok)"
      ],
      "execution_count": null,
      "outputs": []
    },
    {
      "cell_type": "code",
      "metadata": {
        "colab": {
          "base_uri": "https://localhost:8080/"
        },
        "id": "1uC1It55YHcd",
        "outputId": "4acb6218-e4b8-4205-ce97-4ae99db81936"
      },
      "source": [
        "word2idx = tokenizer.word_index\n",
        "idx2word = {v:k for k, v in word2idx.items()}\n",
        "print(\"사전크기 =\", len(word2idx))"
      ],
      "execution_count": null,
      "outputs": [
        {
          "output_type": "stream",
          "text": [
            "사전크기 = 7918\n"
          ],
          "name": "stdout"
        }
      ]
    },
    {
      "cell_type": "code",
      "metadata": {
        "colab": {
          "base_uri": "https://localhost:8080/"
        },
        "id": "OoB4Sr7WNmuC",
        "outputId": "40e06592-d8a5-459d-b783-b935cb74368a"
      },
      "source": [
        "subjects_idx[0:5]"
      ],
      "execution_count": null,
      "outputs": [
        {
          "output_type": "execute_result",
          "data": {
            "text/plain": [
              "[[110, 285],\n",
              " [821, 68, 9, 900],\n",
              " [1078, 10, 61, 14, 690],\n",
              " [4665, 3321, 84, 1513, 1],\n",
              " [184, 509, 691, 3322]]"
            ]
          },
          "metadata": {
            "tags": []
          },
          "execution_count": 25
        }
      ]
    },
    {
      "cell_type": "code",
      "metadata": {
        "id": "4KL6uBsKN2qP"
      },
      "source": [
        "paragraph_id = []\n",
        "for i in range(len(subjects_idx)):\n",
        "  paragraph_id.append(i)\n",
        "\n",
        "#paragraph_id"
      ],
      "execution_count": null,
      "outputs": []
    },
    {
      "cell_type": "code",
      "metadata": {
        "id": "mr8tBT_ATq3N"
      },
      "source": [
        "p_data = []\n",
        "w_data = []\n",
        "y_data = []\n",
        "for p_id, subject in zip(paragraph_id, subjects_idx):\n",
        "  if len(subject) < 4:\n",
        "    continue\n",
        "\n",
        "  for a, b, c, d in nltk.ngrams(subject, 4):\n",
        "    p_data.append(p_id)\n",
        "    w_data.append([a, b, c])\n",
        "    y_data.append(d)\n",
        "\n",
        "p_data = np.array(p_data).reshape(-1, 1)\n",
        "w_data = np.array(w_data)\n",
        "y_data = np.array(y_data).reshape(-1, 1)"
      ],
      "execution_count": null,
      "outputs": []
    },
    {
      "cell_type": "code",
      "metadata": {
        "id": "jPj-WO8mr7pV",
        "colab": {
          "base_uri": "https://localhost:8080/",
          "height": 437
        },
        "outputId": "794f2a00-d1d9-44a4-fdd6-613df04ae009"
      },
      "source": [
        "# subject을 길이 분포를 확인한다.\n",
        "n_len = [len(sub) for sub in subjects_idx]\n",
        "\n",
        "print('평균 =', np.mean(n_len))\n",
        "print('최소 =', np.min(n_len))\n",
        "print('최대 =', np.max(n_len))\n",
        "print('중앙값 =', np.median(n_len))\n",
        "\n",
        "sns.displot(n_len)\n",
        "plt.show()"
      ],
      "execution_count": null,
      "outputs": [
        {
          "output_type": "stream",
          "text": [
            "평균 = 6.125861764185965\n",
            "최소 = 1\n",
            "최대 = 52\n",
            "중앙값 = 6.0\n"
          ],
          "name": "stdout"
        },
        {
          "output_type": "display_data",
          "data": {
            "image/png": "[encoded data removed]",
            "text/plain": [
              "<Figure size 360x360 with 1 Axes>"
            ]
          },
          "metadata": {
            "tags": [],
            "needs_background": "light"
          }
        }
      ]
    },
    {
      "cell_type": "code",
      "metadata": {
        "colab": {
          "base_uri": "https://localhost:8080/"
        },
        "id": "gvDfROHCVXmH",
        "outputId": "78f1e511-594f-4103-c3fa-c10be060e6d6"
      },
      "source": [
        "p_data.shape, w_data.shape, y_data.shape\n",
        "\n",
        "print(p_data[5], w_data[5])"
      ],
      "execution_count": null,
      "outputs": [
        {
          "output_type": "execute_result",
          "data": {
            "text/plain": [
              "(36916, 1)"
            ]
          },
          "metadata": {
            "tags": []
          },
          "execution_count": 35
        }
      ]
    },
    {
      "cell_type": "code",
      "metadata": {
        "id": "yVPr4wD5V7af"
      },
      "source": [
        "from tensorflow.keras.layers import Input, Embedding, Dropout, Concatenate, Average, Flatten\n",
        "from tensorflow.keras.models import Model\n",
        "from tensorflow.keras import optimizers"
      ],
      "execution_count": null,
      "outputs": []
    },
    {
      "cell_type": "code",
      "metadata": {
        "id": "QiaEIEOlWMuV",
        "colab": {
          "base_uri": "https://localhost:8080/"
        },
        "outputId": "cf10b83c-d27c-497f-8c8a-161046ad17e4"
      },
      "source": [
        "p_size = len(paragraph_id)\n",
        "vocab_size = len(word2idx) + 1\n",
        "emb_size = 64\n",
        "\n",
        "p_input = Input(shape = (1, ))\n",
        "w_input = Input(shape = (3, ))\n",
        "\n",
        "p_emb = Embedding(p_size, emb_size, input_length=1, name=\"H\")(p_input)\n",
        "w_emb = Embedding(vocab_size, emb_size, input_length=3)(w_input)\n",
        "\n",
        "emb = Concatenate(axis=1)([p_emb, w_emb])\n",
        "flat = Flatten()(emb)\n",
        "\n",
        "y_output = Dense(vocab_size, activation='softmax')(flat)\n",
        "\n",
        "pvdm = Model([p_input, w_input], y_output)\n",
        "pvdm.compile(loss='sparse_categorical_crossentropy', optimizer=optimizers.Adam(learning_rate=0.0001))\n",
        "pvdm.summary()"
      ],
      "execution_count": null,
      "outputs": [
        {
          "output_type": "stream",
          "text": [
            "Model: \"model\"\n",
            "__________________________________________________________________________________________________\n",
            "Layer (type)                    Output Shape         Param #     Connected to                     \n",
            "==================================================================================================\n",
            "input_1 (InputLayer)            [(None, 1)]          0                                            \n",
            "__________________________________________________________________________________________________\n",
            "input_2 (InputLayer)            [(None, 3)]          0                                            \n",
            "__________________________________________________________________________________________________\n",
            "H (Embedding)                   (None, 1, 64)        724096      input_1[0][0]                    \n",
            "__________________________________________________________________________________________________\n",
            "embedding (Embedding)           (None, 3, 64)        506816      input_2[0][0]                    \n",
            "__________________________________________________________________________________________________\n",
            "concatenate (Concatenate)       (None, 4, 64)        0           H[0][0]                          \n",
            "                                                                 embedding[0][0]                  \n",
            "__________________________________________________________________________________________________\n",
            "flatten (Flatten)               (None, 256)          0           concatenate[0][0]                \n",
            "__________________________________________________________________________________________________\n",
            "dense (Dense)                   (None, 7919)         2035183     flatten[0][0]                    \n",
            "==================================================================================================\n",
            "Total params: 3,266,095\n",
            "Trainable params: 3,266,095\n",
            "Non-trainable params: 0\n",
            "__________________________________________________________________________________________________\n"
          ],
          "name": "stdout"
        }
      ]
    },
    {
      "cell_type": "code",
      "metadata": {
        "id": "KSr2QscRZSKi",
        "colab": {
          "base_uri": "https://localhost:8080/"
        },
        "outputId": "5ed82043-e360-4b22-fbe6-511941cdef89"
      },
      "source": [
        "hist = pvdm.fit([p_data, w_data], y_data, epochs=30, batch_size=512)"
      ],
      "execution_count": null,
      "outputs": [
        {
          "output_type": "stream",
          "text": [
            "Epoch 1/30\n",
            "73/73 [==============================] - 3s 10ms/step - loss: 8.9697\n",
            "Epoch 2/30\n",
            "73/73 [==============================] - 1s 10ms/step - loss: 8.9509\n",
            "Epoch 3/30\n",
            "73/73 [==============================] - 1s 10ms/step - loss: 8.9263\n",
            "Epoch 4/30\n",
            "73/73 [==============================] - 1s 10ms/step - loss: 8.8890\n",
            "Epoch 5/30\n",
            "73/73 [==============================] - 1s 10ms/step - loss: 8.8311\n",
            "Epoch 6/30\n",
            "73/73 [==============================] - 1s 9ms/step - loss: 8.7457\n",
            "Epoch 7/30\n",
            "73/73 [==============================] - 1s 10ms/step - loss: 8.6298\n",
            "Epoch 8/30\n",
            "73/73 [==============================] - 1s 10ms/step - loss: 8.4837\n",
            "Epoch 9/30\n",
            "73/73 [==============================] - 1s 10ms/step - loss: 8.3108\n",
            "Epoch 10/30\n",
            "73/73 [==============================] - 1s 10ms/step - loss: 8.1158\n",
            "Epoch 11/30\n",
            "73/73 [==============================] - 1s 10ms/step - loss: 7.9038\n",
            "Epoch 12/30\n",
            "73/73 [==============================] - 1s 10ms/step - loss: 7.6811\n",
            "Epoch 13/30\n",
            "73/73 [==============================] - 1s 10ms/step - loss: 7.4535\n",
            "Epoch 14/30\n",
            "73/73 [==============================] - 1s 10ms/step - loss: 7.2279\n",
            "Epoch 15/30\n",
            "73/73 [==============================] - 1s 10ms/step - loss: 7.0106\n",
            "Epoch 16/30\n",
            "73/73 [==============================] - 1s 10ms/step - loss: 6.8087\n",
            "Epoch 17/30\n",
            "73/73 [==============================] - 1s 9ms/step - loss: 6.6277\n",
            "Epoch 18/30\n",
            "73/73 [==============================] - 1s 10ms/step - loss: 6.4702\n",
            "Epoch 19/30\n",
            "73/73 [==============================] - 1s 9ms/step - loss: 6.3364\n",
            "Epoch 20/30\n",
            "73/73 [==============================] - 1s 10ms/step - loss: 6.2231\n",
            "Epoch 21/30\n",
            "73/73 [==============================] - 1s 10ms/step - loss: 6.1262\n",
            "Epoch 22/30\n",
            "73/73 [==============================] - 1s 10ms/step - loss: 6.0414\n",
            "Epoch 23/30\n",
            "73/73 [==============================] - 1s 10ms/step - loss: 5.9651\n",
            "Epoch 24/30\n",
            "73/73 [==============================] - 1s 10ms/step - loss: 5.8945\n",
            "Epoch 25/30\n",
            "73/73 [==============================] - 1s 10ms/step - loss: 5.8275\n",
            "Epoch 26/30\n",
            "73/73 [==============================] - 1s 10ms/step - loss: 5.7628\n",
            "Epoch 27/30\n",
            "73/73 [==============================] - 1s 10ms/step - loss: 5.6992\n",
            "Epoch 28/30\n",
            "73/73 [==============================] - 1s 10ms/step - loss: 5.6365\n",
            "Epoch 29/30\n",
            "73/73 [==============================] - 1s 10ms/step - loss: 5.5742\n",
            "Epoch 30/30\n",
            "73/73 [==============================] - 1s 10ms/step - loss: 5.5119\n"
          ],
          "name": "stdout"
        }
      ]
    },
    {
      "cell_type": "code",
      "metadata": {
        "id": "zVq4cxahZaAm"
      },
      "source": [
        "d_matrix = pvdm.get_layer(\"H\").get_weights()[0]"
      ],
      "execution_count": null,
      "outputs": []
    },
    {
      "cell_type": "code",
      "metadata": {
        "id": "7_Q0F0mQablZ",
        "colab": {
          "base_uri": "https://localhost:8080/"
        },
        "outputId": "564dc184-5309-4d16-b3d0-529fd1b0720c"
      },
      "source": [
        "print(d_matrix)\n",
        "print(len(d_matrix))"
      ],
      "execution_count": null,
      "outputs": [
        {
          "output_type": "stream",
          "text": [
            "[[-0.03509744 -0.03640257  0.02484721 ... -0.02757253 -0.01689123\n",
            "   0.02314471]\n",
            " [ 0.01406567 -0.01020765 -0.0074946  ... -0.07102393  0.00251015\n",
            "   0.03409659]\n",
            " [-0.06014661 -0.00322058 -0.08601643 ...  0.00581405  0.00204882\n",
            "  -0.00265216]\n",
            " ...\n",
            " [ 0.02737519  0.01641785  0.02223984 ...  0.00770996 -0.01794336\n",
            "   0.04741699]\n",
            " [-0.05974777  0.00488474  0.00678923 ...  0.03597242 -0.02880835\n",
            "   0.04973502]\n",
            " [-0.08477399  0.09224107  0.07299933 ... -0.15651526  0.15933424\n",
            "   0.11374385]]\n",
            "11314\n"
          ],
          "name": "stdout"
        }
      ]
    },
    {
      "cell_type": "code",
      "metadata": {
        "id": "k_anRKqJamjL",
        "colab": {
          "base_uri": "https://localhost:8080/"
        },
        "outputId": "50e3539d-dc6c-4c9b-cb90-8dc7b8b8f11f"
      },
      "source": [
        "topic = np.array(topic)\n",
        "topic.shape\n",
        "len(set(topic))"
      ],
      "execution_count": null,
      "outputs": [
        {
          "output_type": "execute_result",
          "data": {
            "text/plain": [
              "20"
            ]
          },
          "metadata": {
            "tags": []
          },
          "execution_count": 42
        }
      ]
    },
    {
      "cell_type": "code",
      "metadata": {
        "id": "McRJQDUrax5K",
        "colab": {
          "base_uri": "https://localhost:8080/"
        },
        "outputId": "a31e1a5b-019c-4620-a36a-65924a1b5b22"
      },
      "source": [
        "from sklearn.model_selection import train_test_split\n",
        "from sklearn.linear_model import LogisticRegression\n",
        "from lightgbm import LGBMClassifier\n",
        "from sklearn.metrics import accuracy_score,f1_score\n",
        "\n",
        "x_train, x_test, y_train, y_test = train_test_split(d_matrix, topic, test_size=0.2, stratify =topic)\n",
        "x_train.shape, y_train.shape"
      ],
      "execution_count": null,
      "outputs": [
        {
          "output_type": "execute_result",
          "data": {
            "text/plain": [
              "((9051, 64), (9051,))"
            ]
          },
          "metadata": {
            "tags": []
          },
          "execution_count": 43
        }
      ]
    },
    {
      "cell_type": "code",
      "metadata": {
        "id": "-X98oLiyhooz",
        "colab": {
          "base_uri": "https://localhost:8080/"
        },
        "outputId": "c89bcc76-47f2-4ac0-b802-e300f911e879"
      },
      "source": [
        "lgbm = LGBMClassifier(random_state = 42)\n",
        "lgbm.fit(x_train, y_train)\n",
        "pred = lgbm.predict(x_test)\n",
        "accuracy = accuracy_score(y_test,pred)\n",
        "\n",
        "print('정확도', accuracy)"
      ],
      "execution_count": null,
      "outputs": [
        {
          "output_type": "stream",
          "text": [
            "정확도 0.22315510384445428\n"
          ],
          "name": "stdout"
        }
      ]
    },
    {
      "cell_type": "code",
      "metadata": {
        "id": "4HuLx4gubhTM"
      },
      "source": [
        "model = LogisticRegression()\n",
        "model.fit(x_train, y_train)"
      ],
      "execution_count": null,
      "outputs": []
    },
    {
      "cell_type": "code",
      "metadata": {
        "colab": {
          "base_uri": "https://localhost:8080/"
        },
        "id": "t7dlOz_fb32V",
        "outputId": "c9d9251b-8e4f-4d5b-d42f-7d7fb4a36c99"
      },
      "source": [
        "print(\"* 학습용 데이터로 측정한 정확도 = %.2f\" % model.score(x_train, y_train))\n",
        "print(\"* 시험용 데이터로 측정한 정확도 = %.2f\" % model.score(x_test, y_test))"
      ],
      "execution_count": null,
      "outputs": [
        {
          "output_type": "stream",
          "text": [
            "* 학습용 데이터로 측정한 정확도 = 0.19\n",
            "* 시험용 데이터로 측정한 정확도 = 0.16\n"
          ],
          "name": "stdout"
        }
      ]
    }
  ]
}