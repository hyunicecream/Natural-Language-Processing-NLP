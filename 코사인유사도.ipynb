{
  "nbformat": 4,
  "nbformat_minor": 0,
  "metadata": {
    "colab": {
      "name": "코사인유사도.ipynb",
      "provenance": [],
      "collapsed_sections": [],
      "mount_file_id": "1W8j9Q6mBd_D2BL4SJDfuGOB0Fjl3-62E",
      "authorship_tag": "ABX9TyMULLUtsaXT1zYG6d4PfKnX",
      "include_colab_link": true
    },
    "kernelspec": {
      "name": "python3",
      "display_name": "Python 3"
    },
    "language_info": {
      "name": "python"
    }
  },
  "cells": [
    {
      "cell_type": "markdown",
      "metadata": {
        "id": "view-in-github",
        "colab_type": "text"
      },
      "source": [
        "<a href=\"https://colab.research.google.com/github/hyunicecream/Natural-Language-Processing-NLP-/blob/main/%EC%BD%94%EC%82%AC%EC%9D%B8%EC%9C%A0%EC%82%AC%EB%8F%84.ipynb\" target=\"_parent\"><img src=\"https://colab.research.google.com/assets/colab-badge.svg\" alt=\"Open In Colab\"/></a>"
      ]
    },
    {
      "cell_type": "code",
      "metadata": {
        "id": "qOkxK62Wif7H"
      },
      "source": [
        "문서1 = ['저는 사과 좋아요']\n",
        "문서2 = ['저는 바나나 좋아요']\n",
        "문서3 = ['저는 바나나 좋아요 저는 바나나 좋아요']"
      ],
      "execution_count": 71,
      "outputs": []
    },
    {
      "cell_type": "code",
      "metadata": {
        "colab": {
          "base_uri": "https://localhost:8080/"
        },
        "id": "hJMaIqbWnuA1",
        "outputId": "314daca4-6275-4513-eea7-800063693b1b"
      },
      "source": [
        "# 행렬의 곱셈을 사용하기 위해 dot사용\n",
        "from numpy import dot\n",
        "# 문서1, 문서2, 문서3에 들어있는 단어들의 각가의 거리를 계산하여 최단거리를 계산하기 위해 사용\n",
        "from numpy.linalg import norm\n",
        "# norm : 벡터 공간에서 벡터의  크기 또는 길이를 측정할 때 사용되는 개념\n",
        "import numpy as np\n",
        "\n",
        "# 코사인 유사도를 계산하는 함수를 만들기\n",
        "def cos_sim(A, B):\n",
        "       return dot(A, B)/(norm(A)*norm(B))\n",
        "\n",
        "# BoW를 만들어서 코사인 유사도를 계산한다. \n",
        "문서1 = np.array([0,1,1,1])\n",
        "문서2 = np.array([1,0,1,1])\n",
        "문서3 = np.array([2,0,2,2])\n",
        "\n",
        "print('{:.2f}'.format(cos_sim(문서1, 문서2))) #문서1과 문서2의 코사인 유사도\n",
        "print('{:.2f}'.format(cos_sim(문서1, 문서3))) #문서1과 문서3의 코사인 유사도\n",
        "print('{:.2f}'.format(cos_sim(문서2, 문서3))) #문서2과 문서3의 코사인 유사도\n",
        "\n",
        "# 코사인 유사도가 1이 나오면 코사인 유소의 값이 최대이다. "
      ],
      "execution_count": 72,
      "outputs": [
        {
          "output_type": "stream",
          "text": [
            "0.67\n",
            "0.67\n",
            "1.00\n"
          ],
          "name": "stdout"
        }
      ]
    },
    {
      "cell_type": "code",
      "metadata": {
        "id": "JInn1VkTKq9Z"
      },
      "source": [
        "### 유사도를 이용한 추천시스템 구현하기 ###"
      ],
      "execution_count": null,
      "outputs": []
    },
    {
      "cell_type": "code",
      "metadata": {
        "colab": {
          "base_uri": "https://localhost:8080/"
        },
        "id": "SmJgNPlnvYbf",
        "outputId": "eaf9eeee-e4d6-467c-bf9e-39b067c05953"
      },
      "source": [
        "import pandas as pd\n",
        "from sklearn.feature_extraction.text import TfidfVectorizer\n",
        "from sklearn.metrics.pairwise import linear_kernel\n",
        "\n",
        "data = pd.read_csv('/content/drive/MyDrive/머신러닝/movies.csv')\n",
        "print(data['title'])\n",
        "print(data['overview'])"
      ],
      "execution_count": 73,
      "outputs": [
        {
          "output_type": "stream",
          "text": [
            "0                                         Avatar\n",
            "1       Pirates of the Caribbean: At World's End\n",
            "2                                        Spectre\n",
            "3                          The Dark Knight Rises\n",
            "4                                    John Carter\n",
            "                          ...                   \n",
            "4798                                 El Mariachi\n",
            "4799                                   Newlyweds\n",
            "4800                   Signed, Sealed, Delivered\n",
            "4801                            Shanghai Calling\n",
            "4802                           My Date with Drew\n",
            "Name: title, Length: 4803, dtype: object\n",
            "0       In the 22nd century, a paraplegic Marine is di...\n",
            "1       Captain Barbossa, long believed to be dead, ha...\n",
            "2       A cryptic message from Bond’s past sends him o...\n",
            "3       Following the death of District Attorney Harve...\n",
            "4       John Carter is a war-weary, former military ca...\n",
            "                              ...                        \n",
            "4798    El Mariachi just wants to play his guitar and ...\n",
            "4799    A newlywed couple's honeymoon is upended by th...\n",
            "4800    \"Signed, Sealed, Delivered\" introduces a dedic...\n",
            "4801    When ambitious New York attorney Sam is sent t...\n",
            "4802    Ever since the second grade when he first saw ...\n",
            "Name: overview, Length: 4803, dtype: object\n"
          ],
          "name": "stdout"
        }
      ]
    },
    {
      "cell_type": "code",
      "metadata": {
        "colab": {
          "base_uri": "https://localhost:8080/"
        },
        "id": "IKhUIGZm7Bur",
        "outputId": "d08ee449-6658-4447-ba19-48dc67ba18a1"
      },
      "source": [
        "data['overview'].isnull().sum()\n",
        "data['title'].isnull().sum()"
      ],
      "execution_count": 76,
      "outputs": [
        {
          "output_type": "execute_result",
          "data": {
            "text/plain": [
              "0"
            ]
          },
          "metadata": {
            "tags": []
          },
          "execution_count": 76
        }
      ]
    },
    {
      "cell_type": "code",
      "metadata": {
        "colab": {
          "base_uri": "https://localhost:8080/"
        },
        "id": "gm7HWR4S7LKR",
        "outputId": "fddb690c-f6f3-4576-da51-c79a2108f217"
      },
      "source": [
        "data['overview'] = data['overview'].fillna('')\n",
        "data['overview'].isnull().sum()"
      ],
      "execution_count": 78,
      "outputs": [
        {
          "output_type": "execute_result",
          "data": {
            "text/plain": [
              "0"
            ]
          },
          "metadata": {
            "tags": []
          },
          "execution_count": 78
        }
      ]
    },
    {
      "cell_type": "code",
      "metadata": {
        "id": "zHpFKfJC74QK"
      },
      "source": [
        "# TF-IDF\n",
        "'''\n",
        "[TF-IDF란?]\n",
        "(TF란?)\n",
        ": Term Frequency의 약자.\n",
        "1개 문서 안에서 특정 단어의 등장 빈도를 의미합니다.\n",
        "문장을 단어로 나누고,\n",
        "전체 단어수에서 특정 단어가 얼마나 사용되었는지를 파악하여, 해당 문서의 성질을 파악하는 지표로 사용되죠.\n",
        "단어라고 했는데, 주로 형태소 단위로 나누며,\n",
        "또한 알파벳의 경우는 1글자 단어의 경우는 생략하는 경우가 많습니다.\n",
        " \n",
        "(DF란?)\n",
        ": Document Frequency의 약자입니다.\n",
        "이는 특정 단어가 나타나는 문서 수를 나타냅니다.\n",
        "TF와는 분류 스케일이 달라진 것이라 생각하세요. (단어가 주체인지 문서가 주체인지)\n",
        "'''\n",
        "# TF-IDF를 사용하는 이유\n",
        "'''\n",
        "(TF-IDF를 사용하는 이유)\n",
        ": TF-IDF는 특징 추출 기법입니다.\n",
        "머신 러닝시, 어떠한 데이터셋이 어떠한 성질을 지닌다로 나누는 것이 바로 특징인데,\n",
        "이러한 특징(컴퓨터가 이해하기 쉬운 형식의 속성)을 추출하는 것이 바로 TF-IDF입니다.\n",
        " \n",
        "특징 추출 기법은 여러가지가 있는데, 단순하게는, 단어의 빈도수를 기반으로 특징을 추출하는 CountVectorizer라는 기법이 있습니다.\n",
        "하지만 이러한 count 기반의 특징 추출은, 조사, 관사처럼 많이 등장하는 단어들을 높게 쳐주기 때문에, 유의미한 결과를 얻기 어렵습니다.\n",
        " \n",
        "TF-IDF는, 그 한계를 해결하고자 발전한 것으로,\n",
        "단순히 많이 등장하는 빈도수로, 그 단어의 가치를 정하는 것이 아니라,\n",
        "많이 등장하는 단어들에게는 일종의 패널티를 주어서, 단어 빈도의 스케일을 맞춰주는 기법이라 할수 있습니다.\n",
        "(사람도 그렇죠? 무의미하게 말이 많은 사람의 정보는 어느정도 걸러듣게 되고, 필요할 때, 필요한 말을 딱 집어서 하는 사람의 말은 중요하게 듣게 되죠.)\n",
        " \n",
        "즉, 단어 발생 빈도인 TF에서, 전체 발생 횟수에 따른 패널티를 부여해준 개념이 바로 TF-IDF라고 이해하세요\n",
        "'''"
      ],
      "execution_count": null,
      "outputs": []
    },
    {
      "cell_type": "code",
      "metadata": {
        "colab": {
          "base_uri": "https://localhost:8080/"
        },
        "id": "2UkoW4WkzgPA",
        "outputId": "d510ec99-fe5b-43a3-b3c7-5d501c3e7353"
      },
      "source": [
        "# overview에 대해서 tf-idf 수행\n",
        "# 벡터라이저가 단어들을 학습시킨다\n",
        "tfidf = TfidfVectorizer(stop_words='english') \n",
        "# stop_words='english' 문서에 단어장을 생성할 때 무시할 수 있는 단어를 말한다. \n",
        "tfidf_matrix = tfidf.fit_transform(data['overview'])\n",
        "tfidf.vocabulary_ # 벡터라이저가 학습된 단어를 출력한다. \n",
        "sorted(tfidf.vocabulary_.items()) # 단어사전을 정렬한다. \n",
        "print(tfidf_matrix.shape)\n",
        "# 4803개의 영화를 표현하기 위해 총 21262개의 단어가 사용되어 있음\n",
        "# 코사인 유사도를 사용하면서 문서의 유사도를 구해보자"
      ],
      "execution_count": 87,
      "outputs": [
        {
          "output_type": "stream",
          "text": [
            "(4803, 21262)\n"
          ],
          "name": "stdout"
        }
      ]
    },
    {
      "cell_type": "code",
      "metadata": {
        "colab": {
          "base_uri": "https://localhost:8080/"
        },
        "id": "WOkgiRqh1B3N",
        "outputId": "fb5e44b5-7488-43ab-b69f-ef0cd9b30378"
      },
      "source": [
        "# sklearn.metrics.pairwise의 linear_kernel을 통해서 기존에 만들어 놓은 tfidf_matrix를 넣으면 코사인 유사도가 계산됩니다.\n",
        "cosine_sim = linear_kernel(tfidf_matrix, tfidf_matrix)\n",
        "indices = pd.Series(data.index, index=data['title']).drop_duplicates() \n",
        "# drop_dupllicates :  중복된 행들을 제거하고 유니크한 행들만 얻을 수 있다. \n",
        "print(indices.head())"
      ],
      "execution_count": 27,
      "outputs": [
        {
          "output_type": "stream",
          "text": [
            "title\n",
            "Avatar                                      0\n",
            "Pirates of the Caribbean: At World's End    1\n",
            "Spectre                                     2\n",
            "The Dark Knight Rises                       3\n",
            "John Carter                                 4\n",
            "dtype: int64\n"
          ],
          "name": "stdout"
        }
      ]
    },
    {
      "cell_type": "code",
      "metadata": {
        "id": "rdSvHEdy1eI8"
      },
      "source": [
        "def get_recommendations(title, cosine_sim=cosine_sim):\n",
        "    # 선택한 영화의 타이틀로부터 해당되는 인덱스를 받아옵니다. 이제 선택한 영화를 가지고 연산할 수 있습니다.\n",
        "    idx = indices[title]\n",
        "\n",
        "    # 모든 영화에 대해서 해당 영화와의 유사도를 구합니다.\n",
        "    sim_scores = list(enumerate(cosine_sim[idx]))\n",
        "\n",
        "    # 유사도에 따라 영화들을 정렬합니다. \n",
        "    sim_scores = sorted(sim_scores, key=lambda x: x[1], reverse=True)\n",
        "\n",
        "    # 가장 유사한 10개의 영화를 받아옵니다.\n",
        "    sim_scores = sim_scores[1:11]\n",
        "\n",
        "    # 가장 유사한 10개의 영화의 인덱스를 받아옵니다.\n",
        "    movie_indices = [i[0] for i in sim_scores]\n",
        "\n",
        "    # 가장 유사한 10개의 영화의 제목을 리턴합니다.\n",
        "    return data['title'].iloc[movie_indices]"
      ],
      "execution_count": 47,
      "outputs": []
    },
    {
      "cell_type": "code",
      "metadata": {
        "colab": {
          "base_uri": "https://localhost:8080/"
        },
        "id": "lC4h9Kfq1k6u",
        "outputId": "42297ce7-0920-4ae2-d1b1-99bc9a75f849"
      },
      "source": [
        "get_recommendations('Toy Story')"
      ],
      "execution_count": 48,
      "outputs": [
        {
          "output_type": "execute_result",
          "data": {
            "text/plain": [
              "42                                   Toy Story 3\n",
              "343                                  Toy Story 2\n",
              "1779                      The 40 Year Old Virgin\n",
              "891                              Man on the Moon\n",
              "822                            Maid in Manhattan\n",
              "1881                    The Shawshank Redemption\n",
              "889                            The Thin Red Line\n",
              "231                               Monsters, Inc.\n",
              "197     Harry Potter and the Philosopher's Stone\n",
              "1086                         Aliens in the Attic\n",
              "Name: title, dtype: object"
            ]
          },
          "metadata": {
            "tags": []
          },
          "execution_count": 48
        }
      ]
    }
  ]
}